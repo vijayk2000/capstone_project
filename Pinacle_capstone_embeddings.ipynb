{
  "cells": [
    {
      "cell_type": "code",
      "source": [
        "# %pip install langchain_chroma\n",
        "# %pip install langchain_openai\n",
        "# %pip install langchain_google_genai\n",
        "# %pip install langchain_huggingface\n",
        "# %pip install langchain_community\n",
        "# %pip install FlagEmbedding\n",
        "# !pip install python-dotenv"
      ],
      "metadata": {
        "id": "ZaJV9KhOSR75",
        "outputId": "e527e5ea-102b-4546-bafa-5a2450b1bd2a",
        "colab": {
          "base_uri": "https://localhost:8080/"
        }
      },
      "execution_count": 10,
      "outputs": [
        {
          "output_type": "stream",
          "name": "stdout",
          "text": [
            "Requirement already satisfied: python-dotenv in /usr/local/lib/python3.11/dist-packages (1.1.0)\n"
          ]
        }
      ]
    },
    {
      "cell_type": "code",
      "execution_count": 2,
      "metadata": {
        "id": "ASdfdhag9G7S"
      },
      "outputs": [],
      "source": [
        "from langchain_community.document_loaders import PyPDFDirectoryLoader\n",
        "from langchain.docstore.document import Document"
      ]
    },
    {
      "cell_type": "markdown",
      "metadata": {
        "id": "zKPhiK_I9G7U"
      },
      "source": [
        "## Load the files and index them in a vector database\n"
      ]
    },
    {
      "cell_type": "code",
      "execution_count": 3,
      "metadata": {
        "id": "Mo3shsXf9G7U"
      },
      "outputs": [],
      "source": [
        "docs= []\n",
        "for doc in PyPDFDirectoryLoader(\"/content/data\").load():\n",
        "\n",
        "\n",
        "    metadata ={\n",
        "        \"source\": doc.metadata[\"source\"],\n",
        "        \"page\": doc.metadata[\"page\"],\n",
        "\n",
        "    }\n",
        "    doc_text = ' '.join(doc.page_content.split())\n",
        "    # Remove newlines and extra spaces\n",
        "    docs.append(Document(page_content=doc_text,\n",
        "                                   metadata=metadata))\n",
        "\n",
        "# PyPDFDirectoryLoader loads all PDFs in a directory"
      ]
    },
    {
      "cell_type": "code",
      "execution_count": 4,
      "metadata": {
        "id": "JCLh7yH49G7V",
        "outputId": "08fb2f4c-5027-4d81-ca3d-55add20faa10",
        "colab": {
          "base_uri": "https://localhost:8080/"
        }
      },
      "outputs": [
        {
          "output_type": "stream",
          "name": "stdout",
          "text": [
            "Document(metadata={'source': '/content/data/mistral_paper.pdf', 'page': 1}, page_content='Mistral 7B is released under the Apache 2.0 license. This release is accompanied by a reference implementation1 facilitating easy deployment either locally or on cloud platforms such as AWS, GCP, or Azure using the vLLM [17] inference server and SkyPilot 2. Integration with Hugging Face 3 is also streamlined for easier integration. Moreover, Mistral 7B is crafted for ease of fine-tuning across a myriad of tasks. As a demonstration of its adaptability and superior performance, we present a chat model fine-tuned from Mistral 7B that significantly outperforms the Llama 2 13B – Chat model. Mistral 7B takes a significant step in balancing the goals of getting high performance while keeping large language models efficient. Through our work, our aim is to help the community create more affordable, efficient, and high-performing language models that can be used in a wide range of real-world applications. 2 Architectural details Figure 1: Sliding Window Attention. The number of operations in vanilla attention is quadratic in the sequence length, and the memory increases linearly with the number of tokens. At inference time, this incurs higher latency and smaller throughput due to reduced cache availability. To alleviate this issue, we use sliding window attention: each token can attend to at most W tokens from the previous layer (here, W = 3). Note that tokens outside the sliding window still influence next word prediction. At each attention layer, information can move forward by W tokens. Hence, after k attention layers, information can move forward by up to k × W tokens. Parameter Value dim 4096 n_layers 32 head_dim 128 hidden_dim 14336 n_heads 32 n_kv_heads 8 window_size 4096 context_len 8192 vocab_size 32000 Table 1: Model architecture. Mistral 7B is based on a transformer architecture [ 27]. The main parameters of the architecture are summarized in Table 1. Compared to Llama, it introduces a few changes that we summarize below. Sliding Window Attention. SW A exploits the stacked layers of a trans- former to attend information beyond the window size W. The hidden state in position i of the layer k, hi, attends to all hidden states from the previous layer with positions between i − W and i. Recursively, hi can access tokens from the input layer at a distance of up to W × k tokens, as illustrated in Figure 1. At the last layer, using a window size of W = 4096, we have a theoretical attention span of approximately 131K tokens. In practice, for a sequence length of 16K andW = 4096, changes made to FlashAttention [ 11] and xFormers [ 18] yield a 2x speed improvement over a vanilla attention baseline. Rolling Buffer Cache. A fixed attention span means that we can limit our cache size using a rolling buffer cache. The cache has a fixed size of W, and the keys and values for the timestep i are stored in position i mod W of the cache. As a result, when the position i is larger than W, past values in the cache are overwritten, and the size of the cache stops increasing. We provide an illustration in Figure 2 for W = 3. On a sequence length of 32k tokens, this reduces the cache memory usage by 8x, without impacting the model quality. 1https://github.com/mistralai/mistral-src 2https://github.com/skypilot-org/skypilot 3https://huggingface.co/mistralai 2')\n"
          ]
        }
      ],
      "source": [
        "from pprint import pprint\n",
        "pprint(docs[1])"
      ]
    },
    {
      "cell_type": "code",
      "execution_count": 12,
      "metadata": {
        "id": "4C-NQ4_-9G7W"
      },
      "outputs": [],
      "source": [
        "from langchain_openai import OpenAIEmbeddings\n",
        "from langchain_google_genai import GoogleGenerativeAIEmbeddings\n",
        "#from langchain.embeddings import OpenAIEmbeddings\n",
        "from langchain.vectorstores import Chroma\n",
        "from langchain.text_splitter import RecursiveCharacterTextSplitter\n",
        "from dotenv import load_dotenv\n",
        "import os\n",
        "from langchain_chroma import Chroma\n",
        "from FlagEmbedding import BGEM3FlagModel\n",
        "# The splitting and chunking strategy\n",
        "from langchain.text_splitter import RecursiveCharacterTextSplitter\n",
        "from langchain_huggingface import HuggingFaceEmbeddings\n",
        "\n",
        "load_dotenv(\".env\")\n",
        "os.environ[\"OPENAI_API_KEY\"] = os.getenv(\"OPENAI_API_KEY\")\n",
        "os.environ[\"GOOGLE_API_KEY\"] = os.getenv(\"GOOGLE_API_KEY\")\n",
        "os.environ['HUGGINGFACEHUB_API_TOKEN'] = os.getenv('HUGGINGFACE_TOKEN')"
      ]
    },
    {
      "cell_type": "code",
      "execution_count": 8,
      "metadata": {
        "id": "3Ey9ms8t9G7X"
      },
      "outputs": [],
      "source": [
        "splitter = RecursiveCharacterTextSplitter(chunk_size=1000, chunk_overlap=200)"
      ]
    },
    {
      "cell_type": "code",
      "execution_count": 15,
      "metadata": {
        "id": "rJXFLQef9G7X"
      },
      "outputs": [],
      "source": [
        "# Download the embeddings\n",
        "open_ai_large = OpenAIEmbeddings(model=\"text-embedding-3-large\")\n",
        "open_ai_small = OpenAIEmbeddings(model=\"text-embedding-3-small\")\n",
        "\n",
        "\n",
        "model_name = \"sentence-transformers/all-mpnet-base-v2\"\n",
        "model_kwargs = {'device': 'cpu'}\n",
        "encode_kwargs = {'normalize_embeddings': False}\n",
        "hf = HuggingFaceEmbeddings(\n",
        "    model_name=model_name,\n",
        "    model_kwargs=model_kwargs,\n",
        "    encode_kwargs=encode_kwargs\n",
        ")\n"
      ]
    },
    {
      "cell_type": "code",
      "execution_count": 16,
      "metadata": {
        "id": "1LtwzCMv9G7X"
      },
      "outputs": [],
      "source": [
        "embedding_list = [open_ai_large, open_ai_small, hf] #, bge\n",
        "embedding_names = [\"open_ai_large\", \"open_ai_small\", \"hf\"] #, \"bge\""
      ]
    },
    {
      "cell_type": "code",
      "execution_count": 17,
      "metadata": {
        "id": "Sb_toguR9G7X"
      },
      "outputs": [],
      "source": [
        "chunked_docs = splitter.split_documents(docs)"
      ]
    },
    {
      "cell_type": "code",
      "execution_count": null,
      "metadata": {
        "id": "6_AvClTo9G7Y"
      },
      "outputs": [],
      "source": [
        "\n",
        "# chroma_db = Chroma.from_documents(documents=chunked_docs,\n",
        "#                                   collection_name=f'capstone_db_bge',\n",
        "#                                   embedding=bge,\n",
        "#                                   collection_metadata={\"hnsw:space\": \"euclidean\"},\n",
        "#                                   persist_directory=f\"./capstone_db_bge\")"
      ]
    },
    {
      "cell_type": "code",
      "execution_count": null,
      "metadata": {
        "id": "F8ca78929G7Y",
        "outputId": "d0e56c65-a927-4142-ad3b-2a531af08beb",
        "colab": {
          "base_uri": "https://localhost:8080/"
        }
      },
      "outputs": [
        {
          "output_type": "stream",
          "name": "stdout",
          "text": [
            "Using embedding: open_ai_large\n",
            "Chroma DB created for embedding: open_ai_large\n",
            "Using embedding: open_ai_small\n",
            "Chroma DB created for embedding: open_ai_small\n",
            "Using embedding: hf\n"
          ]
        }
      ],
      "source": [
        "for embedding, name in zip(embedding_list, embedding_names):\n",
        "    print(f\"Using embedding: {name}\")\n",
        "    # Create a Chroma vector store\n",
        "    chroma_db = Chroma.from_documents(documents=chunked_docs,\n",
        "                                      collection_name=f'capstone_db_{name}',\n",
        "                                      embedding=embedding,\n",
        "                                      collection_metadata={\"hnsw:space\": \"cosine\"},\n",
        "                                      persist_directory=f\"./capstone_db_{name}\")\n",
        "    print(f\"Chroma DB created for embedding: {name}\")\n",
        ""
      ]
    },
    {
      "cell_type": "code",
      "execution_count": null,
      "metadata": {
        "id": "n5nJnLAM9G7Y"
      },
      "outputs": [],
      "source": [
        "\n",
        "# chroma_db = Chroma.from_documents(documents=chunked_docs,\n",
        "#                                   collection_name='capstone_db',\n",
        "#                                   embedding=openaiembedding,\n",
        "#                                   # need to set the distance function to cosine else it uses euclidean by default\n",
        "#                                   # check https://docs.trychroma.com/guides#changing-the-distance-function\n",
        "#                                   collection_metadata={\"hnsw:space\": \"cosine\"},\n",
        "#                                   persist_directory=\"./capstone_db\")"
      ]
    },
    {
      "cell_type": "code",
      "execution_count": null,
      "metadata": {
        "id": "ug9IpSek9G7Z",
        "outputId": "feafdd69-cf89-4205-d4e2-3ebfc0f6f380"
      },
      "outputs": [
        {
          "ename": "NameError",
          "evalue": "name 'embedding_list' is not defined",
          "output_type": "error",
          "traceback": [
            "\u001b[0;31m---------------------------------------------------------------------------\u001b[0m",
            "\u001b[0;31mNameError\u001b[0m                                 Traceback (most recent call last)",
            "Cell \u001b[0;32mIn[2], line 6\u001b[0m\n\u001b[1;32m      3\u001b[0m retriever_details \u001b[38;5;241m=\u001b[39m []\n\u001b[1;32m      4\u001b[0m combined_list \u001b[38;5;241m=\u001b[39m {}\n\u001b[0;32m----> 6\u001b[0m \u001b[38;5;28;01mfor\u001b[39;00m embedding, name \u001b[38;5;129;01min\u001b[39;00m \u001b[38;5;28mzip\u001b[39m(\u001b[43membedding_list\u001b[49m, embedding_names):\n\u001b[1;32m      9\u001b[0m     chroma_db \u001b[38;5;241m=\u001b[39m Chroma(persist_directory\u001b[38;5;241m=\u001b[39m\u001b[38;5;124m\"\u001b[39m\u001b[38;5;124m./capstone_db\u001b[39m\u001b[38;5;124m\"\u001b[39m,\n\u001b[1;32m     10\u001b[0m                       collection_name\u001b[38;5;241m=\u001b[39m\u001b[38;5;124mf\u001b[39m\u001b[38;5;124m'\u001b[39m\u001b[38;5;124mcapstone_db_\u001b[39m\u001b[38;5;132;01m{\u001b[39;00mname\u001b[38;5;132;01m}\u001b[39;00m\u001b[38;5;124m'\u001b[39m,\n\u001b[1;32m     11\u001b[0m                        embedding_function\u001b[38;5;241m=\u001b[39membedding)\n\u001b[1;32m     12\u001b[0m     similarity_retriever \u001b[38;5;241m=\u001b[39m chroma_db\u001b[38;5;241m.\u001b[39mas_retriever(search_type\u001b[38;5;241m=\u001b[39m\u001b[38;5;124m\"\u001b[39m\u001b[38;5;124msimilarity_score_threshold\u001b[39m\u001b[38;5;124m\"\u001b[39m,\n\u001b[1;32m     13\u001b[0m                                               search_kwargs\u001b[38;5;241m=\u001b[39m{\u001b[38;5;124m\"\u001b[39m\u001b[38;5;124mk\u001b[39m\u001b[38;5;124m\"\u001b[39m: \u001b[38;5;241m5\u001b[39m, \u001b[38;5;124m\"\u001b[39m\u001b[38;5;124mscore_threshold\u001b[39m\u001b[38;5;124m\"\u001b[39m: \u001b[38;5;241m0.3\u001b[39m})\n",
            "\u001b[0;31mNameError\u001b[0m: name 'embedding_list' is not defined"
          ]
        }
      ],
      "source": [
        "# load from disk\n",
        "model_name =[]\n",
        "retriever_details = []\n",
        "combined_list = {}\n",
        "\n",
        "for embedding, name in zip(embedding_list, embedding_names):\n",
        "\n",
        "\n",
        "    chroma_db = Chroma(persist_directory=\"./capstone_db\",\n",
        "                      collection_name=f'capstone_db_{name}',\n",
        "                       embedding_function=embedding)\n",
        "    similarity_retriever = chroma_db.as_retriever(search_type=\"similarity_score_threshold\",\n",
        "                                              search_kwargs={\"k\": 5, \"score_threshold\": 0.3})\n",
        "    model_name.append(name)\n",
        "    print(f\"Model name: {model_name}\")\n",
        "    #print(embedding.model)\n",
        "    similarity = similarity_retriever.invoke(\"What is attention?\", k=5)\n",
        "    retriever_details.append(similarity)\n",
        "    print(f\"Retriever details: {retriever_details}\")\n",
        "    details = dict(zip(model_name, retriever_details))\n",
        "    combined_list.update(details)"
      ]
    },
    {
      "cell_type": "code",
      "execution_count": null,
      "metadata": {
        "id": "zpZovpA39G7Z",
        "outputId": "03baf121-cda8-44c0-ba3e-ea6e5bbca758"
      },
      "outputs": [
        {
          "data": {
            "text/plain": [
              "'i. 3.2 Attention An attention function can be described as mapping a query and a set of key-value pairs to an output, where the query, keys, values, and output are all vectors. The output is computed as a weighted sum 3'"
            ]
          },
          "execution_count": 69,
          "metadata": {},
          "output_type": "execute_result"
        }
      ],
      "source": [
        "combined_list['text-embedding-3-large'][0].page_content"
      ]
    },
    {
      "cell_type": "code",
      "execution_count": null,
      "metadata": {
        "id": "vvvM0nN89G7Z",
        "outputId": "4cb49d12-24fd-4f4b-c9ed-4b174c970555"
      },
      "outputs": [
        {
          "name": "stdout",
          "output_type": "stream",
          "text": [
            "Model: text-embedding-3-large\n",
            "Document: i. 3.2 Attention An attention function can be described as mapping a query and a set of key-value pairs to an output, where the query, keys, values, and output are all vectors. The output is computed as a weighted sum 3\n",
            "Source: data/attention_paper.pdf\n",
            "Page: 2\n",
            "--------------------------------------------------------------------------------\n",
            "Document: we have a theoretical attention span of approximately 131K tokens. In practice, for a sequence length of 16K andW = 4096, changes made to FlashAttention [ 11] and xFormers [ 18] yield a 2x speed improvement over a vanilla attention baseline. Rolling Buffer Cache. A fixed attention span means that we can limit our cache size using a rolling buffer cache. The cache has a fixed size of W, and the keys and values for the timestep i are stored in position i mod W of the cache. As a result, when the position i is larger than W, past values in the cache are overwritten, and the size of the cache stops increasing. We provide an illustration in Figure 2 for W = 3. On a sequence length of 32k tokens, this reduces the cache memory usage by 8x, without impacting the model quality. 1https://github.com/mistralai/mistral-src 2https://github.com/skypilot-org/skypilot 3https://huggingface.co/mistralai 2\n",
            "Source: data/mistral_paper.pdf\n",
            "Page: 1\n",
            "--------------------------------------------------------------------------------\n",
            "Document: of Attention in our Model The Transformer uses multi-head attention in three different ways: • In \"encoder-decoder attention\" layers, the queries come from the previous decoder layer, and the memory keys and values come from the output of the encoder. This allows every position in the decoder to attend over all positions in the input sequence. This mimics the typical encoder-decoder attention mechanisms in sequence-to-sequence models such as [38, 2, 9]. • The encoder contains self-attention layers. In a self-attention layer all of the keys, values and queries come from the same place, in this case, the output of the previous layer in the encoder. Each position in the encoder can attend to all positions in the previous layer of the encoder. • Similarly, self-attention layers in the decoder allow each position in the decoder to attend to all positions in the decoder up to and including that position. We need to prevent leftward information flow in the decoder to preserve the\n",
            "Source: data/attention_paper.pdf\n",
            "Page: 4\n",
            "--------------------------------------------------------------------------------\n",
            "Document: logarithmically for ByteNet. This makes it more difficult to learn dependencies between distant positions [ 12]. In the Transformer this is reduced to a constant number of operations, albeit at the cost of reduced effective resolution due to averaging attention-weighted positions, an effect we counteract with Multi-Head Attention as described in section 3.2. Self-attention, sometimes called intra-attention is an attention mechanism relating different positions of a single sequence in order to compute a representation of the sequence. Self-attention has been used successfully in a variety of tasks including reading comprehension, abstractive summarization, textual entailment and learning task-independent sentence representations [4, 27, 28, 22]. End-to-end memory networks are based on a recurrent attention mechanism instead of sequence- aligned recurrence and have been shown to perform well on simple-language question answering and language modeling tasks [34]. To the best of our\n",
            "Source: data/attention_paper.pdf\n",
            "Page: 1\n",
            "--------------------------------------------------------------------------------\n",
            "Document: Scaled Dot-Product Attention Multi-Head Attention Figure 2: (left) Scaled Dot-Product Attention. (right) Multi-Head Attention consists of several attention layers running in parallel. of the values, where the weight assigned to each value is computed by a compatibility function of the query with the corresponding key. 3.2.1 Scaled Dot-Product Attention We call our particular attention \"Scaled Dot-Product Attention\" (Figure 2). The input consists of queries and keys of dimension dk, and values of dimension dv. We compute the dot products of the query with all keys, divide each by √dk, and apply a softmax function to obtain the weights on the values. In practice, we compute the attention function on a set of queries simultaneously, packed together into a matrix Q. The keys and values are also packed together into matrices K and V . We compute the matrix of outputs as: Attention(Q, K, V) = softmax(QKT √dk )V (1) The two most commonly used attention functions are additive attention [2],\n",
            "Source: data/attention_paper.pdf\n",
            "Page: 3\n",
            "--------------------------------------------------------------------------------\n",
            "Model: text-embedding-3-small\n",
            "Document: i. 3.2 Attention An attention function can be described as mapping a query and a set of key-value pairs to an output, where the query, keys, values, and output are all vectors. The output is computed as a weighted sum 3\n",
            "Source: data/attention_paper.pdf\n",
            "Page: 2\n",
            "--------------------------------------------------------------------------------\n",
            "Document: Attention Visualizations Input-Input Layer5 It is in this spirit that a majority of American governments have passed new laws since 2009 making the registration or voting process more difficult . <EOS> <pad> <pad> <pad> <pad> <pad> <pad> It is in this spirit that a majority of American governments have passed new laws since 2009 making the registration or voting process more difficult . <EOS> <pad> <pad> <pad> <pad> <pad> <pad> Figure 3: An example of the attention mechanism following long-distance dependencies in the encoder self-attention in layer 5 of 6. Many of the attention heads attend to a distant dependency of the verb ‘making’, completing the phrase ‘making...more difficult’. Attentions here shown only for the word ‘making’. Different colors represent different heads. Best viewed in color. 13\n",
            "Source: data/attention_paper.pdf\n",
            "Page: 12\n",
            "--------------------------------------------------------------------------------\n",
            "Document: we have a theoretical attention span of approximately 131K tokens. In practice, for a sequence length of 16K andW = 4096, changes made to FlashAttention [ 11] and xFormers [ 18] yield a 2x speed improvement over a vanilla attention baseline. Rolling Buffer Cache. A fixed attention span means that we can limit our cache size using a rolling buffer cache. The cache has a fixed size of W, and the keys and values for the timestep i are stored in position i mod W of the cache. As a result, when the position i is larger than W, past values in the cache are overwritten, and the size of the cache stops increasing. We provide an illustration in Figure 2 for W = 3. On a sequence length of 32k tokens, this reduces the cache memory usage by 8x, without impacting the model quality. 1https://github.com/mistralai/mistral-src 2https://github.com/skypilot-org/skypilot 3https://huggingface.co/mistralai 2\n",
            "Source: data/mistral_paper.pdf\n",
            "Page: 1\n",
            "--------------------------------------------------------------------------------\n",
            "Document: Scaled Dot-Product Attention Multi-Head Attention Figure 2: (left) Scaled Dot-Product Attention. (right) Multi-Head Attention consists of several attention layers running in parallel. of the values, where the weight assigned to each value is computed by a compatibility function of the query with the corresponding key. 3.2.1 Scaled Dot-Product Attention We call our particular attention \"Scaled Dot-Product Attention\" (Figure 2). The input consists of queries and keys of dimension dk, and values of dimension dv. We compute the dot products of the query with all keys, divide each by √dk, and apply a softmax function to obtain the weights on the values. In practice, we compute the attention function on a set of queries simultaneously, packed together into a matrix Q. The keys and values are also packed together into matrices K and V . We compute the matrix of outputs as: Attention(Q, K, V) = softmax(QKT √dk )V (1) The two most commonly used attention functions are additive attention [2],\n",
            "Source: data/attention_paper.pdf\n",
            "Page: 3\n",
            "--------------------------------------------------------------------------------\n",
            "Document: of Attention in our Model The Transformer uses multi-head attention in three different ways: • In \"encoder-decoder attention\" layers, the queries come from the previous decoder layer, and the memory keys and values come from the output of the encoder. This allows every position in the decoder to attend over all positions in the input sequence. This mimics the typical encoder-decoder attention mechanisms in sequence-to-sequence models such as [38, 2, 9]. • The encoder contains self-attention layers. In a self-attention layer all of the keys, values and queries come from the same place, in this case, the output of the previous layer in the encoder. Each position in the encoder can attend to all positions in the previous layer of the encoder. • Similarly, self-attention layers in the decoder allow each position in the decoder to attend to all positions in the decoder up to and including that position. We need to prevent leftward information flow in the decoder to preserve the\n",
            "Source: data/attention_paper.pdf\n",
            "Page: 4\n",
            "--------------------------------------------------------------------------------\n"
          ]
        }
      ],
      "source": [
        "for model, retriever in combined_list.items():\n",
        "    print(f\"Model: {model}\")\n",
        "    for doc in retriever:\n",
        "        print(f\"Document: {doc.page_content}\")\n",
        "        #print(f\"Score: {doc.metadata['similarity_score']}\")\n",
        "        print(f\"Source: {doc.metadata['source']}\")\n",
        "        print(f\"Page: {doc.metadata['page']}\")\n",
        "        print(\"-\" * 80)"
      ]
    },
    {
      "cell_type": "markdown",
      "metadata": {
        "id": "Mu8EcBRR9G7Z"
      },
      "source": [
        "### From the above embeddings, we can infer that text-embedding-3-large retrieves relevant data in the top."
      ]
    },
    {
      "cell_type": "code",
      "execution_count": null,
      "metadata": {
        "id": "PDoY-bkn9G7Z",
        "outputId": "0a145a00-8b94-45e9-9a1e-409131881949"
      },
      "outputs": [
        {
          "data": {
            "text/plain": [
              "[Document(id='e213dc17-555a-4842-a9a2-d85ad16472d4', metadata={'page': 2, 'source': 'data/attention_paper.pdf'}, page_content='i. 3.2 Attention An attention function can be described as mapping a query and a set of key-value pairs to an output, where the query, keys, values, and output are all vectors. The output is computed as a weighted sum 3'),\n",
              " Document(id='f6ea3a5c-8027-4cad-8ec5-652746c7edd3', metadata={'page': 12, 'source': 'data/attention_paper.pdf'}, page_content='Attention Visualizations Input-Input Layer5 It is in this spirit that a majority of American governments have passed new laws since 2009 making the registration or voting process more difficult . <EOS> <pad> <pad> <pad> <pad> <pad> <pad> It is in this spirit that a majority of American governments have passed new laws since 2009 making the registration or voting process more difficult . <EOS> <pad> <pad> <pad> <pad> <pad> <pad> Figure 3: An example of the attention mechanism following long-distance dependencies in the encoder self-attention in layer 5 of 6. Many of the attention heads attend to a distant dependency of the verb ‘making’, completing the phrase ‘making...more difficult’. Attentions here shown only for the word ‘making’. Different colors represent different heads. Best viewed in color. 13'),\n",
              " Document(id='423212f0-e25d-4789-910a-7d53917ec5ef', metadata={'page': 1, 'source': 'data/mistral_paper.pdf'}, page_content='we have a theoretical attention span of approximately 131K tokens. In practice, for a sequence length of 16K andW = 4096, changes made to FlashAttention [ 11] and xFormers [ 18] yield a 2x speed improvement over a vanilla attention baseline. Rolling Buffer Cache. A fixed attention span means that we can limit our cache size using a rolling buffer cache. The cache has a fixed size of W, and the keys and values for the timestep i are stored in position i mod W of the cache. As a result, when the position i is larger than W, past values in the cache are overwritten, and the size of the cache stops increasing. We provide an illustration in Figure 2 for W = 3. On a sequence length of 32k tokens, this reduces the cache memory usage by 8x, without impacting the model quality. 1https://github.com/mistralai/mistral-src 2https://github.com/skypilot-org/skypilot 3https://huggingface.co/mistralai 2'),\n",
              " Document(id='8b2aca23-b7db-403a-b724-6b4087ed7a06', metadata={'page': 3, 'source': 'data/attention_paper.pdf'}, page_content='Scaled Dot-Product Attention Multi-Head Attention Figure 2: (left) Scaled Dot-Product Attention. (right) Multi-Head Attention consists of several attention layers running in parallel. of the values, where the weight assigned to each value is computed by a compatibility function of the query with the corresponding key. 3.2.1 Scaled Dot-Product Attention We call our particular attention \"Scaled Dot-Product Attention\" (Figure 2). The input consists of queries and keys of dimension dk, and values of dimension dv. We compute the dot products of the query with all keys, divide each by √dk, and apply a softmax function to obtain the weights on the values. In practice, we compute the attention function on a set of queries simultaneously, packed together into a matrix Q. The keys and values are also packed together into matrices K and V . We compute the matrix of outputs as: Attention(Q, K, V) = softmax(QKT √dk )V (1) The two most commonly used attention functions are additive attention [2],'),\n",
              " Document(id='6c44f28d-34c1-42f5-a0f8-65f71c1130ee', metadata={'page': 4, 'source': 'data/attention_paper.pdf'}, page_content='of Attention in our Model The Transformer uses multi-head attention in three different ways: • In \"encoder-decoder attention\" layers, the queries come from the previous decoder layer, and the memory keys and values come from the output of the encoder. This allows every position in the decoder to attend over all positions in the input sequence. This mimics the typical encoder-decoder attention mechanisms in sequence-to-sequence models such as [38, 2, 9]. • The encoder contains self-attention layers. In a self-attention layer all of the keys, values and queries come from the same place, in this case, the output of the previous layer in the encoder. Each position in the encoder can attend to all positions in the previous layer of the encoder. • Similarly, self-attention layers in the decoder allow each position in the decoder to attend to all positions in the decoder up to and including that position. We need to prevent leftward information flow in the decoder to preserve the')]"
            ]
          },
          "execution_count": 20,
          "metadata": {},
          "output_type": "execute_result"
        }
      ],
      "source": [
        "similarity_retriever.invoke(\"What is attention?\", k=5)"
      ]
    },
    {
      "cell_type": "code",
      "execution_count": null,
      "metadata": {
        "id": "Q0owEJwE9G7a"
      },
      "outputs": [],
      "source": [
        "from langchain_core.prompts import ChatPromptTemplate\n",
        "\n",
        "prompt = \"\"\"You are an assistant for question-answering tasks.\n",
        "            Use the following pieces of retrieved context to answer the question.\n",
        "            If the answer is not present in the context, just say that you don't know.\n",
        "            Keep the answer to the point. also show the top 3 context documents of the answer.\n",
        "\n",
        "            Question:\n",
        "            {question}\n",
        "\n",
        "            Context:\n",
        "            {context}\n",
        "\n",
        "            Answer:\n",
        "         \"\"\"\n",
        "\n",
        "prompt_template = ChatPromptTemplate.from_template(prompt)"
      ]
    },
    {
      "cell_type": "code",
      "execution_count": null,
      "metadata": {
        "id": "gQeLd0cJ9G7a"
      },
      "outputs": [],
      "source": [
        "from langchain_openai import ChatOpenAI\n",
        "\n",
        "chatgpt = ChatOpenAI(model_name=\"gpt-4o-mini\", temperature=0)\n"
      ]
    },
    {
      "cell_type": "code",
      "execution_count": null,
      "metadata": {
        "id": "1Tyox5wI9G7a"
      },
      "outputs": [],
      "source": [
        "from langchain_core.runnables import RunnablePassthrough\n",
        "\n",
        "def format_docs(docs):\n",
        "    return \"\\n\\n\".join(doc.page_content for doc in docs)\n",
        "\n",
        "qa_rag_chain = (\n",
        "    {\n",
        "        \"context\": (similarity_retriever\n",
        "                      |\n",
        "                    format_docs),\n",
        "        \"question\": RunnablePassthrough()\n",
        "    }\n",
        "       |\n",
        "    prompt_template\n",
        "      |\n",
        "    chatgpt\n",
        ")"
      ]
    },
    {
      "cell_type": "code",
      "execution_count": null,
      "metadata": {
        "id": "qspi829u9G7a",
        "outputId": "8c75faac-a0b3-49e2-d24e-60a94d62117e"
      },
      "outputs": [
        {
          "data": {
            "text/markdown": [
              "Gemini is a family of highly capable multimodal models that includes evaluations at both the model and product levels, focusing on safety mitigations and user experience. It addresses critical policy areas such as hate speech and dangerous content, and adopts a user-centric approach to maximize diversity across various topics and user journeys.\n",
              "\n",
              "Top 3 context documents:\n",
              "1. Gemini: A Family of Highly Capable Multimodal Models 7.4.2. Gemini Advanced\n",
              "2. Gemini: A Family of Highly Capable Multimodal Models 7.4.2. Gemini Advanced\n",
              "3. Gemini: A Family of Highly Capable Multimodal Models 7.4.2. Gemini Advanced"
            ],
            "text/plain": [
              "<IPython.core.display.Markdown object>"
            ]
          },
          "metadata": {},
          "output_type": "display_data"
        }
      ],
      "source": [
        "from IPython.display import display, Markdown\n",
        "query = \"What is gemini\"\n",
        "result = qa_rag_chain.invoke(query)\n",
        "display(Markdown(result.content))\n"
      ]
    }
  ],
  "metadata": {
    "kernelspec": {
      "display_name": "venv",
      "language": "python",
      "name": "python3"
    },
    "language_info": {
      "codemirror_mode": {
        "name": "ipython",
        "version": 3
      },
      "file_extension": ".py",
      "mimetype": "text/x-python",
      "name": "python",
      "nbconvert_exporter": "python",
      "pygments_lexer": "ipython3",
      "version": "3.10.14"
    },
    "colab": {
      "provenance": []
    }
  },
  "nbformat": 4,
  "nbformat_minor": 0
}