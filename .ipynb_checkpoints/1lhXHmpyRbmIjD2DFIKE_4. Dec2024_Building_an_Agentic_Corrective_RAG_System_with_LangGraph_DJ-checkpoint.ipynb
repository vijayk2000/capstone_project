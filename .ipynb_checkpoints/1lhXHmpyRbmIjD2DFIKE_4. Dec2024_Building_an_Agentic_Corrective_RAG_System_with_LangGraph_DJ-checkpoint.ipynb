{
 "cells": [
  {
   "cell_type": "markdown",
   "metadata": {
    "id": "A_fZFcme18vK"
   },
   "source": [
    "# Project 1 - Building an Agentic Corrective RAG System with LangGraph"
   ]
  },
  {
   "cell_type": "markdown",
   "metadata": {
    "id": "NYBpZTjLnEXb"
   },
   "source": [
    "This project will cover a full hands-on workflow and demonstration of how to build an Agentic Corrective RAG (CRAG) System with LangGraph\n",
    "\n",
    "The idea would be to implement the workflow taking inspiration from the [Corrective Retrieval Augmented Generation](https://arxiv.org/pdf/2401.15884) research paper.\n",
    "\n",
    "The main challenge of RAG systems include:\n",
    "\n",
    "- Poor Retrieval can lead to issues in LLM response generation\n",
    "- Bad retrieval or lack of information in the vector database can also lead to out of context or hallucinated answers\n",
    "\n",
    "The idea is to couple a RAG system with a few checks in place and perform web searches if there is a lack of relevant context documents to the given user query as follows:\n",
    "\n",
    "![](https://i.imgur.com/uhybMhT.png)\n"
   ]
  },
  {
   "cell_type": "markdown",
   "metadata": {
    "id": "aMX5MULw4JXP"
   },
   "source": [
    "We can build this as an agentic RAG system by having a specific functionality step as a node in the graph and use LangGraph to implement it. Key steps in the node will include prompts being sent to LLMs to perform specific tasks as seen in the detailed workflow below:\n",
    "\n",
    "![](https://i.imgur.com/eV87ZwX.gif)\n",
    "\n",
    "\n",
    "___Created By: [Dipanjan (DJ)](https://www.linkedin.com/in/dipanjans/)___\n"
   ]
  },
  {
   "cell_type": "markdown",
   "metadata": {
    "id": "L1KvMtf54l0d"
   },
   "source": [
    "## Install OpenAI, and LangChain dependencies"
   ]
  },
  {
   "cell_type": "code",
   "execution_count": null,
   "metadata": {
    "colab": {
     "base_uri": "https://localhost:8080/"
    },
    "id": "2evPp14fy258",
    "outputId": "32f7a873-519f-4741-9a4b-27feefcb03e3"
   },
   "outputs": [
    {
     "name": "stdout",
     "output_type": "stream",
     "text": [
      "Collecting langchain==0.3.12\n",
      "  Downloading langchain-0.3.12-py3-none-any.whl.metadata (7.1 kB)\n",
      "Requirement already satisfied: PyYAML>=5.3 in /usr/local/lib/python3.10/dist-packages (from langchain==0.3.12) (6.0.2)\n",
      "Requirement already satisfied: SQLAlchemy<3,>=1.4 in /usr/local/lib/python3.10/dist-packages (from langchain==0.3.12) (2.0.36)\n",
      "Requirement already satisfied: aiohttp<4.0.0,>=3.8.3 in /usr/local/lib/python3.10/dist-packages (from langchain==0.3.12) (3.11.10)\n",
      "Requirement already satisfied: async-timeout<5.0.0,>=4.0.0 in /usr/local/lib/python3.10/dist-packages (from langchain==0.3.12) (4.0.3)\n",
      "Collecting langchain-core<0.4.0,>=0.3.25 (from langchain==0.3.12)\n",
      "  Downloading langchain_core-0.3.25-py3-none-any.whl.metadata (6.3 kB)\n",
      "Collecting langchain-text-splitters<0.4.0,>=0.3.3 (from langchain==0.3.12)\n",
      "  Downloading langchain_text_splitters-0.3.3-py3-none-any.whl.metadata (2.3 kB)\n",
      "Requirement already satisfied: langsmith<0.3,>=0.1.17 in /usr/local/lib/python3.10/dist-packages (from langchain==0.3.12) (0.2.2)\n",
      "Requirement already satisfied: numpy<2,>=1.22.4 in /usr/local/lib/python3.10/dist-packages (from langchain==0.3.12) (1.26.4)\n",
      "Requirement already satisfied: pydantic<3.0.0,>=2.7.4 in /usr/local/lib/python3.10/dist-packages (from langchain==0.3.12) (2.10.3)\n",
      "Requirement already satisfied: requests<3,>=2 in /usr/local/lib/python3.10/dist-packages (from langchain==0.3.12) (2.32.3)\n",
      "Requirement already satisfied: tenacity!=8.4.0,<10,>=8.1.0 in /usr/local/lib/python3.10/dist-packages (from langchain==0.3.12) (9.0.0)\n",
      "Requirement already satisfied: aiohappyeyeballs>=2.3.0 in /usr/local/lib/python3.10/dist-packages (from aiohttp<4.0.0,>=3.8.3->langchain==0.3.12) (2.4.4)\n",
      "Requirement already satisfied: aiosignal>=1.1.2 in /usr/local/lib/python3.10/dist-packages (from aiohttp<4.0.0,>=3.8.3->langchain==0.3.12) (1.3.1)\n",
      "Requirement already satisfied: attrs>=17.3.0 in /usr/local/lib/python3.10/dist-packages (from aiohttp<4.0.0,>=3.8.3->langchain==0.3.12) (24.2.0)\n",
      "Requirement already satisfied: frozenlist>=1.1.1 in /usr/local/lib/python3.10/dist-packages (from aiohttp<4.0.0,>=3.8.3->langchain==0.3.12) (1.5.0)\n",
      "Requirement already satisfied: multidict<7.0,>=4.5 in /usr/local/lib/python3.10/dist-packages (from aiohttp<4.0.0,>=3.8.3->langchain==0.3.12) (6.1.0)\n",
      "Requirement already satisfied: propcache>=0.2.0 in /usr/local/lib/python3.10/dist-packages (from aiohttp<4.0.0,>=3.8.3->langchain==0.3.12) (0.2.1)\n",
      "Requirement already satisfied: yarl<2.0,>=1.17.0 in /usr/local/lib/python3.10/dist-packages (from aiohttp<4.0.0,>=3.8.3->langchain==0.3.12) (1.18.3)\n",
      "Requirement already satisfied: jsonpatch<2.0,>=1.33 in /usr/local/lib/python3.10/dist-packages (from langchain-core<0.4.0,>=0.3.25->langchain==0.3.12) (1.33)\n",
      "Requirement already satisfied: packaging<25,>=23.2 in /usr/local/lib/python3.10/dist-packages (from langchain-core<0.4.0,>=0.3.25->langchain==0.3.12) (24.2)\n",
      "Requirement already satisfied: typing-extensions>=4.7 in /usr/local/lib/python3.10/dist-packages (from langchain-core<0.4.0,>=0.3.25->langchain==0.3.12) (4.12.2)\n",
      "Requirement already satisfied: httpx<1,>=0.23.0 in /usr/local/lib/python3.10/dist-packages (from langsmith<0.3,>=0.1.17->langchain==0.3.12) (0.28.1)\n",
      "Requirement already satisfied: orjson<4.0.0,>=3.9.14 in /usr/local/lib/python3.10/dist-packages (from langsmith<0.3,>=0.1.17->langchain==0.3.12) (3.10.12)\n",
      "Requirement already satisfied: requests-toolbelt<2.0.0,>=1.0.0 in /usr/local/lib/python3.10/dist-packages (from langsmith<0.3,>=0.1.17->langchain==0.3.12) (1.0.0)\n",
      "Requirement already satisfied: annotated-types>=0.6.0 in /usr/local/lib/python3.10/dist-packages (from pydantic<3.0.0,>=2.7.4->langchain==0.3.12) (0.7.0)\n",
      "Requirement already satisfied: pydantic-core==2.27.1 in /usr/local/lib/python3.10/dist-packages (from pydantic<3.0.0,>=2.7.4->langchain==0.3.12) (2.27.1)\n",
      "Requirement already satisfied: charset-normalizer<4,>=2 in /usr/local/lib/python3.10/dist-packages (from requests<3,>=2->langchain==0.3.12) (3.4.0)\n",
      "Requirement already satisfied: idna<4,>=2.5 in /usr/local/lib/python3.10/dist-packages (from requests<3,>=2->langchain==0.3.12) (3.10)\n",
      "Requirement already satisfied: urllib3<3,>=1.21.1 in /usr/local/lib/python3.10/dist-packages (from requests<3,>=2->langchain==0.3.12) (2.2.3)\n",
      "Requirement already satisfied: certifi>=2017.4.17 in /usr/local/lib/python3.10/dist-packages (from requests<3,>=2->langchain==0.3.12) (2024.8.30)\n",
      "Requirement already satisfied: greenlet!=0.4.17 in /usr/local/lib/python3.10/dist-packages (from SQLAlchemy<3,>=1.4->langchain==0.3.12) (3.1.1)\n",
      "Requirement already satisfied: anyio in /usr/local/lib/python3.10/dist-packages (from httpx<1,>=0.23.0->langsmith<0.3,>=0.1.17->langchain==0.3.12) (3.7.1)\n",
      "Requirement already satisfied: httpcore==1.* in /usr/local/lib/python3.10/dist-packages (from httpx<1,>=0.23.0->langsmith<0.3,>=0.1.17->langchain==0.3.12) (1.0.7)\n",
      "Requirement already satisfied: h11<0.15,>=0.13 in /usr/local/lib/python3.10/dist-packages (from httpcore==1.*->httpx<1,>=0.23.0->langsmith<0.3,>=0.1.17->langchain==0.3.12) (0.14.0)\n",
      "Requirement already satisfied: jsonpointer>=1.9 in /usr/local/lib/python3.10/dist-packages (from jsonpatch<2.0,>=1.33->langchain-core<0.4.0,>=0.3.25->langchain==0.3.12) (3.0.0)\n",
      "Requirement already satisfied: sniffio>=1.1 in /usr/local/lib/python3.10/dist-packages (from anyio->httpx<1,>=0.23.0->langsmith<0.3,>=0.1.17->langchain==0.3.12) (1.3.1)\n",
      "Requirement already satisfied: exceptiongroup in /usr/local/lib/python3.10/dist-packages (from anyio->httpx<1,>=0.23.0->langsmith<0.3,>=0.1.17->langchain==0.3.12) (1.2.2)\n",
      "Downloading langchain-0.3.12-py3-none-any.whl (1.0 MB)\n",
      "\u001b[2K   \u001b[90m━━━━━━━━━━━━━━━━━━━━━━━━━━━━━━━━━━━━━━━━\u001b[0m \u001b[32m1.0/1.0 MB\u001b[0m \u001b[31m10.6 MB/s\u001b[0m eta \u001b[36m0:00:00\u001b[0m\n",
      "\u001b[?25hDownloading langchain_core-0.3.25-py3-none-any.whl (411 kB)\n",
      "\u001b[2K   \u001b[90m━━━━━━━━━━━━━━━━━━━━━━━━━━━━━━━━━━━━━━━━\u001b[0m \u001b[32m411.2/411.2 kB\u001b[0m \u001b[31m16.7 MB/s\u001b[0m eta \u001b[36m0:00:00\u001b[0m\n",
      "\u001b[?25hDownloading langchain_text_splitters-0.3.3-py3-none-any.whl (27 kB)\n",
      "Installing collected packages: langchain-core, langchain-text-splitters, langchain\n",
      "  Attempting uninstall: langchain-core\n",
      "    Found existing installation: langchain-core 0.3.24\n",
      "    Uninstalling langchain-core-0.3.24:\n",
      "      Successfully uninstalled langchain-core-0.3.24\n",
      "  Attempting uninstall: langchain-text-splitters\n",
      "    Found existing installation: langchain-text-splitters 0.3.2\n",
      "    Uninstalling langchain-text-splitters-0.3.2:\n",
      "      Successfully uninstalled langchain-text-splitters-0.3.2\n",
      "  Attempting uninstall: langchain\n",
      "    Found existing installation: langchain 0.3.11\n",
      "    Uninstalling langchain-0.3.11:\n",
      "      Successfully uninstalled langchain-0.3.11\n",
      "Successfully installed langchain-0.3.12 langchain-core-0.3.25 langchain-text-splitters-0.3.3\n",
      "Collecting langchain-openai==0.2.12\n",
      "  Downloading langchain_openai-0.2.12-py3-none-any.whl.metadata (2.7 kB)\n",
      "Requirement already satisfied: langchain-core<0.4.0,>=0.3.21 in /usr/local/lib/python3.10/dist-packages (from langchain-openai==0.2.12) (0.3.25)\n",
      "Collecting openai<2.0.0,>=1.55.3 (from langchain-openai==0.2.12)\n",
      "  Downloading openai-1.57.4-py3-none-any.whl.metadata (24 kB)\n",
      "Collecting tiktoken<1,>=0.7 (from langchain-openai==0.2.12)\n",
      "  Downloading tiktoken-0.8.0-cp310-cp310-manylinux_2_17_x86_64.manylinux2014_x86_64.whl.metadata (6.6 kB)\n",
      "Requirement already satisfied: PyYAML>=5.3 in /usr/local/lib/python3.10/dist-packages (from langchain-core<0.4.0,>=0.3.21->langchain-openai==0.2.12) (6.0.2)\n",
      "Requirement already satisfied: jsonpatch<2.0,>=1.33 in /usr/local/lib/python3.10/dist-packages (from langchain-core<0.4.0,>=0.3.21->langchain-openai==0.2.12) (1.33)\n",
      "Requirement already satisfied: langsmith<0.3,>=0.1.125 in /usr/local/lib/python3.10/dist-packages (from langchain-core<0.4.0,>=0.3.21->langchain-openai==0.2.12) (0.2.2)\n",
      "Requirement already satisfied: packaging<25,>=23.2 in /usr/local/lib/python3.10/dist-packages (from langchain-core<0.4.0,>=0.3.21->langchain-openai==0.2.12) (24.2)\n",
      "Requirement already satisfied: pydantic<3.0.0,>=2.5.2 in /usr/local/lib/python3.10/dist-packages (from langchain-core<0.4.0,>=0.3.21->langchain-openai==0.2.12) (2.10.3)\n",
      "Requirement already satisfied: tenacity!=8.4.0,<10.0.0,>=8.1.0 in /usr/local/lib/python3.10/dist-packages (from langchain-core<0.4.0,>=0.3.21->langchain-openai==0.2.12) (9.0.0)\n",
      "Requirement already satisfied: typing-extensions>=4.7 in /usr/local/lib/python3.10/dist-packages (from langchain-core<0.4.0,>=0.3.21->langchain-openai==0.2.12) (4.12.2)\n",
      "Requirement already satisfied: anyio<5,>=3.5.0 in /usr/local/lib/python3.10/dist-packages (from openai<2.0.0,>=1.55.3->langchain-openai==0.2.12) (3.7.1)\n",
      "Requirement already satisfied: distro<2,>=1.7.0 in /usr/local/lib/python3.10/dist-packages (from openai<2.0.0,>=1.55.3->langchain-openai==0.2.12) (1.9.0)\n",
      "Requirement already satisfied: httpx<1,>=0.23.0 in /usr/local/lib/python3.10/dist-packages (from openai<2.0.0,>=1.55.3->langchain-openai==0.2.12) (0.28.1)\n",
      "Requirement already satisfied: jiter<1,>=0.4.0 in /usr/local/lib/python3.10/dist-packages (from openai<2.0.0,>=1.55.3->langchain-openai==0.2.12) (0.8.2)\n",
      "Requirement already satisfied: sniffio in /usr/local/lib/python3.10/dist-packages (from openai<2.0.0,>=1.55.3->langchain-openai==0.2.12) (1.3.1)\n",
      "Requirement already satisfied: tqdm>4 in /usr/local/lib/python3.10/dist-packages (from openai<2.0.0,>=1.55.3->langchain-openai==0.2.12) (4.66.6)\n",
      "Requirement already satisfied: regex>=2022.1.18 in /usr/local/lib/python3.10/dist-packages (from tiktoken<1,>=0.7->langchain-openai==0.2.12) (2024.9.11)\n",
      "Requirement already satisfied: requests>=2.26.0 in /usr/local/lib/python3.10/dist-packages (from tiktoken<1,>=0.7->langchain-openai==0.2.12) (2.32.3)\n",
      "Requirement already satisfied: idna>=2.8 in /usr/local/lib/python3.10/dist-packages (from anyio<5,>=3.5.0->openai<2.0.0,>=1.55.3->langchain-openai==0.2.12) (3.10)\n",
      "Requirement already satisfied: exceptiongroup in /usr/local/lib/python3.10/dist-packages (from anyio<5,>=3.5.0->openai<2.0.0,>=1.55.3->langchain-openai==0.2.12) (1.2.2)\n",
      "Requirement already satisfied: certifi in /usr/local/lib/python3.10/dist-packages (from httpx<1,>=0.23.0->openai<2.0.0,>=1.55.3->langchain-openai==0.2.12) (2024.8.30)\n",
      "Requirement already satisfied: httpcore==1.* in /usr/local/lib/python3.10/dist-packages (from httpx<1,>=0.23.0->openai<2.0.0,>=1.55.3->langchain-openai==0.2.12) (1.0.7)\n",
      "Requirement already satisfied: h11<0.15,>=0.13 in /usr/local/lib/python3.10/dist-packages (from httpcore==1.*->httpx<1,>=0.23.0->openai<2.0.0,>=1.55.3->langchain-openai==0.2.12) (0.14.0)\n",
      "Requirement already satisfied: jsonpointer>=1.9 in /usr/local/lib/python3.10/dist-packages (from jsonpatch<2.0,>=1.33->langchain-core<0.4.0,>=0.3.21->langchain-openai==0.2.12) (3.0.0)\n",
      "Requirement already satisfied: orjson<4.0.0,>=3.9.14 in /usr/local/lib/python3.10/dist-packages (from langsmith<0.3,>=0.1.125->langchain-core<0.4.0,>=0.3.21->langchain-openai==0.2.12) (3.10.12)\n",
      "Requirement already satisfied: requests-toolbelt<2.0.0,>=1.0.0 in /usr/local/lib/python3.10/dist-packages (from langsmith<0.3,>=0.1.125->langchain-core<0.4.0,>=0.3.21->langchain-openai==0.2.12) (1.0.0)\n",
      "Requirement already satisfied: annotated-types>=0.6.0 in /usr/local/lib/python3.10/dist-packages (from pydantic<3.0.0,>=2.5.2->langchain-core<0.4.0,>=0.3.21->langchain-openai==0.2.12) (0.7.0)\n",
      "Requirement already satisfied: pydantic-core==2.27.1 in /usr/local/lib/python3.10/dist-packages (from pydantic<3.0.0,>=2.5.2->langchain-core<0.4.0,>=0.3.21->langchain-openai==0.2.12) (2.27.1)\n",
      "Requirement already satisfied: charset-normalizer<4,>=2 in /usr/local/lib/python3.10/dist-packages (from requests>=2.26.0->tiktoken<1,>=0.7->langchain-openai==0.2.12) (3.4.0)\n",
      "Requirement already satisfied: urllib3<3,>=1.21.1 in /usr/local/lib/python3.10/dist-packages (from requests>=2.26.0->tiktoken<1,>=0.7->langchain-openai==0.2.12) (2.2.3)\n",
      "Downloading langchain_openai-0.2.12-py3-none-any.whl (50 kB)\n",
      "\u001b[2K   \u001b[90m━━━━━━━━━━━━━━━━━━━━━━━━━━━━━━━━━━━━━━━━\u001b[0m \u001b[32m50.7/50.7 kB\u001b[0m \u001b[31m2.9 MB/s\u001b[0m eta \u001b[36m0:00:00\u001b[0m\n",
      "\u001b[?25hDownloading openai-1.57.4-py3-none-any.whl (390 kB)\n",
      "\u001b[2K   \u001b[90m━━━━━━━━━━━━━━━━━━━━━━━━━━━━━━━━━━━━━━━━\u001b[0m \u001b[32m390.3/390.3 kB\u001b[0m \u001b[31m10.7 MB/s\u001b[0m eta \u001b[36m0:00:00\u001b[0m\n",
      "\u001b[?25hDownloading tiktoken-0.8.0-cp310-cp310-manylinux_2_17_x86_64.manylinux2014_x86_64.whl (1.2 MB)\n",
      "\u001b[2K   \u001b[90m━━━━━━━━━━━━━━━━━━━━━━━━━━━━━━━━━━━━━━━━\u001b[0m \u001b[32m1.2/1.2 MB\u001b[0m \u001b[31m31.1 MB/s\u001b[0m eta \u001b[36m0:00:00\u001b[0m\n",
      "\u001b[?25hInstalling collected packages: tiktoken, openai, langchain-openai\n",
      "  Attempting uninstall: openai\n",
      "    Found existing installation: openai 1.54.5\n",
      "    Uninstalling openai-1.54.5:\n",
      "      Successfully uninstalled openai-1.54.5\n",
      "Successfully installed langchain-openai-0.2.12 openai-1.57.4 tiktoken-0.8.0\n",
      "Collecting langchain-community==0.3.12\n",
      "  Downloading langchain_community-0.3.12-py3-none-any.whl.metadata (2.9 kB)\n",
      "Requirement already satisfied: PyYAML>=5.3 in /usr/local/lib/python3.10/dist-packages (from langchain-community==0.3.12) (6.0.2)\n",
      "Requirement already satisfied: SQLAlchemy<3,>=1.4 in /usr/local/lib/python3.10/dist-packages (from langchain-community==0.3.12) (2.0.36)\n",
      "Requirement already satisfied: aiohttp<4.0.0,>=3.8.3 in /usr/local/lib/python3.10/dist-packages (from langchain-community==0.3.12) (3.11.10)\n",
      "Collecting dataclasses-json<0.7,>=0.5.7 (from langchain-community==0.3.12)\n",
      "  Downloading dataclasses_json-0.6.7-py3-none-any.whl.metadata (25 kB)\n",
      "Collecting httpx-sse<0.5.0,>=0.4.0 (from langchain-community==0.3.12)\n",
      "  Downloading httpx_sse-0.4.0-py3-none-any.whl.metadata (9.0 kB)\n",
      "Requirement already satisfied: langchain<0.4.0,>=0.3.12 in /usr/local/lib/python3.10/dist-packages (from langchain-community==0.3.12) (0.3.12)\n",
      "Requirement already satisfied: langchain-core<0.4.0,>=0.3.25 in /usr/local/lib/python3.10/dist-packages (from langchain-community==0.3.12) (0.3.25)\n",
      "Requirement already satisfied: langsmith<0.3,>=0.1.125 in /usr/local/lib/python3.10/dist-packages (from langchain-community==0.3.12) (0.2.2)\n",
      "Requirement already satisfied: numpy<2,>=1.22.4 in /usr/local/lib/python3.10/dist-packages (from langchain-community==0.3.12) (1.26.4)\n",
      "Collecting pydantic-settings<3.0.0,>=2.4.0 (from langchain-community==0.3.12)\n",
      "  Downloading pydantic_settings-2.7.0-py3-none-any.whl.metadata (3.5 kB)\n",
      "Requirement already satisfied: requests<3,>=2 in /usr/local/lib/python3.10/dist-packages (from langchain-community==0.3.12) (2.32.3)\n",
      "Requirement already satisfied: tenacity!=8.4.0,<10,>=8.1.0 in /usr/local/lib/python3.10/dist-packages (from langchain-community==0.3.12) (9.0.0)\n",
      "Requirement already satisfied: aiohappyeyeballs>=2.3.0 in /usr/local/lib/python3.10/dist-packages (from aiohttp<4.0.0,>=3.8.3->langchain-community==0.3.12) (2.4.4)\n",
      "Requirement already satisfied: aiosignal>=1.1.2 in /usr/local/lib/python3.10/dist-packages (from aiohttp<4.0.0,>=3.8.3->langchain-community==0.3.12) (1.3.1)\n",
      "Requirement already satisfied: async-timeout<6.0,>=4.0 in /usr/local/lib/python3.10/dist-packages (from aiohttp<4.0.0,>=3.8.3->langchain-community==0.3.12) (4.0.3)\n",
      "Requirement already satisfied: attrs>=17.3.0 in /usr/local/lib/python3.10/dist-packages (from aiohttp<4.0.0,>=3.8.3->langchain-community==0.3.12) (24.2.0)\n",
      "Requirement already satisfied: frozenlist>=1.1.1 in /usr/local/lib/python3.10/dist-packages (from aiohttp<4.0.0,>=3.8.3->langchain-community==0.3.12) (1.5.0)\n",
      "Requirement already satisfied: multidict<7.0,>=4.5 in /usr/local/lib/python3.10/dist-packages (from aiohttp<4.0.0,>=3.8.3->langchain-community==0.3.12) (6.1.0)\n",
      "Requirement already satisfied: propcache>=0.2.0 in /usr/local/lib/python3.10/dist-packages (from aiohttp<4.0.0,>=3.8.3->langchain-community==0.3.12) (0.2.1)\n",
      "Requirement already satisfied: yarl<2.0,>=1.17.0 in /usr/local/lib/python3.10/dist-packages (from aiohttp<4.0.0,>=3.8.3->langchain-community==0.3.12) (1.18.3)\n",
      "Collecting marshmallow<4.0.0,>=3.18.0 (from dataclasses-json<0.7,>=0.5.7->langchain-community==0.3.12)\n",
      "  Downloading marshmallow-3.23.1-py3-none-any.whl.metadata (7.5 kB)\n",
      "Collecting typing-inspect<1,>=0.4.0 (from dataclasses-json<0.7,>=0.5.7->langchain-community==0.3.12)\n",
      "  Downloading typing_inspect-0.9.0-py3-none-any.whl.metadata (1.5 kB)\n",
      "Requirement already satisfied: langchain-text-splitters<0.4.0,>=0.3.3 in /usr/local/lib/python3.10/dist-packages (from langchain<0.4.0,>=0.3.12->langchain-community==0.3.12) (0.3.3)\n",
      "Requirement already satisfied: pydantic<3.0.0,>=2.7.4 in /usr/local/lib/python3.10/dist-packages (from langchain<0.4.0,>=0.3.12->langchain-community==0.3.12) (2.10.3)\n",
      "Requirement already satisfied: jsonpatch<2.0,>=1.33 in /usr/local/lib/python3.10/dist-packages (from langchain-core<0.4.0,>=0.3.25->langchain-community==0.3.12) (1.33)\n",
      "Requirement already satisfied: packaging<25,>=23.2 in /usr/local/lib/python3.10/dist-packages (from langchain-core<0.4.0,>=0.3.25->langchain-community==0.3.12) (24.2)\n",
      "Requirement already satisfied: typing-extensions>=4.7 in /usr/local/lib/python3.10/dist-packages (from langchain-core<0.4.0,>=0.3.25->langchain-community==0.3.12) (4.12.2)\n",
      "Requirement already satisfied: httpx<1,>=0.23.0 in /usr/local/lib/python3.10/dist-packages (from langsmith<0.3,>=0.1.125->langchain-community==0.3.12) (0.28.1)\n",
      "Requirement already satisfied: orjson<4.0.0,>=3.9.14 in /usr/local/lib/python3.10/dist-packages (from langsmith<0.3,>=0.1.125->langchain-community==0.3.12) (3.10.12)\n",
      "Requirement already satisfied: requests-toolbelt<2.0.0,>=1.0.0 in /usr/local/lib/python3.10/dist-packages (from langsmith<0.3,>=0.1.125->langchain-community==0.3.12) (1.0.0)\n",
      "Collecting python-dotenv>=0.21.0 (from pydantic-settings<3.0.0,>=2.4.0->langchain-community==0.3.12)\n",
      "  Downloading python_dotenv-1.0.1-py3-none-any.whl.metadata (23 kB)\n",
      "Requirement already satisfied: charset-normalizer<4,>=2 in /usr/local/lib/python3.10/dist-packages (from requests<3,>=2->langchain-community==0.3.12) (3.4.0)\n",
      "Requirement already satisfied: idna<4,>=2.5 in /usr/local/lib/python3.10/dist-packages (from requests<3,>=2->langchain-community==0.3.12) (3.10)\n",
      "Requirement already satisfied: urllib3<3,>=1.21.1 in /usr/local/lib/python3.10/dist-packages (from requests<3,>=2->langchain-community==0.3.12) (2.2.3)\n",
      "Requirement already satisfied: certifi>=2017.4.17 in /usr/local/lib/python3.10/dist-packages (from requests<3,>=2->langchain-community==0.3.12) (2024.8.30)\n",
      "Requirement already satisfied: greenlet!=0.4.17 in /usr/local/lib/python3.10/dist-packages (from SQLAlchemy<3,>=1.4->langchain-community==0.3.12) (3.1.1)\n",
      "Requirement already satisfied: anyio in /usr/local/lib/python3.10/dist-packages (from httpx<1,>=0.23.0->langsmith<0.3,>=0.1.125->langchain-community==0.3.12) (3.7.1)\n",
      "Requirement already satisfied: httpcore==1.* in /usr/local/lib/python3.10/dist-packages (from httpx<1,>=0.23.0->langsmith<0.3,>=0.1.125->langchain-community==0.3.12) (1.0.7)\n",
      "Requirement already satisfied: h11<0.15,>=0.13 in /usr/local/lib/python3.10/dist-packages (from httpcore==1.*->httpx<1,>=0.23.0->langsmith<0.3,>=0.1.125->langchain-community==0.3.12) (0.14.0)\n",
      "Requirement already satisfied: jsonpointer>=1.9 in /usr/local/lib/python3.10/dist-packages (from jsonpatch<2.0,>=1.33->langchain-core<0.4.0,>=0.3.25->langchain-community==0.3.12) (3.0.0)\n",
      "Requirement already satisfied: annotated-types>=0.6.0 in /usr/local/lib/python3.10/dist-packages (from pydantic<3.0.0,>=2.7.4->langchain<0.4.0,>=0.3.12->langchain-community==0.3.12) (0.7.0)\n",
      "Requirement already satisfied: pydantic-core==2.27.1 in /usr/local/lib/python3.10/dist-packages (from pydantic<3.0.0,>=2.7.4->langchain<0.4.0,>=0.3.12->langchain-community==0.3.12) (2.27.1)\n",
      "Collecting mypy-extensions>=0.3.0 (from typing-inspect<1,>=0.4.0->dataclasses-json<0.7,>=0.5.7->langchain-community==0.3.12)\n",
      "  Downloading mypy_extensions-1.0.0-py3-none-any.whl.metadata (1.1 kB)\n",
      "Requirement already satisfied: sniffio>=1.1 in /usr/local/lib/python3.10/dist-packages (from anyio->httpx<1,>=0.23.0->langsmith<0.3,>=0.1.125->langchain-community==0.3.12) (1.3.1)\n",
      "Requirement already satisfied: exceptiongroup in /usr/local/lib/python3.10/dist-packages (from anyio->httpx<1,>=0.23.0->langsmith<0.3,>=0.1.125->langchain-community==0.3.12) (1.2.2)\n",
      "Downloading langchain_community-0.3.12-py3-none-any.whl (2.5 MB)\n",
      "\u001b[2K   \u001b[90m━━━━━━━━━━━━━━━━━━━━━━━━━━━━━━━━━━━━━━━━\u001b[0m \u001b[32m2.5/2.5 MB\u001b[0m \u001b[31m28.9 MB/s\u001b[0m eta \u001b[36m0:00:00\u001b[0m\n",
      "\u001b[?25hDownloading dataclasses_json-0.6.7-py3-none-any.whl (28 kB)\n",
      "Downloading httpx_sse-0.4.0-py3-none-any.whl (7.8 kB)\n",
      "Downloading pydantic_settings-2.7.0-py3-none-any.whl (29 kB)\n",
      "Downloading marshmallow-3.23.1-py3-none-any.whl (49 kB)\n",
      "\u001b[2K   \u001b[90m━━━━━━━━━━━━━━━━━━━━━━━━━━━━━━━━━━━━━━━━\u001b[0m \u001b[32m49.5/49.5 kB\u001b[0m \u001b[31m4.2 MB/s\u001b[0m eta \u001b[36m0:00:00\u001b[0m\n",
      "\u001b[?25hDownloading python_dotenv-1.0.1-py3-none-any.whl (19 kB)\n",
      "Downloading typing_inspect-0.9.0-py3-none-any.whl (8.8 kB)\n",
      "Downloading mypy_extensions-1.0.0-py3-none-any.whl (4.7 kB)\n",
      "Installing collected packages: python-dotenv, mypy-extensions, marshmallow, httpx-sse, typing-inspect, pydantic-settings, dataclasses-json, langchain-community\n",
      "Successfully installed dataclasses-json-0.6.7 httpx-sse-0.4.0 langchain-community-0.3.12 marshmallow-3.23.1 mypy-extensions-1.0.0 pydantic-settings-2.7.0 python-dotenv-1.0.1 typing-inspect-0.9.0\n",
      "Collecting langgraph==0.2.56\n",
      "  Downloading langgraph-0.2.56-py3-none-any.whl.metadata (15 kB)\n",
      "Requirement already satisfied: langchain-core!=0.3.0,!=0.3.1,!=0.3.10,!=0.3.11,!=0.3.12,!=0.3.13,!=0.3.14,!=0.3.2,!=0.3.3,!=0.3.4,!=0.3.5,!=0.3.6,!=0.3.7,!=0.3.8,!=0.3.9,<0.4.0,>=0.2.43 in /usr/local/lib/python3.10/dist-packages (from langgraph==0.2.56) (0.3.25)\n",
      "Collecting langgraph-checkpoint<3.0.0,>=2.0.4 (from langgraph==0.2.56)\n",
      "  Downloading langgraph_checkpoint-2.0.9-py3-none-any.whl.metadata (4.6 kB)\n",
      "Collecting langgraph-sdk<0.2.0,>=0.1.42 (from langgraph==0.2.56)\n",
      "  Downloading langgraph_sdk-0.1.45-py3-none-any.whl.metadata (1.8 kB)\n",
      "Requirement already satisfied: PyYAML>=5.3 in /usr/local/lib/python3.10/dist-packages (from langchain-core!=0.3.0,!=0.3.1,!=0.3.10,!=0.3.11,!=0.3.12,!=0.3.13,!=0.3.14,!=0.3.2,!=0.3.3,!=0.3.4,!=0.3.5,!=0.3.6,!=0.3.7,!=0.3.8,!=0.3.9,<0.4.0,>=0.2.43->langgraph==0.2.56) (6.0.2)\n",
      "Requirement already satisfied: jsonpatch<2.0,>=1.33 in /usr/local/lib/python3.10/dist-packages (from langchain-core!=0.3.0,!=0.3.1,!=0.3.10,!=0.3.11,!=0.3.12,!=0.3.13,!=0.3.14,!=0.3.2,!=0.3.3,!=0.3.4,!=0.3.5,!=0.3.6,!=0.3.7,!=0.3.8,!=0.3.9,<0.4.0,>=0.2.43->langgraph==0.2.56) (1.33)\n",
      "Requirement already satisfied: langsmith<0.3,>=0.1.125 in /usr/local/lib/python3.10/dist-packages (from langchain-core!=0.3.0,!=0.3.1,!=0.3.10,!=0.3.11,!=0.3.12,!=0.3.13,!=0.3.14,!=0.3.2,!=0.3.3,!=0.3.4,!=0.3.5,!=0.3.6,!=0.3.7,!=0.3.8,!=0.3.9,<0.4.0,>=0.2.43->langgraph==0.2.56) (0.2.2)\n",
      "Requirement already satisfied: packaging<25,>=23.2 in /usr/local/lib/python3.10/dist-packages (from langchain-core!=0.3.0,!=0.3.1,!=0.3.10,!=0.3.11,!=0.3.12,!=0.3.13,!=0.3.14,!=0.3.2,!=0.3.3,!=0.3.4,!=0.3.5,!=0.3.6,!=0.3.7,!=0.3.8,!=0.3.9,<0.4.0,>=0.2.43->langgraph==0.2.56) (24.2)\n",
      "Requirement already satisfied: pydantic<3.0.0,>=2.5.2 in /usr/local/lib/python3.10/dist-packages (from langchain-core!=0.3.0,!=0.3.1,!=0.3.10,!=0.3.11,!=0.3.12,!=0.3.13,!=0.3.14,!=0.3.2,!=0.3.3,!=0.3.4,!=0.3.5,!=0.3.6,!=0.3.7,!=0.3.8,!=0.3.9,<0.4.0,>=0.2.43->langgraph==0.2.56) (2.10.3)\n",
      "Requirement already satisfied: tenacity!=8.4.0,<10.0.0,>=8.1.0 in /usr/local/lib/python3.10/dist-packages (from langchain-core!=0.3.0,!=0.3.1,!=0.3.10,!=0.3.11,!=0.3.12,!=0.3.13,!=0.3.14,!=0.3.2,!=0.3.3,!=0.3.4,!=0.3.5,!=0.3.6,!=0.3.7,!=0.3.8,!=0.3.9,<0.4.0,>=0.2.43->langgraph==0.2.56) (9.0.0)\n",
      "Requirement already satisfied: typing-extensions>=4.7 in /usr/local/lib/python3.10/dist-packages (from langchain-core!=0.3.0,!=0.3.1,!=0.3.10,!=0.3.11,!=0.3.12,!=0.3.13,!=0.3.14,!=0.3.2,!=0.3.3,!=0.3.4,!=0.3.5,!=0.3.6,!=0.3.7,!=0.3.8,!=0.3.9,<0.4.0,>=0.2.43->langgraph==0.2.56) (4.12.2)\n",
      "Requirement already satisfied: msgpack<2.0.0,>=1.1.0 in /usr/local/lib/python3.10/dist-packages (from langgraph-checkpoint<3.0.0,>=2.0.4->langgraph==0.2.56) (1.1.0)\n",
      "Requirement already satisfied: httpx>=0.25.2 in /usr/local/lib/python3.10/dist-packages (from langgraph-sdk<0.2.0,>=0.1.42->langgraph==0.2.56) (0.28.1)\n",
      "Requirement already satisfied: orjson>=3.10.1 in /usr/local/lib/python3.10/dist-packages (from langgraph-sdk<0.2.0,>=0.1.42->langgraph==0.2.56) (3.10.12)\n",
      "Requirement already satisfied: anyio in /usr/local/lib/python3.10/dist-packages (from httpx>=0.25.2->langgraph-sdk<0.2.0,>=0.1.42->langgraph==0.2.56) (3.7.1)\n",
      "Requirement already satisfied: certifi in /usr/local/lib/python3.10/dist-packages (from httpx>=0.25.2->langgraph-sdk<0.2.0,>=0.1.42->langgraph==0.2.56) (2024.8.30)\n",
      "Requirement already satisfied: httpcore==1.* in /usr/local/lib/python3.10/dist-packages (from httpx>=0.25.2->langgraph-sdk<0.2.0,>=0.1.42->langgraph==0.2.56) (1.0.7)\n",
      "Requirement already satisfied: idna in /usr/local/lib/python3.10/dist-packages (from httpx>=0.25.2->langgraph-sdk<0.2.0,>=0.1.42->langgraph==0.2.56) (3.10)\n",
      "Requirement already satisfied: h11<0.15,>=0.13 in /usr/local/lib/python3.10/dist-packages (from httpcore==1.*->httpx>=0.25.2->langgraph-sdk<0.2.0,>=0.1.42->langgraph==0.2.56) (0.14.0)\n",
      "Requirement already satisfied: jsonpointer>=1.9 in /usr/local/lib/python3.10/dist-packages (from jsonpatch<2.0,>=1.33->langchain-core!=0.3.0,!=0.3.1,!=0.3.10,!=0.3.11,!=0.3.12,!=0.3.13,!=0.3.14,!=0.3.2,!=0.3.3,!=0.3.4,!=0.3.5,!=0.3.6,!=0.3.7,!=0.3.8,!=0.3.9,<0.4.0,>=0.2.43->langgraph==0.2.56) (3.0.0)\n",
      "Requirement already satisfied: requests<3,>=2 in /usr/local/lib/python3.10/dist-packages (from langsmith<0.3,>=0.1.125->langchain-core!=0.3.0,!=0.3.1,!=0.3.10,!=0.3.11,!=0.3.12,!=0.3.13,!=0.3.14,!=0.3.2,!=0.3.3,!=0.3.4,!=0.3.5,!=0.3.6,!=0.3.7,!=0.3.8,!=0.3.9,<0.4.0,>=0.2.43->langgraph==0.2.56) (2.32.3)\n",
      "Requirement already satisfied: requests-toolbelt<2.0.0,>=1.0.0 in /usr/local/lib/python3.10/dist-packages (from langsmith<0.3,>=0.1.125->langchain-core!=0.3.0,!=0.3.1,!=0.3.10,!=0.3.11,!=0.3.12,!=0.3.13,!=0.3.14,!=0.3.2,!=0.3.3,!=0.3.4,!=0.3.5,!=0.3.6,!=0.3.7,!=0.3.8,!=0.3.9,<0.4.0,>=0.2.43->langgraph==0.2.56) (1.0.0)\n",
      "Requirement already satisfied: annotated-types>=0.6.0 in /usr/local/lib/python3.10/dist-packages (from pydantic<3.0.0,>=2.5.2->langchain-core!=0.3.0,!=0.3.1,!=0.3.10,!=0.3.11,!=0.3.12,!=0.3.13,!=0.3.14,!=0.3.2,!=0.3.3,!=0.3.4,!=0.3.5,!=0.3.6,!=0.3.7,!=0.3.8,!=0.3.9,<0.4.0,>=0.2.43->langgraph==0.2.56) (0.7.0)\n",
      "Requirement already satisfied: pydantic-core==2.27.1 in /usr/local/lib/python3.10/dist-packages (from pydantic<3.0.0,>=2.5.2->langchain-core!=0.3.0,!=0.3.1,!=0.3.10,!=0.3.11,!=0.3.12,!=0.3.13,!=0.3.14,!=0.3.2,!=0.3.3,!=0.3.4,!=0.3.5,!=0.3.6,!=0.3.7,!=0.3.8,!=0.3.9,<0.4.0,>=0.2.43->langgraph==0.2.56) (2.27.1)\n",
      "Requirement already satisfied: charset-normalizer<4,>=2 in /usr/local/lib/python3.10/dist-packages (from requests<3,>=2->langsmith<0.3,>=0.1.125->langchain-core!=0.3.0,!=0.3.1,!=0.3.10,!=0.3.11,!=0.3.12,!=0.3.13,!=0.3.14,!=0.3.2,!=0.3.3,!=0.3.4,!=0.3.5,!=0.3.6,!=0.3.7,!=0.3.8,!=0.3.9,<0.4.0,>=0.2.43->langgraph==0.2.56) (3.4.0)\n",
      "Requirement already satisfied: urllib3<3,>=1.21.1 in /usr/local/lib/python3.10/dist-packages (from requests<3,>=2->langsmith<0.3,>=0.1.125->langchain-core!=0.3.0,!=0.3.1,!=0.3.10,!=0.3.11,!=0.3.12,!=0.3.13,!=0.3.14,!=0.3.2,!=0.3.3,!=0.3.4,!=0.3.5,!=0.3.6,!=0.3.7,!=0.3.8,!=0.3.9,<0.4.0,>=0.2.43->langgraph==0.2.56) (2.2.3)\n",
      "Requirement already satisfied: sniffio>=1.1 in /usr/local/lib/python3.10/dist-packages (from anyio->httpx>=0.25.2->langgraph-sdk<0.2.0,>=0.1.42->langgraph==0.2.56) (1.3.1)\n",
      "Requirement already satisfied: exceptiongroup in /usr/local/lib/python3.10/dist-packages (from anyio->httpx>=0.25.2->langgraph-sdk<0.2.0,>=0.1.42->langgraph==0.2.56) (1.2.2)\n",
      "Downloading langgraph-0.2.56-py3-none-any.whl (126 kB)\n",
      "\u001b[2K   \u001b[90m━━━━━━━━━━━━━━━━━━━━━━━━━━━━━━━━━━━━━━━━\u001b[0m \u001b[32m126.8/126.8 kB\u001b[0m \u001b[31m3.2 MB/s\u001b[0m eta \u001b[36m0:00:00\u001b[0m\n",
      "\u001b[?25hDownloading langgraph_checkpoint-2.0.9-py3-none-any.whl (37 kB)\n",
      "Downloading langgraph_sdk-0.1.45-py3-none-any.whl (40 kB)\n",
      "\u001b[2K   \u001b[90m━━━━━━━━━━━━━━━━━━━━━━━━━━━━━━━━━━━━━━━━\u001b[0m \u001b[32m40.9/40.9 kB\u001b[0m \u001b[31m3.3 MB/s\u001b[0m eta \u001b[36m0:00:00\u001b[0m\n",
      "\u001b[?25hInstalling collected packages: langgraph-sdk, langgraph-checkpoint, langgraph\n",
      "Successfully installed langgraph-0.2.56 langgraph-checkpoint-2.0.9 langgraph-sdk-0.1.45\n",
      "Collecting langchain-chroma==0.1.4\n",
      "  Downloading langchain_chroma-0.1.4-py3-none-any.whl.metadata (1.6 kB)\n",
      "Collecting chromadb!=0.5.4,!=0.5.5,<0.6.0,>=0.4.0 (from langchain-chroma==0.1.4)\n",
      "  Downloading chromadb-0.5.23-py3-none-any.whl.metadata (6.8 kB)\n",
      "Collecting fastapi<1,>=0.95.2 (from langchain-chroma==0.1.4)\n",
      "  Downloading fastapi-0.115.6-py3-none-any.whl.metadata (27 kB)\n",
      "Requirement already satisfied: langchain-core<0.4,>=0.1.40 in /usr/local/lib/python3.10/dist-packages (from langchain-chroma==0.1.4) (0.3.25)\n",
      "Requirement already satisfied: numpy<2,>=1 in /usr/local/lib/python3.10/dist-packages (from langchain-chroma==0.1.4) (1.26.4)\n",
      "Collecting build>=1.0.3 (from chromadb!=0.5.4,!=0.5.5,<0.6.0,>=0.4.0->langchain-chroma==0.1.4)\n",
      "  Downloading build-1.2.2.post1-py3-none-any.whl.metadata (6.5 kB)\n",
      "Requirement already satisfied: pydantic>=1.9 in /usr/local/lib/python3.10/dist-packages (from chromadb!=0.5.4,!=0.5.5,<0.6.0,>=0.4.0->langchain-chroma==0.1.4) (2.10.3)\n",
      "Collecting chroma-hnswlib==0.7.6 (from chromadb!=0.5.4,!=0.5.5,<0.6.0,>=0.4.0->langchain-chroma==0.1.4)\n",
      "  Downloading chroma_hnswlib-0.7.6-cp310-cp310-manylinux_2_17_x86_64.manylinux2014_x86_64.whl.metadata (252 bytes)\n",
      "Collecting uvicorn>=0.18.3 (from uvicorn[standard]>=0.18.3->chromadb!=0.5.4,!=0.5.5,<0.6.0,>=0.4.0->langchain-chroma==0.1.4)\n",
      "  Downloading uvicorn-0.33.0-py3-none-any.whl.metadata (6.6 kB)\n",
      "Collecting posthog>=2.4.0 (from chromadb!=0.5.4,!=0.5.5,<0.6.0,>=0.4.0->langchain-chroma==0.1.4)\n",
      "  Downloading posthog-3.7.4-py2.py3-none-any.whl.metadata (2.0 kB)\n",
      "Requirement already satisfied: typing_extensions>=4.5.0 in /usr/local/lib/python3.10/dist-packages (from chromadb!=0.5.4,!=0.5.5,<0.6.0,>=0.4.0->langchain-chroma==0.1.4) (4.12.2)\n",
      "Collecting onnxruntime>=1.14.1 (from chromadb!=0.5.4,!=0.5.5,<0.6.0,>=0.4.0->langchain-chroma==0.1.4)\n",
      "  Downloading onnxruntime-1.20.1-cp310-cp310-manylinux_2_27_x86_64.manylinux_2_28_x86_64.whl.metadata (4.5 kB)\n",
      "Requirement already satisfied: opentelemetry-api>=1.2.0 in /usr/local/lib/python3.10/dist-packages (from chromadb!=0.5.4,!=0.5.5,<0.6.0,>=0.4.0->langchain-chroma==0.1.4) (1.28.2)\n",
      "Collecting opentelemetry-exporter-otlp-proto-grpc>=1.2.0 (from chromadb!=0.5.4,!=0.5.5,<0.6.0,>=0.4.0->langchain-chroma==0.1.4)\n",
      "  Downloading opentelemetry_exporter_otlp_proto_grpc-1.29.0-py3-none-any.whl.metadata (2.2 kB)\n",
      "Collecting opentelemetry-instrumentation-fastapi>=0.41b0 (from chromadb!=0.5.4,!=0.5.5,<0.6.0,>=0.4.0->langchain-chroma==0.1.4)\n",
      "  Downloading opentelemetry_instrumentation_fastapi-0.50b0-py3-none-any.whl.metadata (2.1 kB)\n",
      "Requirement already satisfied: opentelemetry-sdk>=1.2.0 in /usr/local/lib/python3.10/dist-packages (from chromadb!=0.5.4,!=0.5.5,<0.6.0,>=0.4.0->langchain-chroma==0.1.4) (1.28.2)\n",
      "Requirement already satisfied: tokenizers<=0.20.3,>=0.13.2 in /usr/local/lib/python3.10/dist-packages (from chromadb!=0.5.4,!=0.5.5,<0.6.0,>=0.4.0->langchain-chroma==0.1.4) (0.20.3)\n",
      "Collecting pypika>=0.48.9 (from chromadb!=0.5.4,!=0.5.5,<0.6.0,>=0.4.0->langchain-chroma==0.1.4)\n",
      "  Downloading PyPika-0.48.9.tar.gz (67 kB)\n",
      "\u001b[2K     \u001b[90m━━━━━━━━━━━━━━━━━━━━━━━━━━━━━━━━━━━━━━━━\u001b[0m \u001b[32m67.3/67.3 kB\u001b[0m \u001b[31m3.4 MB/s\u001b[0m eta \u001b[36m0:00:00\u001b[0m\n",
      "\u001b[?25h  Installing build dependencies ... \u001b[?25l\u001b[?25hdone\n",
      "  Getting requirements to build wheel ... \u001b[?25l\u001b[?25hdone\n",
      "  Preparing metadata (pyproject.toml) ... \u001b[?25l\u001b[?25hdone\n",
      "Requirement already satisfied: tqdm>=4.65.0 in /usr/local/lib/python3.10/dist-packages (from chromadb!=0.5.4,!=0.5.5,<0.6.0,>=0.4.0->langchain-chroma==0.1.4) (4.66.6)\n",
      "Collecting overrides>=7.3.1 (from chromadb!=0.5.4,!=0.5.5,<0.6.0,>=0.4.0->langchain-chroma==0.1.4)\n",
      "  Downloading overrides-7.7.0-py3-none-any.whl.metadata (5.8 kB)\n",
      "Requirement already satisfied: importlib-resources in /usr/local/lib/python3.10/dist-packages (from chromadb!=0.5.4,!=0.5.5,<0.6.0,>=0.4.0->langchain-chroma==0.1.4) (6.4.5)\n",
      "Requirement already satisfied: grpcio>=1.58.0 in /usr/local/lib/python3.10/dist-packages (from chromadb!=0.5.4,!=0.5.5,<0.6.0,>=0.4.0->langchain-chroma==0.1.4) (1.68.1)\n",
      "Collecting bcrypt>=4.0.1 (from chromadb!=0.5.4,!=0.5.5,<0.6.0,>=0.4.0->langchain-chroma==0.1.4)\n",
      "  Downloading bcrypt-4.2.1-cp39-abi3-manylinux_2_28_x86_64.whl.metadata (9.8 kB)\n",
      "Requirement already satisfied: typer>=0.9.0 in /usr/local/lib/python3.10/dist-packages (from chromadb!=0.5.4,!=0.5.5,<0.6.0,>=0.4.0->langchain-chroma==0.1.4) (0.15.1)\n",
      "Collecting kubernetes>=28.1.0 (from chromadb!=0.5.4,!=0.5.5,<0.6.0,>=0.4.0->langchain-chroma==0.1.4)\n",
      "  Downloading kubernetes-31.0.0-py2.py3-none-any.whl.metadata (1.5 kB)\n",
      "Requirement already satisfied: tenacity>=8.2.3 in /usr/local/lib/python3.10/dist-packages (from chromadb!=0.5.4,!=0.5.5,<0.6.0,>=0.4.0->langchain-chroma==0.1.4) (9.0.0)\n",
      "Requirement already satisfied: PyYAML>=6.0.0 in /usr/local/lib/python3.10/dist-packages (from chromadb!=0.5.4,!=0.5.5,<0.6.0,>=0.4.0->langchain-chroma==0.1.4) (6.0.2)\n",
      "Collecting mmh3>=4.0.1 (from chromadb!=0.5.4,!=0.5.5,<0.6.0,>=0.4.0->langchain-chroma==0.1.4)\n",
      "  Downloading mmh3-5.0.1-cp310-cp310-manylinux_2_5_x86_64.manylinux1_x86_64.manylinux_2_17_x86_64.manylinux2014_x86_64.whl.metadata (14 kB)\n",
      "Requirement already satisfied: orjson>=3.9.12 in /usr/local/lib/python3.10/dist-packages (from chromadb!=0.5.4,!=0.5.5,<0.6.0,>=0.4.0->langchain-chroma==0.1.4) (3.10.12)\n",
      "Requirement already satisfied: httpx>=0.27.0 in /usr/local/lib/python3.10/dist-packages (from chromadb!=0.5.4,!=0.5.5,<0.6.0,>=0.4.0->langchain-chroma==0.1.4) (0.28.1)\n",
      "Requirement already satisfied: rich>=10.11.0 in /usr/local/lib/python3.10/dist-packages (from chromadb!=0.5.4,!=0.5.5,<0.6.0,>=0.4.0->langchain-chroma==0.1.4) (13.9.4)\n",
      "Collecting starlette<0.42.0,>=0.40.0 (from fastapi<1,>=0.95.2->langchain-chroma==0.1.4)\n",
      "  Downloading starlette-0.41.3-py3-none-any.whl.metadata (6.0 kB)\n",
      "Requirement already satisfied: jsonpatch<2.0,>=1.33 in /usr/local/lib/python3.10/dist-packages (from langchain-core<0.4,>=0.1.40->langchain-chroma==0.1.4) (1.33)\n",
      "Requirement already satisfied: langsmith<0.3,>=0.1.125 in /usr/local/lib/python3.10/dist-packages (from langchain-core<0.4,>=0.1.40->langchain-chroma==0.1.4) (0.2.2)\n",
      "Requirement already satisfied: packaging<25,>=23.2 in /usr/local/lib/python3.10/dist-packages (from langchain-core<0.4,>=0.1.40->langchain-chroma==0.1.4) (24.2)\n",
      "Collecting pyproject_hooks (from build>=1.0.3->chromadb!=0.5.4,!=0.5.5,<0.6.0,>=0.4.0->langchain-chroma==0.1.4)\n",
      "  Downloading pyproject_hooks-1.2.0-py3-none-any.whl.metadata (1.3 kB)\n",
      "Requirement already satisfied: tomli>=1.1.0 in /usr/local/lib/python3.10/dist-packages (from build>=1.0.3->chromadb!=0.5.4,!=0.5.5,<0.6.0,>=0.4.0->langchain-chroma==0.1.4) (2.2.1)\n",
      "Requirement already satisfied: anyio in /usr/local/lib/python3.10/dist-packages (from httpx>=0.27.0->chromadb!=0.5.4,!=0.5.5,<0.6.0,>=0.4.0->langchain-chroma==0.1.4) (3.7.1)\n",
      "Requirement already satisfied: certifi in /usr/local/lib/python3.10/dist-packages (from httpx>=0.27.0->chromadb!=0.5.4,!=0.5.5,<0.6.0,>=0.4.0->langchain-chroma==0.1.4) (2024.8.30)\n",
      "Requirement already satisfied: httpcore==1.* in /usr/local/lib/python3.10/dist-packages (from httpx>=0.27.0->chromadb!=0.5.4,!=0.5.5,<0.6.0,>=0.4.0->langchain-chroma==0.1.4) (1.0.7)\n",
      "Requirement already satisfied: idna in /usr/local/lib/python3.10/dist-packages (from httpx>=0.27.0->chromadb!=0.5.4,!=0.5.5,<0.6.0,>=0.4.0->langchain-chroma==0.1.4) (3.10)\n",
      "Requirement already satisfied: h11<0.15,>=0.13 in /usr/local/lib/python3.10/dist-packages (from httpcore==1.*->httpx>=0.27.0->chromadb!=0.5.4,!=0.5.5,<0.6.0,>=0.4.0->langchain-chroma==0.1.4) (0.14.0)\n",
      "Requirement already satisfied: jsonpointer>=1.9 in /usr/local/lib/python3.10/dist-packages (from jsonpatch<2.0,>=1.33->langchain-core<0.4,>=0.1.40->langchain-chroma==0.1.4) (3.0.0)\n",
      "Requirement already satisfied: six>=1.9.0 in /usr/local/lib/python3.10/dist-packages (from kubernetes>=28.1.0->chromadb!=0.5.4,!=0.5.5,<0.6.0,>=0.4.0->langchain-chroma==0.1.4) (1.17.0)\n",
      "Requirement already satisfied: python-dateutil>=2.5.3 in /usr/local/lib/python3.10/dist-packages (from kubernetes>=28.1.0->chromadb!=0.5.4,!=0.5.5,<0.6.0,>=0.4.0->langchain-chroma==0.1.4) (2.8.2)\n",
      "Requirement already satisfied: google-auth>=1.0.1 in /usr/local/lib/python3.10/dist-packages (from kubernetes>=28.1.0->chromadb!=0.5.4,!=0.5.5,<0.6.0,>=0.4.0->langchain-chroma==0.1.4) (2.27.0)\n",
      "Requirement already satisfied: websocket-client!=0.40.0,!=0.41.*,!=0.42.*,>=0.32.0 in /usr/local/lib/python3.10/dist-packages (from kubernetes>=28.1.0->chromadb!=0.5.4,!=0.5.5,<0.6.0,>=0.4.0->langchain-chroma==0.1.4) (1.8.0)\n",
      "Requirement already satisfied: requests in /usr/local/lib/python3.10/dist-packages (from kubernetes>=28.1.0->chromadb!=0.5.4,!=0.5.5,<0.6.0,>=0.4.0->langchain-chroma==0.1.4) (2.32.3)\n",
      "Requirement already satisfied: requests-oauthlib in /usr/local/lib/python3.10/dist-packages (from kubernetes>=28.1.0->chromadb!=0.5.4,!=0.5.5,<0.6.0,>=0.4.0->langchain-chroma==0.1.4) (1.3.1)\n",
      "Requirement already satisfied: oauthlib>=3.2.2 in /usr/local/lib/python3.10/dist-packages (from kubernetes>=28.1.0->chromadb!=0.5.4,!=0.5.5,<0.6.0,>=0.4.0->langchain-chroma==0.1.4) (3.2.2)\n",
      "Requirement already satisfied: urllib3>=1.24.2 in /usr/local/lib/python3.10/dist-packages (from kubernetes>=28.1.0->chromadb!=0.5.4,!=0.5.5,<0.6.0,>=0.4.0->langchain-chroma==0.1.4) (2.2.3)\n",
      "Collecting durationpy>=0.7 (from kubernetes>=28.1.0->chromadb!=0.5.4,!=0.5.5,<0.6.0,>=0.4.0->langchain-chroma==0.1.4)\n",
      "  Downloading durationpy-0.9-py3-none-any.whl.metadata (338 bytes)\n",
      "Requirement already satisfied: requests-toolbelt<2.0.0,>=1.0.0 in /usr/local/lib/python3.10/dist-packages (from langsmith<0.3,>=0.1.125->langchain-core<0.4,>=0.1.40->langchain-chroma==0.1.4) (1.0.0)\n",
      "Collecting coloredlogs (from onnxruntime>=1.14.1->chromadb!=0.5.4,!=0.5.5,<0.6.0,>=0.4.0->langchain-chroma==0.1.4)\n",
      "  Downloading coloredlogs-15.0.1-py2.py3-none-any.whl.metadata (12 kB)\n",
      "Requirement already satisfied: flatbuffers in /usr/local/lib/python3.10/dist-packages (from onnxruntime>=1.14.1->chromadb!=0.5.4,!=0.5.5,<0.6.0,>=0.4.0->langchain-chroma==0.1.4) (24.3.25)\n",
      "Requirement already satisfied: protobuf in /usr/local/lib/python3.10/dist-packages (from onnxruntime>=1.14.1->chromadb!=0.5.4,!=0.5.5,<0.6.0,>=0.4.0->langchain-chroma==0.1.4) (4.25.5)\n",
      "Requirement already satisfied: sympy in /usr/local/lib/python3.10/dist-packages (from onnxruntime>=1.14.1->chromadb!=0.5.4,!=0.5.5,<0.6.0,>=0.4.0->langchain-chroma==0.1.4) (1.13.1)\n",
      "Requirement already satisfied: deprecated>=1.2.6 in /usr/local/lib/python3.10/dist-packages (from opentelemetry-api>=1.2.0->chromadb!=0.5.4,!=0.5.5,<0.6.0,>=0.4.0->langchain-chroma==0.1.4) (1.2.15)\n",
      "Requirement already satisfied: importlib-metadata<=8.5.0,>=6.0 in /usr/local/lib/python3.10/dist-packages (from opentelemetry-api>=1.2.0->chromadb!=0.5.4,!=0.5.5,<0.6.0,>=0.4.0->langchain-chroma==0.1.4) (8.5.0)\n",
      "Requirement already satisfied: googleapis-common-protos~=1.52 in /usr/local/lib/python3.10/dist-packages (from opentelemetry-exporter-otlp-proto-grpc>=1.2.0->chromadb!=0.5.4,!=0.5.5,<0.6.0,>=0.4.0->langchain-chroma==0.1.4) (1.66.0)\n",
      "Collecting opentelemetry-exporter-otlp-proto-common==1.29.0 (from opentelemetry-exporter-otlp-proto-grpc>=1.2.0->chromadb!=0.5.4,!=0.5.5,<0.6.0,>=0.4.0->langchain-chroma==0.1.4)\n",
      "  Downloading opentelemetry_exporter_otlp_proto_common-1.29.0-py3-none-any.whl.metadata (1.8 kB)\n",
      "Collecting opentelemetry-proto==1.29.0 (from opentelemetry-exporter-otlp-proto-grpc>=1.2.0->chromadb!=0.5.4,!=0.5.5,<0.6.0,>=0.4.0->langchain-chroma==0.1.4)\n",
      "  Downloading opentelemetry_proto-1.29.0-py3-none-any.whl.metadata (2.3 kB)\n",
      "Collecting opentelemetry-sdk>=1.2.0 (from chromadb!=0.5.4,!=0.5.5,<0.6.0,>=0.4.0->langchain-chroma==0.1.4)\n",
      "  Downloading opentelemetry_sdk-1.29.0-py3-none-any.whl.metadata (1.5 kB)\n",
      "Collecting protobuf (from onnxruntime>=1.14.1->chromadb!=0.5.4,!=0.5.5,<0.6.0,>=0.4.0->langchain-chroma==0.1.4)\n",
      "  Downloading protobuf-5.29.1-cp38-abi3-manylinux2014_x86_64.whl.metadata (592 bytes)\n",
      "Collecting opentelemetry-instrumentation-asgi==0.50b0 (from opentelemetry-instrumentation-fastapi>=0.41b0->chromadb!=0.5.4,!=0.5.5,<0.6.0,>=0.4.0->langchain-chroma==0.1.4)\n",
      "  Downloading opentelemetry_instrumentation_asgi-0.50b0-py3-none-any.whl.metadata (1.9 kB)\n",
      "Collecting opentelemetry-instrumentation==0.50b0 (from opentelemetry-instrumentation-fastapi>=0.41b0->chromadb!=0.5.4,!=0.5.5,<0.6.0,>=0.4.0->langchain-chroma==0.1.4)\n",
      "  Downloading opentelemetry_instrumentation-0.50b0-py3-none-any.whl.metadata (6.1 kB)\n",
      "Collecting opentelemetry-semantic-conventions==0.50b0 (from opentelemetry-instrumentation-fastapi>=0.41b0->chromadb!=0.5.4,!=0.5.5,<0.6.0,>=0.4.0->langchain-chroma==0.1.4)\n",
      "  Downloading opentelemetry_semantic_conventions-0.50b0-py3-none-any.whl.metadata (2.3 kB)\n",
      "Collecting opentelemetry-util-http==0.50b0 (from opentelemetry-instrumentation-fastapi>=0.41b0->chromadb!=0.5.4,!=0.5.5,<0.6.0,>=0.4.0->langchain-chroma==0.1.4)\n",
      "  Downloading opentelemetry_util_http-0.50b0-py3-none-any.whl.metadata (2.5 kB)\n",
      "Requirement already satisfied: wrapt<2.0.0,>=1.0.0 in /usr/local/lib/python3.10/dist-packages (from opentelemetry-instrumentation==0.50b0->opentelemetry-instrumentation-fastapi>=0.41b0->chromadb!=0.5.4,!=0.5.5,<0.6.0,>=0.4.0->langchain-chroma==0.1.4) (1.17.0)\n",
      "Collecting asgiref~=3.0 (from opentelemetry-instrumentation-asgi==0.50b0->opentelemetry-instrumentation-fastapi>=0.41b0->chromadb!=0.5.4,!=0.5.5,<0.6.0,>=0.4.0->langchain-chroma==0.1.4)\n",
      "  Downloading asgiref-3.8.1-py3-none-any.whl.metadata (9.3 kB)\n",
      "Collecting opentelemetry-api>=1.2.0 (from chromadb!=0.5.4,!=0.5.5,<0.6.0,>=0.4.0->langchain-chroma==0.1.4)\n",
      "  Downloading opentelemetry_api-1.29.0-py3-none-any.whl.metadata (1.4 kB)\n",
      "Collecting monotonic>=1.5 (from posthog>=2.4.0->chromadb!=0.5.4,!=0.5.5,<0.6.0,>=0.4.0->langchain-chroma==0.1.4)\n",
      "  Downloading monotonic-1.6-py2.py3-none-any.whl.metadata (1.5 kB)\n",
      "Collecting backoff>=1.10.0 (from posthog>=2.4.0->chromadb!=0.5.4,!=0.5.5,<0.6.0,>=0.4.0->langchain-chroma==0.1.4)\n",
      "  Downloading backoff-2.2.1-py3-none-any.whl.metadata (14 kB)\n",
      "Requirement already satisfied: annotated-types>=0.6.0 in /usr/local/lib/python3.10/dist-packages (from pydantic>=1.9->chromadb!=0.5.4,!=0.5.5,<0.6.0,>=0.4.0->langchain-chroma==0.1.4) (0.7.0)\n",
      "Requirement already satisfied: pydantic-core==2.27.1 in /usr/local/lib/python3.10/dist-packages (from pydantic>=1.9->chromadb!=0.5.4,!=0.5.5,<0.6.0,>=0.4.0->langchain-chroma==0.1.4) (2.27.1)\n",
      "Requirement already satisfied: markdown-it-py>=2.2.0 in /usr/local/lib/python3.10/dist-packages (from rich>=10.11.0->chromadb!=0.5.4,!=0.5.5,<0.6.0,>=0.4.0->langchain-chroma==0.1.4) (3.0.0)\n",
      "Requirement already satisfied: pygments<3.0.0,>=2.13.0 in /usr/local/lib/python3.10/dist-packages (from rich>=10.11.0->chromadb!=0.5.4,!=0.5.5,<0.6.0,>=0.4.0->langchain-chroma==0.1.4) (2.18.0)\n",
      "Requirement already satisfied: huggingface-hub<1.0,>=0.16.4 in /usr/local/lib/python3.10/dist-packages (from tokenizers<=0.20.3,>=0.13.2->chromadb!=0.5.4,!=0.5.5,<0.6.0,>=0.4.0->langchain-chroma==0.1.4) (0.26.5)\n",
      "Requirement already satisfied: click>=8.0.0 in /usr/local/lib/python3.10/dist-packages (from typer>=0.9.0->chromadb!=0.5.4,!=0.5.5,<0.6.0,>=0.4.0->langchain-chroma==0.1.4) (8.1.7)\n",
      "Requirement already satisfied: shellingham>=1.3.0 in /usr/local/lib/python3.10/dist-packages (from typer>=0.9.0->chromadb!=0.5.4,!=0.5.5,<0.6.0,>=0.4.0->langchain-chroma==0.1.4) (1.5.4)\n",
      "Collecting httptools>=0.6.3 (from uvicorn[standard]>=0.18.3->chromadb!=0.5.4,!=0.5.5,<0.6.0,>=0.4.0->langchain-chroma==0.1.4)\n",
      "  Downloading httptools-0.6.4-cp310-cp310-manylinux_2_5_x86_64.manylinux1_x86_64.manylinux_2_17_x86_64.manylinux2014_x86_64.whl.metadata (3.6 kB)\n",
      "Requirement already satisfied: python-dotenv>=0.13 in /usr/local/lib/python3.10/dist-packages (from uvicorn[standard]>=0.18.3->chromadb!=0.5.4,!=0.5.5,<0.6.0,>=0.4.0->langchain-chroma==0.1.4) (1.0.1)\n",
      "Collecting uvloop!=0.15.0,!=0.15.1,>=0.14.0 (from uvicorn[standard]>=0.18.3->chromadb!=0.5.4,!=0.5.5,<0.6.0,>=0.4.0->langchain-chroma==0.1.4)\n",
      "  Downloading uvloop-0.21.0-cp310-cp310-manylinux_2_17_x86_64.manylinux2014_x86_64.whl.metadata (4.9 kB)\n",
      "Collecting watchfiles>=0.13 (from uvicorn[standard]>=0.18.3->chromadb!=0.5.4,!=0.5.5,<0.6.0,>=0.4.0->langchain-chroma==0.1.4)\n",
      "  Downloading watchfiles-1.0.3-cp310-cp310-manylinux_2_17_x86_64.manylinux2014_x86_64.whl.metadata (4.9 kB)\n",
      "Requirement already satisfied: websockets>=10.4 in /usr/local/lib/python3.10/dist-packages (from uvicorn[standard]>=0.18.3->chromadb!=0.5.4,!=0.5.5,<0.6.0,>=0.4.0->langchain-chroma==0.1.4) (14.1)\n",
      "Requirement already satisfied: sniffio>=1.1 in /usr/local/lib/python3.10/dist-packages (from anyio->httpx>=0.27.0->chromadb!=0.5.4,!=0.5.5,<0.6.0,>=0.4.0->langchain-chroma==0.1.4) (1.3.1)\n",
      "Requirement already satisfied: exceptiongroup in /usr/local/lib/python3.10/dist-packages (from anyio->httpx>=0.27.0->chromadb!=0.5.4,!=0.5.5,<0.6.0,>=0.4.0->langchain-chroma==0.1.4) (1.2.2)\n",
      "Requirement already satisfied: cachetools<6.0,>=2.0.0 in /usr/local/lib/python3.10/dist-packages (from google-auth>=1.0.1->kubernetes>=28.1.0->chromadb!=0.5.4,!=0.5.5,<0.6.0,>=0.4.0->langchain-chroma==0.1.4) (5.5.0)\n",
      "Requirement already satisfied: pyasn1-modules>=0.2.1 in /usr/local/lib/python3.10/dist-packages (from google-auth>=1.0.1->kubernetes>=28.1.0->chromadb!=0.5.4,!=0.5.5,<0.6.0,>=0.4.0->langchain-chroma==0.1.4) (0.4.1)\n",
      "Requirement already satisfied: rsa<5,>=3.1.4 in /usr/local/lib/python3.10/dist-packages (from google-auth>=1.0.1->kubernetes>=28.1.0->chromadb!=0.5.4,!=0.5.5,<0.6.0,>=0.4.0->langchain-chroma==0.1.4) (4.9)\n",
      "Requirement already satisfied: filelock in /usr/local/lib/python3.10/dist-packages (from huggingface-hub<1.0,>=0.16.4->tokenizers<=0.20.3,>=0.13.2->chromadb!=0.5.4,!=0.5.5,<0.6.0,>=0.4.0->langchain-chroma==0.1.4) (3.16.1)\n",
      "Requirement already satisfied: fsspec>=2023.5.0 in /usr/local/lib/python3.10/dist-packages (from huggingface-hub<1.0,>=0.16.4->tokenizers<=0.20.3,>=0.13.2->chromadb!=0.5.4,!=0.5.5,<0.6.0,>=0.4.0->langchain-chroma==0.1.4) (2024.10.0)\n",
      "Requirement already satisfied: zipp>=3.20 in /usr/local/lib/python3.10/dist-packages (from importlib-metadata<=8.5.0,>=6.0->opentelemetry-api>=1.2.0->chromadb!=0.5.4,!=0.5.5,<0.6.0,>=0.4.0->langchain-chroma==0.1.4) (3.21.0)\n",
      "Requirement already satisfied: mdurl~=0.1 in /usr/local/lib/python3.10/dist-packages (from markdown-it-py>=2.2.0->rich>=10.11.0->chromadb!=0.5.4,!=0.5.5,<0.6.0,>=0.4.0->langchain-chroma==0.1.4) (0.1.2)\n",
      "Requirement already satisfied: charset-normalizer<4,>=2 in /usr/local/lib/python3.10/dist-packages (from requests->kubernetes>=28.1.0->chromadb!=0.5.4,!=0.5.5,<0.6.0,>=0.4.0->langchain-chroma==0.1.4) (3.4.0)\n",
      "Collecting humanfriendly>=9.1 (from coloredlogs->onnxruntime>=1.14.1->chromadb!=0.5.4,!=0.5.5,<0.6.0,>=0.4.0->langchain-chroma==0.1.4)\n",
      "  Downloading humanfriendly-10.0-py2.py3-none-any.whl.metadata (9.2 kB)\n",
      "Requirement already satisfied: mpmath<1.4,>=1.1.0 in /usr/local/lib/python3.10/dist-packages (from sympy->onnxruntime>=1.14.1->chromadb!=0.5.4,!=0.5.5,<0.6.0,>=0.4.0->langchain-chroma==0.1.4) (1.3.0)\n",
      "Requirement already satisfied: pyasn1<0.7.0,>=0.4.6 in /usr/local/lib/python3.10/dist-packages (from pyasn1-modules>=0.2.1->google-auth>=1.0.1->kubernetes>=28.1.0->chromadb!=0.5.4,!=0.5.5,<0.6.0,>=0.4.0->langchain-chroma==0.1.4) (0.6.1)\n",
      "Downloading langchain_chroma-0.1.4-py3-none-any.whl (10 kB)\n",
      "Downloading chromadb-0.5.23-py3-none-any.whl (628 kB)\n",
      "\u001b[2K   \u001b[90m━━━━━━━━━━━━━━━━━━━━━━━━━━━━━━━━━━━━━━━━\u001b[0m \u001b[32m628.3/628.3 kB\u001b[0m \u001b[31m14.4 MB/s\u001b[0m eta \u001b[36m0:00:00\u001b[0m\n",
      "\u001b[?25hDownloading chroma_hnswlib-0.7.6-cp310-cp310-manylinux_2_17_x86_64.manylinux2014_x86_64.whl (2.4 MB)\n",
      "\u001b[2K   \u001b[90m━━━━━━━━━━━━━━━━━━━━━━━━━━━━━━━━━━━━━━━━\u001b[0m \u001b[32m2.4/2.4 MB\u001b[0m \u001b[31m53.9 MB/s\u001b[0m eta \u001b[36m0:00:00\u001b[0m\n",
      "\u001b[?25hDownloading fastapi-0.115.6-py3-none-any.whl (94 kB)\n",
      "\u001b[2K   \u001b[90m━━━━━━━━━━━━━━━━━━━━━━━━━━━━━━━━━━━━━━━━\u001b[0m \u001b[32m94.8/94.8 kB\u001b[0m \u001b[31m8.7 MB/s\u001b[0m eta \u001b[36m0:00:00\u001b[0m\n",
      "\u001b[?25hDownloading bcrypt-4.2.1-cp39-abi3-manylinux_2_28_x86_64.whl (278 kB)\n",
      "\u001b[2K   \u001b[90m━━━━━━━━━━━━━━━━━━━━━━━━━━━━━━━━━━━━━━━━\u001b[0m \u001b[32m278.6/278.6 kB\u001b[0m \u001b[31m18.5 MB/s\u001b[0m eta \u001b[36m0:00:00\u001b[0m\n",
      "\u001b[?25hDownloading build-1.2.2.post1-py3-none-any.whl (22 kB)\n",
      "Downloading kubernetes-31.0.0-py2.py3-none-any.whl (1.9 MB)\n",
      "\u001b[2K   \u001b[90m━━━━━━━━━━━━━━━━━━━━━━━━━━━━━━━━━━━━━━━━\u001b[0m \u001b[32m1.9/1.9 MB\u001b[0m \u001b[31m49.6 MB/s\u001b[0m eta \u001b[36m0:00:00\u001b[0m\n",
      "\u001b[?25hDownloading mmh3-5.0.1-cp310-cp310-manylinux_2_5_x86_64.manylinux1_x86_64.manylinux_2_17_x86_64.manylinux2014_x86_64.whl (93 kB)\n",
      "\u001b[2K   \u001b[90m━━━━━━━━━━━━━━━━━━━━━━━━━━━━━━━━━━━━━━━━\u001b[0m \u001b[32m93.2/93.2 kB\u001b[0m \u001b[31m7.1 MB/s\u001b[0m eta \u001b[36m0:00:00\u001b[0m\n",
      "\u001b[?25hDownloading onnxruntime-1.20.1-cp310-cp310-manylinux_2_27_x86_64.manylinux_2_28_x86_64.whl (13.3 MB)\n",
      "\u001b[2K   \u001b[90m━━━━━━━━━━━━━━━━━━━━━━━━━━━━━━━━━━━━━━━━\u001b[0m \u001b[32m13.3/13.3 MB\u001b[0m \u001b[31m58.3 MB/s\u001b[0m eta \u001b[36m0:00:00\u001b[0m\n",
      "\u001b[?25hDownloading opentelemetry_exporter_otlp_proto_grpc-1.29.0-py3-none-any.whl (18 kB)\n",
      "Downloading opentelemetry_exporter_otlp_proto_common-1.29.0-py3-none-any.whl (18 kB)\n",
      "Downloading opentelemetry_proto-1.29.0-py3-none-any.whl (55 kB)\n",
      "\u001b[2K   \u001b[90m━━━━━━━━━━━━━━━━━━━━━━━━━━━━━━━━━━━━━━━━\u001b[0m \u001b[32m55.8/55.8 kB\u001b[0m \u001b[31m4.2 MB/s\u001b[0m eta \u001b[36m0:00:00\u001b[0m\n",
      "\u001b[?25hDownloading opentelemetry_instrumentation_fastapi-0.50b0-py3-none-any.whl (12 kB)\n",
      "Downloading opentelemetry_instrumentation-0.50b0-py3-none-any.whl (30 kB)\n",
      "Downloading opentelemetry_instrumentation_asgi-0.50b0-py3-none-any.whl (16 kB)\n",
      "Downloading opentelemetry_semantic_conventions-0.50b0-py3-none-any.whl (166 kB)\n",
      "\u001b[2K   \u001b[90m━━━━━━━━━━━━━━━━━━━━━━━━━━━━━━━━━━━━━━━━\u001b[0m \u001b[32m166.6/166.6 kB\u001b[0m \u001b[31m13.4 MB/s\u001b[0m eta \u001b[36m0:00:00\u001b[0m\n",
      "\u001b[?25hDownloading opentelemetry_api-1.29.0-py3-none-any.whl (64 kB)\n",
      "\u001b[2K   \u001b[90m━━━━━━━━━━━━━━━━━━━━━━━━━━━━━━━━━━━━━━━━\u001b[0m \u001b[32m64.3/64.3 kB\u001b[0m \u001b[31m5.2 MB/s\u001b[0m eta \u001b[36m0:00:00\u001b[0m\n",
      "\u001b[?25hDownloading opentelemetry_util_http-0.50b0-py3-none-any.whl (6.9 kB)\n",
      "Downloading opentelemetry_sdk-1.29.0-py3-none-any.whl (118 kB)\n",
      "\u001b[2K   \u001b[90m━━━━━━━━━━━━━━━━━━━━━━━━━━━━━━━━━━━━━━━━\u001b[0m \u001b[32m118.1/118.1 kB\u001b[0m \u001b[31m9.4 MB/s\u001b[0m eta \u001b[36m0:00:00\u001b[0m\n",
      "\u001b[?25hDownloading overrides-7.7.0-py3-none-any.whl (17 kB)\n",
      "Downloading posthog-3.7.4-py2.py3-none-any.whl (54 kB)\n",
      "\u001b[2K   \u001b[90m━━━━━━━━━━━━━━━━━━━━━━━━━━━━━━━━━━━━━━━━\u001b[0m \u001b[32m54.8/54.8 kB\u001b[0m \u001b[31m4.4 MB/s\u001b[0m eta \u001b[36m0:00:00\u001b[0m\n",
      "\u001b[?25hDownloading starlette-0.41.3-py3-none-any.whl (73 kB)\n",
      "\u001b[2K   \u001b[90m━━━━━━━━━━━━━━━━━━━━━━━━━━━━━━━━━━━━━━━━\u001b[0m \u001b[32m73.2/73.2 kB\u001b[0m \u001b[31m5.5 MB/s\u001b[0m eta \u001b[36m0:00:00\u001b[0m\n",
      "\u001b[?25hDownloading uvicorn-0.33.0-py3-none-any.whl (62 kB)\n",
      "\u001b[2K   \u001b[90m━━━━━━━━━━━━━━━━━━━━━━━━━━━━━━━━━━━━━━━━\u001b[0m \u001b[32m62.3/62.3 kB\u001b[0m \u001b[31m4.7 MB/s\u001b[0m eta \u001b[36m0:00:00\u001b[0m\n",
      "\u001b[?25hDownloading backoff-2.2.1-py3-none-any.whl (15 kB)\n",
      "Downloading durationpy-0.9-py3-none-any.whl (3.5 kB)\n",
      "Downloading httptools-0.6.4-cp310-cp310-manylinux_2_5_x86_64.manylinux1_x86_64.manylinux_2_17_x86_64.manylinux2014_x86_64.whl (442 kB)\n",
      "\u001b[2K   \u001b[90m━━━━━━━━━━━━━━━━━━━━━━━━━━━━━━━━━━━━━━━━\u001b[0m \u001b[32m442.1/442.1 kB\u001b[0m \u001b[31m30.2 MB/s\u001b[0m eta \u001b[36m0:00:00\u001b[0m\n",
      "\u001b[?25hDownloading monotonic-1.6-py2.py3-none-any.whl (8.2 kB)\n",
      "Downloading protobuf-5.29.1-cp38-abi3-manylinux2014_x86_64.whl (319 kB)\n",
      "\u001b[2K   \u001b[90m━━━━━━━━━━━━━━━━━━━━━━━━━━━━━━━━━━━━━━━━\u001b[0m \u001b[32m319.7/319.7 kB\u001b[0m \u001b[31m21.6 MB/s\u001b[0m eta \u001b[36m0:00:00\u001b[0m\n",
      "\u001b[?25hDownloading uvloop-0.21.0-cp310-cp310-manylinux_2_17_x86_64.manylinux2014_x86_64.whl (3.8 MB)\n",
      "\u001b[2K   \u001b[90m━━━━━━━━━━━━━━━━━━━━━━━━━━━━━━━━━━━━━━━━\u001b[0m \u001b[32m3.8/3.8 MB\u001b[0m \u001b[31m69.9 MB/s\u001b[0m eta \u001b[36m0:00:00\u001b[0m\n",
      "\u001b[?25hDownloading watchfiles-1.0.3-cp310-cp310-manylinux_2_17_x86_64.manylinux2014_x86_64.whl (443 kB)\n",
      "\u001b[2K   \u001b[90m━━━━━━━━━━━━━━━━━━━━━━━━━━━━━━━━━━━━━━━━\u001b[0m \u001b[32m443.8/443.8 kB\u001b[0m \u001b[31m30.7 MB/s\u001b[0m eta \u001b[36m0:00:00\u001b[0m\n",
      "\u001b[?25hDownloading coloredlogs-15.0.1-py2.py3-none-any.whl (46 kB)\n",
      "\u001b[2K   \u001b[90m━━━━━━━━━━━━━━━━━━━━━━━━━━━━━━━━━━━━━━━━\u001b[0m \u001b[32m46.0/46.0 kB\u001b[0m \u001b[31m3.0 MB/s\u001b[0m eta \u001b[36m0:00:00\u001b[0m\n",
      "\u001b[?25hDownloading pyproject_hooks-1.2.0-py3-none-any.whl (10 kB)\n",
      "Downloading asgiref-3.8.1-py3-none-any.whl (23 kB)\n",
      "Downloading humanfriendly-10.0-py2.py3-none-any.whl (86 kB)\n",
      "\u001b[2K   \u001b[90m━━━━━━━━━━━━━━━━━━━━━━━━━━━━━━━━━━━━━━━━\u001b[0m \u001b[32m86.8/86.8 kB\u001b[0m \u001b[31m6.7 MB/s\u001b[0m eta \u001b[36m0:00:00\u001b[0m\n",
      "\u001b[?25hBuilding wheels for collected packages: pypika\n",
      "  Building wheel for pypika (pyproject.toml) ... \u001b[?25l\u001b[?25hdone\n",
      "  Created wheel for pypika: filename=PyPika-0.48.9-py2.py3-none-any.whl size=53725 sha256=b73fdeecad5b20d5fcf7b77fbaf50c44f8d0b838ab82e8af8e6eb61de31d8a86\n",
      "  Stored in directory: /root/.cache/pip/wheels/e1/26/51/d0bffb3d2fd82256676d7ad3003faea3bd6dddc9577af665f4\n",
      "Successfully built pypika\n",
      "Installing collected packages: pypika, monotonic, durationpy, uvloop, uvicorn, pyproject_hooks, protobuf, overrides, opentelemetry-util-http, mmh3, humanfriendly, httptools, chroma-hnswlib, bcrypt, backoff, asgiref, watchfiles, starlette, posthog, opentelemetry-proto, opentelemetry-api, coloredlogs, build, opentelemetry-semantic-conventions, opentelemetry-exporter-otlp-proto-common, onnxruntime, kubernetes, fastapi, opentelemetry-sdk, opentelemetry-instrumentation, opentelemetry-instrumentation-asgi, opentelemetry-exporter-otlp-proto-grpc, opentelemetry-instrumentation-fastapi, chromadb, langchain-chroma\n",
      "  Attempting uninstall: protobuf\n",
      "    Found existing installation: protobuf 4.25.5\n",
      "    Uninstalling protobuf-4.25.5:\n",
      "      Successfully uninstalled protobuf-4.25.5\n",
      "  Attempting uninstall: opentelemetry-api\n",
      "    Found existing installation: opentelemetry-api 1.28.2\n",
      "    Uninstalling opentelemetry-api-1.28.2:\n",
      "      Successfully uninstalled opentelemetry-api-1.28.2\n",
      "  Attempting uninstall: opentelemetry-semantic-conventions\n",
      "    Found existing installation: opentelemetry-semantic-conventions 0.49b2\n",
      "    Uninstalling opentelemetry-semantic-conventions-0.49b2:\n",
      "      Successfully uninstalled opentelemetry-semantic-conventions-0.49b2\n",
      "  Attempting uninstall: opentelemetry-sdk\n",
      "    Found existing installation: opentelemetry-sdk 1.28.2\n",
      "    Uninstalling opentelemetry-sdk-1.28.2:\n",
      "      Successfully uninstalled opentelemetry-sdk-1.28.2\n",
      "\u001b[31mERROR: pip's dependency resolver does not currently take into account all the packages that are installed. This behaviour is the source of the following dependency conflicts.\n",
      "tensorflow 2.17.1 requires protobuf!=4.21.0,!=4.21.1,!=4.21.2,!=4.21.3,!=4.21.4,!=4.21.5,<5.0.0dev,>=3.20.3, but you have protobuf 5.29.1 which is incompatible.\n",
      "tensorflow-metadata 1.13.1 requires protobuf<5,>=3.20.3, but you have protobuf 5.29.1 which is incompatible.\u001b[0m\u001b[31m\n",
      "\u001b[0mSuccessfully installed asgiref-3.8.1 backoff-2.2.1 bcrypt-4.2.1 build-1.2.2.post1 chroma-hnswlib-0.7.6 chromadb-0.5.23 coloredlogs-15.0.1 durationpy-0.9 fastapi-0.115.6 httptools-0.6.4 humanfriendly-10.0 kubernetes-31.0.0 langchain-chroma-0.1.4 mmh3-5.0.1 monotonic-1.6 onnxruntime-1.20.1 opentelemetry-api-1.29.0 opentelemetry-exporter-otlp-proto-common-1.29.0 opentelemetry-exporter-otlp-proto-grpc-1.29.0 opentelemetry-instrumentation-0.50b0 opentelemetry-instrumentation-asgi-0.50b0 opentelemetry-instrumentation-fastapi-0.50b0 opentelemetry-proto-1.29.0 opentelemetry-sdk-1.29.0 opentelemetry-semantic-conventions-0.50b0 opentelemetry-util-http-0.50b0 overrides-7.7.0 posthog-3.7.4 protobuf-5.29.1 pypika-0.48.9 pyproject_hooks-1.2.0 starlette-0.41.3 uvicorn-0.33.0 uvloop-0.21.0 watchfiles-1.0.3\n",
      "Requirement already satisfied: beautifulsoup4 in /usr/local/lib/python3.10/dist-packages (4.12.3)\n",
      "Requirement already satisfied: soupsieve>1.2 in /usr/local/lib/python3.10/dist-packages (from beautifulsoup4) (2.6)\n"
     ]
    }
   ],
   "source": [
    "!pip install langchain==0.3.12\n",
    "!pip install langchain-openai==0.2.12\n",
    "!pip install langchain-community==0.3.12\n",
    "!pip install langgraph==0.2.56\n",
    "!pip install langchain-chroma==0.1.4\n",
    "!pip install beautifulsoup4"
   ]
  },
  {
   "cell_type": "markdown",
   "metadata": {
    "id": "H9c37cLnSrbg"
   },
   "source": [
    "## Enter Open AI API Key"
   ]
  },
  {
   "cell_type": "code",
   "execution_count": null,
   "metadata": {
    "colab": {
     "base_uri": "https://localhost:8080/"
    },
    "id": "cv3JzCEx_PAd",
    "outputId": "c646741e-7d6e-4cd3-cc8b-87f85ac3bfe0"
   },
   "outputs": [
    {
     "name": "stdout",
     "output_type": "stream",
     "text": [
      "Enter Open AI API Key: ··········\n"
     ]
    }
   ],
   "source": [
    "from getpass import getpass\n",
    "\n",
    "OPENAI_KEY = getpass('Enter Open AI API Key: ')"
   ]
  },
  {
   "cell_type": "markdown",
   "metadata": {
    "id": "ucWRRI3QztL2"
   },
   "source": [
    "## Enter Tavily Search API Key\n",
    "\n",
    "Get a free API key from [here](https://tavily.com/#api)"
   ]
  },
  {
   "cell_type": "code",
   "execution_count": null,
   "metadata": {
    "colab": {
     "base_uri": "https://localhost:8080/"
    },
    "id": "mK-1WLzOrJdb",
    "outputId": "04c15f26-5c46-4c4f-91da-b534a9a45152"
   },
   "outputs": [
    {
     "name": "stdout",
     "output_type": "stream",
     "text": [
      "Enter Tavily Search API Key: ··········\n"
     ]
    }
   ],
   "source": [
    "TAVILY_API_KEY = getpass('Enter Tavily Search API Key: ')"
   ]
  },
  {
   "cell_type": "markdown",
   "metadata": {
    "id": "1T0s0um5Svfa"
   },
   "source": [
    "## Setup Environment Variables"
   ]
  },
  {
   "cell_type": "code",
   "execution_count": null,
   "metadata": {
    "id": "x1YSuHNF_lbh"
   },
   "outputs": [],
   "source": [
    "import os\n",
    "\n",
    "os.environ['OPENAI_API_KEY'] = OPENAI_KEY\n",
    "os.environ['TAVILY_API_KEY'] = TAVILY_API_KEY"
   ]
  },
  {
   "cell_type": "markdown",
   "metadata": {
    "id": "eXI8uXDtcsCD"
   },
   "source": [
    "## Build a Search Index for Wikipedia Data\n",
    "\n",
    "We will build a vector database for retrieval and search by taking a subset of documents from wikipedia, similar to our project from previous modules"
   ]
  },
  {
   "cell_type": "markdown",
   "metadata": {
    "id": "M8nHAP7XOGOj"
   },
   "source": [
    "### Open AI Embedding Models\n",
    "\n",
    "LangChain enables us to access Open AI embedding models which include the newest models: a smaller and highly efficient `text-embedding-3-small` model, and a larger and more powerful `text-embedding-3-large` model."
   ]
  },
  {
   "cell_type": "code",
   "execution_count": null,
   "metadata": {
    "id": "jzrIVI2NAHC1"
   },
   "outputs": [],
   "source": [
    "from langchain_openai import OpenAIEmbeddings\n",
    "\n",
    "# details here: https://openai.com/blog/new-embedding-models-and-api-updates\n",
    "openai_embed_model = OpenAIEmbeddings(model='text-embedding-3-small')"
   ]
  },
  {
   "cell_type": "markdown",
   "metadata": {
    "id": "RA_-hzHbFeSP"
   },
   "source": [
    "### Get the wikipedia data"
   ]
  },
  {
   "cell_type": "code",
   "execution_count": null,
   "metadata": {
    "colab": {
     "base_uri": "https://localhost:8080/"
    },
    "id": "RZFMYH-yFhWn",
    "outputId": "2344e9e0-981f-40a7-ffe9-b5b26513e94b"
   },
   "outputs": [
    {
     "name": "stdout",
     "output_type": "stream",
     "text": [
      "Downloading...\n",
      "From (original): https://drive.google.com/uc?id=1oWBnoxBZ1Mpeond8XDUSO6J9oAjcRDyW\n",
      "From (redirected): https://drive.google.com/uc?id=1oWBnoxBZ1Mpeond8XDUSO6J9oAjcRDyW&confirm=t&uuid=dc9495dc-18d5-4256-8ba8-2a65e60c3f17\n",
      "To: /content/simplewiki-2020-11-01.jsonl.gz\n",
      "100% 50.2M/50.2M [00:00<00:00, 53.3MB/s]\n"
     ]
    }
   ],
   "source": [
    "# if you can't download using the following code\n",
    "# go to https://drive.google.com/file/d/1oWBnoxBZ1Mpeond8XDUSO6J9oAjcRDyW download it\n",
    "# manually upload it on colab\n",
    "!gdown 1oWBnoxBZ1Mpeond8XDUSO6J9oAjcRDyW"
   ]
  },
  {
   "cell_type": "markdown",
   "metadata": {
    "id": "4_ReSz-3PVwW"
   },
   "source": [
    "### Load and Chunk Documents"
   ]
  },
  {
   "cell_type": "code",
   "execution_count": null,
   "metadata": {
    "id": "WwLEBC4nF9ly"
   },
   "outputs": [],
   "source": [
    "import gzip\n",
    "import json\n",
    "from langchain.docstore.document import Document\n",
    "from langchain.text_splitter import RecursiveCharacterTextSplitter\n",
    "\n",
    "wikipedia_filepath = 'simplewiki-2020-11-01.jsonl.gz'\n",
    "\n",
    "docs = []\n",
    "with gzip.open(wikipedia_filepath, 'rt', encoding='utf8') as fIn:\n",
    "    for line in fIn:\n",
    "        data = json.loads(line.strip())\n",
    "        #Add all paragraphs\n",
    "        #passages.extend(data['paragraphs'])\n",
    "        #Only add the first paragraph\n",
    "        docs.append({\n",
    "                        'metadata': {\n",
    "                                        'title': data.get('title'),\n",
    "                                        'article_id': data.get('id')\n",
    "                        },\n",
    "                        'data': ' '.join(data.get('paragraphs')[0:3]) # restrict data to first 3 paragraphs to run later modules faster\n",
    "        })\n",
    "\n",
    "# We subset our data so we only use a subset of wikipedia documents to run things faster\n",
    "docs = [doc for doc in docs for x in ['india']\n",
    "              if x in doc['data'].lower().split()]\n",
    "# Create docs\n",
    "docs = [Document(page_content=doc['data'],\n",
    "                 metadata=doc['metadata']) for doc in docs]\n",
    "# Chunk docs\n",
    "splitter = RecursiveCharacterTextSplitter(chunk_size=2000, chunk_overlap=300)\n",
    "chunked_docs = splitter.split_documents(docs)"
   ]
  },
  {
   "cell_type": "code",
   "execution_count": null,
   "metadata": {
    "colab": {
     "base_uri": "https://localhost:8080/"
    },
    "id": "G4E1zYFSG7J-",
    "outputId": "e5296bbd-6912-4d91-d0b1-bd1a8688272a"
   },
   "outputs": [
    {
     "data": {
      "text/plain": [
       "1322"
      ]
     },
     "execution_count": 8,
     "metadata": {},
     "output_type": "execute_result"
    }
   ],
   "source": [
    "len(chunked_docs)"
   ]
  },
  {
   "cell_type": "code",
   "execution_count": null,
   "metadata": {
    "colab": {
     "base_uri": "https://localhost:8080/"
    },
    "id": "aSbhERAyGw0v",
    "outputId": "25c08416-9ab9-4d20-b4ca-22aea14a4b01"
   },
   "outputs": [
    {
     "data": {
      "text/plain": [
       "[Document(metadata={'title': 'Basil', 'article_id': '73985'}, page_content='Basil (\"Ocimum basilicum\") ( or ) is a plant of the Family Lamiaceae. It is also known as Sweet Basil or Tulsi. It is a tender low-growing herb that is grown as a perennial in warm, tropical climates. Basil is originally native to India and other tropical regions of Asia. It has been cultivated there for more than 5,000 years. It is prominently featured in many cuisines throughout the world. Some of them are Italian, Thai, Vietnamese and Laotian cuisines. It grows to between 30–60\\xa0cm tall. It has light green, silky leaves 3–5\\xa0cm long and 1–3\\xa0cm broad. The leaves are opposite each other. The flowers are quite big. They are white in color and arranged as a spike. The plant tastes somewhat like anise, with a strong, pungent, sweet smell. Basil is very sensitive to cold. It is best grown in hot, dry conditions. While most common varieties are treated as annuals, some are perennial, including African Blue and Holy Thai basil. The word \"basil\" comes from the Greek βασιλεύς (\"basileus\"), meaning \"royal\". This is because it is believed to have grown above the spot where St. Constantine and Helen discovered the Holy Cross. The \"Oxford English Dictionary\" quotes speculations that basil may have been used in \"some royal unguent, bath, or medicine\". Basil is still considered the \"king of herbs\" by many cookery authors. An alternative etymology has \"basil\" coming from the Latin word \"basilicus\", meaning dragon and being the root for basilisk, but this likely was a linguistic reworking of the word as brought from Greece.'),\n",
       " Document(metadata={'title': 'Roerich’s Pact', 'article_id': '259745'}, page_content='The Roerich Pact is a treaty on Protection of Artistic and Scientific Institutions and Historic Monuments, signed by the representatives of 21 states in the Oval Office of the White House on 15 April 1935. As of January 1, 1990, the Roerich Pact had been ratified by ten nations: Brazil, Chile, Colombia, Cuba, the Dominican Republic, El Salvador, Guatemala, Mexico, the United States, and Venezuela. It went into effect on 26 August 1935. The Government of India approved the Treaty in 1948, but did not take any further formal action. The Roerich Pact is also known as \"Pax Cultura\" (\"Cultural Peace\" or \"Peace through Culture\"). The most important part of the Roerich Pact is the legal recognition that the protection of culture is always more important than any military necessity. Russian painter and philosopher Nicholas Roerich (1874-1947) started the modern movement for the defense of cultural objects, in order for a “Peace of Civilizations”. Nicholas Roerich was born on October 9, 1874, in St. Petersburg. He became a successful painter. One of his paintings was purchased by Nicholas II of Russia.'),\n",
       " Document(metadata={'title': 'Nico Hülkenberg', 'article_id': '260252'}, page_content='Nicolas \"Nico\" Hülkenberg (born 19 August 1987 in Emmerich am Rhein, North Rhine-Westphalia) is a German racing driver. He races in Formula One for Williams. He won the 2009 GP2 Series championship. He is a past champion in Formula Three Euroseries and the A1 Grand Prix, as part of A1 Team Germany. He is one of three drivers to win the GP2 series championship in his first season. The other two are Lewis Hamilton and Nico Rosberg. Hülkenberg earned his first pole position at the Brazilian Grand Prix. His lap time was over one second faster than second place Sebastian Vettel on a drying circuit. It was the first pole for Williams in 100 races, since the European Grand Prix. After the Abu Dhabi GP, it was announced that Hülkenberg would not race for Williams in 2011. For the season, he is the third driver for the Force India team.')]"
      ]
     },
     "execution_count": 9,
     "metadata": {},
     "output_type": "execute_result"
    }
   ],
   "source": [
    "chunked_docs[:3]"
   ]
  },
  {
   "cell_type": "markdown",
   "metadata": {
    "id": "-PnV9lAXZw9a"
   },
   "source": [
    "### Create a Vector DB and persist on disk\n",
    "\n",
    "Here we initialize a connection to a Chroma vector DB client, and also we want to save to disk, so we simply initialize the Chroma client and pass the directory where we want the data to be saved to."
   ]
  },
  {
   "cell_type": "code",
   "execution_count": null,
   "metadata": {
    "id": "kRYfcrsHUxyZ"
   },
   "outputs": [],
   "source": [
    "from langchain_chroma import Chroma\n",
    "\n",
    "# create vector DB of docs and embeddings - takes < 30s on Colab\n",
    "chroma_db = Chroma.from_documents(documents=chunked_docs,\n",
    "                                  collection_name='rag_wikipedia_db',\n",
    "                                  embedding=openai_embed_model,\n",
    "                                  # need to set the distance function to cosine else it uses euclidean by default\n",
    "                                  # check https://docs.trychroma.com/guides#changing-the-distance-function\n",
    "                                  collection_metadata={\"hnsw:space\": \"cosine\"},\n",
    "                                  persist_directory=\"./wikipedia_db\")"
   ]
  },
  {
   "cell_type": "markdown",
   "metadata": {
    "id": "bprZC4S6TLfj"
   },
   "source": [
    "### Setup a Vector Database Retriever\n",
    "\n",
    "Here we use the following retrieval strategy:\n",
    "\n",
    "- Similarity with Threshold Retrieval\n"
   ]
  },
  {
   "cell_type": "markdown",
   "metadata": {
    "id": "8foBD2xmCDYc"
   },
   "source": [
    "### Similarity with Threshold Retrieval\n",
    "\n",
    "We use cosine similarity here and retrieve the top 3 similar documents based on the user input query and also introduce a cutoff to not return any documents which are below a certain similarity threshold"
   ]
  },
  {
   "cell_type": "code",
   "execution_count": null,
   "metadata": {
    "id": "6ROSNwqeCMRS"
   },
   "outputs": [],
   "source": [
    "similarity_threshold_retriever = chroma_db.as_retriever(search_type=\"similarity_score_threshold\",\n",
    "                                                        search_kwargs={\"k\": 3,\n",
    "                                                                       \"score_threshold\": 0.3})"
   ]
  },
  {
   "cell_type": "code",
   "execution_count": null,
   "metadata": {
    "colab": {
     "base_uri": "https://localhost:8080/"
    },
    "id": "Nv93k_QpCZv7",
    "outputId": "4a633a9b-0d34-4726-eed5-c5428b7ceeb7"
   },
   "outputs": [
    {
     "data": {
      "text/plain": [
       "[Document(metadata={'article_id': '5117', 'title': 'New Delhi'}, page_content='New Delhi () is the capital of India and a union territory of the megacity of Delhi. It has a very old history and is home to several monuments where the city is expensive to live in. In traditional Indian geography it falls under the North Indian zone. The city has an area of about 42.7\\xa0km. New Delhi has a population of about 9.4 Million people.'),\n",
       " Document(metadata={'article_id': '5114', 'title': 'Mumbai'}, page_content=\"Mumbai (previously known as Bombay until 1996) is a natural harbor on the west coast of India, and is the capital city of Maharashtra state. It is India's largest city, and one of the world's most populous cities. It is the financial capital of India. The city is the second most-populous in the world. It has approximately 13 million people. Along with the neighboring cities of Navi Mumbai and Thane, it forms the world's 4th largest urban agglomeration. They have around 19.1 million people. The seven islands that form Bombay were home to fishing colonies. The islands were ruled by successive kingdoms and indigenous empires before Portuguese settlers took it. Then, it went to the British East India Company. During the mid-18th century, Bombay became a major trading town. It became a strong place for the Indian independence movement during the early 20th century. When India became independent in 1947, the city was put into Bombay State. In 1960, following the Samyukta Maharashtra movement, a new state of Maharashtra was created with Bombay as the capital. It was renamed Mumbai in 1996. Mumbai generates more than 6% of India's GDP. It accounts for 25% of industrial output, 40% of sea trade, and 70% of capital to India's economy. The Reserve Bank of India, the Bombay Stock Exchange, the National Stock Exchange of India and many Indian companies and multinational corporations are in the city. It also has the Hindi film and television industry, known as Bollywood.\"),\n",
       " Document(metadata={'article_id': '22215', 'title': 'States and union territories of India'}, page_content='The Republic of India is divided into twenty-eight States,and eight union territories including the National Capital Territory.')]"
      ]
     },
     "execution_count": 12,
     "metadata": {},
     "output_type": "execute_result"
    }
   ],
   "source": [
    "query = \"what is the capital of India?\"\n",
    "top3_docs = similarity_threshold_retriever.invoke(query)\n",
    "top3_docs"
   ]
  },
  {
   "cell_type": "code",
   "execution_count": null,
   "metadata": {
    "colab": {
     "base_uri": "https://localhost:8080/"
    },
    "id": "obsI3yKOO0KL",
    "outputId": "e6c2073f-b5ba-4fa1-cc8f-4c5b88f354dc"
   },
   "outputs": [
    {
     "name": "stderr",
     "output_type": "stream",
     "text": [
      "WARNING:langchain_core.vectorstores.base:No relevant docs were retrieved using the relevance score threshold 0.3\n"
     ]
    },
    {
     "data": {
      "text/plain": [
       "[]"
      ]
     },
     "execution_count": 13,
     "metadata": {},
     "output_type": "execute_result"
    }
   ],
   "source": [
    "query = \"what is langgraph?\"\n",
    "top3_docs = similarity_threshold_retriever.invoke(query)\n",
    "top3_docs"
   ]
  },
  {
   "cell_type": "markdown",
   "metadata": {
    "id": "RXeilff0c9X5"
   },
   "source": [
    "## Create a Query Retrieval Grader\n",
    "\n",
    "Here we will use an LLM itself to grade if any retrieved document is relevant to the given question - Answer will be either `yes` or `no`"
   ]
  },
  {
   "cell_type": "code",
   "execution_count": null,
   "metadata": {
    "id": "ubFlSqlMSU99"
   },
   "outputs": [],
   "source": [
    "from langchain_core.prompts import ChatPromptTemplate\n",
    "from pydantic import BaseModel, Field\n",
    "from langchain_openai import ChatOpenAI\n",
    "\n",
    "\n",
    "# Data model for LLM output format\n",
    "class GradeDocuments(BaseModel):\n",
    "    \"\"\"Binary score for relevance check on retrieved documents.\"\"\"\n",
    "    binary_score: str = Field(\n",
    "        description=\"Documents are relevant to the question, 'yes' or 'no'\"\n",
    "    )\n",
    "\n",
    "\n",
    "# LLM for grading\n",
    "llm = ChatOpenAI(model=\"gpt-4o\", temperature=0)\n",
    "structured_llm_grader = llm.with_structured_output(GradeDocuments)\n",
    "\n",
    "# Prompt template for grading\n",
    "SYS_PROMPT = \"\"\"You are an expert grader assessing relevance of a retrieved document to a user question.\n",
    "                Follow these instructions for grading:\n",
    "                  - If the document contains keyword(s) or semantic meaning related to the question, grade it as relevant.\n",
    "                  - Your grade should be either 'yes' or 'no' to indicate whether the document is relevant to the question or not.\n",
    "             \"\"\"\n",
    "grade_prompt = ChatPromptTemplate.from_messages(\n",
    "    [\n",
    "        (\"system\", SYS_PROMPT),\n",
    "        (\"human\", \"\"\"Retrieved document:\n",
    "                     {document}\n",
    "\n",
    "                     User question:\n",
    "                     {question}\n",
    "                  \"\"\"),\n",
    "    ]\n",
    ")\n",
    "\n",
    "# Build grader chain\n",
    "doc_grader = (grade_prompt\n",
    "                  |\n",
    "              structured_llm_grader)"
   ]
  },
  {
   "cell_type": "code",
   "execution_count": null,
   "metadata": {
    "colab": {
     "base_uri": "https://localhost:8080/"
    },
    "id": "UuiAlPIbaC0W",
    "outputId": "efa3486f-4cf5-4db5-998d-f77f4a3ecc75"
   },
   "outputs": [
    {
     "name": "stdout",
     "output_type": "stream",
     "text": [
      "New Delhi () is the capital of India and a union territory of the megacity of Delhi. It has a very old history and is home to several monuments where the city is expensive to live in. In traditional Indian geography it falls under the North Indian zone. The city has an area of about 42.7 km. New Delhi has a population of about 9.4 Million people.\n",
      "GRADE: binary_score='yes'\n",
      "\n",
      "Mumbai (previously known as Bombay until 1996) is a natural harbor on the west coast of India, and is the capital city of Maharashtra state. It is India's largest city, and one of the world's most populous cities. It is the financial capital of India. The city is the second most-populous in the world. It has approximately 13 million people. Along with the neighboring cities of Navi Mumbai and Thane, it forms the world's 4th largest urban agglomeration. They have around 19.1 million people. The seven islands that form Bombay were home to fishing colonies. The islands were ruled by successive kingdoms and indigenous empires before Portuguese settlers took it. Then, it went to the British East India Company. During the mid-18th century, Bombay became a major trading town. It became a strong place for the Indian independence movement during the early 20th century. When India became independent in 1947, the city was put into Bombay State. In 1960, following the Samyukta Maharashtra movement, a new state of Maharashtra was created with Bombay as the capital. It was renamed Mumbai in 1996. Mumbai generates more than 6% of India's GDP. It accounts for 25% of industrial output, 40% of sea trade, and 70% of capital to India's economy. The Reserve Bank of India, the Bombay Stock Exchange, the National Stock Exchange of India and many Indian companies and multinational corporations are in the city. It also has the Hindi film and television industry, known as Bollywood.\n",
      "GRADE: binary_score='no'\n",
      "\n",
      "The Republic of India is divided into twenty-eight States,and eight union territories including the National Capital Territory.\n",
      "GRADE: binary_score='no'\n",
      "\n"
     ]
    }
   ],
   "source": [
    "query = \"what is the capital of India?\"\n",
    "top3_docs = similarity_threshold_retriever.invoke(query)\n",
    "for doc in top3_docs:\n",
    "    print(doc.page_content)\n",
    "    print('GRADE:', doc_grader.invoke({\"question\": query, \"document\": doc.page_content}))\n",
    "    print()"
   ]
  },
  {
   "cell_type": "code",
   "execution_count": null,
   "metadata": {
    "colab": {
     "base_uri": "https://localhost:8080/"
    },
    "id": "9YNBjaO4ahnF",
    "outputId": "19a53bb5-843e-4caa-cea8-e6c0547bfd8e"
   },
   "outputs": [
    {
     "name": "stderr",
     "output_type": "stream",
     "text": [
      "WARNING:langchain_core.vectorstores.base:No relevant docs were retrieved using the relevance score threshold 0.3\n"
     ]
    }
   ],
   "source": [
    "query = \"what is langgraph?\"\n",
    "top3_docs = similarity_threshold_retriever.invoke(query)\n",
    "for doc in top3_docs:\n",
    "    print(doc.page_content)\n",
    "    print('GRADE:', doc_grader.invoke({\"question\": query, \"document\": doc.page_content}))\n",
    "    print()"
   ]
  },
  {
   "cell_type": "code",
   "execution_count": null,
   "metadata": {
    "colab": {
     "base_uri": "https://localhost:8080/"
    },
    "id": "8lw0moL0dWjf",
    "outputId": "22dff7d6-a284-4337-a44e-de70fa128cdf"
   },
   "outputs": [
    {
     "name": "stdout",
     "output_type": "stream",
     "text": [
      "The 2023 ICC Cricket World Cup is scheduled to be hosted by India and India was selected as the host at an International Cricket Council (ICC) meeting in London in June 2013. This will be the 13th Cricket World Cup competition. It will be the fourth time that India will be the host. This will be the first time that India has hosted the tournament on its own. India hosted previous World Cup tournaments in 1987 (with Pakistan), 1996 (with Pakistan and Sri Lanka) and 2011 (with Sri Lanka and Bangladesh). The semi final will be played at Wankhede Stadium. And final will be played at Eden Gardens, Kolkata. 5. ICC Cricket Worldcup 2023 Venue\n",
      "GRADE: binary_score='no'\n",
      "\n"
     ]
    }
   ],
   "source": [
    "query = \"who won the champions league in 2024?\"\n",
    "top3_docs = similarity_threshold_retriever.invoke(query)\n",
    "for doc in top3_docs:\n",
    "    print(doc.page_content)\n",
    "    print('GRADE:', doc_grader.invoke({\"question\": query, \"document\": doc.page_content}))\n",
    "    print()"
   ]
  },
  {
   "cell_type": "markdown",
   "metadata": {
    "id": "Bfn4Z4Em55bb"
   },
   "source": [
    "## Build a QA RAG Chain\n",
    "\n",
    "We will now connect our retriever to an LLM and build our QA RAG Chain"
   ]
  },
  {
   "cell_type": "code",
   "execution_count": null,
   "metadata": {
    "id": "8Pu5U9HNkl-q"
   },
   "outputs": [],
   "source": [
    "from langchain_core.prompts import ChatPromptTemplate\n",
    "from langchain_openai import ChatOpenAI\n",
    "from langchain_core.runnables import RunnablePassthrough, RunnableLambda\n",
    "from langchain_core.output_parsers import StrOutputParser\n",
    "from operator import itemgetter\n",
    "\n",
    "# Create RAG prompt for response generation\n",
    "prompt = \"\"\"You are an assistant for question-answering tasks.\n",
    "            Use the following pieces of retrieved context to answer the question.\n",
    "            If no context is present or if you don't know the answer, just say that you don't know the answer.\n",
    "            Do not make up the answer unless it is there in the provided context.\n",
    "            Give a detailed answer and to the point answer with regard to the question.\n",
    "\n",
    "            Question:\n",
    "            {question}\n",
    "\n",
    "            Context:\n",
    "            {context}\n",
    "\n",
    "            Answer:\n",
    "         \"\"\"\n",
    "prompt_template = ChatPromptTemplate.from_template(prompt)\n",
    "\n",
    "# Initialize connection with GPT-4o\n",
    "chatgpt = ChatOpenAI(model_name='gpt-4o', temperature=0)\n",
    "# Used for separating context docs with new lines\n",
    "def format_docs(docs):\n",
    "    return \"\\n\\n\".join(doc.page_content for doc in docs)\n",
    "\n",
    "# create QA RAG chain\n",
    "qa_rag_chain = (\n",
    "    {\n",
    "        \"context\": (itemgetter('context')\n",
    "                        |\n",
    "                    RunnableLambda(format_docs)),\n",
    "        \"question\": itemgetter('question')\n",
    "    }\n",
    "      |\n",
    "    prompt_template\n",
    "      |\n",
    "    chatgpt\n",
    "      |\n",
    "    StrOutputParser()\n",
    ")"
   ]
  },
  {
   "cell_type": "code",
   "execution_count": null,
   "metadata": {
    "colab": {
     "base_uri": "https://localhost:8080/"
    },
    "id": "9Wj-MZr2eEq8",
    "outputId": "9a393a41-1e67-447e-bf80-73279326f205"
   },
   "outputs": [
    {
     "name": "stdout",
     "output_type": "stream",
     "text": [
      "The capital of India is New Delhi. It is also a union territory and part of the larger megacity of Delhi.\n"
     ]
    }
   ],
   "source": [
    "query = \"what is the capital of India?\"\n",
    "top3_docs = similarity_threshold_retriever.invoke(query)\n",
    "result = qa_rag_chain.invoke(\n",
    "    {\"context\": top3_docs, \"question\": query}\n",
    ")\n",
    "print(result)"
   ]
  },
  {
   "cell_type": "code",
   "execution_count": null,
   "metadata": {
    "colab": {
     "base_uri": "https://localhost:8080/"
    },
    "id": "i_BK5xvbeYmz",
    "outputId": "40307f06-143b-445f-972c-74489eaeda7b"
   },
   "outputs": [
    {
     "name": "stdout",
     "output_type": "stream",
     "text": [
      "I don't know the answer.\n"
     ]
    }
   ],
   "source": [
    "query = \"who won the champions league in 2024?\"\n",
    "top3_docs = similarity_threshold_retriever.invoke(query)\n",
    "result = qa_rag_chain.invoke(\n",
    "    {\"context\": top3_docs, \"question\": query}\n",
    ")\n",
    "print(result)"
   ]
  },
  {
   "cell_type": "markdown",
   "metadata": {
    "id": "-Fp8Eh0x5bMY"
   },
   "source": [
    "## Create a Query Rephraser\n",
    "\n",
    "We will now build a query rephraser which will use an LLM to rephrase the input user query into a better version which is optimized for web search"
   ]
  },
  {
   "cell_type": "code",
   "execution_count": null,
   "metadata": {
    "id": "Mm7T22tmfYWj"
   },
   "outputs": [],
   "source": [
    "# LLM for question rewriting\n",
    "llm = ChatOpenAI(model=\"gpt-4o\", temperature=0)\n",
    "\n",
    "# Prompt template for rewriting\n",
    "SYS_PROMPT = \"\"\"Act as a question re-writer and perform the following task:\n",
    "                 - Convert the following input question to a better version that is optimized for web search.\n",
    "                 - When re-writing, look at the input question and try to reason about the underlying semantic intent / meaning.\n",
    "             \"\"\"\n",
    "re_write_prompt = ChatPromptTemplate.from_messages(\n",
    "    [\n",
    "        (\"system\", SYS_PROMPT),\n",
    "        (\"human\", \"\"\"Here is the initial question:\n",
    "                     {question}\n",
    "\n",
    "                     Formulate an improved question.\n",
    "                  \"\"\",\n",
    "        ),\n",
    "    ]\n",
    ")\n",
    "# Create rephraser chain\n",
    "question_rewriter = (re_write_prompt\n",
    "                        |\n",
    "                       llm\n",
    "                        |\n",
    "                     StrOutputParser())"
   ]
  },
  {
   "cell_type": "code",
   "execution_count": null,
   "metadata": {
    "colab": {
     "base_uri": "https://localhost:8080/",
     "height": 35
    },
    "id": "2bGCpLKzhTUr",
    "outputId": "68f97c24-1de9-4d11-a696-59a7fe90462a"
   },
   "outputs": [
    {
     "data": {
      "application/vnd.google.colaboratory.intrinsic+json": {
       "type": "string"
      },
      "text/plain": [
       "'Who was the winner of the UEFA Champions League in 2024?'"
      ]
     },
     "execution_count": 23,
     "metadata": {},
     "output_type": "execute_result"
    }
   ],
   "source": [
    "query = \"who won the champions league in 2024?\"\n",
    "question_rewriter.invoke({\"question\": query})"
   ]
  },
  {
   "cell_type": "markdown",
   "metadata": {
    "id": "howf-v0ARWbv"
   },
   "source": [
    "## Build Web Search Tool\n",
    "\n",
    "Here we will be using the [Tavily API](https://tavily.com/#api) for our web searches"
   ]
  },
  {
   "cell_type": "code",
   "execution_count": null,
   "metadata": {
    "id": "Ue8xgu9WpuPi"
   },
   "outputs": [],
   "source": [
    "from langchain_community.tools.tavily_search import TavilySearchResults\n",
    "from tqdm import tqdm\n",
    "from bs4 import BeautifulSoup\n",
    "import requests\n",
    "\n",
    "tv_search = TavilySearchResults(max_results=8,\n",
    "                                search_depth='advanced',\n",
    "                                include_answer=True,\n",
    "                                include_raw_content=True)\n",
    "\n",
    "def search_web(query: str) -> list:\n",
    "    \"\"\"Search the web for a query.\"\"\"\n",
    "    results = tv_search.invoke(query)\n",
    "    docs = []\n",
    "    for result in tqdm(results):\n",
    "        # Sending a request to the URL\n",
    "        response = requests.get(result['url'])\n",
    "        # Parsing the page content\n",
    "        soup = BeautifulSoup(response.content, 'html.parser')\n",
    "        # Extracting all text content from the page\n",
    "        text_content = soup.get_text(separator=\"\\n\", strip=True)\n",
    "        docs.append(result['content'] + ' ' + text_content)\n",
    "    return docs"
   ]
  },
  {
   "cell_type": "markdown",
   "metadata": {
    "id": "D2N5192vikJR"
   },
   "source": [
    "## Build Agentic RAG components\n",
    "\n",
    "Here we will build the key components of our Agentic Corrective RAG System as per the workflow below:\n",
    "\n",
    "![](https://i.imgur.com/uhybMhT.png)\n",
    "\n"
   ]
  },
  {
   "cell_type": "markdown",
   "metadata": {
    "id": "U5tUXzqPsbQi"
   },
   "source": [
    "### Graph State\n",
    "\n",
    "Used to store and represent the state of the agent graph as we traverse through various nodes"
   ]
  },
  {
   "cell_type": "code",
   "execution_count": null,
   "metadata": {
    "id": "_B2EFrwTpuXB"
   },
   "outputs": [],
   "source": [
    "from typing import List\n",
    "from typing_extensions import TypedDict\n",
    "\n",
    "class GraphState(TypedDict):\n",
    "    \"\"\"\n",
    "    Represents the state of our graph.\n",
    "\n",
    "    Attributes:\n",
    "        question: question\n",
    "        generation: LLM response generation\n",
    "        web_search_needed: flag of whether to add web search - yes or no\n",
    "        documents: list of context documents\n",
    "    \"\"\"\n",
    "\n",
    "    question: str\n",
    "    generation: str\n",
    "    web_search_needed: str\n",
    "    documents: List[str]"
   ]
  },
  {
   "cell_type": "markdown",
   "metadata": {
    "id": "qXfVLhOWtHJJ"
   },
   "source": [
    "### Retrieve function for retrieval from Vector DB\n",
    "\n",
    "This will be used to get relevant context documents from the vector database"
   ]
  },
  {
   "cell_type": "code",
   "execution_count": null,
   "metadata": {
    "id": "W0rVVBGDpuYw"
   },
   "outputs": [],
   "source": [
    "def retrieve(state):\n",
    "    \"\"\"\n",
    "    Retrieve documents\n",
    "\n",
    "    Args:\n",
    "        state (dict): The current graph state\n",
    "\n",
    "    Returns:\n",
    "        state (dict): New key added to state, documents - that contains retrieved context documents\n",
    "    \"\"\"\n",
    "    print(\"---RETRIEVAL FROM VECTOR DB---\")\n",
    "    question = state[\"question\"]\n",
    "\n",
    "    # Retrieval\n",
    "    documents = similarity_threshold_retriever.invoke(question)\n",
    "    return {\"documents\": documents, \"question\": question}"
   ]
  },
  {
   "cell_type": "markdown",
   "metadata": {
    "id": "lpOsUnzn6Yo1"
   },
   "source": [
    "### Grade documents\n",
    "\n",
    "This will be used to determine whether the retrieved documents are relevant to the question by using an LLM Grader\n",
    "\n",
    "Sets the `web_search_needed` flag as `Yes` if at least one document is not contextually relevant and sets it as `No` if all documents are contextually relevant to the given user query"
   ]
  },
  {
   "cell_type": "code",
   "execution_count": null,
   "metadata": {
    "id": "NI20nh1DtTwJ"
   },
   "outputs": [],
   "source": [
    "def grade_documents(state):\n",
    "    \"\"\"\n",
    "    Determines whether the retrieved documents are relevant to the question\n",
    "    by using an LLM Grader.\n",
    "\n",
    "    If any document are not relevant to question or documents are empty - Web Search needs to be done\n",
    "    If all documents are relevant to question - Web Search is not needed\n",
    "    Helps filtering out irrelevant documents\n",
    "\n",
    "    Args:\n",
    "        state (dict): The current graph state\n",
    "\n",
    "    Returns:\n",
    "        state (dict): Updates documents key with only filtered relevant documents\n",
    "    \"\"\"\n",
    "\n",
    "    print(\"---CHECK DOCUMENT RELEVANCE TO QUESTION---\")\n",
    "    question = state[\"question\"]\n",
    "    documents = state[\"documents\"]\n",
    "\n",
    "    # Score each doc\n",
    "    filtered_docs = []\n",
    "    web_search_needed = \"No\"\n",
    "    if documents:\n",
    "        for d in documents:\n",
    "            score = doc_grader.invoke(\n",
    "                {\"question\": question, \"document\": d.page_content}\n",
    "            )\n",
    "            grade = score.binary_score\n",
    "            if grade == \"yes\":\n",
    "                print(\"---GRADE: DOCUMENT RELEVANT---\")\n",
    "                filtered_docs.append(d)\n",
    "            else:\n",
    "                print(\"---GRADE: DOCUMENT NOT RELEVANT---\")\n",
    "                web_search_needed = \"Yes\"\n",
    "                continue\n",
    "    else:\n",
    "        print(\"---NO DOCUMENTS RETRIEVED---\")\n",
    "        web_search_needed = \"Yes\"\n",
    "\n",
    "    return {\"documents\": filtered_docs, \"question\": question, \"web_search_needed\": web_search_needed}"
   ]
  },
  {
   "cell_type": "markdown",
   "metadata": {
    "id": "fj1jk8C16hhE"
   },
   "source": [
    "### Rewrite query\n",
    "\n",
    "This will be used to rewrite the input query to produce a better question optimized for web search using an LLM"
   ]
  },
  {
   "cell_type": "code",
   "execution_count": null,
   "metadata": {
    "id": "Xw_iVhvWuSG-"
   },
   "outputs": [],
   "source": [
    "def rewrite_query(state):\n",
    "    \"\"\"\n",
    "    Rewrite the query to produce a better question.\n",
    "\n",
    "    Args:\n",
    "        state (dict): The current graph state\n",
    "\n",
    "    Returns:\n",
    "        state (dict): Updates question key with a re-phrased or re-written question\n",
    "    \"\"\"\n",
    "\n",
    "    print(\"---REWRITE QUERY---\")\n",
    "    question = state[\"question\"]\n",
    "    documents = state[\"documents\"]\n",
    "\n",
    "    # Re-write question\n",
    "    better_question = question_rewriter.invoke({\"question\": question})\n",
    "    return {\"documents\": documents, \"question\": better_question}"
   ]
  },
  {
   "cell_type": "markdown",
   "metadata": {
    "id": "HMogEnhT7Icn"
   },
   "source": [
    "### Web Search\n",
    "\n",
    "This will be used to search the web using the web search tool for the given query and retrieve some information which can be used as the context in RAG"
   ]
  },
  {
   "cell_type": "code",
   "execution_count": null,
   "metadata": {
    "id": "YM7f6AyCvUP_"
   },
   "outputs": [],
   "source": [
    "from langchain.schema import Document\n",
    "\n",
    "def web_search(state):\n",
    "    \"\"\"\n",
    "    Web search based on the re-written question.\n",
    "\n",
    "    Args:\n",
    "        state (dict): The current graph state\n",
    "\n",
    "    Returns:\n",
    "        state (dict): Updates documents key with appended web results\n",
    "    \"\"\"\n",
    "\n",
    "    print(\"---WEB SEARCH---\")\n",
    "    question = state[\"question\"]\n",
    "    documents = state[\"documents\"]\n",
    "\n",
    "    # Web search\n",
    "    docs = search_web(question)\n",
    "    web_results = \"\\n\\n\".join([d for d in docs])\n",
    "    web_results = Document(page_content=web_results)\n",
    "    documents.append(web_results)\n",
    "\n",
    "    return {\"documents\": documents, \"question\": question}"
   ]
  },
  {
   "cell_type": "markdown",
   "metadata": {
    "id": "ruTBxSkm7R2R"
   },
   "source": [
    "### Generate Answer\n",
    "\n",
    "Standard LLM Response generation from query and context documents in a RAG system"
   ]
  },
  {
   "cell_type": "code",
   "execution_count": null,
   "metadata": {
    "id": "MemqMTolwLhA"
   },
   "outputs": [],
   "source": [
    "def generate_answer(state):\n",
    "    \"\"\"\n",
    "    Generate answer from context document using LLM\n",
    "\n",
    "    Args:\n",
    "        state (dict): The current graph state\n",
    "\n",
    "    Returns:\n",
    "        state (dict): New key added to state, generation, that contains LLM generation\n",
    "    \"\"\"\n",
    "    print(\"---GENERATE ANSWER---\")\n",
    "    question = state[\"question\"]\n",
    "    documents = state[\"documents\"]\n",
    "\n",
    "    # RAG generation\n",
    "    generation = qa_rag_chain.invoke({\"context\": documents, \"question\": question})\n",
    "    return {\"documents\": documents, \"question\": question, \"generation\": generation}"
   ]
  },
  {
   "cell_type": "markdown",
   "metadata": {
    "id": "-9zcEgiu8HRY"
   },
   "source": [
    "### Decide to Generate\n",
    "\n",
    "This will be used as a conditional function which will check the `web_search_needed` flag and decide if a web search is needed or a response should be generated and return the function name to be called"
   ]
  },
  {
   "cell_type": "code",
   "execution_count": null,
   "metadata": {
    "id": "Zi3GzDLRv3Nf"
   },
   "outputs": [],
   "source": [
    "def decide_to_generate(state):\n",
    "    \"\"\"\n",
    "    Determines whether to generate an answer, or re-generate a question.\n",
    "\n",
    "    Args:\n",
    "        state (dict): The current graph state\n",
    "\n",
    "    Returns:\n",
    "        str: Binary decision for next node to call\n",
    "    \"\"\"\n",
    "\n",
    "    print(\"---ASSESS GRADED DOCUMENTS---\")\n",
    "    web_search_needed = state[\"web_search_needed\"]\n",
    "\n",
    "    if web_search_needed == \"Yes\":\n",
    "        # All documents have been filtered check_relevance\n",
    "        # We will re-generate a new query\n",
    "        print(\"---DECISION: SOME or ALL DOCUMENTS ARE NOT RELEVANT TO QUESTION, REWRITE QUERY---\")\n",
    "        return \"rewrite_query\"\n",
    "    else:\n",
    "        # We have relevant documents, so generate answer\n",
    "        print(\"---DECISION: GENERATE RESPONSE---\")\n",
    "        return \"generate_answer\""
   ]
  },
  {
   "cell_type": "markdown",
   "metadata": {
    "id": "EpjPx4v89BVV"
   },
   "source": [
    "### Build the Agent Graph\n",
    "\n",
    "Here we will use LangGraph and build the agent as a graph"
   ]
  },
  {
   "cell_type": "code",
   "execution_count": null,
   "metadata": {
    "id": "F24b6qm_yhnE"
   },
   "outputs": [],
   "source": [
    "from langgraph.graph import END, StateGraph\n",
    "\n",
    "agentic_rag = StateGraph(GraphState)\n",
    "\n",
    "# Define the nodes\n",
    "agentic_rag.add_node(\"retrieve\", retrieve)  # retrieve\n",
    "agentic_rag.add_node(\"grade_documents\", grade_documents)  # grade documents\n",
    "agentic_rag.add_node(\"rewrite_query\", rewrite_query)  # transform_query\n",
    "agentic_rag.add_node(\"web_search\", web_search)  # web search\n",
    "agentic_rag.add_node(\"generate_answer\", generate_answer)  # generate answer\n",
    "\n",
    "# Build graph\n",
    "agentic_rag.set_entry_point(\"retrieve\")\n",
    "agentic_rag.add_edge(\"retrieve\", \"grade_documents\")\n",
    "agentic_rag.add_conditional_edges(\n",
    "    \"grade_documents\",\n",
    "    decide_to_generate,\n",
    "    {\"rewrite_query\": \"rewrite_query\", \"generate_answer\": \"generate_answer\"},\n",
    ")\n",
    "agentic_rag.add_edge(\"rewrite_query\", \"web_search\")\n",
    "agentic_rag.add_edge(\"web_search\", \"generate_answer\")\n",
    "agentic_rag.add_edge(\"generate_answer\", END)\n",
    "\n",
    "# Compile\n",
    "agentic_rag = agentic_rag.compile()"
   ]
  },
  {
   "cell_type": "code",
   "execution_count": null,
   "metadata": {
    "colab": {
     "base_uri": "https://localhost:8080/",
     "height": 647
    },
    "id": "X3D6GCcN0ElZ",
    "outputId": "7ab497ce-7a1c-461f-b8b3-3381316ffafd"
   },
   "outputs": [
    {
     "data": {
      "image/png": "[encoded data removed]",
      "text/plain": [
       "<IPython.core.display.Image object>"
      ]
     },
     "metadata": {},
     "output_type": "display_data"
    }
   ],
   "source": [
    "from IPython.display import Image, display, Markdown\n",
    "\n",
    "display(Image(agentic_rag.get_graph().draw_mermaid_png()))"
   ]
  },
  {
   "cell_type": "markdown",
   "metadata": {
    "id": "pXW3yX7s9MMY"
   },
   "source": [
    "## Test the Agentic CRAG System"
   ]
  },
  {
   "cell_type": "code",
   "execution_count": null,
   "metadata": {
    "colab": {
     "base_uri": "https://localhost:8080/"
    },
    "id": "tgny4kCM0OrS",
    "outputId": "03f37ab8-37ba-472a-ee70-c7d7c30d0257"
   },
   "outputs": [
    {
     "name": "stdout",
     "output_type": "stream",
     "text": [
      "---RETRIEVAL FROM VECTOR DB---\n",
      "---CHECK DOCUMENT RELEVANCE TO QUESTION---\n",
      "---GRADE: DOCUMENT RELEVANT---\n",
      "---GRADE: DOCUMENT NOT RELEVANT---\n",
      "---GRADE: DOCUMENT NOT RELEVANT---\n",
      "---ASSESS GRADED DOCUMENTS---\n",
      "---DECISION: SOME or ALL DOCUMENTS ARE NOT RELEVANT TO QUESTION, REWRITE QUERY---\n",
      "---REWRITE QUERY---\n",
      "---WEB SEARCH---\n"
     ]
    },
    {
     "name": "stderr",
     "output_type": "stream",
     "text": [
      "100%|██████████| 8/8 [00:05<00:00,  1.40it/s]\n"
     ]
    },
    {
     "name": "stdout",
     "output_type": "stream",
     "text": [
      "---GENERATE ANSWER---\n"
     ]
    }
   ],
   "source": [
    "query = \"what is the capital of India?\"\n",
    "response = agentic_rag.invoke({\"question\": query})"
   ]
  },
  {
   "cell_type": "code",
   "execution_count": null,
   "metadata": {
    "colab": {
     "base_uri": "https://localhost:8080/",
     "height": 98
    },
    "id": "9Y7Q-KAF2oqA",
    "outputId": "c4194b64-fc56-45a3-b335-80df661f570b"
   },
   "outputs": [
    {
     "data": {
      "text/markdown": [
       "The capital city of India is New Delhi. It is situated in the northern part of the country and serves as the political, cultural, and administrative center of India. New Delhi was officially declared the capital of India in 1911 during British rule, replacing Kolkata. The city is renowned for its rich history, diverse culture, and architectural landmarks, including the iconic India Gate, Rashtrapati Bhavan, and the majestic Red Fort. New Delhi houses key government institutions, diplomatic missions, and cultural landmarks, making it a significant hub for commerce, education, and tourism."
      ],
      "text/plain": [
       "<IPython.core.display.Markdown object>"
      ]
     },
     "metadata": {},
     "output_type": "display_data"
    }
   ],
   "source": [
    "display(Markdown(response['generation']))"
   ]
  },
  {
   "cell_type": "code",
   "execution_count": null,
   "metadata": {
    "colab": {
     "base_uri": "https://localhost:8080/"
    },
    "id": "oVSzCfgb0q4q",
    "outputId": "f9bb9bd5-7ce5-4e22-88eb-c37b5587a007"
   },
   "outputs": [
    {
     "data": {
      "text/plain": [
       "{'question': 'What is the capital city of India?',\n",
       " 'generation': 'The capital city of India is New Delhi. It is situated in the northern part of the country and serves as the political, cultural, and administrative center of India. New Delhi was officially declared the capital of India in 1911 during British rule, replacing Kolkata. The city is renowned for its rich history, diverse culture, and architectural landmarks, including the iconic India Gate, Rashtrapati Bhavan, and the majestic Red Fort. New Delhi houses key government institutions, diplomatic missions, and cultural landmarks, making it a significant hub for commerce, education, and tourism.',\n",
       " 'web_search_needed': 'Yes',\n",
       " 'documents': [Document(metadata={'article_id': '5117', 'title': 'New Delhi'}, page_content='New Delhi () is the capital of India and a union territory of the megacity of Delhi. It has a very old history and is home to several monuments where the city is expensive to live in. In traditional Indian geography it falls under the North Indian zone. The city has an area of about 42.7\\xa0km. New Delhi has a population of about 9.4 Million people.'),\n",
       "  Document(metadata={}, page_content='The capital city of India is New Delhi, situated in the northern part of the country. It was officially declared the capital of India in 1911 during British rule, replacing Kolkata. New Delhi serves as the political, cultural, and administrative center of India. The city is renowned for its rich history, diverse culture, and architectural What is the capital city of India? - GeeksforGeeks\\nSkip to content\\nCourses\\nDSA to Development\\nMachine Learning & Data Science\\nGenerative AI & ChatGPT\\nBecome AWS Certified\\nDSA Courses\\nData Structure & Algorithm(C++/JAVA)\\nData Structure & Algorithm(Python)\\nData Structure & Algorithm(JavaScript)\\nProgramming Languages\\nCPP\\nJava\\nPython\\nJavaScript\\nC\\nAll Courses\\nTutorials\\nPython Tutorial\\nTaking Input in Python\\nPython Operators\\nPython Data Types\\nPython Loops and Control Flow\\nPython Conditional Statements\\nPython Loops\\nPython Functions\\nPython OOPS Concept\\nPython Data Structures\\nPython Exception Handling\\nPython File Handling\\nPython Exercises\\nJava\\nLearn Java Programming Language\\nJava Collections\\nJava 8 Tutorial\\nJava Programs\\nJava Interview Questions\\nJava Interview Questions\\nCore Java Interview Questions-Freshers\\nJava Multithreading Interview Questions\\nOOPs Interview Questions and Answers\\nJava Exercises\\nJava Quiz\\nJava Quiz\\nCore Java MCQ\\nJava Projects\\nAdvance Java\\nSpring Tutorial\\nSpring Boot Tutorial\\nSpring Boot Interview Questions\\nSpring MVC Tutorial\\nSpring MVC Interview Questions\\nHibernate Tutorial\\nHibernate Interview Questions\\nProgramming Languages\\nJavaScript\\nC++\\nR Tutorial\\nSQL\\nPHP\\nC#\\nC\\nScala\\nPerl\\nGo Language\\nKotlin\\nSystem Design\\nSystem Design Tutorial\\nSoftware Design Patterns\\nSystem Design Roadmap\\nTop 10 System Design Interview Questions and Answers\\nInterview Corner\\nCompany Preparation\\nTop Topics\\nPractice Company Questions\\nInterview Experiences\\nExperienced Interviews\\nInternship Interviews\\nCompetitive Programming\\nMultiple Choice Quizzes\\nAptitude for Placements\\nComputer Science Subjects\\nOperating System\\nDBMS\\nComputer Networks\\nEngineering Mathematics\\nComputer Organization and Architecture\\nTheory of Computation\\nCompiler Design\\nDigital Logic\\nSoftware Engineering\\nDevOps\\nGIT\\nAWS\\nDocker\\nKubernetes\\nMicrosoft Azure Tutorial\\nGoogle Cloud Platform\\nLinux\\nLinux Tutorial\\nLinux Commands A-Z\\nLinux Commands Cheatsheet\\nFile Permission Commands\\nLinux System Administration\\nLinux File System\\nLinux Shell Scripting\\nLinux Networking\\nLinux Interview Questions\\nSoftware Testing\\nSoftware Testing Tutorial\\nSoftware Engineering Tutorial\\nTesting Interview Questions\\nJira\\nDatabases\\nDBMS Tutorial\\nSQL Tutorial\\nPostgreSQL Tutorial\\nMongoDB Tutorial\\nSQL Interview Questions\\nMySQL Interview Questions\\nPL/SQL Interview Questions\\nAndroid\\nAndroid Tutorial\\nAndroid Studio Tutorial\\nKotlin For Android\\nAndroid Projects\\nAndroid Interview Questions\\n6 Weeks of Android App Development\\nExcel\\nMS Excel Tutorial\\nIntroduction to MS Excel\\nData Analysis in Excel\\nBasic Excel Formulas & Functions\\nData Analysis in Advanced Excel\\nWorkbooks\\nStatistical Functions\\nData Visualization in Excel\\nPivot Tables in Excel\\nExcel Spreadsheets in Python\\nBasic Excel Shortcuts\\nMathematics\\nNumber System\\nAlgebra\\nLinear Algebra\\nTrigonometry\\nSet Theory\\nStatistics\\nProbability\\nGeometry\\nMensuration\\nLogarithms\\nCalculus\\nDSA\\nData Structures\\nArrays\\nMatrix\\nStrings\\nLinked List\\nStack\\nQueue\\nTree\\nHeap\\nHashing\\nGraph\\nSet Data Structure\\nMap Data Structure\\nAdvanced Data Structure\\nData Structures Tutorial\\nAlgorithms\\nAnalysis of Algorithms\\nDesign and Analysis of Algorithms\\nAsymptotic Analysis\\nAsymptotic Notations\\nWorst, Average and Best Cases\\nSearching Algorithms\\nLinear Search\\nBinary Search\\nSearching Algorithms Tutorial\\nSorting Algorithms\\nSelection Sort\\nBubble Sort\\nInsertion Sort\\nMerge Sort\\nQuick Sort\\nHeap Sort\\nCounting Sort\\nRadix Sort\\nBucket Sort\\nSorting Algorithms Tutorial\\nGreedy Algorithms\\nDynamic Programming\\nGraph Algorithms\\nPattern Searching\\nRecursion\\nBacktracking\\nDivide and Conquer\\nMathematical Algorithms\\nGeometric Algorithms\\nBitwise Algorithms\\nRandomized Algorithms\\nBranch and Bound\\nAlgorithms Tutorial\\nDSA Tutorial\\nPractice\\nAll DSA Problems\\nProblem of the Day\\nCompany Wise Coding Practice\\nAmazon\\nMicrosoft\\nFlipkart\\nExplore All\\nGfG SDE Sheet\\nPractice Problems Difficulty Wise\\nSchool\\nBasic\\nEasy\\nMedium\\nHard\\nLanguage Wise Coding Practice\\nCPP\\nJava\\nPython\\nCurated DSA Lists\\nBeginner\\'s DSA Sheet\\nTop 50 Array Problems\\nTop 50 String Problems\\nTop 50 DP Problems\\nTop 50 Graph Problems\\nTop 50 Tree Problems\\nCompetitive Programming\\nCompany Wise SDE Sheets\\nFacebook SDE Sheet\\nAmazon SDE Sheet\\nApple SDE Sheet\\nNetflix SDE Sheet\\nGoogle SDE Sheet\\nDSA Cheat Sheets\\nSDE Sheet\\nDSA Sheet for Beginners\\nFAANG Coding Sheet\\nProduct-Based Coding Sheet\\nCompany-Wise Preparation Sheet\\nTop Interview Questions\\nPuzzles\\nAll Puzzles\\nTop 100 Puzzles Asked In Interviews\\nTop 20 Puzzles Commonly Asked During SDE Interviews\\nData Science\\nPython Tutorial\\nR Tutorial\\nMachine Learning\\nData Science using Python\\nData Science using R\\nData Science Packages\\nPandas Tutorial\\nNumPy Tutorial\\nData Visualization\\nPython Data Visualization Tutorial\\nData Visualization with R\\nData Analysis\\nData Analysis with Python\\nData Analysis with R\\nDeep Learning\\nNLP Tutorial\\nWeb Tech\\nHTML Tutorial\\nCSS Tutorial\\nJavaScript Tutorial\\nPHP Tutorial\\nReactJS Tutorial\\nNodeJS Tutorial\\nBootstrap Tutorial\\nTypescript\\nWeb Development Using Python\\nDjango\\nDjango Tutorial\\nDjango Projects\\nDjango Interview Questions\\nFlask\\nFlask Tutorial\\nFlask Projects\\nFlask Interview Questions\\nPostman\\nGithub\\nCheat Sheets\\nHTML Cheat Sheet\\nCSS Cheat Sheet\\nJavaScript Cheat Sheet\\nReact Cheat Sheet\\nAngular Cheat Sheet\\njQuery Cheat Sheet\\nBootstrap Cheat Sheet\\nLearn Complete Web Development\\nGK for competitive exams\\nGeneral Awareness for Bank Exams\\nCurrent Affairs\\nGovt Schemes\\nFinancial Awareness\\nAptitude\\nComputer GK\\nCulture GK\\nAwards GK\\nSocial Issues\\nGK Quiz\\nGeneral Knowledge for Kids\\n▲\\nOpen In App\\nWhat is the capital city of India?\\nLast Updated :\\n21 Feb, 2024\\nSummarize\\nComments\\nImprove\\nSuggest changes\\nLike Article\\nLike\\nSave\\nShare\\nReport\\nFollow\\nAnswer: The capital city of India is New Delhi.\\nThe capital city of India is New Delhi, situated in the northern part of the country. It was officially declared the capital of India in 1911 during British rule, replacing Kolkata. New Delhi serves as the political, cultural, and administrative center of India. The city is renowned for its rich history, diverse culture, and architectural landmarks, including the iconic India Gate, Rashtrapati Bhavan, and the majestic Red Fort.\\nDetailing its significance, New Delhi houses the Parliament of India, the Supreme Court, and numerous government ministries. It also hosts international diplomatic missions and serves as a hub for commerce, education, and tourism.\\nConclusion\\nNew Delhi is the capital city of India.\\nIt was officially declared the capital in 1911, replacing Calcutta.\\nNew Delhi serves as the political, cultural, and administrative center of India.\\nThe city houses key government institutions, diplomatic missions, and cultural landmarks.\\nComment\\nMore info\\nNext Article\\nWhat is the Capital of Indiana?\\nA\\navichalbharti\\nFollow\\nImprove\\nSimilar Reads\\nWhat is the capital city of India?\\nAnswer: The capital city of India is New Delhi.The capital city of India is New Delhi, situated in the northern part of the country. It was officially declared the capital of India in 1911 during British rule, replacing Kolkata. New Delhi serves as the political, cultural, and administrative center\\n1 min read\\nWhat is the Capital of Indiana?\\nAnswer: The capital of Indiana is Indianapolis.Indianapolis: The Modern Capital: Established in 1821, Indianapolis was strategically chosen for its central location, becoming the official capital in 1825.Today, it thrives as the state\\'s largest city, housing the Indiana State Capitol building and se\\n2 min read\\nWhat is the Capital of Goa?\\nAnswer: The capital of Goa which is a state in India is Panaji.Geographical Location: Panaji which is also known as Panjim, is the capital city of the Indian state of Goa. It is located on the banks of the Mandovi River in North Goa district. The city has a rich history that reflects its Portuguese\\n2 min read\\nWhat is the Capital of Singapore?\\nThe capital of Singapore is Singapore City. Singapore was formally known as the Republic of Singapore, is also known as the Lion City (Singapura), and comprises the main island plus around 64 smaller outlying islands, including Sentosa (the biggest of the offshore islands), Pulau Ubin, St John\\'s Isl\\n4 min read\\nWhat is the Capital of Thailand?\\nAnswer: The capital of Thailand is Bangkok.Bangkok, the capital city of Thailand, is a bustling metropolis known for its vibrant street life and cultural landmarks. Officially known as Krung Thep Maha Nakhon, which means \"City of Angels,\" Bangkok stands as the heart of Thailand\\'s political, economic\\n2 min read\\nWhat is the Capital of Telangana?\\nAnswer: The capital of Telangana is Hyderabad.Here\\'s a detailed overview of Hyderabad as the capital of Telangana: Geographical Location: Hyderabad is situated in the southern part of India, in the Deccan Plateau region. It is located on the banks of the Musi River. Historical Significance: Hyderaba\\n2 min read\\nCoastal States of India\\nThe coastal states of India, or the coastline, play a major role and are simultaneously important for the country\\'s economy. It also presents a splendid blend of landscapes and cultures. It is long and runs approximately 7516 kilometers (7,516.60 kilometers exactly), consisting of 2184.1 kilometers\\n9 min read\\nWhich is the most populous city in India?\\nAnswer: The most populous city in India is Mumbai, also known as Bombay.Mumbai has an estimated population is over 12.7 million surpasses other major Indian cities like: Delhi: Approximately 10.9 million people.Bangalore: Around 8.5 million people.Hyderabad: Roughly 7.0 million people.Ahmedabad: Abo\\n1 min read\\nStates and Capitals in India - List of 28 States & 8 UT 2024\\nStates and Capitals of IndiaIn India, there are a total of 28 States and 8 Union Territories. Each state in India is unique and has a very rich and diverse culture, language, resources, flora and fauna, democracy festivals, etc. Each state contributes to the development and growth of the economy of\\n15 min read\\nCapital of Tamil Nadu - Chennai\\nCapital of Tamil Nadu: Chennai, previously known as Madras, is the capital of Tamil Nadu. Located on the Coromandel Coast, Bay of Bengal, Chennai is known as the “Health Capital of India”. It is also known as “Gateway to South India”. With its strategic location, diverse population, and dynamic grow\\n7 min read\\nCapital of Maharashtra : Financial Capital of India\\nCapital of Maharashtra: Maharashtra is a state in India. Its capital is Mumbai. The Capital of Maharashtra is also the financial capital of India. It is the cultural, and entertainment centre of Maharashtra. Mumbai, the capital of Maharashtra, is a bustling municipality and India\\'s financial hub. Un\\n8 min read\\nAsian Countries with their Capitals\\nIn SSC, Banking, LIC, Railways, and other competitive exams, the General Awareness section plays an important role nowadays since it is a very scoring section. In this article, we will cover one of the topics of this section i.e \"Countries and their Capitals\". This is a very easy topic and if studen\\n12 min read\\nCapital of Haryana - Chandigarh\\nCapital of Haryana: Chandigarh is the capital of Haryana. Haryana jointly shares its capital city of Chandigarh with Punjab. The city’s name is derived from an ancient temple, Chandi Mandir, which is dedicated to Goddess Chandi. A bustling planned city, Chandigarh is described as a city as well as a\\n4 min read\\nList of Countries where Indian Currency is Stronger\\nExplore the List of countries where Indian rupee is stronger. This list unveils List of countries where Indian currency is higher , providing insights into favorable exchange rates and potential travel or investment opportunities. Discover the Top 10 countries where Indian rupee is stronger and hold\\n11 min read\\nList of Top 10 Highest Waterfalls in India 2024\\nTop 10 Highest Waterfalls in India: India is a diverse country in Terms of Everything including its Geographical entities. Waterfalls are also one of the examples of it. In a general way, a waterfall forms when there are horizontal bands of resistant rock positioned overexposed, less resistant rock.\\n11 min read\\nCapital of China | History, Geography, Facts\\nCapital of China - Beijing, one of the most populous cities (national capitals) in the world is administered within an area of 16,410.5 km squared (6336 sq. mi.) with approx a population of over 21 million. It is the third-largest city. The word Beijing means \"The Northern Capital\" and is the second\\n4 min read\\nList of the Indian Cities Situated on River Banks\\nasImportant Cities Situated on the Banks of Rivers: In Past History and Present Indian and World Rivers played an important role in shaping Human Civilization. In India, most of its important cities are situated on the bank of rivers such as Kanpur, Haridwar, Varanasi, and Rishikesh these cities are\\n11 min read\\nList of Districts of India State-Wise [2024 Updated]\\nExplore the updated Districts of India 2024 with a comprehensive State-wise district list India 2024. Find the complete and detailed information on India districts list 2024, ensuring you have the Latest district count in India 2024 and accurate Updated districts in India 2024 for your reference. Li\\n12 min read\\nList of 10 Holy Places in India\\nIndia is home to numerous distinct civilizations, ancient traditions, and spiritual significance. Several holy places attract tourists from around the globe. These sacred sites have a religious significance, but they also offer a glimpse into India\\'s colorful past. These are India\\'s top 10 holy site\\n7 min read\\nArticle Tags :\\nGeneral Knowledge\\ngeneral-knowledge-questions\\nLike\\nExplore More\\nCorporate & Communications Address:- A-143, 7th Floor, Sovereign Corporate Tower, Sector- 136, Noida, Uttar Pradesh (201305) | Registered Address:- K 061, Tower K, Gulshan Vivante Apartment, Sector 137, Noida, Gautam Buddh Nagar, Uttar Pradesh, 201305\\nCompany\\nAbout Us\\nLegal\\nIn Media\\nContact Us\\nAdvertise with us\\nGFG Corporate Solution\\nPlacement Training Program\\nGeeksforGeeks Community\\nLanguages\\nPython\\nJava\\nC++\\nPHP\\nGoLang\\nSQL\\nR Language\\nAndroid Tutorial\\nTutorials Archive\\nDSA\\nData Structures\\nAlgorithms\\nDSA for Beginners\\nBasic DSA Problems\\nDSA Roadmap\\nTop 100 DSA Interview Problems\\nDSA Roadmap by Sandeep Jain\\nAll Cheat Sheets\\nData Science & ML\\nData Science With Python\\nData Science For Beginner\\nMachine Learning\\nML Maths\\nData Visualisation\\nPandas\\nNumPy\\nNLP\\nDeep Learning\\nWeb Technologies\\nHTML\\nCSS\\nJavaScript\\nTypeScript\\nReactJS\\nNextJS\\nBootstrap\\nWeb Design\\nPython Tutorial\\nPython Programming Examples\\nPython Projects\\nPython Tkinter\\nWeb Scraping\\nOpenCV Tutorial\\nPython Interview Question\\nDjango\\nComputer Science\\nOperating Systems\\nComputer Network\\nDatabase Management System\\nSoftware Engineering\\nDigital Logic Design\\nEngineering Maths\\nSoftware Development\\nSoftware Testing\\nDevOps\\nGit\\nLinux\\nAWS\\nDocker\\nKubernetes\\nAzure\\nGCP\\nDevOps Roadmap\\nSystem Design\\nHigh Level Design\\nLow Level Design\\nUML Diagrams\\nInterview Guide\\nDesign Patterns\\nOOAD\\nSystem Design Bootcamp\\nInterview Questions\\nInteview Preparation\\nCompetitive Programming\\nTop DS or Algo for CP\\nCompany-Wise Recruitment Process\\nCompany-Wise Preparation\\nAptitude Preparation\\nPuzzles\\nSchool Subjects\\nMathematics\\nPhysics\\nChemistry\\nBiology\\nSocial Science\\nEnglish Grammar\\nCommerce\\nWorld GK\\nGeeksforGeeks Videos\\nDSA\\nPython\\nJava\\nC++\\nWeb Development\\nData Science\\nCS Subjects\\n@GeeksforGeeks, Sanchhaya Education Private Limited\\n,\\nAll rights reserved\\nWe use cookies to ensure you have the best browsing experience on our website. By using our site, you\\r\\n        acknowledge that you have read and understood our\\nCookie Policy\\n&\\nPrivacy Policy\\nGot It !\\nImprovement\\nSuggest changes\\nSuggest Changes\\nHelp us improve. Share your suggestions to enhance the article. Contribute your expertise and make a difference in the GeeksforGeeks portal.\\nCreate Improvement\\nEnhance the article with your expertise. Contribute to the GeeksforGeeks community and help create better learning resources for all.\\nSuggest Changes\\nmin 4 words, max CharLimit:2000\\nWhat kind of Experience do you want to share?\\nInterview Experiences\\nAdmission Experiences\\nCareer Journeys\\nWork Experiences\\nCampus Experiences\\nCompetitive Exam Experiences\\n\\nThe Capital City of India (officially named Republic of India) is the city of New Delhi.The population of New Delhi in the year 2008 was 1,147,995,904. India is a Hindi and English speaking country on the coasts of the Arabian Sea and Indian Ocean. What is the Capital of India? - Capital-of.com\\nFind out what is the capital city of countries around the world.\\nCapital Cities\\nCapitals of Africa\\nCapitals of Asia\\nCapitals of Europe\\nCapitals of North America\\nCapitals of Oceania\\nCapitals of South America\\nOur Sponsors:\\nCapital of India\\nThe Capital City of\\nIndia\\n(officially named\\nRepublic of India\\n) is the city of\\nNew Delhi\\n. The population of New Delhi in the year 2008 was 1,147,995,904.\\nIndia is a Hindi and English speaking country on the coasts of the Arabian Sea and Indian Ocean.\\nAdditional Information\\n© 2007-2024 Capital Of. All rights reserved.\\nYou are here: India\\n\\nEven though New Delhi is the capital city of India, it isn\\'t the city with the highest population in the country. That position goes to Mumbai, which has a population of over 12 million. New Delhi experiences lots of earthquakes, many of them mild. This is because of its location, which lies on several fault lines. \\n\\nNew Delhi was officially declared as the capital of the Union of India after the country gained independence on 15 August 1947.[55] It has expanded since; the small part of it that was constructed during the British period has come to be informally known as Lutyens\\' Delhi.[56]\\nPartition and post-independence\\nDuring the partition of India, around five hundred thousand Hindu and Sikh refugees, mainly from West Punjab fled to Delhi, while around three hundred thousand Muslim residents of the city migrated to Pakistan.[59][60] Ethnic Punjabis are believed to account for at least 40% of Delhi\\'s total population and are predominantly Hindi-speaking Punjabi Hindus.[61][62][63] Migration to Delhi from the rest of India continues (as of 2013[update]), contributing more to the rise of Delhi\\'s population than the birth rate, which is declining.[64]\\nThe States Reorganisation Act, 1956 created the Union Territory of Delhi from its predecessor, the Chief Commissioner\\'s Province of Delhi.[1][2] According to the 2011 census, Delhi\\'s city proper population was over 11\\xa0million,[6][16] while the NCT\\'s population was about 16.8\\xa0million.[7]\\nDelhi\\'s urban agglomeration, which includes the satellite cities Ghaziabad, Faridabad, Gurgaon, Noida, Greater Noida, Meerut and YEIDA city in an area known as the National Capital Region (NCR), has an estimated population of over 28\\xa0million, making it the largest metropolitan area in India and the second-largest in the world (after Tokyo).[8]\\nThe topography of the medieval fort Purana Qila on the banks of the river Yamuna matches the literary description of the citadel Indraprastha in the Sanskrit epic Mahabharata; however, excavations in the area have revealed no signs of an ancient built environment. In addition to the wetlands formed by the Yamuna river, Delhi continues to retain over 500 ponds (wetlands < 5\\xa0ha (12 acres)), that in turn support considerable number of bird species.[76] Delhi\\'s ponds, despite experiencing ecological deterioration due to garbage dumping and concretisation, support the largest number of bird species known to be using ponds anywhere in the world.[77] Existing policy in Delhi prevents the conversion of wetlands and, quite inadvertently, has led to the city\\'s ponds becoming invaluable refugia for birds.[76][77]\\nThe National Capital Territory of Delhi covers an area of 1,483\\xa0km2 (573\\xa0sq\\xa0mi), of which 783\\xa0km2 (302\\xa0sq\\xa0mi) is designated rural, and 700\\xa0km2 (270\\xa0sq\\xa0mi) urban therefore making it the largest city in terms of area in the country. The Mughal dynasty ruled Delhi for more than three centuries, with a sixteen-year hiatus during the reigns of Sher Shah Suri and Hemu from 1540 to 1556.[43] Shah Jahan built the seventh city of Delhi that bears his name Shahjahanabad, which served as the capital of the Mughal Empire from 1638 and is today known as the Old City or Old Delhi.[44]\\nAfter the death of Aurangzeb in 1707, the Mughal Empire\\'s influence declined rapidly as the Hindu Maratha Empire from Deccan Plateau rose to prominence.[45] In 1737, Maratha forces led by Baji Rao I sacked Delhi following their victory against the Mughals in the First Battle of Delhi. Delhi hosted the inaugural 1951 Asian Games, the 1982 Asian Games, the 1983 Non-Aligned Movement summit, the 2010 Men\\'s Hockey World Cup, the 2010 Commonwealth Games, and the 2012 BRICS summit and was one of the major host cities of the 2011 Cricket World Cup and 2023 Cricket World Cup\\nToponym\\nThere are a number of myths and legends associated with the origin of the name Delhi. Delhi - Wikipedia\\nJump to content\\nMain menu\\nMain menu\\nmove to sidebar\\nhide\\nNavigation\\nMain page\\nContents\\nCurrent events\\nRandom article\\nAbout Wikipedia\\nContact us\\nContribute\\nHelp\\nLearn to edit\\nCommunity portal\\nRecent changes\\nUpload file\\nSearch\\nSearch\\nAppearance\\nDonate\\nCreate account\\nLog in\\nPersonal tools\\nDonate\\nCreate account\\nLog in\\nPages for logged out editors\\nlearn more\\nContributions\\nTalk\\nContents\\nmove to sidebar\\nhide\\n(Top)\\n1\\nToponym\\n2\\nHistory\\nToggle History subsection\\n2.1\\nAncient and early medieval periods\\n2.2\\nLate medieval period\\n2.3\\nEarly modern period\\n2.4\\nColonial period\\n2.5\\nPartition and post-independence\\n3\\nGeography\\nToggle Geography subsection\\n3.1\\nClimate\\n3.2\\nAir pollution\\n4\\nCivic administration\\n5\\nGovernment and politics\\n6\\nEconomy\\n7\\nUtility services\\n8\\nTransport\\nToggle Transport subsection\\n8.1\\nAir\\n8.2\\nRoad\\n8.3\\nRailway\\n8.4\\nMetro\\n9\\nDemographics\\nToggle Demographics subsection\\n9.1\\nPopulation growth\\n9.2\\nSlums\\n9.3\\nReligions\\n9.4\\nLanguages\\n10\\nCulture\\nToggle Culture subsection\\n10.1\\nFestivals\\n10.2\\nCuisine\\n11\\nEducation\\n12\\nMedia\\n13\\nSports\\nToggle Sports subsection\\n13.1\\nCity-based clubs\\n14\\nSee also\\n15\\nNotes\\n16\\nReferences\\n17\\nFurther reading\\n18\\nExternal links\\nToggle the table of contents\\nDelhi\\n168 languages\\nАдыгабзэ\\nAfrikaans\\nAlemannisch\\nአማርኛ\\nअंगिका\\nالعربية\\nAragonés\\nԱրեւմտահայերէն\\nঅসমীয়া\\nAsturianu\\nAvañe\\'ẽ\\nAzərbaycanca\\nتۆرکجه\\nBasa Bali\\nবাংলা\\n閩南語 / Bân-lâm-gú\\nБашҡортса\\nБеларуская\\nБеларуская (тарашкевіца)\\nभोजपुरी\\nBikol Central\\nБългарски\\nBosanski\\nBrezhoneg\\nБуряад\\nCatalà\\nЧӑвашла\\nCebuano\\nČeština\\nChi-Chewa\\nCymraeg\\nDansk\\nDavvisámegiella\\nDeutsch\\nދިވެހިބަސް\\nDolnoserbski\\nEesti\\nΕλληνικά\\nEspañol\\nEsperanto\\nEstremeñu\\nEuskara\\nفارسی\\nFiji Hindi\\nFøroyskt\\nFrançais\\nGaeilge\\nGàidhlig\\nGalego\\nГӀалгӀай\\n贛語\\nગુજરાતી\\nगोंयची कोंकणी / Gõychi Konknni\\n한국어\\nHausa\\nՀայերեն\\nहिन्दी\\nHrvatski\\nIdo\\nIlokano\\nবিষ্ণুপ্রিয়া মণিপুরী\\nBahasa Indonesia\\nИрон\\nÍslenska\\nItaliano\\nעברית\\nKabɩyɛ\\nಕನ್ನಡ\\nKapampangan\\nქართული\\nकॉशुर / کٲشُر\\nҚазақша\\nKernowek\\nKiswahili\\nKurdî\\nКыргызча\\nLadin\\nLadino\\nLatina\\nLatviešu\\nЛезги\\nLietuvių\\nLimburgs\\nLingála\\nLivvinkarjala\\nMagyar\\nमैथिली\\nМакедонски\\nMalagasy\\nമലയാളം\\nMāori\\nमराठी\\nმარგალური\\nمصرى\\nمازِرونی\\nBahasa Melayu\\nꯃꯤꯇꯩ ꯂꯣꯟ\\n閩東語 / Mìng-dĕ̤ng-ngṳ̄\\nМонгол\\nမြန်မာဘာသာ\\nNa Vosa Vakaviti\\nNederlands\\nनेपाली\\nनेपाल भाषा\\n日本語\\nНохчийн\\nNordfriisk\\nNorsk bokmål\\nNorsk nynorsk\\nOccitan\\nОлык марий\\nଓଡ଼ିଆ\\nOʻzbekcha / ўзбекча\\nਪੰਜਾਬੀ\\nپنجابی\\nپښتو\\nPatois\\nភាសាខ្មែរ\\nPlattdüütsch\\nPolski\\nPortuguês\\nQırımtatarca\\nRomână\\nRuna Simi\\nРусиньскый\\nРусский\\nСаха тыла\\nसंस्कृतम्\\nᱥᱟᱱᱛᱟᱲᱤ\\nسرائیکی\\nScots\\nShqip\\nSimple English\\nسنڌي\\nSlovenčina\\nSlovenščina\\nŚlůnski\\nکوردی\\nСрпски / srpski\\nSrpskohrvatski / српскохрватски\\nSuomi\\nSvenska\\nTagalog\\nதமிழ்\\nTarandíne\\nТатарча / tatarça\\nతెలుగు\\nไทย\\nТоҷикӣ\\nತುಳು\\nTürkçe\\nTürkmençe\\nTwi\\nУкраїнська\\nاردو\\nئۇيغۇرچە / Uyghurche\\nVèneto\\nVepsän kel’\\nTiếng Việt\\nVolapük\\nWinaray\\n吴语\\nייִדיש\\nYorùbá\\n粵語\\nŽemaitėška\\n中文\\nTolışi\\nEdit links\\nArticle\\nTalk\\nEnglish\\nRead\\nView source\\nView history\\nTools\\nTools\\nmove to sidebar\\nhide\\nActions\\nRead\\nView source\\nView history\\nGeneral\\nWhat links here\\nRelated changes\\nUpload file\\nSpecial pages\\nPermanent link\\nPage information\\nCite this page\\nGet shortened URL\\nDownload QR code\\nPrint/export\\nDownload as PDF\\nPrintable version\\nIn other projects\\nWikimedia Commons\\nWikinews\\nWikiquote\\nWikisource\\nWikivoyage\\nWikidata item\\nAppearance\\nmove to sidebar\\nhide\\nCoordinates\\n:\\n28°36′36″N\\n77°13′48″E\\n\\ufeff / \\ufeff\\n28.61000°N 77.23000°E\\n\\ufeff /\\n28.61000; 77.23000\\nFrom Wikipedia, the free encyclopedia\\nMegacity and union territory of India\\n\"National Capital Territory\" redirects here. For the generic term, see\\nCapital districts and territories\\n.\\nNot to be confused with\\nNew Delhi\\n, the capital of India, entirely within the limits of Delhi.\\nFor other uses, see\\nDelhi (disambiguation)\\n.\\nMegacity and union territory in India\\nDelhi\\nMegacity\\nand\\nunion territory\\nNational Capital Territory of Delhi\\nFrom top, left to right:\\nHumayun\\'s Tomb\\n;\\nQutub Minar\\n;\\nJama Masjid\\n;\\nRed Fort\\n\\'s Lahori gate;\\nIndia Gate\\n;\\nDigambar Jain Mandir\\nwith Gauri Shankar temple in the background;\\nSt. James\\' Church\\n;\\nHyderabad House\\n;\\nLotus Temple\\n, a\\nBaháʼí House of Worship\\nInteractive map of Delhi\\nCoordinates:\\n28°36′36″N\\n77°13′48″E\\n\\ufeff / \\ufeff\\n28.61000°N 77.23000°E\\n\\ufeff /\\n28.61000; 77.23000\\nCountry\\nIndia\\nRegion\\nNorth India\\nCapital,\\nDelhi Sultanate\\n1214\\nCapital,\\nMughal Empire\\n1526, intermittently with\\nAgra\\nNew Delhi\\n, capital,\\nBritish Indian Empire\\n12 December 1911\\nNew Delhi, capital,\\nDominion of India\\n1947\\nNew Delhi, capital,\\nRepublic of India\\n26 January 1950\\nUnion Territory\\n[\\n1\\n]\\n[\\n2\\n]\\n1 November 1956\\nNational Capital Territory\\n[\\n3\\n]\\n1 February 1992\\nGovernment\\n•\\xa0Body\\nGovernment of Delhi\\n•\\nLt. Governor\\nVinai Kumar Saxena\\n[\\n4\\n]\\n•\\nChief Minister\\nAtishi Marlena Singh\\n(\\nAAP\\n)\\n•\\nLegislature\\nUnicameral\\n(\\n70 seats\\n)\\n•\\nParliamentary constituency\\nLok Sabha\\n(\\n7 seats\\n)\\nRajya Sabha\\n(\\n3 seats\\n)\\nArea\\n[\\n5\\n]\\n•\\nMegacity\\nand\\nunion territory\\n1,484\\xa0km\\n2\\n(573\\xa0sq\\xa0mi)\\n•\\xa0Water\\n18\\xa0km\\n2\\n(6.9\\xa0sq\\xa0mi)\\nElevation\\n200–250\\xa0m (650–820\\xa0ft)\\nPopulation\\n(2011)\\n[\\n6\\n]\\n•\\nMegacity\\nand\\nunion territory\\n16,787,941\\n•\\xa0Estimate\\n(2024)\\n[\\n7\\n]\\n21,588,000\\n•\\xa0Density\\n11,312/km\\n2\\n(29,298/sq\\xa0mi)\\n•\\nUrban\\n[\\n8\\n]\\n16,349,831 (\\n2nd\\n)\\n•\\nMegacity\\n[\\n6\\n]\\n11,034,555 (\\n2nd\\n)\\n•\\nMetro\\n(includes part of\\nNCR\\n) (2024)\\n[\\n9\\n]\\n33,807,400 (\\n1st\\n)\\nLanguages\\n•\\xa0Official\\nHindi\\nEnglish\\n[\\n10\\n]\\n•\\xa0Additional\\xa0official\\nPunjabi\\nUrdu\\n[\\n10\\n]\\nGDP\\n(2023–24)\\n[\\n11\\n]\\n•\\nMegacity\\nand\\nunion territory\\n₹\\n1,107,746 crore\\n(US$130\\xa0billion)\\n[\\n11\\n]\\n•\\nPer Capita\\n₹\\n461,910\\n(US$5,500)\\n[\\n12\\n]\\n•\\nMetro\\n(\\nPPP\\n)\\n$521.5\\xa0billion\\n[\\n13\\n]\\nTime zone\\nUTC+5.30\\n(\\nIST\\n)\\nPINs\\n[\\n14\\n]\\n110000–110099\\nArea code\\n+91 11\\nISO 3166 code\\nIN-DL\\nVehicle registration\\nDL\\nInternational Airport\\nIndira Gandhi International Airport\\nRapid Transit\\nDelhi Metro\\nHDI\\n(2018)\\n0.839\\n[\\n15\\n]\\n(\\nVery High\\n)\\n·\\n1st\\nLiteracy\\n(2011)\\n86.21%\\n[\\n16\\n]\\nSex ratio\\n(2011)\\n868\\n♀\\n/1000\\n♂\\n[\\n16\\n]\\nWebsite\\ndelhi\\n.gov\\n.in\\nDelhi\\n,\\n[\\na\\n]\\nofficially the\\nNational Capital Territory\\n(\\nNCT\\n)\\nof Delhi\\n, is a city and a\\nunion territory\\nof India containing\\nNew Delhi\\n, the capital of India. Straddling the\\nYamuna\\nriver, but spread chiefly to the west, or beyond its\\nright bank\\n, Delhi shares borders with the state of\\nUttar Pradesh\\nin the east and with the state of\\nHaryana\\nin the remaining directions. Delhi became a union territory on 1 November 1956 and the NCT in 1995.\\n[\\n20\\n]\\nThe NCT covers an area of 1,484 square kilometres (573\\xa0sq\\xa0mi).\\n[\\n5\\n]\\nAccording to the 2011 census, Delhi\\'s city proper population was over 11\\xa0million,\\n[\\n6\\n]\\n[\\n21\\n]\\nwhile the NCT\\'s population was about 16.8\\xa0million.\\n[\\n8\\n]\\nDelhi\\'s urban agglomeration, which includes the satellite cities\\nGhaziabad\\n,\\nFaridabad\\n,\\nGurgaon\\n,\\nNoida\\n,\\nGreater Noida\\nand\\nYEIDA city\\nlocated in an area known as the\\nNational Capital Region\\n(NCR), has an estimated population of over 28\\xa0million, making it the\\nlargest metropolitan area in India\\nand the\\nsecond-largest in the world\\n(after\\nTokyo\\n).\\n[\\n22\\n]\\nThe topography of the medieval fort\\nPurana Qila\\non the banks of the river Yamuna matches the literary description of the citadel\\nIndraprastha\\nin the Sanskrit epic\\nMahabharata\\n; however, excavations in the area have revealed no signs of an ancient built environment. From the early 13th century until the mid-19th century, Delhi was the capital of two major empires, the\\nDelhi Sultanate\\nand the\\nMughal Empire\\n, which covered large parts of\\nSouth Asia\\n. All three\\nUNESCO World Heritage Sites\\nin the city, the\\nQutub Minar\\n,\\nHumayun\\'s Tomb\\n, and the\\nRed Fort\\n, belong to this period. Delhi was the early centre of\\nSufism\\nand\\nQawwali\\nmusic. The names of\\nNizamuddin Auliya\\nand\\nAmir Khusrau\\nare prominently associated with it. The\\nKhariboli\\ndialect of Delhi was part of a linguistic development that gave rise to the literature of\\nUrdu\\nand later\\nModern Standard Hindi\\n. Major Urdu poets from Delhi include\\nMir Taqi Mir\\nand\\nMirza Ghalib\\n. Delhi was a notable centre of the\\nIndian Rebellion of 1857\\n. In 1911,\\nNew Delhi\\n, a southern region within Delhi, became the capital of the\\nBritish Indian Empire\\n. During the\\nPartition of India\\nin 1947, Delhi was transformed from a Mughal city to a Punjabi one, losing two-thirds of its Muslim residents, in part due to the pressure brought to bear by arriving Hindu and Sikh refugees from western Punjab.\\n[\\n23\\n]\\nAfter independence in 1947, New Delhi continued as the capital of the\\nDominion of India\\n, and after 1950 of the\\nRepublic of India\\n.\\nDelhi ranks\\nfifth among the Indian states and union territories\\nin\\nhuman development index\\n,\\n[\\n24\\n]\\nand has the\\nsecond-highest\\nGDP per capita\\nin India (after\\nGoa\\n).\\n[\\n11\\n]\\nAlthough a\\nunion territory\\n, the political administration of the NCT of Delhi today more closely resembles that of a\\nstate of India\\n, with its own legislature, high court and an executive council of ministers headed by a\\nchief minister\\n. New Delhi is jointly administered by the federal\\ngovernment of India\\nand the local\\ngovernment of Delhi\\n, and serves as the capital of the nation as well as the NCT of Delhi. Delhi is also the centre of the National Capital Region, which is an \"interstate regional planning\" area created in 1985.\\n[\\n25\\n]\\n[\\n26\\n]\\nDelhi hosted the inaugural\\n1951 Asian Games\\n, the\\n1982 Asian Games\\n, the 1983\\nNon-Aligned Movement\\nsummit, the\\n2010 Men\\'s Hockey World Cup\\n, the\\n2010 Commonwealth Games\\n, the\\n2012 BRICS summit\\n, the\\n2023 G20 summit\\n, and was one of the major host cities of the\\n2011\\nand\\n2023 Cricket World Cups\\n.\\nToponym\\nThere are a number of myths and legends associated with the origin of the name\\nDelhi\\n. One of them is derived from\\nDhillu\\nor\\nDilu\\n, a king who built a city at this location in 50\\xa0BCE and named it after himself.\\n[\\n27\\n]\\n[\\n28\\n]\\n[\\n29\\n]\\nAnother legend holds that the name of the city is based on the\\nPrakrit\\nword\\ndhili\\n(\\nloose\\n) and that it was used by the\\nTomaras\\nto refer to the city because the\\niron pillar of Delhi\\nhad a weak foundation and had to be moved.\\n[\\n29\\n]\\nAccording to Panjab Notes and Queries, the name of the city at the time of King Prithviraj was\\ndilpat\\n, and that\\ndilpat\\nand\\ndilli\\nare probably derived from the old Hindi word\\ndil\\nmeaning \"eminence\". The former director of the Archaeological Survey of India, Alexander Cunningham, mentioned that\\ndilli\\nlater became\\ndihli/dehli\\n.\\n[\\n30\\n]\\nSome suggest the coins in circulation in the region under the Tomaras were called\\ndehliwal\\n.\\n[\\n31\\n]\\nAccording to the\\nBhavishya Purana\\n, King Prithiviraja of\\nIndraprastha\\nbuilt a new fort in the modern-day\\nPurana Qila\\narea for the convenience of all four castes in his kingdom. He ordered the construction of a gateway to the fort and later named the fort\\ndehali\\n.\\n[\\n32\\n]\\nSome historians believe that\\nDhilli\\nor\\nDhillika\\nis the original name for the city while others believe the name could be a corruption of the\\nHindustani\\nwords\\ndehleez\\nor\\ndehali\\n—both terms meaning \"threshold\" or \"gateway\"—and symbolic of the city as a gateway to the\\nGangetic Plain\\n.\\n[\\n33\\n]\\n[\\n34\\n]\\nThe people of Delhi are referred to as\\nDelhiites\\nor\\nDilliwalas\\n.\\n[\\n35\\n]\\nThe city is referenced in various idioms of the Northern\\nIndo-Aryan languages\\n. Examples include:\\nAbhī Dillī dūr hai\\n(\\nअभी दिल्ली दूर है\\n/\\nابھی دلی دور ہے\\n) or its\\nPersian\\nversion,\\nHanuz Dehli dur ast\\n(\\nهنوز دهلی دور است\\n), literally meaning \"Delhi is still far away\", which is generically said about a task or journey still far from completion.\\n[\\n36\\n]\\n[\\n37\\n]\\nĀs-pās barse, Dillī pānī tarse\\n(\\nआस-पास बरसे, दिल्ली पानी तरसे\\n/\\nآس پاس برسے، دلی پانی ترسے\\n), literally meaning \"It pours all around, while Delhi lies parched\". An allusion to the sometimes semi-arid climate of Delhi, it idiomatically refers to situations of deprivation when one is surrounded by plenty.\\n[\\n37\\n]\\nThe form\\nDelhi\\n, spelled in the\\nLatin script\\nwith the\\nh\\nfollowing the\\nl\\n, originated under colonial rule and is an alternation of the spelling based on the Urdu name of the city (\\nدہلی\\n,\\nDehli\\n).\\n[\\n38\\n]\\nHistory\\nMain articles:\\nHistory of Delhi\\nand\\nOld Delhi\\nAncient and early medieval periods\\nThe walls of the 16th-century\\nPurana Qila\\nbuilt on a mound matching ancient literary descriptions\\n[\\n39\\n]\\nTraditionally seven cities have been associated with the region of Delhi. The earliest,\\nIndraprastha\\n, is part of a literary description in the Sanskrit epic\\nMahabharata\\n(composed c. 400\\xa0BCE to 300\\xa0CE but describing an earlier time\\n[\\n40\\n]\\n) which situates a city on a knoll on the banks of the river Yamuna. According to art historian Catherine B. Asher, the topographical description of the\\nMahabharata\\nmatches the area of\\nPurana Qila\\n, a 14th-century\\xa0CE fort of the\\nDelhi sultanate\\n, but the analogy does not go much further. Whereas the\\nMahabharata\\nspeaks of a beautifully decorated city with surrounding fortifications, the excavations have yielded \"uneven findings of\\npainted grey pottery\\ncharacteristic of the eleventh century BCE; no signs of a built environment, much fewer fortifications, have been revealed.\"\\n[\\n39\\n]\\nThe earliest architectural relics date back to the\\nMaurya\\nperiod (c. 300\\xa0BCE); in 1966, an inscription of the Mauryan Emperor\\nAshoka\\n(273–235\\xa0BCE) was discovered near Srinivaspuri. Remains of several major cities can be found in Delhi. The first of these was in the southern part of present-day Delhi.\\nTomara Rajput\\nKing\\nAnang Pal\\nbuilt the\\nLal Kot\\nand several temples in 1052\\xa0CE. The\\nChauhan Rajputs\\nunder\\nVigraharaja IV\\nconquered Lal Kot in the mid-12th century and renamed it\\nQila Rai Pithora\\n.\\nLate medieval period\\nSee also:\\nDelhi Sultanate\\nThe Qutub Minar, Delhi\\nPrithviraj Chauhan\\nwas defeated in 1192 by\\nMuhammad Ghori\\nin the\\nsecond battle of Tarain\\n.\\nQutb-ud-din Aibak\\n, was given the responsibility of governing the conquered territories of India after Ghori returned to his capital,\\nGhor\\n. When Ghori died without an heir in 1206\\xa0CE, Qutb-ud-din assumed control of Ghori\\'s Indian possessions and laid the foundation of the\\nDelhi Sultanate\\nand the\\nMamluk dynasty\\n. He began construction of the\\nQutb Minar\\nand\\nQuwwat-al-Islam\\n(Might of Islam) mosque, the earliest extant mosque in India. It was his successor,\\nIltutmish\\n(1211–1236), who consolidated the conquest of northern India.\\n[\\n27\\n]\\n[\\n41\\n]\\nAt 72.5\\xa0m (238\\xa0ft), the\\nQutb Minar\\n, a\\nUNESCO World Heritage Site\\nin Delhi,\\n[\\n42\\n]\\nwas completed during the reign of Sultan\\nIlltutmish\\nin the 13th century. Although its style has some similarities with the\\nJarkurgan minaret\\n, it is more closely related to the\\nGhaznavid\\nand\\nGhurid\\nminarets of\\nCentral Asia\\n[\\n43\\n]\\nRazia\\n, daughter of Iltutmish, became the Sultana of Delhi upon the former\\'s death.\\nFor the next three hundred years, Delhi was ruled by a succession of\\nTurkic\\n,\\nIndian\\nand an\\nAfghan\\n,\\nLodi dynasty\\n. They built several forts and townships that are part of the\\nseven cities of Delhi\\n.\\n[\\n44\\n]\\nDelhi was a major centre of\\nSufism\\nduring this period.\\n[\\n45\\n]\\nThe\\nMamluk Sultanate (Delhi)\\nwas overthrown in 1290 by\\nJalal ud din Firuz Khalji\\n(1290–1320). Under the second Khalji ruler,\\nAla-ud-din Khalji\\n, the Delhi sultanate extended its control south of the\\nNarmada River\\nin the\\nDeccan\\n. The Delhi sultanate reached its greatest extent during the reign of\\nMuhammad bin Tughluq\\n(1325–1351). In an attempt to bring the whole of the Deccan under control, he moved his capital to\\nDaulatabad, Maharashtra\\nin central India. However, by moving away from Delhi he lost control of the north and was forced to return to Delhi to restore order. The southern provinces then broke away. In the years following the reign of\\nFiroz Shah Tughlaq\\n(1351–1388), the\\nDelhi Sultanate\\nrapidly began to lose its hold over its northern provinces. Delhi was captured and sacked by\\nTimur\\nin 1398,\\n[\\n46\\n]\\nwho massacred 100,000 captive civilians.\\n[\\n47\\n]\\nDelhi\\'s decline continued under the\\nSayyid dynasty\\n(1414–1451), until the sultanate was reduced to Delhi and its hinterland. Under the Afghan\\nLodi dynasty\\n(1451–1526), the sultanate recovered control of Punjab and the\\nGangetic plain\\nto once again achieve domination over Northern India. However, the recovery was short-lived and the sultanate was destroyed in 1526 by\\nBabur\\n, founder of the\\nMughal dynasty\\n.\\n[\\ncitation needed\\n]\\nEarly modern period\\nSee also:\\nMughal Empire\\nRed Fort\\n, a\\nUNESCO World Heritage Site\\n, was the main residence of the\\nMughal emperors\\nfor nearly 200 years.\\nIn 1526,\\nBabur\\n, a descendant of\\nGenghis Khan\\nand\\nTimur\\nfrom the\\nFergana Valley\\nin modern-day\\nUzbekistan\\n, invaded India and defeated the last Lodhi sultan in the\\nFirst Battle of Panipat\\nand founded the\\nMughal Empire\\nthat ruled from Delhi and\\nAgra\\n.\\n[\\n27\\n]\\nThe Mughal dynasty ruled Delhi for more than three centuries, with a sixteen-year hiatus during the reigns of\\nSher Shah Suri\\nand\\nHemu\\nfrom 1540 to 1556.\\n[\\n48\\n]\\nShah Jahan\\nbuilt the seventh city of Delhi that bears his name\\nShahjahanabad\\n, which served as the capital of the Mughal Empire from 1638 and is today known as the\\nOld City\\nor\\nOld Delhi\\n.\\n[\\n49\\n]\\nAfter the death of\\nAurangzeb\\nin 1707, the Mughal Empire\\'s influence declined rapidly as the Hindu\\nMaratha Empire\\nfrom\\nDeccan Plateau\\nrose to prominence.\\n[\\n50\\n]\\nIn 1737, Maratha forces led by\\nBaji Rao I\\nsacked Delhi following their victory against the Mughals in the First Battle of Delhi. In 1739, the Mughal Empire lost the huge\\nBattle of Karnal\\nin less than three hours against the numerically outnumbered but militarily superior Persian army led by\\nNader Shah\\nof\\nPersia.\\nAfter his\\ninvasion\\n, he\\ncompletely sacked and looted Delhi\\n, carrying away immense wealth including the\\nPeacock Throne\\n, the\\nDaria-i-Noor\\n, and\\nKoh-i-Noor\\n. The Mughals, severely further weakened, could never overcome this crushing defeat and humiliation which also left the way open for more invaders to come, including eventually the\\nBritish\\n.\\n[\\n51\\n]\\n[\\n52\\n]\\n[\\n53\\n]\\nNader\\neventually agreed to leave the city and India after forcing the Mughal emperor\\nMuhammad Shah\\nI to beg him for mercy and granting him the keys of the city and the royal treasury.\\n[\\n54\\n]\\nA treaty signed in 1752 made Marathas the protectors of the Mughal throne in Delhi.\\n[\\n55\\n]\\nThe city was sacked again in 1757 by the forces of\\nAhmad Shah Durrani\\n, although it was not annexed by the\\nAfghan Empire\\nand being its vassal state under the Mughal emperor. Then the Marathas battled and\\nwon\\ncontrol of Delhi from the Afghans.\\n[\\n56\\n]\\nColonial period\\nSee also:\\nBritish Raj\\nBritish India\\nstamps, inauguration, New Delhi, February 1931\\nIn 1803, during the\\nSecond Anglo-Maratha War\\n, the forces of\\nBritish East India Company\\ndefeated the Maratha forces in the\\nBattle of Delhi\\n.\\n[\\n57\\n]\\nDuring the\\nIndian Rebellion of 1857\\n, Delhi fell to the forces of East India Company after a bloody fight known as the\\nSiege of Delhi\\n. The city came under the direct control of the\\nBritish Government\\nin 1858. It was made a district province of the\\nPunjab\\n.\\n[\\n27\\n]\\nIn 1911, it was announced that the capital of British-held territories in India was to be transferred from\\nCalcutta\\nto Delhi.\\n[\\n58\\n]\\nThis formally transferred on 12 December 1911.\\n[\\n59\\n]\\nThe name \"New Delhi\" was given in 1927, and the new capital was inaugurated on 13 February 1931.\\nNew Delhi\\nwas officially declared as the capital of the\\nUnion of India\\nafter the country gained\\nindependence\\non 15 August 1947.\\n[\\n60\\n]\\nIt has expanded since; the small part of it that was constructed during the British period has come to be informally known as\\nLutyens\\' Delhi\\n.\\n[\\n61\\n]\\nPartition and post-independence\\nKhan Market\\nin New Delhi, now a high-end shopping district, was established in 1951 to help refugees of the\\nPartition of India\\n, especially those from the\\nNorth West Frontier Province\\n(NWFP). It honours\\nKhan Abdul Jabbar Khan\\n, chief minister of NWFP during the Partition.\\n[\\n62\\n]\\n[\\n63\\n]\\nDuring the\\npartition of India\\n, around five hundred thousand Hindu and Sikh refugees, mainly from\\nWest Punjab\\nfled to Delhi, while around three hundred thousand Muslim residents of the city migrated to Pakistan.\\n[\\n64\\n]\\n[\\n65\\n]\\nEthnic Punjabis are believed to account for at least 40% of Delhi\\'s total population and are predominantly\\nHindi\\n-speaking\\nPunjabi Hindus\\n.\\n[\\n66\\n]\\n[\\n67\\n]\\n[\\n68\\n]\\nMigration to Delhi from the rest of India continues (as of 2013\\n[update]\\n), contributing more to the rise of Delhi\\'s population than the birth rate, which is declining.\\n[\\n69\\n]\\nThe\\nStates Reorganisation Act, 1956\\ncreated the Union Territory of Delhi from its predecessor, the\\nChief Commissioner\\'s Province\\nof Delhi\\n.\\n[\\n1\\n]\\n[\\n2\\n]\\nThe Constitution (Sixty-ninth Amendment) Act, 1991 declared the Union Territory of Delhi to be formally known as the National Capital Territory of Delhi.\\n[\\n3\\n]\\nThe Act gave Delhi its legislative assembly along Civil lines, though with limited powers.\\n[\\n3\\n]\\nDelhi was the primary site in the nationwide\\nanti-Sikh pogroms\\nof 1984, which resulted in the death of around 2,800 people in the city according to government figures, though independent estimates of the number of people killed tend to be higher. The riots were set off by the\\nassassination of Indira Gandhi\\n—the Prime Minister of India at the time—by her Sikh bodyguards.\\n[\\n70\\n]\\nIn 2001, the\\nParliament of India\\nbuilding in New Delhi was\\nattacked\\nby armed militants, killing six security personnel.\\n[\\n71\\n]\\nIndia suspected Pakistan-based Jihadist militant groups were behind the attack, which caused a major\\ndiplomatic crisis\\nbetween the two countries.\\n[\\n72\\n]\\nThere were further terrorist attacks in Delhi in\\n2005\\nand\\n2008\\n, resulting in a total of 92 deaths.\\n[\\n73\\n]\\n[\\n74\\n]\\nIn 2020,\\nDelhi witnessed worst communal violence\\nin decades. The riots, caused mainly by Hindu mobs attacking Muslims,\\n[\\n75\\n]\\n[\\n76\\n]\\n53 people were killed, two-thirds were Muslims,\\n[\\n77\\n]\\n[\\n78\\n]\\n[\\n79\\n]\\nand the rest\\nHindus\\n.\\n[\\n78\\n]\\nGeography\\nMain article:\\nEnvironment of Delhi\\nAerial view of Delhi in April 2016 with river\\nYamuna\\nin top-right\\nDelhi is located in\\nNorthern India\\n, at\\n28°37′N\\n77°14′E\\n\\ufeff / \\ufeff\\n28.61°N 77.23°E\\n\\ufeff /\\n28.61; 77.23\\n. The city is bordered on its northern, western, and southern sides by the\\nstate\\nof\\nHaryana\\nand to the east by that of\\nUttar Pradesh\\n(UP). Two prominent features of the geography of Delhi are the Yamuna flood plains and the\\nDelhi ridge\\n. The\\nYamuna River\\nwas the historical boundary between\\nPunjab\\nand UP, and its flood plains provide fertile alluvial soil suitable for agriculture but, are prone to recurrent floods. The Yamuna, a sacred river in\\nHinduism\\n, is the only major river flowing through Delhi. The\\nHindon River\\nseparates Ghaziabad from the eastern part of Delhi. The Delhi ridge originates from the\\nAravalli Range\\nin the south and encircles the west, northeast, and northwest parts of the city. It reaches a height of 318\\xa0m (1,043\\xa0ft) and is a dominant feature of the region.\\n[\\n80\\n]\\nIn addition to the wetlands formed by the Yamuna River, Delhi continues to retain over 500 ponds (wetlands < 5\\xa0ha (12 acres)), that in turn support a considerable number of bird species.\\n[\\n81\\n]\\nDelhi\\'s ponds, despite experiencing ecological deterioration due to garbage dumping and concretisation, support the largest number of bird species known to be using ponds anywhere in the world.\\n[\\n82\\n]\\nExisting policy in Delhi prevents the conversion of wetlands and, quite inadvertently, has led to the city\\'s ponds becoming invaluable refugia for birds.\\n[\\n81\\n]\\n[\\n82\\n]\\nThe National Capital Territory of Delhi covers an area of 1,483\\xa0km\\n2\\n(573\\xa0sq\\xa0mi), of which 783\\xa0km\\n2\\n(302\\xa0sq\\xa0mi) is designated rural, and 700\\xa0km\\n2\\n(270\\xa0sq\\xa0mi) urban therefore making it the largest city in terms of area in the country. It has a length of 51.9\\xa0km (32\\xa0mi) and a width of 48.48\\xa0km (30\\xa0mi).\\n[\\ncitation needed\\n]\\nDelhi is included in India\\'s\\nseismic zone-IV\\n, indicating its vulnerability to major earthquakes.\\n[\\n83\\n]\\nClimate\\nSee also:\\nClimate of Delhi\\nDelhi features a dry winter\\nhumid subtropical climate\\n(\\nKöppen\\nCwa\\n) bordering a\\nhot semi-arid climate\\n(\\nKöppen\\nBSh\\n). The warm season lasts from 21 March to 15 June with an average daily high temperature above 39\\xa0°C (102\\xa0°F). The hottest day of the year is usually witnessed between 26 and 30 May, with an average high of 42\\xa0°C (108\\xa0°F) and low of 27\\xa0°C (81\\xa0°F).\\n[\\n84\\n]\\nThe cold season lasts from 26 November to 9 February with an average daily high temperature below 20\\xa0°C (68\\xa0°F). The coldest day of the year is usually witnessed between 1 and 10 January, with an average low of 6.9\\xa0°C (44.4\\xa0°F) and high of 19.3\\xa0°C (66.7\\xa0°F).\\n[\\n84\\n]\\nIn early March, the wind direction changes from north-westerly to south-westerly. From April to October the weather is hot. The monsoon arrives at the end of June, along with an increase in humidity.\\n[\\ncitation needed\\n]\\nThe brief, mild winter starts in late November, peaks in January and heavy fog often occurs.\\n[\\n85\\n]\\nDelhi receives an average annual precipitation of 774.4\\xa0mm (30.49\\xa0in).\\n[\\n86\\n]\\nv\\nt\\ne\\nClimate data for New Delhi (\\nSafdarjung\\n) 1991–2020, extremes 1901–present\\nMonth\\nJan\\nFeb\\nMar\\nApr\\nMay\\nJun\\nJul\\nAug\\nSep\\nOct\\nNov\\nDec\\nYear\\nRecord high °C (°F)\\n32.5\\n(90.5)\\n34.1\\n(93.4)\\n40.6\\n(105.1)\\n45.6\\n(114.1)\\n47.2\\n(117.0)\\n46.7\\n(116.1)\\n45.0\\n(113.0)\\n42.0\\n(107.6)\\n40.6\\n(105.1)\\n39.4\\n(102.9)\\n36.1\\n(97.0)\\n30.0\\n(86.0)\\n47.2\\n(117.0)\\nMean maximum °C (°F)\\n25.8\\n(78.4)\\n29.5\\n(85.1)\\n35.8\\n(96.4)\\n41.4\\n(106.5)\\n44.3\\n(111.7)\\n43.7\\n(110.7)\\n40.1\\n(104.2)\\n37.4\\n(99.3)\\n37.1\\n(98.8)\\n36.1\\n(97.0)\\n32.2\\n(90.0)\\n27.3\\n(81.1)\\n44.8\\n(112.6)\\nMean daily maximum °C (°F)\\n20.1\\n(68.2)\\n24.2\\n(75.6)\\n29.9\\n(85.8)\\n36.5\\n(97.7)\\n39.9\\n(103.8)\\n39.0\\n(102.2)\\n35.6\\n(96.1)\\n34.2\\n(93.6)\\n34.1\\n(93.4)\\n33.0\\n(91.4)\\n28.4\\n(83.1)\\n22.8\\n(73.0)\\n31.4\\n(88.5)\\nDaily mean °C (°F)\\n13.9\\n(57.0)\\n17.6\\n(63.7)\\n22.9\\n(73.2)\\n29.1\\n(84.4)\\n32.7\\n(90.9)\\n33.3\\n(91.9)\\n31.5\\n(88.7)\\n30.4\\n(86.7)\\n29.6\\n(85.3)\\n26.2\\n(79.2)\\n20.5\\n(68.9)\\n15.6\\n(60.1)\\n25.3\\n(77.5)\\nMean daily minimum °C (°F)\\n7.5\\n(45.5)\\n10.6\\n(51.1)\\n15.6\\n(60.1)\\n21.3\\n(70.3)\\n25.8\\n(78.4)\\n27.7\\n(81.9)\\n27.5\\n(81.5)\\n26.7\\n(80.1)\\n25.0\\n(77.0)\\n19.5\\n(67.1)\\n13.0\\n(55.4)\\n8.4\\n(47.1)\\n18.9\\n(66.0)\\nMean minimum °C (°F)\\n3.5\\n(38.3)\\n6.0\\n(42.8)\\n10.7\\n(51.3)\\n16.3\\n(61.3)\\n20.5\\n(68.9)\\n22.2\\n(72.0)\\n24.3\\n(75.7)\\n23.7\\n(74.7)\\n21.9\\n(71.4)\\n15.0\\n(59.0)\\n8.8\\n(47.8)\\n4.5\\n(40.1)\\n3.1\\n(37.6)\\nRecord low °C (°F)\\n−0.6\\n(30.9)\\n1.6\\n(34.9)\\n4.4\\n(39.9)\\n10.7\\n(51.3)\\n15.1\\n(59.2)\\n17.6\\n(63.7)\\n20.3\\n(68.5)\\n20.7\\n(69.3)\\n16.1\\n(61.0)\\n9.4\\n(48.9)\\n3.9\\n(39.0)\\n0.0\\n(32.0)\\n−0.6\\n(30.9)\\nAverage rainfall mm (inches)\\n19.1\\n(0.75)\\n21.3\\n(0.84)\\n17.4\\n(0.69)\\n16.3\\n(0.64)\\n30.7\\n(1.21)\\n74.1\\n(2.92)\\n209.7\\n(8.26)\\n233.1\\n(9.18)\\n123.5\\n(4.86)\\n15.1\\n(0.59)\\n6.0\\n(0.24)\\n8.1\\n(0.32)\\n774.4\\n(30.5)\\nAverage rainy days\\n1.7\\n1.5\\n1.7\\n1.0\\n2.7\\n4.8\\n9.7\\n10.2\\n5.5\\n0.8\\n0.4\\n0.6\\n40.6\\nAverage\\nrelative humidity\\n(%)\\n(at 17:30\\nIST\\n)\\n57\\n46\\n37\\n25\\n28\\n43\\n63\\n68\\n60\\n47\\n52\\n59\\n49\\nAverage\\ndew point\\n°C (°F)\\n8\\n(46)\\n11\\n(52)\\n14\\n(57)\\n14\\n(57)\\n18\\n(64)\\n22\\n(72)\\n26\\n(79)\\n25\\n(77)\\n23\\n(73)\\n18\\n(64)\\n14\\n(57)\\n10\\n(50)\\n17\\n(62)\\nMean monthly\\nsunshine hours\\n220.1\\n223.2\\n248.0\\n276.0\\n285.2\\n219.0\\n179.8\\n176.7\\n219.0\\n260.4\\n246.0\\n220.1\\n2,773.5\\nMean daily\\nsunshine hours\\n7.1\\n7.9\\n8.0\\n9.2\\n9.2\\n7.3\\n5.8\\n5.7\\n7.3\\n8.4\\n8.2\\n7.1\\n7.6\\nMean daily\\ndaylight hours\\n10.6\\n11.2\\n12.0\\n12.9\\n13.6\\n13.9\\n13.8\\n13.1\\n12.3\\n11.5\\n10.7\\n10.3\\n12.2\\nPercent\\npossible sunshine\\n67\\n71\\n67\\n71\\n68\\n53\\n42\\n44\\n59\\n73\\n77\\n69\\n63\\nAverage\\nultraviolet index\\n3\\n5\\n6\\n7\\n9\\n9\\n8\\n7\\n6\\n5\\n4\\n3\\n6\\nSource 1:\\nIndia Meteorological Department\\n(sun 1971–2000);\\n[\\n87\\n]\\n[\\n88\\n]\\n[\\n89\\n]\\n[\\n90\\n]\\n[\\n91\\n]\\n[\\n92\\n]\\n[\\n93\\n]\\n[\\n94\\n]\\n[\\n95\\n]\\n[\\n96\\n]\\n[\\n97\\n]\\n[\\n98\\n]\\n[\\n99\\n]\\n[\\n100\\n]\\nTime and Date (dewpoints, 2005–2015)\\n[\\n101\\n]\\nRevised Rainfall data\\n[\\n102\\n]\\nSource 2: Tokyo Climate Center (mean temperatures 1991–2020)\\n[\\n103\\n]\\nWeather Atlas (UV Index)\\n[\\n104\\n]\\n(Daylight)\\n[\\n105\\n]\\nAir pollution\\nSee also:\\nEnvironmental issues in Delhi\\nand\\nAir pollution in Delhi\\nA dense toxic smog in Delhi blocking out the sun, November 2017\\nAccording to the\\nWorld Health Organization\\n(WHO), Delhi was the most polluted\\n[\\n106\\n]\\ncity in the world in 2014. In 2016, WHO downgraded Delhi to eleventh-worst in the urban air quality database.\\n[\\n107\\n]\\nHowever, as recently as 2022, data from the WHO and IQAir, alongside comprehensive research, ranked Delhi as the fourth most polluted city globally.\\n[\\n108\\n]\\nAccording to one estimate, air pollution causes the death of about 10,500 people every year.\\n[\\n109\\n]\\n[\\n110\\n]\\n[\\n111\\n]\\nAir quality index\\nis generally moderate (101–200) level between January and September, and then it drastically deteriorates to Very Poor (301–400), Severe (401–500) or Hazardous (500+) levels in three months between October and December,\\n[\\n112\\n]\\n[\\n113\\n]\\ndue to various factors including\\nstubble burning\\n(a type of\\nbiomass burning\\n), fire crackers burning during Diwali and cold weather.\\n[\\n114\\n]\\n[\\n115\\n]\\n[\\n116\\n]\\nDuring 2013–14, peak levels of fine\\nparticulate matter\\n(PM) increased by about 44%, primarily due to high vehicular and industrial emissions, construction work and crop burning in adjoining states.\\n[\\n109\\n]\\n[\\n117\\n]\\n[\\n118\\n]\\n[\\n119\\n]\\nIt has the highest level of the airborne particulate matter,\\nPM2.5\\nconsidered most harmful to health, with 153 micrograms.\\n[\\n120\\n]\\nRising air pollution level has significantly increased lung-related ailments (especially asthma and lung cancer) among Delhi\\'s children and women.\\n[\\n121\\n]\\n[\\n122\\n]\\nThe dense\\nsmog\\nand\\nhaze\\nduring winter results in major air and rail traffic disruptions every year.\\n[\\n123\\n]\\nAccording to Indian meteorologists, the average maximum temperature during winters has declined notably since 1998 due to rising air pollution.\\n[\\n124\\n]\\nIndia\\'s\\nMinistry of Earth Sciences\\npublished a research paper in October 2018 attributing almost 41% of PM2.5 air pollution in Delhi to vehicular emissions, 21.5% to dust/fire and 18% to industries.\\n[\\n125\\n]\\nThe director of\\nCentre for Science and Environment\\n(CSE) alleged that the\\nSociety of Indian Automobile Manufacturers\\n(SIAM) is lobbying \"against the report\" because it is \"inconvenient\" to the automobile industry.\\n[\\n126\\n]\\nEnvironmentalists have also criticised the Delhi government for not doing enough to curb air pollution and to inform people about air quality issues.\\n[\\n110\\n]\\nIn 2014, an environmental panel appealed to India\\'s Supreme Court to impose a 30%\\ncess\\non diesel cars, but till date no action has been taken to penalise the automobile industry.\\n[\\n127\\n]\\nMost of Delhi\\'s residents are unaware of alarming levels of air pollution in the city and the health risks associated with it.\\n[\\n118\\n]\\n[\\n119\\n]\\nIn 2020, annual average\\nPM2.5\\nin the city stood at 107.6\\xa0μg/m\\n3\\n, which is almost 21.5 times the WHO\\'s PM2.5 Guideline (5\\xa0μg/m\\n3\\n; set in September 2021).\\n[\\n128\\n]\\nThese pollution levels are estimated to reduce the\\nlife expectancy\\nof an average person living in Delhi by almost 10.1 years.\\n[\\n128\\n]\\nHowever, as of 2015\\n[update]\\n, awareness, particularly among the foreign diplomatic community and high-income Indians, was noticeably increasing.\\n[\\n129\\n]\\nSince the mid-1990s, Delhi has undertaken some measures to curb air pollution—it has the third-highest quantity of trees among Indian cities;\\n[\\n130\\n]\\nthe\\nDelhi Transport Corporation\\noperates the world\\'s largest fleet of environmentally friendly\\ncompressed natural gas\\n(CNG) buses.\\n[\\n131\\n]\\nIn 1996, the CSE started a public interest litigation in the\\nSupreme Court of India\\nthat ordered the conversion of Delhi\\'s fleet of buses and taxis to run on CNG and banned the use of\\nleaded petrol\\nin 1998. In 2003, Delhi won the\\nUnited States Department of Energy\\n\\'s first \\'Clean Cities International Partner of the Year\\' award for its \"bold efforts to curb air pollution and support alternative fuel initiatives\".\\n[\\n131\\n]\\nThe\\nDelhi Metro\\nhas also been credited for significantly reducing air pollutants in the city.\\n[\\n132\\n]\\nHowever, according to several authors, most of these gains have been lost, especially due to\\nstubble burning\\n, a rise in the market share of\\ndiesel cars\\nand a considerable decline in bus ridership.\\n[\\n133\\n]\\n[\\n134\\n]\\nAccording to CSE and System of Air Quality Weather Forecasting and Research (SAFAR), burning of agricultural waste in nearby Punjab, Haryana and Uttar Pradesh regions results in severe intensification of smog over Delhi.\\n[\\n135\\n]\\n[\\n136\\n]\\nDelhi has been ranked 7th best \"National Clean Air City\" (under Category 1 >10L Population cities) in India according to \\'Swachh Vayu Survekshan 2024 Results\\'\\n[\\n137\\n]\\nCivic administration\\nSee also:\\nList of districts of Delhi\\n,\\nList of neighbourhoods of Delhi\\n, and\\nList of towns in National Capital Territory of Delhi\\nDistricts of Delhi\\nCurrently, the NCT of Delhi is made up of one\\ndivision\\n,\\n11 districts\\n, 33\\nsubdivisions\\n, 59\\xa0census towns, and 300\\xa0villages.\\n[\\n138\\n]\\nOn the other way, the NCT of Delhi is divided into three municipalities. The boundaries of municipalities may be different from district boundaries:\\nMunicipal Corporation of Delhi\\n(MCD), which occupies an area of 1,397.3\\xa0km\\n2\\n(539.5\\xa0sq\\xa0mi) and is sub-divided into 12 zones, that is, Centre, South, West, Najafgarh, Rohini, Civil Lines, Karol Bagh, SP-City, Keshavpuram, Narela, Shahdara North and Shahdara South.\\n[\\n139\\n]\\nShelly Oberoi\\n, is the current\\nmayor\\nof the unified\\nMunicipal Corporation of Delhi\\nsince 2023.\\n[\\n140\\n]\\nNew Delhi Municipality\\n, which occupies an area of 42.7\\xa0km\\n2\\n(16.5\\xa0sq\\xa0mi)\\nDelhi Cantonment\\n, which occupies an area of 42.3\\xa0km\\n2\\n(16.3\\xa0sq\\xa0mi)\\nBetween 13 January 2011 and 22 May 2022, MCD was divided into three municipal corporations:\\n[\\n141\\n]\\nSouth Delhi Municipal Corporation\\n(SDMC) had jurisdiction over South and West Delhi areas, including Mahipalpur, Rajouri Garden, Uttam Nagar, Badarpur, Jaitpur, Janakpuri, Hari Nagar, Tilak Nagar, Dwarka, Jungpura, Greater Kailash, R K Puram, Malviya Nagar, Kalkaji, Ambedkar Nagar and Pul pehladpur.\\nNorth Delhi Municipal Corporation\\n(NDMC) had jurisdiction over areas such as Badli, Rithala, Bawana, Kirari, Mangolpuri, Tri Nagar, Model Town, Sadar Bazar, Chandni Chowk, Matia Mahal, Karol Bagh, Moti Nagar\\nEast Delhi Municipal Corporation\\n(EDMC) had jurisdiction over areas such as Patparganj, Kondli, Laxmi Nagar, Seemapuri, Gonda, Karawal Nagar, Babarpur and Shahadra.\\n[\\n142\\n]\\nDelhi is home to the\\nHigh Court of Delhi\\n. The High Court of Delhi is the highest in the Delhi before Supreme Court. The High Court of Delhi just like the apex court and other High Courts in India is the Court of record. Delhi is also home to various District Court according to jurisdictions. Delhi have Currently seven\\nDistrict Courts\\nnamely Tis Hazari Court Complex, Karkardooma Court Complex, Patiala House Court Complex, Rohini Court Complex, Dwarka Courts Complex, Saket Court Complex, and Rouse Avenue Court \\nApart from the District Courts Delhi also have Consumer Courts, CBI Courts, Labour Courts, Revenue Courts, Army tribunals, electricity tribunals, Railway Tribunals, and other various tribunals situated according to appropriate jurisdictions.\\n[\\n143\\n]\\n[\\n144\\n]\\nFor policing purposes Delhi is divided into fifteen\\npolice districts\\nwhich are further subdivided into 95 local police station zones. Delhi currently has 180 police stations.\\n[\\n145\\n]\\n[\\n146\\n]\\nGovernment and politics\\nMain articles:\\nGovernment of Delhi\\nand\\nGovernment of India\\nDelhi Legislative Assembly\\nAs a first-level administrative division, the National Capital Territory of Delhi has its own\\nLegislative Assembly\\n,\\nLieutenant Governor\\n, the council of ministers, and\\nChief Minister\\n. Members of the legislative assembly are directly elected from territorial constituencies in the NCT. The legislative assembly was abolished in 1956, after which direct federal control was implemented until it was re-established in 1993. The municipal corporation handles civic administration for the city as part of the\\nPanchayati Raj Act\\n. The\\nGovernment of India\\nand the\\nGovernment of National Capital Territory of Delhi\\njointly administer New Delhi, where both bodies are located. The\\nParliament of India\\n, the\\nRashtrapati Bhavan\\n(Presidential Palace),\\nCabinet Secretariat\\n, and the Supreme Court of India are located in the municipal district of New Delhi. There are 70 assembly constituencies and seven\\nLok Sabha\\n(Indian Parliament\\'s lower house) constituencies in Delhi.\\n[\\n147\\n]\\n[\\n148\\n]\\nThe\\nIndian National Congress\\n(Congress) formed all the governments in Delhi until the 1990s, when the\\nBharatiya Janata Party\\n(BJP), led by\\nMadan Lal Khurana\\n, came to power.\\n[\\n149\\n]\\nIn 1998, the Congress returned to power under the leadership of\\nSheila Dikshit\\n, who was subsequently re-elected for 3 consecutive terms. But in\\n2013\\n, the Congress was ousted from power by the newly formed\\nAam Aadmi Party\\n(AAP) led by\\nArvind Kejriwal\\nforming the government with outside support from the Congress.\\n[\\n150\\n]\\nHowever, that government was short-lived, collapsing only after 49 days.\\n[\\n151\\n]\\nDelhi was then under\\nPresident\\'s rule\\nuntil February 2015,\\n[\\n152\\n]\\nafter which AAP returned to power after a landslide victory, winning 67 out of the 70 seats in the\\nDelhi Legislative Assembly\\n.\\n[\\n153\\n]\\nAAP holds power ever since.\\n[\\n154\\n]\\nEconomy\\nMain article:\\nEconomy of Delhi\\nThe\\nKhari Baoli\\nmarket in Old Delhi is one of the oldest and busiest in the city.\\nConnaught Place\\nin New Delhi is an important economic hub of the\\nNational Capital Region\\n.\\nDelhi is the largest commercial center in northern India. As of 2016\\n[update]\\nrecent estimates of the economy of the Delhi urban area have ranged from $370\\xa0billion to $400\\xa0billion (\\nPPP\\nmetro GDP\\n) ranking it either the\\nmost or second-most productive metro area\\nof India.\\n[\\n155\\n]\\n[\\n156\\n]\\nThe nominal\\nGSDP\\nof the NCT of Delhi for 2016–17 was estimated at\\n₹\\n6,224 billion\\n(US$75\\xa0billion), 13% higher than in 2015–16.\\n[\\n157\\n]\\nOxford Economics Global Cities index 2024 ranked Delhi as best city in India and 108th best city in the world in Economics Category.\\nAs per the Economic survey of Delhi (2005–2006), the\\ntertiary sector\\ncontributes 70.95% of Delhi\\'s gross SDP followed by\\nsecondary\\nand\\nprimary\\nsectors with 25.20% and 3.85% contributions, respectively.\\n[\\n158\\n]\\nDelhi\\'s workforce constitutes 32.82% of the population, and increased by 52.52% between 1991 and 2001.\\n[\\n159\\n]\\nDelhi\\'s unemployment rate decreased from 12.57% in 1999–2000 to 4.63% in 2003.\\n[\\n159\\n]\\nIn December 2004, 636,000 people were registered with various employment exchange programmes in Delhi.\\n[\\n159\\n]\\nIn 2018 the total workforce in national and state governments and the quasi-government sector was 594,000, and the private sector employed 273,000.\\n[\\n160\\n]\\nKey service industries are information technology, telecommunications, hotels, banking, media and tourism.\\n[\\n161\\n]\\nConstruction, power, health and community services and real estate are also important to the city\\'s economy. Delhi has one of India\\'s largest and fastest growing retail industries.\\n[\\n162\\n]\\nManufacturing also grew considerably as consumer goods companies established manufacturing units and headquarters in the city. Delhi\\'s large consumer market and the availability of skilled labour has also attracted foreign investment. In 2001, the manufacturing sector employed 1,440,000 workers and the city had 129,000 industrial units.\\n[\\n163\\n]\\nUtility services\\nSee also:\\nBhalswa landfill\\nDelhi\\'s municipal water supply is managed by the\\nDelhi Jal Board\\n(DJB). As of June\\xa02005\\n[update]\\n, it supplied 650\\xa0million gallons per day (MGD), whereas the estimated consumption requirement is 963\\xa0MGD.\\n[\\n164\\n]\\nThe shortfall is met by private and public\\ntube wells\\nand\\nhand pumps\\n. At 240\\xa0MGD, the Bhakra storage is DJB\\'s largest water source, followed by the Yamuna and\\nGanges\\nrivers. Delhi\\'s\\ngroundwater\\nlevel is falling and its population density is increasing, so residents often encounter acute water shortage.\\n[\\n164\\n]\\nResearch on Delhi suggests that up to half of the city\\'s water use is unofficial groundwater.\\n[\\n165\\n]\\nIn Delhi, daily domestic solid waste production is 8000\\ntonnes\\nwhich is dumped at three\\nlandfill\\nlocations by MCD.\\n[\\n166\\n]\\nThe daily domestic waste water production is 470\\xa0MGD and industrial waste water is 70\\xa0MGD.\\n[\\n167\\n]\\nA large portion of the sewage flows untreated into the Yamuna river.\\n[\\n167\\n]\\nThe city\\'s electricity consumption is about 1,265\\xa0kWh per capita but the actual demand is higher.\\n[\\n168\\n]\\nIn Delhi power distribution is managed by\\nTPDDL\\nand\\nBSES Yamuna\\n&\\nBSES Rajdhani\\nsince 2002, transmission of power is done by\\nDelhi Transco Limited\\nand\\nPowergrid\\n, while generation of power is by\\nIPGCL\\nand\\nPPCL\\n. The city also imports a significant  quantum of power from other states.\\n[\\ncitation needed\\n]\\nThe\\nDelhi Fire Service\\nruns 43 fire stations that attend about 15,000 fire and rescue calls per year.\\n[\\n169\\n]\\nThe state-owned\\nMTNL\\nand private enterprises such as\\nAirtel\\n,\\nVi\\n,\\nJio\\n, and provide telephone and cell phone services to the city. Cellular coverage is available in\\nGSM\\n,\\n3G\\n,\\n4G\\n,\\n4G+\\nand\\n5G\\n.\\n[\\ncitation needed\\n]\\nTransport\\nMain article:\\nTransport in Delhi\\nAir\\nIndira Gandhi International Airport\\n\\'s immigration counter in Terminal 3\\n[\\n170\\n]\\nIndira Gandhi International Airport\\n, situated to the south-west of Delhi, is the main gateway for the city\\'s domestic and international civilian air traffic. In 2015–16, the airport handled more than 48\\xa0million passengers,\\n[\\n171\\n]\\nmaking it the busiest airport in India and South Asia. Terminal 3, which cost\\n₹\\n96.8 billion\\n(US$1.2\\xa0billion) to construct between 2007 and 2010, handles an additional 37\\xa0million passengers annually.\\n[\\n172\\n]\\nIn 2010, IGIA was conferred the 4th best airport award in the world in the 15–25\\xa0million category, by\\nAirports Council International\\n. The airport was rated as the\\nBest airport in the world\\nin the 25–40\\xa0million passengers category in 2015, by Airports Council International. Delhi Airport was awarded\\nThe Best Airport in Central Asia\\nand\\nBest Airport Staff in Central Asia\\nat the\\nSkytrax\\nWorld Airport Awards 2015.\\n[\\n173\\n]\\n[\\n174\\n]\\nHindon Domestic Airport\\nin Ghaziabad was inaugurated by Prime Minister Narendra Modi as the second airport for the Delhi-NCR Region on 8 March 2019.\\n[\\n175\\n]\\nA second international airport open for commercial flights has been suggested either by expansion of\\nMeerut Airport\\nor construction of a new airport in\\nGreater Noida\\n.\\n[\\n176\\n]\\nThe\\nTaj International Airport\\nproject in\\nJewar\\nhas been approved by the\\nUttar Pradesh\\ngovernment.\\n[\\n177\\n]\\nThe\\nDelhi Flying Club\\n, established in 1928 with two\\nde Havilland Moth\\naircraft named\\nDelhi\\nand\\nRoshanara\\n, was based at\\nSafdarjung Airport\\nwhich started operations in 1929, when it was the Delhi\\'s only airport and the second in India.\\n[\\n178\\n]\\nThe airport functioned until 2001; however, in January 2002 the government closed the airport for flying activities because of security concerns following\\nthe New York attacks in September 2001\\n. Since then, the club only carries out aircraft maintenance courses and is used for helicopter rides to Indira Gandhi International Airport for VIP including the president and the prime minister.\\n[\\n178\\n]\\n[\\n179\\n]\\nRoad\\nCompressed natural gas\\nred- and green buses have low floors; orange has standard.\\n[\\nb\\n]\\nThe\\ncycle rickshaw\\nand the\\nauto rickshaw\\nare commonly used in Delhi for travelling short distances.\\nDelhi has the highest road density of 2103\\xa0km/100\\xa0km\\n2\\nin\\nIndia\\n.\\n[\\n181\\n]\\nIt is connected to other parts of India by five\\nNational Highways\\n:\\nNH 1\\n,\\nNH 2\\n,\\nNH 8\\n,\\nNH 10\\nand\\nNH 24\\n. The Delhi–Mumbai and Delhi–Kolkata prongs of the\\nGolden Quadrilateral\\nstart from the city. The majority of the city\\'s roads which are 60\\xa0ft (18\\xa0m) wide or above are maintained by the Public Works Department (PWD)\\n[\\n182\\n]\\nwhich is under the jurisdiction of the\\nGovernment of Delhi\\nwhile some are maintained by\\nDelhi Development Authority\\nand\\nNew Delhi Municipal Council\\n[\\n183\\n]\\nwhich are under the jurisdiction of the\\nGovernment of India\\n. Roads and streets less than 60\\xa0ft (18\\xa0m) wide are maintained by the\\nMunicipal Corporation of Delhi\\n. Roads and streets in unauthorised colonies are maintained by the local\\nMember of the Legislative Assembly\\n.\\n[\\n184\\n]\\nBuses are the most popular means of road transport, catering to about 60% of Delhi\\'s total demand.\\n[\\n185\\n]\\nDelhi has one of India\\'s largest bus transport systems. In 1998, the Supreme Court of India ruled that all public transport vehicles in Delhi must be fuelled by\\ncompressed natural gas\\n(CNG) to tackle increasing vehicular pollution.\\n[\\n186\\n]\\nThe state-owned\\nDelhi Transport Corporation\\n(DTC) is a major bus service provider which operates the world\\'s largest fleet of CNG-fuelled buses.\\n[\\n187\\n]\\n[\\n188\\n]\\nIn addition, cluster scheme buses are operated by\\nDelhi Integrated Multi-Modal Transit System\\n(DIMTS) with the participation of private concessionaires and DTC.\\n[\\n189\\n]\\n[\\n190\\n]\\nIn December 2017, the DTC and cluster buses carried over 4.19\\xa0million passengers per day.\\n[\\n191\\n]\\nKashmiri Gate ISBT\\n,\\nAnand Vihar ISBT\\nand\\nSarai Kale Khan ISBT\\nare the main bus terminals for outstation buses plying to neighbouring states. Delhi\\'s rapid rate of economic development and population growth has resulted in an increasing demand for transport, creating excessive pressure on the city\\'s transport infrastructure. To meet the transport demand, the State and Union government constructed a mass rapid transit system, including the Delhi Metro.\\n[\\n192\\n]\\nDelhi Bus Rapid Transit System\\nruns between\\nAmbedkar Nagar\\nand\\nDelhi Gate\\n. As per February 2024, Delhi has around 1,650\\nelectric buses\\nmanaged by the\\nDelhi Transport Corporation\\n, the highest in\\nIndia\\nand the third highest in the world after\\nShenzhen\\nand\\nSantiago\\n.\\n[\\n193\\n]\\n[\\n194\\n]\\nPersonal vehicles, especially cars also form a major chunk of vehicles plying on Delhi roads. As of 2007\\n[update]\\n, private vehicles account for 30% of the total demand for transport.\\n[\\n192\\n]\\nDelhi has the highest number of registered cars compared to any other metropolitan city in India.\\n[\\n195\\n]\\nTaxis, auto rickshaws, and cycle rickshaws also ply on Delhi roads in large numbers. As of 2008\\n[update]\\n, the number of vehicles in the metropolitan region, Delhi NCR, was 11.2\\xa0million (11.2\\xa0million).\\n[\\n196\\n]\\nIn 2008, there were 85 cars in Delhi for every 1,000 of its residents.\\n[\\n197\\n]\\nIn 2017, the number of vehicles in Delhi city alone crossed the ten million mark with the transport department of\\nDelhi Government\\nputting the total number of registered vehicles at 10,567,712 until 25 May of the year.\\n[\\n198\\n]\\nRailway\\nA passenger train at the\\nNew Delhi railway station\\n. Freight awaits pick up or transportation to other destinations.\\nDelhi is a major junction in the Indian railway network and is the headquarters of the\\nNorthern Railway\\n. The main railway stations are\\nNew Delhi\\n,\\nOld Delhi\\n,\\nHazrat Nizamuddin\\n,\\nAnand Vihar\\n,\\nDelhi Sarai Rohilla\\nand\\nDelhi Cantt\\n.\\n[\\n192\\n]\\nThe\\nDelhi Metro\\n, a mass rapid transit system built and operated by\\nDelhi Metro Rail Corporation\\n(DMRC), serves many parts of Delhi and the neighbouring cities\\nGhaziabad\\n,\\nFaridabad\\n,\\nGurgaon\\nand\\nNoida\\n.\\n[\\n199\\n]\\nAs of December\\xa02021\\n[update]\\n, the metro consists of\\nten operational lines\\nwith a total length of 348.12\\xa0km (216.31\\xa0mi) and\\n254 stations\\n, and several other lines are under construction.\\n[\\n200\\n]\\nThe Phase-I was built at a cost of US$2.3\\xa0billion and the Phase-II was expected to cost an additional\\n₹\\n216 billion\\n(US$2.6\\xa0billion).\\n[\\n201\\n]\\nPhase-II has a total length of 128\\xa0km (80\\xa0mi) and was completed by 2010.\\n[\\n202\\n]\\nDelhi Metro\\ncompleted 10\\xa0years of operation on 25 December 2012. It carries millions of passengers every day.\\n[\\n203\\n]\\nIn addition to the Delhi Metro, a suburban railway, the\\nDelhi Suburban Railway\\nexists.\\n[\\n204\\n]\\nMetro\\nDelhi Metro\\nis widely used in the\\nNCR\\n.\\nThe\\nDelhi Metro\\nis a rapid transit system serving Delhi,\\nGhaziabad\\n,\\nFaridabad\\n,\\nGurgaon\\nand\\nNoida\\nin the National Capital Region of India. It is the world\\'s tenth-largest metro system by length of lines. It was India\\'s second modern public transportation system. The network consists of\\n10 colour-coded lines\\n[\\n205\\n]\\nserving\\n255 stations\\n[\\nc\\n]\\nwith a total length of 348.12 kilometres (216.31\\xa0mi).\\n[\\nd\\n]\\nThe system has a mix of underground, at-grade, and elevated stations using both\\nbroad-gauge\\nand\\nstandard-gauge\\n. All stations have escalators, lifts, and tactile tiles to guide the visually impaired from station entrances to trains. There are 18 designated parking sites at the Metro stations. In March 2010, DMRC partnered with Google India (through Google Transit) to provide train schedule and route information to mobile devices with Google Maps. It has a combination of elevated, at-grade, and underground lines, and uses both broad gauge and standard gauge rolling stock. Four types of rolling stock are used: Mitsubishi–ROTEM Broad gauge, Bombardier MOVIA, Mitsubishi–ROTEM Standard gauge, and CAF Beasain Standard gauge. The Phase-I of Delhi Metro was built for US$2.3\\xa0billion and the Phase-II was expected to cost an additional\\n₹\\n216 billion\\n(US$2.6\\xa0billion).\\n[\\n201\\n]\\nPhase-II has a total length of 128\\xa0km (80\\xa0mi) and was completed by 2010.\\n[\\n202\\n]\\nDelhi Metro\\ncompleted 10\\xa0years of operation on 25 December 2012. It carries millions of passengers every day.\\n[\\n203\\n]\\nAlthough the Delhi Metro was built and is operated by the\\nDelhi Metro Rail Corporation Limited\\n(DMRC), a state-owned company with equal equity participation of the governments of India and Delhi, it is under the administrative control of the Indian government\\'s\\nMinistry of Urban Development\\n. Besides the construction and operation of the Delhi Metro, DMRC is also involved in the planning and implementation of metro rail, monorail, and high-speed rail projects in India and providing consultancy services to other metro projects in the country as well as abroad.\\n[\\ncitation needed\\n]\\nDemographics\\nSee also:\\nEthnic groups in Delhi\\nNCT of Delhi population pyramid in 2011\\nHistorical population\\nYear\\nPop.\\n±%\\n1901\\n214,115\\n—\\n1911\\n237,944\\n+11.1%\\n1921\\n304,420\\n+27.9%\\n1931\\n373,789\\n+22.8%\\n1941\\n578,813\\n+54.9%\\n1951\\n1,119,870\\n+93.5%\\n1961\\n2,061,758\\n+84.1%\\n1971\\n3,287,883\\n+59.5%\\n1981\\n5,099,539\\n+55.1%\\n1991\\n7,423,193\\n+45.6%\\n2001\\n9,879,172\\n+33.1%\\n2011\\n11,034,555\\n+11.7%\\nSource:\\nGovernment of India\\n[\\n208\\n]\\nPopulation growth\\nAccording to the\\n2011 census of India\\n, the population of the NCT of Delhi is 16,753,235.\\n[\\n209\\n]\\nThe corresponding population density was 11,297 persons per km\\n2\\nwith a sex ratio of 866 women per 1000 men, and a literacy rate of 86.34%. In 2004, the birth rate, death rate and infant mortality rate per 1000 population were 20.03, 5.59 and 13.08, respectively.\\n[\\n210\\n]\\nIn 2001, the population of Delhi increased by 285,000 as a result of migration and by 215,000 as a result of natural population growth,\\n[\\n210\\n]\\nwhich made Delhi one of the fastest-growing cities in the world.\\nDwarka Sub City\\n, Asia\\'s largest planned residential area, is located within the National Capital Territory of Delhi.\\n[\\n211\\n]\\nUrban expansion\\nhas resulted in Delhi\\'s urban area now being considered as extending beyond the NCT boundaries to incorporate the towns and cities of neighbouring states including\\nFaridabad\\nand\\nGurgaon\\nin\\nHaryana\\n, and\\nGhaziabad\\nand\\nNoida\\nin\\nUttar Pradesh\\n, the total population of which is estimated by the United Nations to be over 28 million. According to the UN this makes Delhi urban area the world\\'s\\nsecond-largest\\nurban area after Tokyo,\\n[\\n22\\n]\\nalthough\\nDemographia\\ndeclares the\\nJakarta\\nurban area to be the second-largest.\\n[\\n212\\n]\\nThe 2011 census provided two figures for urban area population: 16,314,838 within the NCT boundary,\\n[\\n213\\n]\\nand 21,753,486 for the\\nExtended Urban Area\\n.\\n[\\n214\\n]\\nThe 2021 regional plan released by the\\nGovernment of India\\nrenamed the\\nExtended Urban Area\\nfrom\\nDelhi Metropolitan Area (DMA)\\nas defined by the 2001 plan,\\n[\\n215\\n]\\nto\\nCentral National Capital Region\\n(CNCR)\\n.\\n[\\n215\\n]\\n[\\n216\\n]\\nSlums\\nAs of 2012, around 49% of the population of Delhi lives in slums and unauthorised colonies without any civic amenities.\\n[\\n217\\n]\\nThe majority of these slums have inadequate provisions to the basic facilities and according to a DUSIB report, almost 22% of people engage in\\nopen defecation\\n.\\n[\\n218\\n]\\nReligions\\nHinduism\\nis Delhi\\'s predominant religious faith, with 81.68% of Delhi\\'s population, followed by\\nIslam\\n(12.86%),\\nSikhism\\n(3.40%),\\nJainism\\n(0.99%), Christianity (0.87%), and\\nBuddhism\\n(0.11%).\\n[\\n219\\n]\\nOther minority religions include\\nZoroastrianism\\n,\\nBaháʼísm\\nand Judaism.\\n[\\n220\\n]\\nReligious groups in Delhi (1881−2011)\\n[\\ne\\n]\\nReligious\\ngroup\\n1881\\n[\\n224\\n]\\n[\\n221\\n]\\n:\\u200a520\\n1891\\n[\\n225\\n]\\n:\\u200a68\\n1901\\n[\\n226\\n]\\n:\\u200a44\\n1911\\n[\\n222\\n]\\n:\\u200a20\\n1921\\n[\\n227\\n]\\n:\\u200a30\\n1931\\n[\\n228\\n]\\n:\\u200a119\\n1941\\n[\\n223\\n]\\n:\\u200a80\\n1951\\n[\\n229\\n]\\n2011\\n[\\n219\\n]\\nPop.\\n%\\nPop.\\n%\\nPop.\\n%\\nPop.\\n%\\nPop.\\n%\\nPop.\\n%\\nPop.\\n%\\nPop.\\n%\\nPop.\\n%\\nHinduism\\n[\\nf\\n]\\n97,601\\n55.02%\\n108,058\\n56.11%\\n114,417\\n54.86%\\n121,735\\n52.28%\\n325,551\\n66.65%\\n400,302\\n62.92%\\n567,264\\n61.8%\\n1,467,854\\n84.16%\\n13,712,100\\n81.68%\\nIslam\\n74,159\\n41.81%\\n79,238\\n41.15%\\n88,460\\n42.41%\\n102,476\\n44.01%\\n141,758\\n29.02%\\n206,960\\n32.53%\\n304,971\\n33.22%\\n99,501\\n5.71%\\n2,158,684\\n12.86%\\nJainism\\n2,905\\n1.64%\\n3,256\\n1.69%\\n3,266\\n1.57%\\n3,531\\n1.52%\\n4,698\\n0.96%\\n5,345\\n0.84%\\n11,287\\n1.23%\\n20,174\\n1.16%\\n166,231\\n0.99%\\nChristianity\\n[\\ng\\n]\\n997\\n0.56%\\n1,700\\n0.88%\\n2,164\\n1.04%\\n3,075\\n1.32%\\n13,320\\n2.73%\\n16,989\\n2.67%\\n17,475\\n1.9%\\n18,685\\n1.07%\\n146,093\\n0.87%\\nSikhism\\n869\\n0.49%\\n289\\n0.15%\\n229\\n0.11%\\n1,939\\n0.83%\\n2,764\\n0.57%\\n6,437\\n1.01%\\n16,157\\n1.76%\\n137,096\\n7.86%\\n570,581\\n3.4%\\nZoroastrianism\\n—\\n—\\n31\\n0.02%\\n35\\n0.02%\\n74\\n0.03%\\n72\\n0.01%\\n126\\n0.02%\\n284\\n0.03%\\n164\\n0.01%\\n—\\n—\\nJudaism\\n—\\n—\\n6\\n0%\\n—\\n—\\n7\\n0%\\n17\\n0%\\n11\\n0%\\n55\\n0.01%\\n90\\n0.01%\\n—\\n—\\nBuddhism\\n—\\n—\\n0\\n0%\\n0\\n0%\\n0\\n0%\\n6\\n0%\\n76\\n0.01%\\n150\\n0.02%\\n503\\n0.03%\\n18,449\\n0.11%\\nOthers\\n861\\n0.49%\\n1\\n0%\\n4\\n0%\\n0\\n0%\\n2\\n0%\\n0\\n0%\\n296\\n0.03%\\n5\\n0%\\n15,803\\n0.09%\\nTotal population\\n177,392\\n100%\\n192,579\\n100%\\n208,575\\n100%\\n232,837\\n100%\\n488,452\\n100%\\n636,246\\n100%\\n917,939\\n100%\\n1,744,072\\n100%\\n16,787,941\\n100%\\nLanguages in NCT of Delhi (2011)\\n[\\n230\\n]\\nHindi\\n(81.27%)\\nPunjabi\\n(5.20%)\\nUrdu\\n(5.17%)\\nBhojpuri\\n(1.35%)\\nBengali\\n(1.29%)\\nMaithili\\n(0.73%)\\nHaryanvi\\n(0.67%)\\nTamil\\n(0.53%)\\nMalayalam\\n(0.49%)\\nRajasthani\\n(0.46%)\\nGarhwali\\n(0.43%)\\nGujarati\\n(0.24%)\\nOdia\\n(0.23%)\\nNepali\\n(0.22%)\\nKumaoni\\n(0.19%)\\nSindhi\\n(0.19%)\\nMarathi\\n(0.17%)\\nTelugu\\n(0.16%)\\nKashmiri\\n(0.11%)\\nPahadi\\n(0.09%)\\nAwadhi\\n(0.08%)\\nMarwari\\n(0.07%)\\nKannada\\n(0.06%)\\nAssamese\\n(0.05%)\\nOthers (0.48%)\\nLanguages\\nAccording to the 50th report of the commissioner for linguistic minorities in India, which was submitted in 2014,\\nHindi\\nis Delhi\\'s most spoken language, with 80.94% speakers, followed by\\nPunjabi\\n(7.14%),\\nUrdu\\n(6.31%) and\\nBengali\\n(1.50%). 4.11% of Delhites speak other languages.\\n[\\n231\\n]\\nHindi is also the official language of Delhi while Urdu and Punjabi have been declared as additional official languages.\\n[\\n231\\n]\\nCulture\\nSee also:\\nCulture of India\\nTraditional pottery on display in\\nDilli Haat\\nPragati Maidan hosts the\\nWorld Book Fair\\nbiennially.\\nDelhi\\'s culture has been influenced by its lengthy history and historic association as the capital of India. Although a strong\\nPunjabi\\nInfluence can be seen in\\nlanguage\\n,\\nDress\\nand\\nCuisine\\nbrought by the large number of refugees who came following the\\npartition in 1947\\nthe recent migration from other parts of India has made it a\\nmelting pot\\n. This is exemplified by many significant monuments in the city. The\\nArchaeological Survey of India\\nrecognises 1,200 heritage buildings\\n[\\n232\\n]\\nand 175 monuments as national heritage sites.\\n[\\n233\\n]\\nIn the Old City, the Mughals and the Turkic rulers constructed several architecturally significant buildings, such as the\\nJama Masjid\\n—India\\'s largest mosque\\n[\\n234\\n]\\nbuilt in 1656\\n[\\n235\\n]\\nand the\\nRed Fort\\n. Three\\nWorld Heritage Sites\\n—the Red Fort,\\nQutub Minar\\nand\\nHumayun\\'s Tomb\\n—are located in Delhi.\\n[\\n236\\n]\\nOther monuments include the\\nIndia Gate\\n, the\\nJantar Mantar\\n—an 18th-century astronomical observatory—and the\\nPurana Qila\\n—a 16th-century fortress. The\\nLaxminarayan Temple\\n,\\nAkshardham temple\\n,\\nGurudwara Bangla Sahib\\n, the\\nBaháʼí Faith\\n\\'s\\nLotus Temple\\nand the\\nISKCON temple\\nare examples of modern architecture.\\nRaj Ghat and associated memorials\\nhouses memorials of\\nMahatma Gandhi\\nand other notable personalities. New Delhi houses several government buildings and official residences reminiscent of British colonial architecture, including the Rashtrapati Bhavan,\\nthe Secretariat\\n,\\nRajpath\\n, the Parliament of India and\\nVijay Chowk\\n.\\nSafdarjung\\'s Tomb\\nis an example of the\\nMughal gardens\\nstyle. Some regal\\nhavelis\\n(palatial residences) are in the Old City.\\n[\\n237\\n]\\nLotus Temple\\nis a Baháʼí House of Worship completed in 1986. Notable for its flowerlike shape, it serves as the Mother Temple of the Indian subcontinent and has become a prominent attraction in the city. The\\nNational Museum\\nand\\nNational Gallery of Modern Art\\nare some of the largest museums in the country. Other museums in Delhi include the\\nNational Museum of Natural History\\n,\\nNational Rail Museum\\nand\\nNational Philatelic Museum\\n.\\n[\\ncitation needed\\n]\\nChandni Chowk\\n, a 17th-century market, is one of the most popular shopping areas in Delhi for jewellery and\\nZari\\nsaris\\n.\\n[\\n238\\n]\\nDelhi\\'s arts and crafts include,\\nZardozi\\n[\\n239\\n]\\n—an embroidery done with gold thread\\n[\\n240\\n]\\n—and\\nMeenakari\\n[\\n241\\n]\\n—the art of enamelling.\\nThe Hindu\\nLaxminarayan Mandir\\nwas inaugurated by\\nMahatma Gandhi\\nin 1933.\\nThe\\nJama Masjid\\nwas built by the\\nMughal Emperor\\nShah Jahan\\nbetween 1650 and 1656.\\nThe prayer hall of Sikh\\nGurudwara Sis Ganj Sahib\\nin\\nChandni Chowk\\n,\\nOld Delhi\\nwhich dates to 1783\\nFestivals\\nMore than a quarter of the immigrants in Delhi are from\\nBihar\\nand neighbouring states.\\nChhath\\n, a festival of Bihar is now popular in Delhi.\\n[\\n242\\n]\\nOn\\nBasant Panchmi\\neve,\\nqawwali\\nsingers wearing yellow headbands gather at the\\ndargah\\nof\\nSufi\\nsaint\\nNizamuddin Auliya\\nto sing verses from\\nAmir Khusrau\\n.\\n[\\n243\\n]\\nDelhi\\'s association and geographic proximity to the capital, New Delhi, has amplified the importance of national events and holidays like\\nRepublic Day\\n,\\nIndependence Day\\n(15 August) and\\nGandhi Jayanti\\n. On Independence Day, the Prime Minister addresses the nation from the Red Fort. The\\nRepublic Day Parade\\nis a large cultural and military parade showcasing India\\'s cultural diversity and military strength.\\n[\\n244\\n]\\n[\\n245\\n]\\nOver the centuries, Delhi has become known for its composite culture, and a festival that symbolises this is the\\nPhool Walon Ki Sair\\n, which takes place in September. Flowers and\\npankhe\\n—fans embroidered with flowers—are offered to the shrine of the 13th-century Sufi saint\\nKhwaja Bakhtiyar Kaki\\nand the\\nYogmaya Temple\\n, both situated in\\nMehrauli\\n.\\n[\\n246\\n]\\nReligious festivals include\\nDiwali\\n(the festival of lights),\\nMahavir Jayanti\\n,\\nGuru Nanak\\'s Birthday\\n,\\nRaksha Bandhan\\n,\\nDurga Puja\\n,\\nHoli\\n,\\nLohri\\n,\\nChauth\\n,\\nKrishna Janmastami\\n,\\nMaha Shivratri\\n,\\nEid ul-Fitr\\n,\\nMoharram\\nand\\nBuddha Jayanti\\n.\\n[\\n245\\n]\\nThe\\nQutub Festival\\nis a cultural event during which performances of musicians and dancers from all over India are showcased at night, with the Qutub Minar as a backdrop.\\n[\\n247\\n]\\nOther events such as Kite Flying Festival,\\nInternational Mango Festival\\nand\\nVasant Panchami\\n(the Spring Festival) are held every year in Delhi. The\\nAuto Expo\\n, Asia\\'s largest auto show,\\n[\\n248\\n]\\nis held in Delhi biennially. The\\nNew Delhi World Book Fair\\n, held biennially at the\\nPragati Maidan\\n, is the second-largest exhibition of books in the world.\\n[\\n249\\n]\\nDelhi is often regarded as the \"Book Capital\" of India because of high readership.\\n[\\n250\\n]\\nIndia International Trade Fair\\n(IITF), organised by\\nITPO\\nis the biggest cultural and shopping fair of Delhi which takes place in November each year and is visited by more than 1.5\\xa0million people.\\n[\\n251\\n]\\nCuisine\\nMain article:\\nIndian cuisine\\nKitchen,\\nKarim\\'s\\n, Old Delhi, a historic\\nrestaurant\\n, estab. 1913\\n[\\n252\\n]\\nAs India\\'s national capital and centuries old\\nMughal\\ncapital, Delhi influenced the food habits of its residents and is where\\nMughlai cuisine\\noriginated. Along with Indian cuisine, a variety of international cuisines are popular among the residents.\\n[\\n253\\n]\\nThis variety of cuisines created a unique style of cooking which became popular throughout the world, with dishes such as\\nKebab\\n,\\nbiryani\\n,\\ntandoori\\n. The city\\'s classic dishes include\\nbutter chicken\\n,\\ndal makhani\\n,\\nshahi paneer\\n,\\naloo chaat\\n,\\nchaat\\n,\\ndahi bhalla\\n,\\nkachori\\n,\\ngol gappe\\n,\\nsamosa\\n,\\nchole bhature\\n,\\nchole kulche\\n,\\ngulab jamun\\n,\\njalebi\\nand\\nlassi\\n.\\n[\\n253\\n]\\n[\\n254\\n]\\n:\\u200a40–50,\\u200a189–196\\nThe fast living habits of Delhi\\'s people has motivated the growth of\\nstreet food\\noutlets.\\n[\\n254\\n]\\n:\\u200a41\\nA trend of dining at local\\ndhabas\\nis popular among the residents. High-profile restaurants have gained popularity in recent years, among the popular restaurants are the Karim Hotel, the Punjab Grill and Bukhara.\\n[\\n255\\n]\\nThe\\nGali Paranthe Wali\\n(the street of fried bread) is a street in Chandni Chowk particularly for food eateries since the 1870s. Almost the entire street is occupied by fast food stalls or\\nstreet vendors\\n. It has nearly become a tradition that almost every prime minister of India has visited the street to eat\\nparatha\\nat least once. Other Indian cuisines are also available in this area even though the street specialises in north Indian food.\\n[\\n254\\n]\\n:\\u200a40–50\\n[\\n256\\n]\\nEducation\\nMain articles:\\nEducation in Delhi\\nand\\nList of schools in Delhi\\nLady Hardinge Medical College\\npharmacy, 1921\\nIndraprastha College for Women\\n, established in 1924\\nJamia Millia Islamia\\nest. 1920 by\\nM. A. Ansari\\nand\\nZakir Husain\\nUniversity of Delhi\\nwas founded in 1922.  Sir\\nMaurice Gwyer\\nserved as its first\\nvice-chancellor\\n.\\nDormitory\\nof\\nAnglo Arabic Senior Secondary School\\n, founded 1696, reorganised 1828\\nA Delhi government school student writing down the names of fruits and vegetables\\nPrivate schools in Delhi—which use either English or Hindi as the language of instruction—are affiliated to one of three administering bodies, the\\nCouncil for the Indian School Certificate Examinations\\n(CISCE), the\\nCentral Board for Secondary Education\\n(CBSE)\\n[\\n257\\n]\\nor the\\nNational Institute of Open Schooling\\n(NIOS). In 2004–05, approximately 1,529,000 students were enrolled in primary schools, 822,000 in middle schools and 669,000 in secondary schools across Delhi.\\n[\\n258\\n]\\nFemale students represented 49% of the total enrolment. The same year, the Delhi government spent between 1.58% and 1.95% of its gross state domestic product on education.\\n[\\n258\\n]\\nSchools\\nand higher educational institutions in Delhi are administered either by the\\nDirectorate of Education\\n, the NCT government or private organisations. In 2006, Delhi had 165 colleges, five medical colleges and eight engineering colleges,\\n[\\n258\\n]\\nseven major universities and nine\\ndeemed universities\\n.\\n[\\n258\\n]\\nThe premier management colleges of Delhi such as\\nFaculty of Management Studies (Delhi)\\nand\\nIndian Institute of Foreign Trade\\nrank the best in India.\\nAll India Institute of Medical Sciences Delhi\\nis a premier medical school for treatment and research.\\nNational Law University, Delhi\\nis a prominent law school and is affiliated with the\\nBar Council of India\\n. The\\nIndian Institute of Technology, Delhi\\nsituated in\\nHauz Khas\\nis a premier engineering college of India and ranks as one of the top institutes in South Asia.\\n[\\n259\\n]\\n[\\n260\\n]\\nDelhi Technological University\\n(formerly Delhi College of Engineering),\\nIndira Gandhi Delhi Technical University for Women\\n(formerly Indira Gandhi Institute of Technology),\\nIndraprastha Institute of Information Technology\\n,\\nNetaji Subhas University of Technology\\n(formerly Netaji Subhas Institute of Technology),\\nGuru Gobind Singh Indraprastha University\\nand\\nNational Law University\\n, Delhi are the only state universities.\\n[\\n261\\n]\\n[\\n262\\n]\\nUniversity of Delhi\\n,\\nJawaharlal Nehru University\\nand\\nJamia Millia Islamia\\nare the\\ncentral universities\\n, and\\nIndira Gandhi National Open University\\nis for\\ndistance education\\n.\\n[\\n263\\n]\\nAs of 2008\\n[update]\\n, about 16% of all Delhi residents possessed at least a college graduate degree.\\n[\\n264\\n]\\nAccording to the Directorate of Education and\\nGNCTD\\nthe following languages are taught in schools in Delhi under the\\nthree-language formula\\n:\\n[\\n265\\n]\\nFirst language:\\nHindi\\n,\\nUrdu\\n,\\nEnglish\\nSecond language:\\nEnglish\\nThird language:\\nUrdu\\n,\\nPunjabi\\n,\\nBengali\\n,\\nSindhi\\n,\\nTamil\\n,\\nTelugu\\n,\\nMalayalam\\n,\\nKannada\\n,\\nGujarati\\n,\\nMarathi\\n,\\nSanskrit\\n,\\nPersian\\n,\\nArabic\\nMedia\\nSee also:\\nMedia of India\\nPitampura TV Tower\\nbroadcasts to Delhi.\\nAs the capital of India, Delhi is the focus of political reportage, including regular television broadcasts of Parliament sessions. Many national media agencies, including the state-owned\\nPress Trust of India\\n, Media Trust of India and\\nDoordarshan\\n, are based in the city. Television programming includes two free terrestrial television channels offered by Doordarshan, and several Hindi, English, and regional-language\\ncable\\nchannels offered by\\nmulti system operators\\n.\\nSatellite television\\nhas yet to gain a large number of subscribers in the city.\\n[\\n266\\n]\\nPrint journalism remains a popular news medium in Delhi. The city\\'s Hindi newspapers include\\nNavbharat Times\\n,\\nHindustan Dainik\\n,\\nPunjab Kesari\\n,\\nPavitra Bharat\\n,\\nDainik Jagran\\n,\\nDainik Bhaskar\\n,\\nAmar Ujala\\nand\\nDainik Desbandhu\\n. Amongst the English language newspapers, the\\nHindustan Times\\n, with a daily circulation of over a million copies, is the single largest daily.\\n[\\n267\\n]\\nOther major English newspapers include\\nThe Times of India\\n,\\nThe Hindu\\n,\\nThe Indian Express\\n,\\nBusiness Standard\\n,\\nThe Pioneer\\n,\\nThe Statesman\\n, and\\nThe Asian Age\\n. Regional language newspapers include the\\nMalayalam\\ndaily\\nMalayala Manorama\\nand the\\nTamil\\ndailies\\nDinamalar\\nand\\nDinakaran\\n.\\nRadio is a less popular mass medium in Delhi, although\\nFM\\nradio has gained popularity\\n[\\n268\\n]\\nsince the inauguration of several new stations in 2006.\\n[\\n269\\n]\\nA number of state-owned and private radio stations broadcast from Delhi.\\n[\\n270\\n]\\n[\\n271\\n]\\nSports\\nMain articles:\\nSport in Delhi\\n,\\n1951 Asian Games\\n,\\n1982 Asian Games\\n, and\\n2010 Commonwealth Games\\nSee also:\\nCulture of India\\nIndian athletes marching into the\\nNational Stadium\\nduring the opening ceremony of the\\n1951 Asian Games\\nJawaharlal Nehru Stadium\\non the night of the\\n2010 Commonwealth Games\\nopening ceremony\\nDelhi hosted the first Asian Games in 1951 from 4 to 11 March. A total of 489 athletes representing 11 Asian\\nNational Olympic Committees\\nparticipated in 57 events from eight\\nsports and discipline\\n. The Games was the successor of the\\nFar Eastern Games\\nand the revival of the\\nWestern Asiatic Games\\n. On 13 February 1949, the\\nAsian Games Federation\\nwas formally established in Delhi, with Delhi unanimously announced as the first host city of the\\nAsian Games\\n.\\nNational Stadium\\nwas the venue for all events.\\n[\\n272\\n]\\nOver 40,000 spectators watched the opening ceremony of the Games in National Stadium.\\n[\\n273\\n]\\nDelhi hosted the ninth Asian Games for the second time in 1982 from 19 November to 4 December. This was the second time the city has hosted the Asian Games and was also the first Asian Games to be held under the aegis of the\\nOlympic Council of Asia\\n. A total of 3,411 athletes from 33\\nNational Olympic Committees\\nparticipated in these games, competing in 196 events in 21 sports and 23 disciplines. The\\nJawaharlal Nehru Stadium\\n, which has a capacity of 60,000 people, was built purposely for the event and hosted its opening ceremony.\\n[\\n274\\n]\\nDelhi hosted the\\nNineteenth Commonwealth Games\\nin 2010, which ran from 3 to 14 October and was the largest sporting event held in India.\\n[\\n275\\n]\\n[\\n276\\n]\\nThe opening ceremony of the 2010 Commonwealth Games was held at the\\nJawaharlal Nehru Stadium\\n, the main stadium of the event, in New Delhi at 7:00\\xa0pm\\nIndian Standard Time\\non 3 October 2010.\\n[\\n277\\n]\\nThe ceremony featured over 8,000 performers and lasted for two and a half hours.\\n[\\n278\\n]\\nIt is estimated that\\n₹\\n3.5 billion\\n(US$42\\xa0million) were spent to produce the ceremony.\\n[\\n279\\n]\\nEvents took place at 12 competition venues. 20 training venues were used in the Games, including seven venues within\\nDelhi University\\n.\\n[\\n280\\n]\\nThe rugby stadium in Delhi University North Campus hosted rugby games for Commonwealth Games.\\n[\\n280\\n]\\nCricket\\nand\\nfootball\\nare the most popular sports in Delhi.\\n[\\n281\\n]\\nThere are several cricket grounds, or\\nmaidans\\n, located across the city. The\\nArun Jaitley Stadium\\n(known commonly as the\\nKotla\\n) is one of the oldest cricket grounds in India and is a venue for international cricket matches. It is the home ground of\\nDelhi cricket team\\nand the\\nIndian Premier League\\nfranchise\\nDelhi Capitals\\n.\\n[\\n282\\n]\\nThe Delhi cricket team represents the city in the Indian domestic tournaments.\\n[\\n283\\n]\\nIt has produced several world-class international cricketers such as\\nVirender Sehwag\\n,\\nVirat Kohli\\n,\\n[\\n284\\n]\\nGautam Gambhir\\n,\\nMadan Lal\\n,\\nChetan Chauhan\\n,\\nShikhar Dhawan\\n,\\nIshant Sharma\\n,\\nManoj Prabhakar\\nand\\nBishan Singh Bedi\\nto name a few. The\\nRailways\\nand\\nServices\\ncricket teams of domestic circuit also play their home matches in Delhi, at the\\nKarnail Singh Stadium\\nand the\\nPalam A Stadium\\n, respectively.\\n[\\n285\\n]\\nAmbedkar Stadium\\n, a football stadium in Delhi which holds 21,000 people, was the venue for the Indian football team\\'s World Cup qualifier against UAE on 28 July 2012.\\n[\\n286\\n]\\nDelhi hosted the Nehru Cup in\\n2007\\n[\\n287\\n]\\nand\\n2009\\n, in both of which India defeated\\nSyria\\n1–0.\\n[\\n288\\n]\\nDelhi\\'s professional association football club\\nDelhi FC\\ncompetes in\\nI-League\\n.\\n[\\n289\\n]\\nIn the\\nElite Football League of India\\n, Delhi\\'s first professional\\nAmerican football\\nfranchise, the\\nDelhi Defenders\\nplayed its first season in\\nPune\\n.\\n[\\n290\\n]\\nBuddh International Circuit\\nin Greater Noida, a suburb of Delhi, formerly hosted the\\nFormula 1\\nIndian Grand Prix\\n.\\n[\\n291\\n]\\nCity-based clubs\\nClub\\nSport\\nLeague/Championship\\nHomeground\\nFounded\\nDabang Delhi\\nKabaddi\\nPro Kabaddi League\\nThyagaraj Sports Complex\\n2014\\nDelhi Dashers\\nBadminton\\nPremier Badminton League\\nSiri Fort Sports Complex\\n2016\\nDelhi Defenders\\nAmerican Football\\nElite Football League of India\\nDefenders Stadium\\n2011\\nDelhi Hurricanes Rugby Football Club\\nRugby\\nAll India & South Asia Rugby Tournament\\nVasant Kunj Sports Complex\\n2004\\nDelhi Waveriders\\nHockey\\nHockey India League\\nShivaji Hockey Stadium\\n2011\\nDelhi Capitals\\nCricket\\nIndian Premier League\\nArun Jaitley Cricket Stadium\\n2008\\nDelhi FC\\nFootball\\nI-League\\nAmbedkar Stadium\\n1994–present\\nSee also\\nIndia portal\\nDelhi metropolitan area\\nList of people from Delhi\\nList of twin towns and sister cities in India\\nSmog tower\\nNotes\\n^\\n/\\nˈ\\nd\\nɛ\\nl\\ni\\n/\\n;\\nHindi pronunciation:\\n[ˈdɪlːiː]\\ndillī\\n, occasionally\\n[ˈdeːɦliː]\\ndehlī\\n;\\nPunjabi pronunciation:\\n[ˈdɪlːiː]\\ndillī\\n;\\nUrdu pronunciation:\\n[ˈdeɦliː]\\ndêhlī\\n, informally\\n[ˈdɪlːiː]\\ndillī\\n[\\n17\\n]\\n[\\n18\\n]\\n[\\n19\\n]\\n^\\nThe elevated Delhi metro is seen above in\\nAzadpur\\n.\\n[\\n131\\n]\\n[\\n180\\n]\\n^\\nTransfer stations are counted more than once. There are 24 transfer stations. If transfer stations are counted only once, the result will be 230 stations.\\nAshok Park Main\\nstation, where the two diverging branches of\\nGreen Line\\nshare tracks/platforms, is anyway counted as a single station. Stations of\\nNoida Metro\\nand\\nGurgaon Metro\\nare not counted. If stations of\\nNoida Metro\\nand\\nGurgaon Metro\\nare counted, the result will be 286 stations\\n[\\n206\\n]\\n[\\n205\\n]\\n[\\n207\\n]\\n^\\nThe total length of Delhi Metro is 348.12 kilometres (216.31\\xa0mi). The operations & maintenance of\\nGurgaon Metro\\nand\\nNoida Metro\\nis currently undertaken by\\nDMRC\\n, so the total length operated by DMRC is 390.14 kilometres (242.42\\xa0mi).\\n[\\n206\\n]\\n[\\n207\\n]\\n^\\n1881: Data for the town of Delhi and the suburb town of Najafgarh, later amalgamated into the town of Delhi.\\n[\\n221\\n]\\n:\\u200a520\\n1891-1911: Data for the entirety of the town of Delhi, which included Delhi Municipality and Delhi Cantonment.\\n[\\n222\\n]\\n:\\u200a20\\n1921-1941: Data for the entirety of Delhi Province, which included Delhi Municipality, New Delhi Municipality, New Delhi Cantonment, Delhi Civil Lines, Shahdara, Narela, Mehrauli, Najafgargh, Delhi Cantonment Fort, and rural outlying areas.\\n[\\n223\\n]\\n:\\u200a14\\n2011: Data for the entirety of the Delhi Union Territory.\\n^\\n1931-1941: Including\\nAd-Dharmis\\n^\\n1881: Only includes protestant population.\\n[\\n224\\n]\\n:\\u200a152\\nReferences\\n^\\na\\nb\\n\"The Constitution (Seventh Amendment) Act, 1956\"\\n.\\nMinistry of Law and Justice (India)\\n. 1956. Archived from\\nthe original\\non 1 May 2017\\n. Retrieved\\n16 March\\n2017\\n.\\n^\\na\\nb\\n\"The States Reorganisation Act, 1956\"\\n(PDF)\\n.\\nMinistry of Law and Justice (India)\\n. 1956. Archived from\\nthe original\\n(PDF)\\non 17 March 2017\\n. Retrieved\\n16 March\\n2017\\n.\\n^\\na\\nb\\nc\\n\"The Constitution (Sixty-Ninth Amendment) Act, 1991\"\\n.\\nGovernment of India\\n. National Informatics Centre, Ministry of Communications and Information Technology, Government of India.\\nArchived\\nfrom the original on 21 August 2016\\n. Retrieved\\n8 January\\n2007\\n.\\n^\\n\"Vinai Kumar Saxena appointed Delhi Lieutenant Governor after Anil Bajial\\'s exit\"\\n.\\nHindustan Times\\n. 23 May 2022.\\nArchived\\nfrom the original on 23 May 2022\\n. Retrieved\\n23 May\\n2022\\n.\\n^\\na\\nb\\n\"Delhi Info\"\\n.\\nunccdcop14india.gov.in\\n.\\nArchived\\nfrom the original on 29 November 2020\\n. Retrieved\\n24 November\\n2020\\n.\\n^\\na\\nb\\nc\\n\"Census of India: Provisional Population Totals Paper 1 of 2011, NCT of Delhi\"\\n.\\nCensus of India\\n. 2011. Archived from\\nthe original\\non 19 January 2022\\n. Retrieved\\n12 February\\n2022\\n.\\n^\\n\"Archived copy\"\\n(PDF)\\n. Archived from\\nthe original\\n(PDF)\\non 30 September 2024\\n. Retrieved\\n6 December\\n2024\\n.\\n{{\\ncite web\\n}}\\n:  CS1 maint: archived copy as title (\\nlink\\n)\\n^\\na\\nb\\n\"Delhi (India): Union Territory, Major Agglomerations & Towns – Population Statistics in Maps and Charts\"\\n.\\nCity Population\\n.\\nArchived\\nfrom the original on 2 March 2017\\n. Retrieved\\n28 February\\n2017\\n.\\n^\\n\"Delhi, India Population 2024\"\\n.\\n^\\na\\nb\\n\"Official Language Act 2000\"\\n(PDF)\\n. Government of Delhi. 2 July 2003. Archived from\\nthe original\\n(PDF)\\non 4 March 2016\\n. Retrieved\\n17 July\\n2015\\n.\\n^\\na\\nb\\nc\\n\"ECONOMIC SURVEY OF DELHI 2023 – 24\"\\n(PDF)\\n.\\ndelhiplanning.delhi.gov.in\\n.\\n^\\nhttps://delhiplanning.delhi.gov.in/sites/default/files/Planning/economic_survey_of_delhi_2023-24_english.pdf\\n^\\n\"Delhi NCT, India\"\\n.\\nC40 Cities\\n.\\nArchived\\nfrom the original on 14 March 2024\\n. Retrieved\\n25 March\\n2024\\n.\\n^\\n\"Find Pin Code\"\\n.\\nDepartment of Posts\\n.\\nArchived\\nfrom the original on 3 June 2019\\n. Retrieved\\n5 June\\n2019\\n.\\n^\\n\"Gendering Human Development\"\\n.\\nArchived\\nfrom the original on 26 March 2023\\n. Retrieved\\n27 January\\n2023\\n.\\n^\\na\\nb\\n\"Census 2011 (Final Data) – Demographic details, Literate Population (Total, Rural & Urban)\"\\n(PDF)\\n.\\nplanningcommission.gov.in\\n. Planning Commission, Government of India. Archived from\\nthe original\\n(PDF)\\non 27 January 2018\\n. Retrieved\\n3 October\\n2018\\n.\\n^\\nPlatts, John Thompson\\n(1960) [First published 1884].\\nA dictionary of Urdu, classical Hindi, and English\\n. London: Oxford University Press. p.\\xa0546.\\nISBN\\n0-19-864309-8\\n.\\nOCLC\\n3201841\\n.\\nArchived\\nfrom the original on 9 January 2022\\n. Retrieved\\n12 November\\n2020\\n.\\n^\\n\"The Constitution (Sixty-Ninth Amendment) Act, 1991\"\\n. Ministry of Law and Justice,\\nGovernment of India\\n. Archived from\\nthe original\\non 21 August 2016\\n. Retrieved\\n23 November\\n2014\\n.\\n^\\nHabib, Irfan (1999).\\nThe agrarian system of Mughal India, 1556–1707\\n.\\nOxford University Press\\n.\\nISBN\\n978-0-19-562329-1\\n.\\nArchived\\nfrom the original on 1 January 2016\\n. Retrieved\\n6 November\\n2015\\n.\\nThe current Survey of India spellings are followed for place names except where they vary rather noticeably from the spellings in our sources: thus I read \\'Dehli\\' not \\'Delhi\\xa0...\\nRoyal Asiatic Society (1834).\\nJournal of the Royal Asiatic Society of Great Britain & Ireland\\n.\\nCambridge University Press\\n.\\nArchived\\nfrom the original on 25 December 2018\\n. Retrieved\\n6 November\\n2015\\n.\\nalso Dehli or Dilli, not Delhi\\xa0...\\nKaramchandani, L.T (1968).\\nIndia, the beautiful\\n. Sita Publication.\\nArchived\\nfrom the original on 25 December 2018\\n. Retrieved\\n6 November\\n2015\\n.\\nAccording to available evidence the present Delhi, spelt in Hindustani as Dehli or Dilli, derived its name from King\\xa0...\\nThe National geographical journal of India, Volume 40\\n. National Geographical Society of India. 1994.\\nArchived\\nfrom the original on 25 December 2018\\n. Retrieved\\n6 November\\n2015\\n.\\nThe name which remained the most popular is \\'Dilli\\' with variation in its pronunciation as Dilli, Dehli, or Delhi\\n^\\nSpringer Nature Limited, ed. (2022),\\nThe Statesman\\'s Yearbook 2023: The Politics, Cultures, and Economies of the World\\n, London: Palgrave Macmillan, p.\\xa0589,\\nISBN\\n978-1-349-96055-2\\n,\\nDelhi became a Union Territory on 1 Nov. 1956 and was designated the National Capital Territory in 1995.  Delhi has an area of 1,483 sq. km. Its population (2011 census) is 16,787,941.\\n^\\n\"This study settles the Delhi versus Mumbai debate: The Capital\\'s economy is streets ahead\"\\n. 2 October 2018.\\nArchived\\nfrom the original on 21 December 2018\\n. Retrieved\\n21 December\\n2018\\n.\\n^\\na\\nb\\n\"The World\\'s Cities in 2018\"\\n(PDF)\\n.\\nUnited Nations\\n.\\nArchived\\n(PDF)\\nfrom the original on 31 August 2021\\n. Retrieved\\n2 September\\n2021\\n.\\n^\\nTalbot, Ian; Singh, Gurharpal (2009),\\nThe Partition of India\\n, Cambridge University Press, pp.\\xa0118–119,\\nISBN\\n978-0-521-85661-4\\n,\\narchived\\nfrom the original on 2 December 2021\\n, retrieved\\n3 December\\n2021\\n,\\nIt is now almost a cliché that the Partition transformed Delhi from a Mughal to a Punjabi city.  The bitter experiences of the refugees at the hands of Islamists in Pakistan encouraged them to support right-wing Hindu parties. ... Trouble began in September (1947) after the arrival of refugees from Pakistan who were determined on revenge and driving Muslims out of properties which they could then occupy. Gandhi in his prayer meetings in Birla House denounced the \\'crooked and ungentlemanly\\' squeezing out of Muslims who left for Pakistan.  Despite these exhortations, two-thirds of the city\\'s Muslims were to abandon India\\'s capital eventually.\\nPandey, Gyanendra\\n(2001), \"Folding the national into the local: Delhi 1947–1948\",\\nRemembering Partition: Violence, Nationalism and History in India\\n, Cambridge University Press,\\nISBN\\n9780521807593\\n^\\n\"Sub-national HDI – Area Database\"\\n.\\nGlobal Data Lab\\n. Institute for Management Research, Radboud University.\\nArchived\\nfrom the original on 23 September 2018\\n. Retrieved\\n25 September\\n2018\\n.\\n^\\n\"Rationale\"\\n.\\nncrpb.nic.in\\n. NCR Planning Board. Archived from\\nthe original\\non 16 December 2012\\n. Retrieved\\n5 March\\n2017\\n.\\nThe National Capital Region (NCR) in India was constituted under the NCRPB Act, 1985\\n^\\n\"Census 2011\"\\n(PDF)\\n.\\nNational Capital Region Planning Board\\n. National Informatics Centre. p.\\xa03.\\nArchived\\n(PDF)\\nfrom the original on 6 April 2016\\n. Retrieved\\n26 March\\n2016\\n.\\n^\\na\\nb\\nc\\nd\\n\"Chapter 1: Introduction\"\\n(PDF)\\n.\\nEconomic Survey of Delhi, 2005–2006\\n. Planning Department, Government of National Capital Territory of Delhi. pp.\\xa01–7. Archived from\\nthe original\\n(PDF)\\non 13 November 2016\\n. Retrieved\\n21 December\\n2011\\n.\\n^\\nBakshi, S.R. (1995) [2002].\\nDelhi Through Ages\\n. Whispering Eye Bangdat. p.\\xa02.\\nISBN\\n978-81-7488-138-0\\n.\\n^\\na\\nb\\nSmith, George (1882).\\nThe Geography of British India, Political & Physical\\n. J. Murray. pp.\\n216\\n–217\\n. Retrieved\\n1 November\\n2008\\n.\\nraja delhi BC.\\n^\\n\"Hobson-Jobson: A Glossary of Colloquial Anglo-Indian Words and Phrases, and of Kindred Terms, Etymological, Historical, Geographical and Discursive\"\\n.\\nArchived\\nfrom the original on 1 July 2020\\n. Retrieved\\n30 July\\n2020\\n.\\n^\\n\"Our Pasts II, History Textbook for Class VII\"\\n. NCERT. Archived from\\nthe original\\non 23 June 2007\\n. Retrieved\\n6 July\\n2007\\n.\\n^\\nDelhi City\\nArchived\\n3 March 2016 at the\\nWayback Machine\\nThe Imperial Gazetteer of India\\n, 1909, v. 11, p. 236.\\n^\\nCohen, Richard J. (October–December 1989). \"An Early Attestation of the Toponym Dhilli\".\\nJournal of the American Oriental Society\\n.\\n109\\n(4): 513–519.\\ndoi\\n:\\n10.2307/604073\\n.\\nJSTOR\\n604073\\n.\\n^\\nAustin, Ian; Thhakur Nahar Singh Jasol.\\n\"Chauhans (Cahamanas, Cauhans)\"\\n.\\nThe Mewar Encyclopedia\\n. mewarindia.com. Archived from\\nthe original\\non 14 November 2006\\n. Retrieved\\n22 December\\n2006\\n.\\n^\\n\"Why developers charge a premium for upper storeys in Delhi/NCR region\"\\n.\\nThe Economic Times\\n. 5 August 2011. Archived from\\nthe original\\non 27 January 2013\\n. Retrieved\\n30 May\\n2012\\n.\\n^\\nJohn Murray (1924).\\nA handbook for travellers in India, Burma and Ceylon\\n. J. Murray, 1924.\\nArchived\\nfrom the original on 1 January 2016\\n. Retrieved\\n6 November\\n2015\\n.\\n\\'Dilli hanoz dur ast\\' (\\'Delhi is still far off\\') – has passed into the currency of a proverb\\n^\\na\\nb\\nS.W. Fallon; Dihlavi Fakir Chand (1886).\\nA dictionary of Hindustani proverbs\\n. Printed at the Medical hall press, 1886.\\nArchived\\nfrom the original on 1 January 2016\\n. Retrieved\\n6 November\\n2015\\n.\\nAbhi Dilli dur hai\\n^\\nSyed Mahdi Husain:\\nBahadur Shah Zafar and the War of 1857 in Dehli\\n. Aakar Books, Delhi 2006, ISBN 81-87879-91-2, p. LV of the preface.\\n^\\na\\nb\\nAsher, Catherine (25 September 2000), \"Delhi walled: Changing boundaries\", in James D. Tracy (ed.),\\nCity Walls: The Urban Enceinte in Global Perspective\\n, Cambridge University Press, pp.\\xa0247–, 250,\\nISBN\\n9780521652216\\n,\\narchived\\nfrom the original on 9 January 2022\\n, retrieved\\n12 October\\n2021\\n^\\nAustin, Christopher R. (2019).\\nPradyumna: Lover, Magician, and Scion of the Avatāra\\n. Oxford University Press. p.\\xa021.\\nISBN\\n978-0-19-005411-3\\n.\\nArchived\\nfrom the original on 7 September 2023\\n. Retrieved\\n2 February\\n2024\\n.\\n^\\n\"India: Qutb Minar and its Monuments, Delhi\"\\n(PDF)\\n.\\nState of Conservation of the World Heritage Properties in the Asia-Pacific Region:\\xa0: Summaries of Periodic Reports 2003 by property, Section II\\n.\\nUNESCO\\nWorld Heritage Centre. pp.\\xa071–72. Archived from\\nthe original\\n(PDF)\\non 24 May 2006\\n. Retrieved\\n22 December\\n2006\\n.\\n^\\n\"Under threat: The Magnificent Minaret of Jam\"\\n.\\nThe New Courier No 1\\n. UNESCO. October 2002.\\nArchived\\nfrom the original on 22 May 2006\\n. Retrieved\\n3 May\\n2006\\n.\\n^\\nMcClary, Richard Piran (2020),\\nMedieval Monuments of Central Asia: Qarakhanid Architecture of the 11th and 12th Centuries\\n, Edinburgh University Press, p.\\xa0287,\\nThe second story of the minaret, built during the reign of Iltutmish\" (r. 1211-36), features a similar form of ribbing to the shaft as is seen at the Jar Kurgan minaret, but the lower section features alternating flanges and ribs, while the third storey is entirely flanged, with a stellate plan. The Qutb Minar is more closely related to the Ghaznavid and Ghurid traditions of minaret construction, although all the surviving large minarets from Central Asia can be seen to share certain general characteristics, namely, a tall tapering shaft and bands of decoration.\\n^\\n\"Battuta\\'s Travels: Delhi, capital of Muslim India\"\\n. Sfusd.k12.ca.us. Archived from\\nthe original\\non 23 April 2008\\n. Retrieved\\n7 September\\n2009\\n.\\n^\\nMobilereference (2007).\\nTravel Delhi, India\\n. History section. p.\\xa010.\\nISBN\\n9781605010519\\n.\\n{{\\ncite book\\n}}\\n:  CS1 maint: location missing publisher (\\nlink\\n)\\n[\\npermanent dead link\\n\\u200d\\n]\\n^\\n\"The Islamic World to 1600: The Mongol Invasions (The Timurid Empire)\"\\n. Ucalgary.ca. Archived from\\nthe original\\non 16 August 2009\\n. Retrieved\\n7 September\\n2009\\n.\\n^\\nRubinstein, W. D. (2004).\\nGenocide: A History\\n. Pearson Longman.\\nISBN\\n978-0-582-50601-5\\n.\\n^\\n\"Sher Shah\\xa0– The Lion King\"\\n.\\nIndia\\'s History: Medieval India\\n. indhistory.com. Archived from\\nthe original\\non 12 December 2006\\n. Retrieved\\n22 December\\n2006\\n.\\n^\\nMobilereference (2007).\\nTravel Delhi, India\\n. MobileReference.com. p.\\xa012.\\nISBN\\n9781605010519\\n.\\n[\\npermanent dead link\\n\\u200d\\n]\\n^\\nThomas, Amelia (2008).\\nRajasthan, Delhi and Agra\\n. Lonely Planet.\\nISBN\\n978-1-74104-690-8\\n.\\n^\\nIrvine, William (1971).\\nLater Mughal\\n.\\nArchived\\nfrom the original on 13 April 2021\\n. Retrieved\\n2 October\\n2020\\n.\\n^\\nBoland-Crewe, Tara; Lea, David (2 September 2003).\\nTerritories and States of India\\n. Routledge.\\nISBN\\n9781135356255\\n.\\nArchived\\nfrom the original on 13 April 2021\\n. Retrieved\\n2 October\\n2020\\n.\\n^\\n\"Iran in the Age of the Raj\"\\n. Avalanchepress.com.\\nArchived\\nfrom the original on 13 January 2011\\n. Retrieved\\n11 March\\n2011\\n.\\n^\\nJagmohan (2005).\\nSoul and Structure of Governance in India\\n. Allied Publishers.\\nISBN\\n9788177648317\\n.\\nArchived\\nfrom the original on 13 April 2021\\n. Retrieved\\n2 October\\n2020\\n.\\n^\\nGordon, Stewart (1993).\\nThe Marathas 1600–1818, Volume 2\\n. Cambridge University Press.\\nISBN\\n978-0-521-26883-7\\n.\\n^\\n\"Bollywood\\'s \\'Great Betrayal\\' of Afghanistan: \"Panipat\" and the cost of vilifying Ahmad Shah Durrani\"\\n. 9 March 2020.\\nArchived\\nfrom the original on 9 November 2021\\n. Retrieved\\n14 December\\n2021\\n.\\n^\\nMayaram, Shail (2003).\\nAgainst history, against state: counter perspective from the margins Cultures of history\\n. Columbia University Press.\\nISBN\\n978-0-231-12731-8\\n.\\n^\\n\"Shifting pain\"\\n.\\nThe Times of India\\n. 11 December 2011.\\nArchived\\nfrom the original on 27 January 2013\\n. Retrieved\\n18 June\\n2012\\n.\\n^\\nChronicle of 20th Century History edited by J S Bowman ISBN 1-85422-005-5\\n^\\nMobilereference (1 January 2007).\\nTravel Delhi\\n. MobileReference.com. p.\\xa08.\\nISBN\\n978-1-60501-051-9\\n.\\n[\\npermanent dead link\\n\\u200d\\n]\\n^\\n\"Lutyens\\' Delhi in race for UN heritage status\"\\n.\\nHindustan Times\\n. 11 June 2012. Archived from\\nthe original\\non 15 June 2012\\n. Retrieved\\n18 June\\n2012\\n.\\n^\\nLakhani, Somya (17 May 2019).\\n\"Khan Market\\'s humble beginnings: Meant for refugees, \\'doomed to fail\\'\\n\"\\n.\\nIndian Express\\n.\\nArchived\\nfrom the original on 27 October 2021\\n. Retrieved\\n14 October\\n2021\\n.\\n\\'This market was set up for those who had been displaced; refugees who had migrated from the North-West Frontier Province (NWFP)\\xa0...\\' said Sanjiv Mehra, president of Khan Market Traders\\' Association and owner of Allied Toy Store. It was aptly named after popular NWFP leader Khan Abdul Jabbar Khan or Dr Khan Sahib, the elder brother of Pashtun Independence activist Khan Abdul Ghaffar Khan or Frontier Gandhi.\\n^\\nBhardwaj, Mayank (31 May 2019).\\n\"\\n\\'Khan Market Gang\\': Modi mocks his elite adversaries\"\\n.\\nReuters\\n.\\nArchived\\nfrom the original on 19 October 2021\\n. Retrieved\\n14 October\\n2021\\n.\\n^\\n\"Capital gains: How 1947 gave birth to a new identity, a new ambition, a new Delhi\"\\nArchived\\n13 May 2021 at the\\nWayback Machine\\n.\\nHindustan Times\\n. 24 April 2018.\\n^\\n\"How Muslim ghettos came about in Delhi\"\\n. 3 March 2020.\\nArchived\\nfrom the original on 31 July 2021\\n. Retrieved\\n31 July\\n2021\\n.\\n^\\n\"Delhi Assembly Elections 2015: Important Facts And Major Stakeholders Mobile Site\"\\n.\\nIndia TV News\\n. 6 February 2015. Archived from\\nthe original\\non 30 December 2015\\n. Retrieved\\n7 September\\n2015\\n.\\n^\\nJupinderjit Singh (February 2015).\\n\"Why Punjabis are central to Delhi election\"\\n.\\ntribuneindia.com/news/sunday-special/perspective/why-punjabis-are-central-to-delhi-election/36387.html\\n.\\nArchived\\nfrom the original on 9 January 2022\\n. Retrieved\\n7 September\\n2015\\n.\\n^\\nSanjay Yadav (2008).\\nThe Invasion of Delhi\\n. Worldwide Books.\\nISBN\\n978-81-88054-00-8\\n.\\nArchived\\nfrom the original on 8 September 2021\\n. Retrieved\\n14 September\\n2021\\n.\\n^\\n\"Fall in Delhi birth rate fails to arrest population rise\"\\n.\\nThe Hindu\\n. Chennai. 3 January 2005. Archived from\\nthe original\\non 4 June 2007\\n. Retrieved\\n19 December\\n2006\\n.\\n^\\nBedi, Rahul (1 November 2009).\\n\"Indira Gandhi\\'s death remembered\"\\n. BBC.\\nArchived\\nfrom the original on 2 November 2009\\n. Retrieved\\n2 November\\n2009\\n.\\nThe 25th anniversary of Indira Gandhi\\'s assassination revives stark memories of some 3,000 Sikhs killed brutally in the orderly pogrom that followed her killing\\n^\\n\"Terrorists attack Parliament; five intruders, six cops killed\"\\n.\\nRediff.com\\n. 13 December 2001.\\nArchived\\nfrom the original on 6 October 2013\\n. Retrieved\\n2 November\\n2008\\n.\\n^\\n\"India and Pakistan: Who will strike first?\"\\n.\\nEconomist\\n. 20 December 2001.\\nArchived\\nfrom the original on 5 December 2008\\n. Retrieved\\n2 November\\n2008\\n.\\n^\\n\"Delhi blasts death toll at 62\"\\n. Archived from\\nthe original\\non 5 November 2005.\\n^\\nTripathi, Rahul (14 September 2008).\\n\"Serial blasts rock Delhi; 30 dead, 90 injured-India\"\\n.\\nThe Times of India\\n.\\nArchived\\nfrom the original on 15 September 2008\\n. Retrieved\\n3 November\\n2008\\n.\\n^\\nEllis-Peterson, Hannah; Azizur Rahman, Shaikh (16 March 2020),\\n\"Delhi\\'s Muslims despair of justice after police implicated in riots\"\\n,\\nThe Guardian\\n, Delhi,\\narchived\\nfrom the original on 17 March 2020\\n, retrieved\\n17 March\\n2020\\n,\\nAs the mob attacks came once, then twice and then a third time in this north-east Delhi neighbourhood, desperate stallholders repeatedly ran to Gokalpuri and Dayalpur police stations crying out for help. But each time they found the gates locked from the inside. For three days, no help came.\\xa0... Since the riots broke out in Delhi at the end of February, the worst religious conflict to engulf the capital in decades, questions have persisted about the role that the Delhi police played in enabling the violence, which was predominately Hindu mobs attacking Muslims. Of the 51 people who died, at least three-quarters were Muslim, and many Muslims are still missing.\\n^\\nGettleman, Jeffrey; Abi-Habib, Maria (1 March 2020),\\n\"In India, Modi\\'s Policies Have Lit a Fuse\"\\n,\\nThe New York Times\\n,\\narchived\\nfrom the original on 1 March 2020\\n, retrieved\\n1 March\\n2020\\n,\\nThis past week, as neighborhoods in India\\'s capital burned and religiously driven bloodletting consumed more than 40 lives, most of them Muslim, India\\'s government was quick to say that the violence was spontaneous\\xa0... Many Muslims are now leaving, hoisting their unburned things on their heads and trudging away from streets that still smell of smoke.\\n^\\nGettleman, Jeffrey; Yasir, Sameer; Raj, Suhasini; Kumar, Hari (12 March 2020),\\n\"\\n\\'If We Kill You, Nothing Will Happen\\': How Delhi\\'s Police Turned Against Muslims\"\\n,\\nThe New York Times\\n, Photographs by Loke, Atul,\\narchived\\nfrom the original on 13 March 2020\\n, retrieved\\n13 March\\n2020\\n,\\nTwo-thirds of the more than 50 people who were killed and have been identified were Muslim.\\n^\\na\\nb\\nSlater, Joanna; Masih, Niha (6 March 2020),\\n\"In Delhi\\'s worst violence in decades, a man watched his brother burn\"\\n,\\nThe Washington Post\\n,\\narchived\\nfrom the original on 7 March 2020\\n, retrieved\\n6 March\\n2020\\n,\\nAt least 53 people were killed or suffered deadly injuries in violence that persisted for two days. The majority of those killed were Muslims, many shot, hacked or burned to death. A police officer and an intelligence officer were also killed. So too were more than a dozen Hindus, most of them shot or assaulted.\\n^\\nSlater, Joanna; Masih, Niha (2 March 2020),\\n\"What Delhi\\'s worst communal violence in decades means for Modi\\'s India\"\\n,\\nThe Washington Post\\n,\\narchived\\nfrom the original on 3 March 2020\\n, retrieved\\n15 March\\n2020\\n,\\nZaitoon, 40, who goes by one name, half-cried as she rummaged through the items. She said mobs entered her lane shouting \\'Jai Shri Ram,\\' or \\'Victory to Lord Ram,\\' a slogan favoured by Modi\\'s party, and demanded to know which houses were occupied by Muslims. She said she saw a neighbour set on fire in front of her, an account repeated by other witnesses.\\n^\\nMohan, Madan (April 2002).\\n\"GIS-Based Spatial Information Integration, Modeling and Digital Mapping: A New Blend of Tool for Geospatial Environmental Health Analysis for Delhi Ridge\"\\n(PDF)\\n.\\nSpatial Information for Health Monitoring and Population Management\\n. FIG XXII International Congress. p.\\xa05.\\nArchived\\n(PDF)\\nfrom the original on 22 December 2015\\n. Retrieved\\n3 February\\n2007\\n.\\n^\\na\\nb\\nRawal, Prakhar; Kittur, Swati; Chatakonda, Murali K.; Sundar, K.S. Gopi (2021).\\n\"Winter bird abundance, species richness and functional guild composition at Delhi\\'s ponds: does time of day and wetland extent matter?\"\\n.\\nJournal of Urban Ecology\\n.\\n7\\n(1): Online first.\\ndoi\\n:\\n10.1093/jue/juab001\\n. Retrieved\\n31 March\\n2021\\n.\\n^\\na\\nb\\nRawal, Prakhar; Kittur, Swati; Chatakonda, Murali K.; Sundar, K.S. Gopi (2021).\\n\"Capital ponds: Site-level habitat heterogeneity and management interventions at ponds regulate high landscape-scale bird diversity across a mega-city\"\\n.\\nBiological Conservation\\n.\\n260\\n: 109215.\\nBibcode\\n:\\n2021BCons.26009215R\\n.\\ndoi\\n:\\n10.1016/j.biocon.2021.109215\\n.\\nISSN\\n0006-3207\\n.\\nS2CID\\n237716829\\n.\\nArchived\\nfrom the original on 24 June 2021\\n. Retrieved\\n23 June\\n2021\\n.\\n^\\n\"Hazard profiles of Indian districts\"\\n(PDF)\\n.\\nNational Capacity Building Project in Disaster Management\\n.\\nUNDP\\n. Archived from\\nthe original\\n(PDF)\\non 19 May 2006\\n. Retrieved\\n23 August\\n2006\\n.\\n^\\na\\nb\\n\"Average weather for New Delhi, India\"\\n. Weatherspark.com.\\nArchived\\nfrom the original on 16 August 2013\\n. Retrieved\\n2 July\\n2013\\n.\\n^\\n\"Fog continues to disrupt flights, trains\"\\n.\\nThe Hindu\\n. Chennai. 7 January 2005. Archived from\\nthe original\\non 4 March 2006.\\n^\\nAgarwal, Priyangi (20 August 2023).\\n\"4 months left, Delhi crosses annual rain quota\"\\n.\\nThe Times of India\\n.\\nArchived\\nfrom the original on 10 December 2023\\n. Retrieved\\n10 December\\n2023\\n.\\n^\\n\"Station: New Delhi (Safdarjang) Climatological Table 1981–2010\"\\n(PDF)\\n.\\nClimatological Normals 1981–2010\\n. India Meteorological Department. January 2015. pp.\\xa0555–556. Archived from\\nthe original\\n(PDF)\\non 5 February 2020\\n. Retrieved\\n6 February\\n2020\\n.\\n^\\n\"Extremes of Temperature & Rainfall for Indian Stations (Up to 2012)\"\\n(PDF)\\n. India Meteorological Department. December 2016. p.\\xa0M46. Archived from\\nthe original\\n(PDF)\\non 5 February 2020\\n. Retrieved\\n6 February\\n2020\\n.\\n^\\n\"New Delhi (Safdarjang) Climatological Table 1981–2010\"\\n. India Meteorological Department\\n. Retrieved\\n6 February\\n2020\\n.\\n^\\n\"Table 3 Monthly mean duration of Sun Shine (hours) at different locations in India\"\\n(PDF)\\n.\\nDaily Normals of Global & Diffuse Radiation (1971–2000)\\n. India Meteorological Department. December 2016. p.\\xa0M-3. Archived from\\nthe original\\n(PDF)\\non 5 February 2020\\n. Retrieved\\n7 February\\n2020\\n.\\n^\\n\"New Delhi (Safdarjung) Extreme Weather Events in the Month of December\"\\n. Retrieved\\n29 December\\n2020\\n.\\n^\\n\"New Delhi (Safdarjung) Extreme Weather Events in the Month of January\"\\n(PDF)\\n. Archived from\\nthe original\\n(PDF)\\non 2 January 2023\\n. Retrieved\\n2 January\\n2023\\n.\\n^\\n\"New Delhi (Safdarjung) Extreme Weather Events in the Month of February\"\\n(PDF)\\n. Archived from\\nthe original\\n(PDF)\\non 11 February 2023\\n. Retrieved\\n11 February\\n2023\\n.\\n^\\n\"New Delhi (Safdarjung) Extreme Weather Events in the Month of March\"\\n(PDF)\\n. Archived from\\nthe original\\n(PDF)\\non 14 March 2023\\n. Retrieved\\n14 March\\n2023\\n.\\n^\\n\"new delhi (safdarjung) extreme weather events in the month of april\"\\n(PDF)\\n. Archived from\\nthe original\\n(PDF)\\non 27 April 2023\\n. Retrieved\\n27 April\\n2023\\n.\\n^\\n\"New Delhi (Safdarjung) Extreme Weather Events in the Month of May\"\\n(PDF)\\n. Archived from\\nthe original\\n(PDF)\\non 27 May 2023\\n. Retrieved\\n27 May\\n2023\\n.\\n^\\n\"New Delhi (Safdarjung) Extreme Weather Events in the Month of June\"\\n. Retrieved\\n29 December\\n2020\\n.\\n^\\n\"At 17.6 Degrees Celsius, Delhi Records Lowest Temperature In June\"\\n.\\nNDTV.com\\n. Retrieved\\n2 June\\n2021\\n.\\n^\\n\"Climatological Information - New Delhi (Safdarjung) (42182)\"\\n. India Meteorological Department. Archived from\\nthe original\\non 20 September 2022\\n. Retrieved\\n20 September\\n2022\\n.\\n^\\n\"Climatological Tables 1991-2020\"\\n(PDF)\\n. India Meteorological Department. p.\\xa0282. Archived from\\nthe original\\n(PDF)\\non 1 January 2023\\n. Retrieved\\n1 January\\n2023\\n.\\n^\\n\"Climate & Weather Averages in New Delhi, Delhi, India\"\\n. Time and Date\\n. Retrieved\\n17 July\\n2022\\n.\\n^\\n\"Under new benchmark, Delhi sees 4.6mm drop in annual rain\"\\n. Hindustan Times. Archived from\\nthe original\\non 1 January 2023\\n. Retrieved\\n6 September\\n2022\\n.\\n^\\n\"Normals Data: New Delhi/Safdarjung – India Latitude: 28.58°N Longitude: 77.20°E Height: 211 (m)\"\\n. Japan Meteorological Agency\\n. Retrieved\\n1 December\\n2022\\n.\\n^\\n\"Average UV index New Delhi, India\"\\n. Weather Atlas. Archived from\\nthe original\\non 12 June 2022\\n. Retrieved\\n12 June\\n2022\\n.\\n^\\n\"Average daylight / Average sunshine New Delhi, India\"\\n. Weather Atlas. Archived from\\nthe original\\non 14 June 2022\\n. Retrieved\\n14 June\\n2022\\n.\\n^\\n\"Delhi is most polluted city in world, Beijing much better: WHO study\"\\n.\\nHindustan Times\\n. Archived from\\nthe original\\non 8 May 2014\\n. Retrieved\\n8 May\\n2014\\n.\\n^\\nKumar, Rahul (July 2016).\\n\"Fancy Schemes for a Dirty Business\"\\n.\\nDigital Development Debates\\n.\\nArchived\\nfrom the original on 15 September 2016\\n. Retrieved\\n5 September\\n2016\\n.\\n^\\nBlinns, Rob (5 September 2023).\\n\"Most polluted cities in the world | The Independent\"\\n.\\nIndependent Advisor\\n.\\nArchived\\nfrom the original on 12 March 2024\\n. Retrieved\\n12 March\\n2024\\n.\\n^\\na\\nb\\n\"Delhi\\'s Air Has Become a Lethal Hazard and Nobody Seems to Know What to Do About It\"\\n.\\nTime\\n. 10 February 2014. Archived from\\nthe original\\non 2 March 2014\\n. Retrieved\\n10 February\\n2014\\n.\\n^\\na\\nb\\n\"India\\'s Air Pollution Triggers Comparisons with China\"\\n. Voice of America. Archived from\\nthe original\\non 21 February 2014\\n. Retrieved\\n20 February\\n2014\\n.\\n^\\n\"A Delhi particular\"\\n.\\nThe Economist\\n. 6 November 2012.\\nArchived\\nfrom the original on 6 November 2012\\n. Retrieved\\n6 November\\n2012\\n.\\n^\\nChaman, Vishakha; Pal, Ayantika (5 November 2023).\\n\"Out of here in November: In Delhi-NCR, smog break is becoming the new annual vacation\"\\n.\\nThe Times of India\\n.\\nArchived\\nfrom the original on 5 November 2023\\n. Retrieved\\n5 November\\n2023\\n.\\n^\\n\"Delhi AQI: CP Smog tower down due to DPCC, says minister Gopal Rai; official says running cost high\"\\n.\\nThe Times of India\\n. 5 November 2023.\\nArchived\\nfrom the original on 5 November 2023\\n. Retrieved\\n5 November\\n2023\\n.\\n^\\n\"Pollution level in Delhi: Day after Diwali, Delhi\\'s air turns \\'hazardous\\'\\n\"\\n.\\nThe Times of India\\n. 8 November 2018.\\nArchived\\nfrom the original on 8 November 2018\\n. Retrieved\\n8 November\\n2018\\n.\\n^\\n\"Delhi breathed easier from January to April\"\\n.\\nThe Times of India\\n. 6 June 2017.\\nArchived\\nfrom the original on 9 November 2018\\n. Retrieved\\n8 November\\n2018\\n.\\n^\\n\"Air pollution: Delhi enjoys cleanest February in three years\"\\n. 27 February 2018.\\nArchived\\nfrom the original on 9 November 2018\\n. Retrieved\\n8 November\\n2018\\n.\\n^\\n\"How Crop Burning Affects Delhi\\'s Air\"\\n.\\nThe Wall Street Journal\\n. 15 February 2014.\\nArchived\\nfrom the original on 6 March 2014\\n. Retrieved\\n15 February\\n2014\\n.\\n^\\na\\nb\\nHarris, Gardiner (25 January 2014).\\n\"Beijing\\'s Bad Air Would Be Step Up for Smoggy Delhi\"\\n.\\nThe New York Times\\n.\\nArchived\\nfrom the original on 3 November 2014\\n. Retrieved\\n27 January\\n2014\\n.\\n^\\na\\nb\\nBearak, Max (7 February 2014).\\n\"Desperate for Clean Air, Delhi Residents Experiment with Solutions\"\\n.\\nThe New York Times\\n.\\nArchived\\nfrom the original on 22 February 2014\\n. Retrieved\\n8 February\\n2014\\n.\\n^\\nMadison Park (8 May 2014).\\n\"Top 20 most polluted cities in the world\"\\n. CNN.\\nArchived\\nfrom the original on 8 May 2016.\\n^\\n\"Children in Delhi have lungs of chain-smokers!\"\\n.\\nIndia Today\\n.\\nArchived\\nfrom the original on 2 March 2014\\n. Retrieved\\n22 February\\n2014\\n.\\n^\\n\"Pollution increasing lung cancer in Indian women\"\\n. DNA. 3 February 2014.\\nArchived\\nfrom the original on 5 March 2014\\n. Retrieved\\n3 February\\n2014\\n.\\n^\\n\"Delhi blanketed in thick smog, transport disrupted\"\\n.\\nReuters\\n. 18 December 2013. Archived from\\nthe original\\non 20 December 2013\\n. Retrieved\\n18 December\\n2013\\n.\\n^\\n\"January days getting colder, tied to rise in pollution\"\\n.\\nThe Times of India\\n. 27 January 2014.\\nISSN\\n0971-8257\\n.\\nArchived\\nfrom the original on 4 September 2015.\\n^\\n\"Usual suspects: Vehicles, industrial emissions behind foul play\"\\n.\\nThe Times of India\\n.\\nArchived\\nfrom the original on 28 December 2018\\n. Retrieved\\n18 December\\n2018\\n.\\n^\\n\"UA vicious nexus\"\\n.\\nDown to Earth\\n.\\nArchived\\nfrom the original on 13 December 2018\\n. Retrieved\\n18 December\\n2018\\n.\\n^\\n\"Impose 30% cess on diesel cars, panel tells Supreme Court\"\\n.\\nThe Times of India\\n. 11 February 2014.\\nISSN\\n0971-8257\\n.\\nArchived\\nfrom the original on 4 March 2014.\\n^\\na\\nb\\n\"The Air Quality Life Index (AQLI)\"\\n.\\nAQLI\\n.\\nArchived\\nfrom the original on 20 August 2020\\n. Retrieved\\n6 September\\n2022\\n.\\n^\\nGardiner Harris (14 February 2015).\\n\"Delhi Wakes Up to an Air Pollution Problem It Cannot Ignore\"\\n.\\nThe New York Times\\n.\\nArchived\\nfrom the original on 15 February 2015\\n. Retrieved\\n15 February\\n2015\\n.\\n^\\n\"Delhi \\'third greenest\\' city\"\\n. Ndtv.com.\\nArchived\\nfrom the original on 13 February 2011\\n. Retrieved\\n11 March\\n2011\\n.\\n^\\na\\nb\\nc\\n\"Express India\"\\n.\\nThe Indian Express\\n. Archived from\\nthe original\\non 31 December 2010\\n. Retrieved\\n11 March\\n2011\\n.\\n^\\n\"Delhi Metro helps reduce vehicular air pollution, indicates research\"\\n.\\nIndia Today\\n. 28 April 2013.\\nArchived\\nfrom the original on 1 March 2014.\\n^\\nR. Kumari; A.K. Attri; L. Int Panis; B.R. Gurjar (April 2013).\\n\"Emission estimates of Particulate Matter and Heavy Metals from Mobile sources in Delhi (India)\"\\n.\\nJournal of Environmental Science and Engineering\\n.\\n55\\n(2): 127–142.\\nPMID\\n25464689\\n.\\nArchived\\nfrom the original on 8 November 2014.\\n^\\n\"What is the status of air pollution in Delhi?\"\\n. CSE, India.\\nArchived\\nfrom the original on 1 March 2014\\n. Retrieved\\n2 March\\n2014\\n.\\n^\\n\"Delhi\\'s air quality deteriorating due to burning of agriculture waste\"\\n.\\nThe Economic Times\\n. 6 November 2014. Archived from\\nthe original\\non 11 November 2014\\n. Retrieved\\n8 November\\n2014\\n.\\n^\\n\"Thick blanket of smog envelopes Delhi, northern India\"\\n.\\nIndia Today\\n.\\nArchived\\nfrom the original on 5 November 2014.\\n^\\n\"Swachh Vayu Sarvekshan 2024\"\\n(PDF)\\n.\\nSwachh Vayu Sarvekshan 2024\\n. 7 September 2024. Archived from\\nthe original\\n(PDF)\\non 14 September 2024\\n. Retrieved\\n19 September\\n2024\\n.\\n^\\nM.S.A. Rao (1970).\\nUrbanization and Social Change: A Study of a Rural Community on a Metropolitan Fringe\\n. Orient Longmans.\\nArchived\\nfrom the original on 3 March 2018\\n. Retrieved\\n28 November\\n2017\\n.\\n^\\n\"Municipal Corporation of Delhi\"\\n.\\nmcdonline.nic.in\\n.\\nArchived\\nfrom the original on 21 May 2022\\n. Retrieved\\n22 May\\n2022\\n.\\n^\\n\"AAP\\'s Shelly Oberoi wins, Delhi gets new mayor after 75 days, Kejriwal says \\'goons\\' lost | LIVE\"\\n.\\nIndia Today\\n. 22 February 2023.\\nArchived\\nfrom the original on 23 January 2024\\n. Retrieved\\n23 January\\n2024\\n.\\n^\\n\"Delhi govt decides to split MCD into three parts\"\\n. Press Trust of India. 30 May 2011.\\nArchived\\nfrom the original on 28 July 2013.\\n^\\nHindustan Ties (29 May 2017).\\n\"MCD results 2017: BJP rides on Modi wave; AAP routed, Kejriwal accepts defeat\"\\n.\\nArchived\\nfrom the original on 6 November 2017.\\n^\\n\"Where are Courts in Delhi Situated\\xa0?\"\\n. 14 August 2021.\\nArchived\\nfrom the original on 14 August 2021\\n. Retrieved\\n14 August\\n2021\\n.\\n^\\n\"District Courts of Delhi | Bar Council of Delhi\"\\n.\\nArchived\\nfrom the original on 13 August 2021\\n. Retrieved\\n14 August\\n2021\\n.\\n^\\n\"Poile Stations\"\\n. Government of National Capital Territory of Delhi. Archived from\\nthe original\\non 10 January 2007\\n. Retrieved\\n19 December\\n2006\\n.\\n^\\n\"Delhi Police\"\\n.\\nArchived\\nfrom the original on 14 August 2021\\n. Retrieved\\n14 August\\n2021\\n.\\n^\\n\"Delhi: Assembly Constituencies\"\\n. Compare Infobase Limited. Archived from\\nthe original\\non 1 January 2007\\n. Retrieved\\n19 December\\n2006\\n.\\n^\\n\"Lok Sabha constituencies get a new profile\"\\n.\\nThe Hindu\\n. Chennai. 7 September 2006. Archived from\\nthe original\\non 4 January 2007\\n. Retrieved\\n19 December\\n2006\\n.\\n^\\n\"Politics of Delhi\"\\n. INDFY. Archived from\\nthe original\\non 24 April 2012\\n. Retrieved\\n17 May\\n2012\\n.\\n^\\n\"Arvind Kejriwal to be Delhi Chief Minister, swearing-in at Ramleela Maidan\"\\n.\\nThe Economic Times\\n. 23 December 2013. Archived from\\nthe original\\non 11 May 2015\\n. Retrieved\\n28 July\\n2015\\n.\\n^\\nMohammad Ali; Vishal Kant; Sowmiya Ashok (14 February 2014).\\n\"Arvind Kejriwal quits over Jan Lokpal\"\\n.\\nThe Hindu\\n. Chennai.\\nArchived\\nfrom the original on 16 October 2015\\n. Retrieved\\n28 July\\n2015\\n.\\n^\\n\"President\\'s rule imposed in Delhi\"\\n.\\nThe Times of India\\n.\\nArchived\\nfrom the original on 19 July 2015\\n. Retrieved\\n28 July\\n2015\\n.\\n^\\nNiharika Mandhana (10 February 2015).\\n\"Upstart Party Wins India State Elections – WSJ\"\\n.\\nThe Wall Street Journal\\n.\\nArchived\\nfrom the original on 9 August 2015\\n. Retrieved\\n28 July\\n2015\\n.\\n^\\n\"Delhi Election Results 2020: The Mega Victory Of Arvind Kejriwal\"\\n.\\nNDTV\\n.\\nArchived\\nfrom the original on 16 May 2023\\n. Retrieved\\n16 May\\n2023\\n.\\n^\\n*\\nClara Lewis (28 November 2016).\\n\"Delhi, not Mumbai, India\\'s economic capital\"\\n.\\nThe Times of India\\n. Retrieved\\n11 September\\n2023\\n.\\n\"Mumbai 17th in global GDP list, says survey\"\\n.\\nThe Indian Express\\n. 3 June 2017.\\nArchived\\nfrom the original on 20 October 2021\\n. Retrieved\\n16 September\\n2021\\n.\\n\"Global city GDP 2014\"\\n.\\nBrookings Institution\\n. 22 January 2015.\\nArchived\\nfrom the original on 25 May 2017\\n. Retrieved\\n4 March\\n2017\\n.\\n\"Global city GDP rankings 2008–2025\"\\n.\\nPwC\\n. Archived from\\nthe original\\non 4 May 2011\\n. Retrieved\\n16 December\\n2009\\n.\\n\"The Most Dynamic Cities of 2025\"\\n.\\nForeign Policy\\n.\\nArchived\\nfrom the original on 28 August 2012\\n. Retrieved\\n24 August\\n2012\\n.\\n^\\n\"Mumbai is no more the financial capital of India\"\\n. Business Insider India. 28 November 2016.\\nArchived\\nfrom the original on 12 November 2020\\n. Retrieved\\n13 August\\n2020\\n.\\n^\\n\"Delhi Budget Analysis 2017–18\"\\n(PDF)\\n.\\nPRS Legislative Research\\n. 8 March 2017.\\nArchived\\n(PDF)\\nfrom the original on 12 March 2017\\n. Retrieved\\n10 March\\n2017\\n.\\n^\\n\"Chapter 2: State Income\"\\n(PDF)\\n.\\nEconomic Survey of Delhi, 2005–06\\n. Planning Department, Government of National Capital Territory of Delhi. pp.\\xa08–16. Archived from\\nthe original\\n(PDF)\\non 14 June 2007.\\n^\\na\\nb\\nc\\n\"Chapter 5: Employment and Unemployment\"\\n(PDF)\\n.\\nEconomic Survey of Delhi, 2005–06\\n. Planning Department, Government of National Capital Territory of Delhi. pp.\\xa059–65. Archived from\\nthe original\\n(PDF)\\non 15 February 2016.\\n^\\n\"Chapter 21: Employment and Unemployment\"\\n(PDF)\\n.\\nEconomic Survey of Delhi, 2022-23\\n. Planning Department, Government of National Capital Territory of Delhi.\\nArchived\\n(PDF)\\nfrom the original on 23 May 2023\\n. Retrieved\\n25 May\\n2023\\n.\\n^\\n\"Industries in Delhi\"\\n. Mapsofindia.com.\\nArchived\\nfrom the original on 3 May 2012\\n. Retrieved\\n7 September\\n2009\\n.\\n^\\n\"Delhi hot favourite retail destination in India\\xa0– Corporate Trends\\xa0– News By Company -News\"\\n.\\nThe Economic Times\\n. Archived from\\nthe original\\non 7 October 2013\\n. Retrieved\\n3 November\\n2008\\n.\\n^\\n\"Chapter 9: Industrial Development\"\\n(PDF)\\n.\\nEconomic Survey of Delhi, 2005–06\\n. Planning Department, Government of National Capital Territory of Delhi. pp.\\xa094–107. Archived from\\nthe original\\n(PDF)\\non 14 June 2007.\\n^\\na\\nb\\n\"Chapter 13: Water Supply and Sewerage\"\\n(PDF)\\n.\\nEconomic Survey of Delhi, 2005–2006\\n. Planning Department, Government of National Capital Territory of Delhi. pp.\\xa0147–162. Archived from\\nthe original\\n(PDF)\\non 14 June 2007\\n. Retrieved\\n21 December\\n2006\\n.\\n^\\nBirkinshaw, Matt (July 2016).\\n\"Unequal, Unreliable and Running Out\"\\n.\\nDigital Development Debates\\n.\\nArchived\\nfrom the original on 15 September 2016\\n. Retrieved\\n5 September\\n2016\\n.\\n^\\nJoshi, Sandeep (19 June 2006).\\n\"MCD developing new landfill site\"\\n.\\nThe Hindu\\n. Chennai. Archived from\\nthe original\\non 19 November 2006\\n. Retrieved\\n19 December\\n2006\\n.\\n^\\na\\nb\\nGadhok, Taranjot Kaur.\\n\"Risks in Delhi: Environmental concerns\"\\n.\\nNatural Hazard Management\\n. GISdevelopment.net. Archived from\\nthe original\\non 12 May 2012\\n. Retrieved\\n19 December\\n2006\\n.\\n^\\n\"Chapter 11: Energy\"\\n(PDF)\\n.\\nEconomic Survey of Delhi, 2005–06\\n. Planning Department, Government of National Capital Territory of Delhi. pp.\\xa0117–129. Archived from\\nthe original\\n(PDF)\\non 14 June 2007\\n. Retrieved\\n21 December\\n2006\\n.\\n^\\n\"About Us\"\\n.\\nDelhi Fire Service\\n. Govt. of NCT of Delhi. Archived from\\nthe original\\non 22 January 2007\\n. Retrieved\\n9 January\\n2007\\n.\\n^\\n\"Delhi Indira Gandhi International Airport (IGI)\"\\n. Airport-delhi.com. 2 May 1986.\\nArchived\\nfrom the original on 16 May 2012\\n. Retrieved\\n7 September\\n2009\\n.\\n^\\n\"Traffic Statistics – Domestic & International Passengers\"\\n(PDF)\\n.\\nAirports Authority of India\\n. p.\\xa03. Archived from\\nthe original\\n(jsp)\\non 27 May 2016\\n. Retrieved\\n5 May\\n2016\\n.\\n^\\n\"India begins $1.94b Delhi airport revamp\"\\n.\\nDaily Times\\n. Pakistan. 18 February 2007. Archived from\\nthe original\\non 16 January 2009\\n. Retrieved\\n3 November\\n2008\\n.\\n^\\n\"Indira Gandhi International Airport is world\\'s best airport for second time in row\"\\n.\\nIndia Today\\n. 2 March 2016.\\nArchived\\nfrom the original on 26 October 2019\\n. Retrieved\\n5 October\\n2019\\n.\\n^\\n\"Airports Council International\"\\n. 12 May 2012. Archived from\\nthe original\\non 12 May 2012\\n. Retrieved\\n5 October\\n2019\\n.\\n^\\n\"PM Narendra Modi inaugurates civil enclave at Hindon airport\"\\n.\\nThe Economic Times\\n. 8 March 2019.\\nArchived\\nfrom the original on 13 March 2019\\n. Retrieved\\n10 March\\n2019\\n.\\n^\\n\"Search\"\\n.\\nIndia News Analysis Opinions on Niti Central\\n. Archived from\\nthe original\\non 2 January 2014\\n. Retrieved\\n28 July\\n2015\\n.\\n^\\nShah, Pankaj (23 February 2018).\\n\"Jewar airport will now be a full-fledged aviation hub\"\\n.\\nThe Times of India\\n.\\nArchived\\nfrom the original on 24 February 2018\\n. Retrieved\\n3 March\\n2018\\n.\\n^\\na\\nb\\n\"Mecca for young aviators\"\\n.\\nHindustan Times\\n. 23 September 2011. Archived from\\nthe original\\non 3 January 2013.\\n^\\n\"Ministries in row over Safdarjung Airport land\"\\n.\\nThe Times of India\\n. 13 April 2011.\\nArchived\\nfrom the original on 27 January 2013\\n. Retrieved\\n17 May\\n2012\\n.\\n^\\n\"Delhi\\'s CNG success inspiring many countries: Naik\"\\n.\\noutlookindia.com\\n. Outlook Publishing (India) Private Limited.\\nPress Trust of India\\n. 11 December 2002. Archived from\\nthe original\\non 1 February 2009\\n. Retrieved\\n2 November\\n2008\\n.\\n^\\nPritha Chatterjee (6 April 2015).\\n\"The road that larger particles travel\"\\n.\\nThe Indian Express\\n. Archived from\\nthe original\\non 7 November 2016\\n. Retrieved\\n7 November\\n2016\\n.\\n^\\nSingh, Paras (12 April 2018).\\n\"Broken roads? You now know who you can call for help\"\\n.\\nThe Times of India\\n.\\nISSN\\n0971-8257\\n.\\nArchived\\nfrom the original on 29 October 2023\\n. Retrieved\\n29 October\\n2023\\n.\\n^\\nI.Prasada Rao; Dr. P.K. Kanchan; Dr. P.K. Nanda.\\n\"GIS Based Maintenance Management System (GMMS) For Major Roads of Delhi\"\\n.\\nMap India 2006: Transportation\\n. GISdevelopment.net.\\nArchived\\nfrom the original on 26 April 2012\\n. Retrieved\\n14 January\\n2007\\n.\\n^\\n\"Will have roads constructed in all unauthorised colonies by December 2024: Delhi CM\"\\n.\\nThe Hindu\\n. 23 August 2023.\\nISSN\\n0971-751X\\n.\\nArchived\\nfrom the original on 29 October 2023\\n. Retrieved\\n29 October\\n2023\\n.\\n^\\nDipak K. Dash (5 February 2017).\\n\"Delhi traffic chaos costs Rs 60,000 crore annually\"\\n.\\nThe Economic Times\\n.\\nArchived\\nfrom the original on 24 March 2017\\n. Retrieved\\n23 March\\n2017\\n.\\n^\\nArmin Rosencranz; Michael Jackson.\\n\"Introduction\"\\n(PDF)\\n.\\nThe Delhi Pollution Case: The Supreme Court of India and the Limits of Judicial Power\\n. indlaw.com. p.\\xa03. Archived from\\nthe original\\n(PDF)\\non 14 June 2007\\n. Retrieved\\n14 January\\n2007\\n.\\n^\\n\"Citizen Charter\"\\n. Delhi Transport Corporation. Archived from\\nthe original\\non 10 January 2007\\n. Retrieved\\n21 December\\n2006\\n.\\n^\\n\"DTC records highest single-day collection\"\\n.\\nNDTV\\n. 12 July 2011.\\nArchived\\nfrom the original on 24 March 2017\\n. Retrieved\\n23 March\\n2017\\n.\\n^\\n\"Cluster buses to be back on road today\"\\n.\\nThe Times of India\\n. New Delhi. TNN. 18 March 2018.\\nArchived\\nfrom the original on 8 May 2018\\n. Retrieved\\n7 May\\n2018\\n.\\n^\\n\"Cabinet sets ball rolling to procure 1,000 cluster buses\"\\n.\\nThe Times of India\\n. New Delhi. TNN. 10 January 2018.\\nArchived\\nfrom the original on 7 May 2018\\n. Retrieved\\n7 May\\n2018\\n.\\n^\\n\"Upswing in DTC, Cluster buses daily ridership, 41.90 passengers carried per day: Sisodia\"\\n.\\nMoneycontrol.com\\n. Press Trust of India. 22 March 2018.\\nArchived\\nfrom the original on 7 April 2018\\n. Retrieved\\n7 May\\n2018\\n.\\n^\\na\\nb\\nc\\n\"Chapter 12: Transport\"\\n(PDF)\\n.\\nEconomic Survey of Delhi, 2005–2006\\n. Planning Department, Government of National Capital Territory of Delhi. pp.\\xa0130–146. Archived from\\nthe original\\n(PDF)\\non 16 January 2007\\n. Retrieved\\n21 December\\n2006\\n.\\n^\\n\"350 e-buses launched in Delhi, highest overall among all cities, says Kejriwal\"\\n.\\nEconomic Times\\n. PTI. 15 February 2024.\\nArchived\\nfrom the original on 15 February 2024\\n. Retrieved\\n15 February\\n2024\\n.\\n^\\n\"Delhi adds 350 more e-buses; 3rd biggest fleet in world: govt\"\\n.\\nThe Hindu\\n. 14 February 2024.\\nISSN\\n0971-751X\\n.\\nArchived\\nfrom the original on 14 February 2024\\n. Retrieved\\n15 February\\n2024\\n.\\n^\\nAparajita Ray (16 June 2016).\\n\"Bengaluru retains second place after Delhi with most vehicles on roads\"\\n.\\nThe Times of India\\n. Bengaluru. TNN.\\nArchived\\nfrom the original on 14 June 2018\\n. Retrieved\\n24 April\\n2018\\n.\\n^\\n\"Traffic snarl snaps 42 Cr man-hour from Delhi, NCR workers at iGovernment\"\\n. Igovernment.in. Archived from\\nthe original\\non 7 October 2008\\n. Retrieved\\n3 November\\n2008\\n.\\n^\\n\"Every 12th Delhiite owns a car\"\\n.\\nThe Economic Times\\n. 2 January 2008.\\nArchived\\nfrom the original on 8 March 2012\\n. Retrieved\\n3 November\\n2008\\n.\\n^\\n\"Vehicle numbers cross one crore mark in Delhi\"\\n.\\nThe Times of India\\n. New Delhi. Press Trust of India. 4 June 2017.\\nArchived\\nfrom the original on 11 June 2018\\n. Retrieved\\n24 April\\n2018\\n.\\n^\\n\"Faridabad Metro Corridor – Press Brief\"\\n. Delhimetrorail.com.\\nArchived\\nfrom the original on 1 January 2016\\n. Retrieved\\n24 December\\n2015\\n.\\n^\\nBarman, Sourav Roy (10 August 2018).\\n\"Since 2013, 99% of Delhi Metro trips have been on time\"\\n.\\nThe Indian Express\\n. New Delhi.\\nArchived\\nfrom the original on 11 August 2018\\n. Retrieved\\n11 August\\n2018\\n.\\n^\\na\\nb\\n\"Bloomberg.com: Opinion\"\\n. Bloomberg L.P. Archived from\\nthe original\\non 27 October 2012\\n. Retrieved\\n3 November\\n2008\\n.\\n^\\na\\nb\\n\"Get ready for revolution on wheels\"\\n.\\nThe Economic Times\\n. 6 August 2008.\\nArchived\\nfrom the original on 11 January 2009\\n. Retrieved\\n3 November\\n2008\\n.\\n^\\na\\nb\\n\"10 years of Delhi Metro\"\\n. delhimetrorail.com. 24 January 2013.\\nArchived\\nfrom the original on 30 August 2013.\\n^\\n\"Changing Delhi map makes Ring Railway redundant\"\\n.\\nThe Indian Express\\n. 22 February 2011.\\nArchived\\nfrom the original on 28 February 2011.\\n^\\na\\nb\\n\"Present Network\"\\n.\\nwww.delhimetrorail.com\\n.\\nArchived\\nfrom the original on 2 January 2023\\n. Retrieved\\n16 April\\n2022\\n.\\n^\\na\\nb\\n\"Route map\"\\n.\\nwww.delhimetrorail.com\\n.\\nArchived\\nfrom the original on 3 May 2022\\n. Retrieved\\n16 April\\n2022\\n.\\n^\\na\\nb\\n\"Introduction | DMRC\"\\n.\\nwww.delhimetrorail.com\\n.\\nArchived\\nfrom the original on 16 April 2022\\n. Retrieved\\n16 April\\n2022\\n.\\n^\\n\"Census Tables\"\\n.\\ncensusindia.gov.in\\n.\\nArchived\\nfrom the original on 2 March 2024\\n. Retrieved\\n6 January\\n2024\\n.\\n^\\n\"Census of India: Provisional Population Totals for Census 2011: NCT of Delhi\"\\n. Censusindia.gov.in.\\nArchived\\nfrom the original on 12 April 2011\\n. Retrieved\\n2 May\\n2011\\n.\\n^\\na\\nb\\n\"Chapter 3: Demographic Profile\"\\n(PDF)\\n.\\nEconomic Survey of Delhi, 2005–2006\\n. Planning Department, Government of National Capital Territory of Delhi. pp.\\xa017–31. Archived from\\nthe original\\n(PDF)\\non 14 June 2007\\n. Retrieved\\n21 December\\n2006\\n.\\n^\\nCan\\'t afford to fall ill in Dwarka\\nArchived\\n27 October 2014 at the\\nWayback Machine\\n,\\nHindustan Times\\n, 16 July 2009\\n^\\nDemographia (2016).\\nDemographia World Urban Areas\\n(PDF)\\n(12th\\xa0ed.).\\nArchived\\n(PDF)\\nfrom the original on 5 August 2011\\n. Retrieved\\n17 November\\n2016\\n.\\n^\\n\"Urban agglomerations/cities having population 1 million and above\"\\n(PDF)\\n.\\nProvisional population totals, census of India 2011\\n. Registrar General & Census Commissioner, India. 2011.\\nArchived\\n(PDF)\\nfrom the original on 15 December 2011\\n. Retrieved\\n26 January\\n2012\\n.\\n^\\n\"India Stats\\xa0: Million plus cities in India as per Census 2011\"\\n.\\npibmumbai.gov.in\\n. Archived from\\nthe original\\non 30 June 2015\\n. Retrieved\\n7 September\\n2015\\n.\\n^\\na\\nb\\n\"Evaluation Study of DMA Towns in National Capital Region\"\\n(PDF)\\n.\\nTown and Country Planning Organisation\\n.\\nMinistry of Urban Development\\n. September 2007. Archived from\\nthe original\\n(PDF)\\non 20 March 2017\\n. Retrieved\\n19 March\\n2017\\n.\\n^\\n\"Regional Plan 2021, Chapter 4, Demographic Profile and Settlement Pattern\"\\n(PDF)\\n. NCR Planning Board. p.\\xa028.\\nArchived\\n(PDF)\\nfrom the original on 20 March 2017\\n. Retrieved\\n19 March\\n2017\\n.\\n^\\nDhananjay Mahapatra (4 October 2012).\\n\"\\n\\'Half of Delhi\\'s population lives in slums\\'\\n\"\\n.\\nThe Times of India\\n.\\nArchived\\nfrom the original on 14 April 2016\\n. Retrieved\\n1 January\\n2016\\n.\\n^\\nMayura Janwalkar (20 April 2015).\\n\"Delhi: Slum shame\"\\n.\\nThe Indian Express\\n. Archived from\\nthe original\\non 12 January 2016\\n. Retrieved\\n1 January\\n2016\\n.\\n^\\na\\nb\\n\"Religion PCA\"\\n.\\ncensusindia.gov.in\\n.\\nGovernment of India\\n. Archived from\\nthe original\\non 7 July 2016\\n. Retrieved\\n8 July\\n2016\\n.\\n^\\n\"Data on Religion\"\\n. Census of India 2001. p.\\xa01. Archived from\\nthe original\\non 12 August 2007\\n. Retrieved\\n16 May\\n2006\\n.\\n^\\na\\nb\\n\"Census of India, 1881 Report on the Census of the Panjáb Taken on the 17th of February 1881, vol. II\"\\n. 1881.\\nJSTOR\\nsaoa.crl.25057657\\n.\\nArchived\\nfrom the original on 15 January 2024\\n. Retrieved\\n14 January\\n2024\\n.\\n^\\na\\nb\\n\"Census of India, 1911 Volume XIV Punjab Part II Tables\"\\n.\\nArchived\\nfrom the original on 7 October 2022\\n. Retrieved\\n16 January\\n2023\\n.\\n^\\na\\nb\\n\"Cv, 1941 Volume XVI Delhi\"\\n.\\nArchived\\nfrom the original on 11 October 2022\\n. Retrieved\\n16 January\\n2023\\n.\\n^\\na\\nb\\n\"Census of India, 1881 Report on the Census of the Panjáb Taken on the 17th of February 1881, vol. I.\"\\n1881.\\nJSTOR\\nsaoa.crl.25057656\\n.\\nArchived\\nfrom the original on 15 January 2024\\n. Retrieved\\n14 January\\n2024\\n.\\n^\\n\"Census of India, 1891 General Tables – British Provinces and Feudatory States Vol I\"\\n.\\nArchived\\nfrom the original on 17 January 2023\\n. Retrieved\\n16 January\\n2023\\n.\\n^\\n\"Census of India, 1901 Volume I-A India Part II-Tables\"\\n.\\nArchived\\nfrom the original on 17 January 2023\\n. Retrieved\\n16 January\\n2023\\n.\\n^\\n\"Census of India, 1921 Volume XV Punjab and Delhi Part II Tables\"\\n.\\nArchived\\nfrom the original on 17 January 2023\\n. Retrieved\\n16 January\\n2023\\n.\\n^\\n\"Census of India, 1931 Volume XVI Delhi\"\\n.\\nArchived\\nfrom the original on 17 January 2023\\n. Retrieved\\n16 January\\n2023\\n.\\n^\\nVashishta, Lakshmi Chandra; India. Superintendent Of Census Operations, Punjab (1951).\\n\"Census of India, 1951: Punjab, Pepsu, Himachal Pradesh, Bilaspur & Delhi\"\\n. p.\\xa0298.\\nJSTOR\\nsaoa.crl.25803729\\n. Retrieved\\n12 May\\n2024\\n.\\n^\\n\"C-16: Population by mother tongue\"\\n.\\nOffice Of The Registrar General & Census Commissioner India\\n. Archived from\\nthe original\\non 9 August 2022\\n. Retrieved\\n25 November\\n2023\\n.\\n^\\na\\nb\\n\"50th Report of the Commissioner for Linguistic Minorities in India\"\\n(PDF)\\n.\\nnclm.nic.in\\n.\\nMinistry of Minority Affairs\\n. p.\\xa09. Archived from\\nthe original\\n(PDF)\\non 8 July 2016\\n. Retrieved\\n8 July\\n2016\\n.\\n^\\n\"Promote lesser-known monuments of Delhi\\'-Delhi-Cities\"\\n.\\nThe Times of India\\n. Press Trust of India. 27 February 2009.\\nArchived\\nfrom the original on 11 August 2011\\n. Retrieved\\n7 September\\n2009\\n.\\n^\\n\"Delhi Circle (NCT of Delhi)\"\\n.\\nList of Ancient Monuments and Archaeological Sites and Remains of National Importance\\n.\\nArchaeological Survey of India\\n.\\nArchived\\nfrom the original on 14 May 2007\\n. Retrieved\\n27 December\\n2006\\n.\\n^\\n\"Jama Masjid, India\\'s largest mosque\"\\n. Terra Galleria.\\nArchived\\nfrom the original on 4 March 2009\\n. Retrieved\\n13 March\\n2009\\n.\\n^\\n\"Know India\"\\n. India.gov.\\nArchived\\nfrom the original on 4 September 2015\\n. Retrieved\\n22 January\\n2010\\n.\\n^\\n\"Properties inscribed on the World Heritage List: India\"\\n. UNESCO World Heritage Centre.\\nArchived\\nfrom the original on 2 May 2012\\n. Retrieved\\n13 January\\n2007\\n.\\n^\\nJacob, Satish (July 2002).\\n\"Wither, the walled city\"\\n.\\nSeminar (Web Edition)\\n(515).\\nArchived\\nfrom the original on 12 December 2006\\n. Retrieved\\n19 January\\n2007\\n.\\n^\\n\"Shopping in Delhi\"\\n.\\nDelhi Tours\\n. About Palace on Wheels. Archived from\\nthe original\\non 26 April 2012\\n. Retrieved\\n4 January\\n2007\\n.\\n^\\nGale, Colin; Lahori, Lajwanti; Kaur, Jasbir (1 May 2002).\\nThe Textile Book\\n. Berg Publishers. p.\\xa099.\\nISBN\\n978-1-85973-512-1\\n.\\nArchived\\nfrom the original on 13 April 2021\\n. Retrieved\\n2 October\\n2020\\n– via Google Books.\\n^\\n\"Ancient and modern metal craft works attract visitors\"\\n.\\nThe Times of India\\n. 12 June 2012.\\nArchived\\nfrom the original on 27 January 2013\\n. Retrieved\\n18 June\\n2012\\n.\\n^\\n\"Delhi Handicrafts\"\\n. Indian Handicrafts suppliars. Archived from\\nthe original\\non 1 June 2007\\n. Retrieved\\n18 June\\n2012\\n.\\n^\\nKapur, Manavi (30 November 2013).\\n\"Patna in Delhi\"\\n.\\nBusiness Standard\\n.\\nArchived\\nfrom the original on 28 October 2021\\n. Retrieved\\n14 October\\n2021\\n.\\n^\\nTiwari, Bharat S. (12 February 2020),\\n\"At Nizamuddin Auliya\\'s Dargah, Basant is the Colour of Harmony\"\\n,\\nThe Wire\\n,\\narchived\\nfrom the original on 27 October 2021\\n, retrieved\\n14 October\\n2021\\n^\\nRay Choudhury, Ray Choudhury (28 January 2002).\\n\"R-Day parade, an anachronism?\"\\n.\\nBusiness Line\\n.\\nArchived\\nfrom the original on 18 January 2012\\n. Retrieved\\n13 January\\n2007\\n.\\n^\\na\\nb\\n\"Fairs & Festivals of Delhi\"\\n.\\nDelhi Travel\\n. India Tourism.org. Archived from\\nthe original\\non 19 March 2007\\n. Retrieved\\n13 January\\n2007\\n.\\n^\\nDelhi: a portrait\\n, by\\nKhushwant Singh\\n,\\nRaghu Rai\\n, Published by\\nDelhi Tourism Development Corp.\\n, 1983.\\nISBN\\n978-0-19-561437-4\\n. p. 15.\\n^\\nTankha, Madhur (15 December 2005).\\n\"It\\'s Sufi and rock at Qutub Fest\"\\n.\\nThe Hindu\\n. Chennai. Archived from\\nthe original\\non 13 May 2006\\n. Retrieved\\n13 January\\n2007\\n.\\n^\\n\"Front Page: Asia\\'s largest auto carnival begins in Delhi tomorrow\"\\n.\\nThe Hindu\\n. Chennai. 9 January 2008. Archived from\\nthe original\\non 17 January 2012\\n. Retrieved\\n3 November\\n2008\\n.\\n^\\n\"Delhi Metro records 10% rise in commuters\"\\n.\\nThe Times of India\\n. 1 July 2008.\\nArchived\\nfrom the original on 8 May 2013\\n. Retrieved\\n3 November\\n2008\\n.\\n^\\nSunil Sethi / New Delhi\\xa09 February 2008.\\n\"Sunil Sethi: Why Delhi is India\\'s Book Capital\"\\n.\\nBusiness Standard\\n. Archived from\\nthe original\\non 1 January 2009\\n. Retrieved\\n3 November\\n2008\\n.\\n{{\\ncite web\\n}}\\n:  CS1 maint: numeric names: authors list (\\nlink\\n)\\n^\\n\"Report of IITF 2014\"\\n(PDF)\\n. Archived from\\nthe original\\n(PDF)\\non 6 February 2015.\\n^\\nDK Eyewitness Top 10 Travel Guide: Delhi\\n.\\nDorling Kindersley\\n. 2012. p.\\xa065.\\nISBN\\n9781409387008\\n.\\n^\\na\\nb\\nSwamy, M. R. Narayan (2006).\\nNew Delhi\\n. Marshall Cavendish. pp.\\xa014–17.\\nISBN\\n978-981-232-996-7\\n.\\nArchived\\nfrom the original on 13 April 2021\\n. Retrieved\\n23 June\\n2012\\n.\\n^\\na\\nb\\nc\\nSingh, Chetananand (2010).\\n\"Commonwealth games guide to Delhi\"\\n(PDF)\\n. Delhi Tourism and Transportation Development Corporation Ltd.\\nArchived\\n(PDF)\\nfrom the original on 10 May 2012\\n. Retrieved\\n23 June\\n2012\\n.\\n^\\nDuncan, Fiona (6 March 2011).\\n\"Delhi, India: hotels, restaurants and transport\"\\n.\\nThe Daily Telegraph\\n. London.\\nArchived\\nfrom the original on 14 March 2012\\n. Retrieved\\n23 June\\n2012\\n.\\n^\\nBrown, Lindsay; Thomas, Amelia (2008).\\nRajasthan, Delhi and Agra\\n(second\\xa0ed.). Footscray, Vic.: Lonely Planet. pp.\\n20\\n–31.\\nISBN\\n978-1-74104-690-8\\n.\\n^\\n\"Schools in Delhi\"\\n. Archived from\\nthe original\\non 21 September 2012.\\n^\\na\\nb\\nc\\nd\\n\"Chapter 15: Education\"\\n(PDF)\\n.\\nEconomic Survey of Delhi, 2005–06\\n. Planning Department, Government of National Capital Territory of Delhi. pp.\\xa0173–187. Archived from\\nthe original\\n(PDF)\\non 14 June 2007\\n. Retrieved\\n21 December\\n2006\\n.\\n^\\n\"8 Indian universities feature in THE Asia Rankings top 100 list — and it\\'s not just IITs\"\\n.\\nBusiness Insider\\n.\\nArchived\\nfrom the original on 11 October 2020\\n. Retrieved\\n4 October\\n2020\\n.\\n^\\n\"QS Asia Ranking 2019: 19 Indian Institutes In Top 200; IIT Bombay, IIT Delhi, IIT Kharagpur Improve Ranking\"\\n.\\nNDTV.com\\n.\\nArchived\\nfrom the original on 9 October 2020\\n. Retrieved\\n4 October\\n2020\\n.\\n^\\n\"Home | NSIT\"\\n.\\nNetaji Subhas Institute of Technology\\n.\\nArchived\\nfrom the original on 12 October 2014\\n. Retrieved\\n1 February\\n2021\\n.\\n^\\n\"List of State Universities\"\\n.\\nArchived\\nfrom the original on 20 May 2013\\n. Retrieved\\n11 May\\n2013\\n.\\n^\\n\"The Indira Gandhi National Open University Act, 198\"\\n(PDF)\\n. Government of India. Archived from\\nthe original\\n(PDF)\\non 17 April 2012\\n. Retrieved\\n17 May\\n2012\\n.\\n^\\n\"outlookindia.com | wired\"\\n. Outlookindia.com. Archived from\\nthe original\\non 4 November 2005\\n. Retrieved\\n3 November\\n2008\\n.\\n^\\n\"52nd Report of the Commissioner for Linguistic Minorities in India\"\\n(PDF)\\n.\\nnclm.nic.in\\n.\\nMinistry of Minority Affairs\\n. p.\\xa018. Archived from\\nthe original\\n(PDF)\\non 25 May 2017\\n. Retrieved\\n15 February\\n2018\\n.\\n^\\n\"What is CAS? What is DTH?\"\\n.\\nrediff news: Business\\n.\\nRediff.com\\n. 5 September 2006. Archived from\\nthe original\\non 31 May 2010\\n. Retrieved\\n8 January\\n2007\\n.\\n^\\n\"Biographical Data of Vir Sanghvi\"\\n.\\nArchived\\nfrom the original on 13 May 2012\\n. Retrieved\\n17 May\\n2012\\n.\\n^\\nNaqvi, Farah (14 November 2006).\\n\"Chapter4: Towards a Mass Media Campaign: Analysing the relationship between target audiences and mass media\"\\n(PDF)\\n.\\nImages and icons: Harnessing the Power of Mass Media to Promote Gender Equality and Reduce Practices of Sex Selection\\n. BBC World Service Trust. pp.\\xa026–36.\\nArchived\\n(PDF)\\nfrom the original on 15 April 2012\\n. Retrieved\\n8 January\\n2007\\n.\\n^\\n\"Delhi: Radio Stations in Delhi, India\"\\n.\\nASIAWAVES: Radio and TV Broadcasting in South and South-East Asia\\n. Alan G. Davies. 15 November 2006.\\nArchived\\nfrom the original on 27 April 2012\\n. Retrieved\\n7 January\\n2007\\n.\\n^\\n\"All India Radio\"\\n. Indian government. Archived from\\nthe original\\non 5 May 2012\\n. Retrieved\\n30 May\\n2012\\n.\\n^\\n\"Radio Stations in Delhi, India\"\\n. Asiawaves asiawaves.net.\\nArchived\\nfrom the original on 27 April 2012\\n. Retrieved\\n30 May\\n2012\\n.\\n^\\n\"OCA\\xa0» New Delhi 1951\"\\n.\\nocasia.org\\n.\\nArchived\\nfrom the original on 20 June 2020\\n. Retrieved\\n23 April\\n2020\\n.\\n^\\n\"President Inaugurates First Asian Games\"\\n.\\nThe India Express\\n. Madras. p.\\xa05.\\nArchived\\nfrom the original on 17 November 2015\\n. Retrieved\\n14 May\\n2011\\n.\\n^\\n\"OCA\\xa0» New Delhi 1982\"\\n.\\nocasia.org\\n.\\nArchived\\nfrom the original on 2 July 2020\\n. Retrieved\\n23 April\\n2020\\n.\\n^\\nBurke, Jason (3 October 2010).\\n\"\\n\\'India has arrived\\': spectacular ceremony opens Commonwealth Games\"\\n. London: The Guardian, UK.\\nArchived\\nfrom the original on 6 October 2010\\n. Retrieved\\n5 October\\n2010\\n.\\n^\\nHart, Simon (3 October 2010).\\n\"Commonwealth Games 2010: India opens doors to the world at opening ceremony\"\\n.\\nThe Telegraph\\n. London.\\nArchived\\nfrom the original on 6 October 2010\\n. Retrieved\\n5 October\\n2010\\n.\\n^\\n\"Biggest ever Commonwealth Games begins in Delhi\"\\n.\\nThe Times of India\\n. Press Trust of India. 3 October 2010.\\nArchived\\nfrom the original on 3 November 2012\\n. Retrieved\\n14 October\\n2010\\n.\\n^\\n\"CWG: 8,000 artists to show 5,000-year-old culture\"\\n. One India News. 3 October 2010.\\nArchived\\nfrom the original on 4 January 2012\\n. Retrieved\\n4 September\\n2011\\n.\\n^\\n\"The CWG opening show reality: Rs 350 crore\"\\n.\\nThe Times of India\\n. 5 October 2010.\\nArchived\\nfrom the original on 19 March 2011\\n. Retrieved\\n4 September\\n2011\\n.\\n^\\na\\nb\\n\"Non-Competition Venues\"\\n. Commonwealth Games Organising Committee.\\nArchived\\nfrom the original on 27 September 2010\\n. Retrieved\\n1 October\\n2010\\n.\\n^\\nCamenzuli, Charles.\\n\"Cricket may be included in the 2010 Games\"\\n.\\nInterview\\n. International Sports Press Association. Archived from\\nthe original\\non 29 September 2007\\n. Retrieved\\n7 January\\n2007\\n.\\n^\\n\"All about Delhi Capitals | DC | The Official Website of Delhi Capitals\"\\n.\\nDelhi Capitals\\n.\\nArchived\\nfrom the original on 28 February 2023\\n. Retrieved\\n28 February\\n2023\\n.\\n^\\n\"A Brief History: The Ranji Trophy\"\\n. ESPNcricinfo. 2 October 2006.\\nArchived\\nfrom the original on 21 April 2012\\n. Retrieved\\n6 January\\n2007\\n.\\n^\\n\"Virat Kohli: Delhi\\'s golden boy since 2002\"\\n.\\nThe Times of India\\n. 3 April 2016.\\nArchived\\nfrom the original on 27 April 2016.\\n^\\n\"Karnail Singh Stadium\"\\n.\\nCricinfo\\n.\\nArchived\\nfrom the original on 28 February 2023\\n. Retrieved\\n28 February\\n2023\\n.\\n^\\n\"Ambedkar stadium to host India\\'s World Cup qualifier\"\\n.\\nThe Times of India\\n. 28 June 2011.\\nArchived\\nfrom the original on 5 November 2012\\n. Retrieved\\n17 May\\n2012\\n.\\n^\\n\"Bob Houghton\\'s Boys made India proud with a superb victory over Syria\"\\n.\\n17 May 2012\\n. KolkataFootballs.com. Archived from\\nthe original\\non 10 November 2013.\\n^\\n\"India vs Syria Nehru Cup 2009 Football Final Results, Highlights\"\\n. CLbuzz. Archived from\\nthe original\\non 8 October 2011\\n. Retrieved\\n17 May\\n2012\\n.\\n^\\n\"Delhi FC secure maiden I-League berth\"\\n.\\nThe Hindu\\n. 27 May 2023.\\nArchived\\nfrom the original on 6 July 2023\\n. Retrieved\\n6 July\\n2023\\n.\\n^\\nGregory, Sean (4 August 2011).\\n\"\\n\\'They Need TV Product\\': Why American Football Is Coming To India\"\\n.\\nTime\\n. Archived from\\nthe original\\non 25 November 2011.\\n^\\n\"India company says on track for 2011 F1 race\"\\n.\\nReuters\\n. 15 April 2009. Archived from\\nthe original\\non 30 September 2020\\n. Retrieved\\n21 October\\n2009\\n.\\nFurther reading\\n\"Economic Survey of Delhi 2005–2006\"\\n.\\nPlanning Department. Government of National Capital Territory of Delhi\\n. Archived from\\nthe original\\non 15 February 2016\\n. Retrieved\\n12 February\\n2007\\n.\\nDalrymple, W (2003).\\nCity of Djinns\\n(1\\xa0ed.). Penguin Books.\\nISBN\\n978-0-14-200100-4\\n.\\nDalrymple, W (2003).\\nVidhya Society, (2009). Vidhya Society (NGO) is a leading charitable organization of Uttar Pradesh (India) established under society registration act 21–1860 on the special occasion of World Disable Year 2009. Director Mr. Pavan Upadhyay vidhyasociety.com\\n(1\\xa0ed.). Penguin Books.\\nISBN\\n978-0-14-200100-4\\n.\\nPrager, D (2013).\\nDelirious Delhi\\n(1\\xa0ed.). Arcade Publishing.\\nISBN\\n978-1-61145-832-9\\n.\\nBrown, L (2011).\\nLonely Planet Rajasthan, Delhi & Agra\\n(5\\xa0ed.). Lonely Planet Publications.\\nISBN\\n978-1-74179-460-1\\n.\\nRowe, P; Coster, P (2004).\\nDelhi (Great Cities of the World)\\n. World Almanac Library.\\nISBN\\n978-0-8368-5197-7\\n.\\nFour-part series on Delhi (2 June 2012).\\n\"Metrocity Journal: Delhi\\'s Changing Landscape\"\\n.\\nThe Wall Street Journal\\n.\\nArchived\\nfrom the original on 9 July 2017\\n. Retrieved\\n4 August\\n2017\\n.\\nExternal links\\nDelhi\\nat Wikipedia\\'s\\nsister projects\\nDefinitions\\nfrom Wiktionary\\nMedia\\nfrom Commons\\nNews\\nfrom Wikinews\\nQuotations\\nfrom Wikiquote\\nTexts\\nfrom Wikisource\\nTextbooks\\nfrom Wikibooks\\nResources\\nfrom Wikiversity\\nTravel information\\nfrom Wikivoyage\\nOfficial website\\nDelhi\\nweb resources provided by GovPubs at the\\nUniversity of Colorado Boulder Libraries\\nDelhi\\nat the\\nEncyclopædia Britannica\\nWikimedia Atlas of Delhi\\nGeographic data related to\\nDelhi\\nat\\nOpenStreetMap\\nv\\nt\\ne\\nPlaces adjacent to Delhi\\nHaryana\\nHaryana\\nDelhi\\nUttar Pradesh\\nHaryana\\nArticles Related to Delhi\\nv\\nt\\ne\\nNational Capital Territory of Delhi\\nTopics\\nArchitecture\\nClimate\\nEconomy\\nEducation\\nGovernment\\nHistory\\nSport\\nTourism\\nTransport\\nHistory\\nTimeline\\nIndraprastha\\nHastinapur\\nTomaras\\nChauhan\\nPrithviraj Raso\\nMuslim conquests in the Indian subcontinent\\nDelhi Sultanate\\nMamluk dynasty\\nKhalji dynasty\\nTughlaq dynasty\\nSayyid dynasty\\nLodi dynasty\\nSher Shah Suri\\nMughal Empire\\nOld Delhi\\nMaratha Empire\\nBritish East India Company\\nBahadur Shah Zafar\\nIndian Rebellion of 1857\\nBritish Raj\\nViceroy of India\\nIndian independence movement\\nPartition of India\\nNew Delhi\\nGovernment\\nand administration\\nLegislatures\\nGovernment of India\\nParliament of India\\nGovernment of Delhi\\nDelhi Legislative Assembly\\nDelhi Cantonment Board\\nNew Delhi Municipal Council\\nMunicipal Corporation of Delhi\\nHeads\\nPrime Minister of India\\nPresident of India\\nChief Minister of Delhi\\nLieutenant Governor of Delhi\\nPresident of Delhi Cantonment Board\\nChairman of New Delhi Municipal Council\\nMayors of Municipal Corporations\\nAppellate courts\\nSupreme Court of India\\nDelhi High Court\\nGoI agencies\\nDelhi Police\\nDelhi Development Authority\\nGNCTD agencies\\nDelhi Commission for Women\\nDelhi Jal Board\\nDelhi Vidyut Board\\nDelhi Fire Service\\nDelhi Transport Corporation\\nDelhi Directorate of Education\\nDUSIB\\nDTTDC\\nAutonomous bodies\\nDelhi State Election Commission\\nPlaces of interest\\nGovernment buildings\\nParliament House/Sansad Bhavan\\nParliament House, New Delhi\\nOld Parliament House, New Delhi\\nRashtrapati Bhavan\\nHistoric sites\\nAgrasen Ki Baoli\\nAshokan Edicts\\nBara Gumbad\\nBarakhamba\\nCentral Park (Sunder Nursery)\\nChausath Khamba\\nChor Minar\\nCoronation Park\\nFeroz Shah Kotla\\nGates of Delhi\\nHauz-i-Shamsi\\nHauz Khas Complex\\nHijron Ka Khanqah\\nHumayun\\'s Tomb\\nJahanpanah\\nJahaz Mahal\\nJamali Kamali Mosque and Tomb\\nJantar Mantar\\nKhirki Mosque\\nLotus Temple\\nMehrauli complex\\nMetcalfe House\\nMoth ki Masjid\\nPurana Qila\\nQila Rai Pithora\\nQutb Minar complex\\nRed Fort\\nSalimgarh Fort\\nShish Gumbad\\nSiri Fort\\nSultan Ghari\\nTeen Murti Bhavan\\nTomb of Isa Khan\\nTomb of Safdar Jang\\nTughlaqabad Fort\\nMemorials\\nand museums\\nIndia Gate\\nNational Police Memorial\\nNational War Memorial\\nRaj Ghat\\nWall of Truth\\nRashtrapati Bhavan Museum\\nIndian Air Force Museum\\nNational Rail Museum\\nNeighbourhoods\\nChanakyapuri\\nCivil Lines\\nHauz Khas\\nKarol Bagh\\nLajpat Nagar\\nReligious sites\\nAhinsa Sthal\\nAkshardham\\nChhatarpur Temple\\nFatehpuri Mosque\\nGurudwara Bangla Sahib\\nGurudwara Sis Ganj Sahib\\nHanuman Temple\\nISKCON Temple\\nJama Masjid\\nKalkaji Mandir\\nLaxminarayan Temple\\nLotus Temple\\nNizamuddin Dargah\\nSacred Heart Cathedral\\nShri Atma Vallabh Jain Smarak\\nSri Digambar Jain Lal Mandir\\nViceroy Church\\nYogmaya Temple\\nStreets and plazas\\nChandni Chowk\\nConnaught Place\\nDilli Haat\\nG. B. Road\\nJanpath\\nKhari Baoli\\nPalika Bazaar\\nRamlila Maidan\\nRajpath\\nGeography\\nand divisions\\nDistricts\\nCentral Delhi\\nEast Delhi\\nNew Delhi\\nNorth Delhi\\nNorth East Delhi\\nNorth West Delhi\\nShahdara\\nSouth Delhi\\nSouth East Delhi\\nSouth West Delhi\\nWest Delhi\\nNational Capital Region\\nFaridabad\\nGhaziabad\\nGreater Noida\\nGurgaon\\nNoida\\nSatellite cities\\nGurgaon\\nFaridabad\\nJhajjar\\nBahadurgarh\\nNoida\\nGreater Noida\\nDadri\\nGhaziabad\\nBaghpat\\nTransport\\nAir\\nWithin Delhi\\nIndira Gandhi International Airport\\nSafdarjung Airport\\nOutside Delhi\\nHindon Airport\\nNoida International Airport (under construction)\\nRail\\nIndian railway stations\\nAnand Vihar Terminal\\nDelhi Junction\\nSarai Rohilla\\nHazrat Nizamuddin\\nNew Delhi\\nUrban and suburban rail\\nDelhi Metro\\nDelhi Suburban Railway\\nDelhi Ring Railway\\nRegional Rapid Transit System (RRTS)\\n(under construction)\\nRoad\\nBus terminals\\nAnand Vihar ISBT\\nKashmere Gate ISBT\\nSarai Kale Khan ISBT\\nHighways / expressways\\nInner Ring Road\\nOuter Ring Road\\nDND Flyway\\nDelhi–Gurgaon Expressway\\nDelhi–Meerut Expressway\\nDelhi–Faridabad Skyway\\nSports\\nTeams\\nCurrent\\nDelhi cricket team\\nDelhi football team\\nDelhi Capitals\\nDelhi Waveriders\\nDabang Delhi\\nSudeva Delhi FC\\nDelhi FC\\nDefunct\\nDelhi Capitals (basketball)\\nDelhi Defenders\\nDelhi Dynamos FC\\nDelhi Smashers\\nDelhi United FC\\nDelhi Wizards\\nGarhwal FC\\nHindustan FC\\nNew Delhi Heroes FC\\nSimla Youngs FC\\nStadiums\\nArun Jaitley Stadium\\nChhatrasal Stadium\\nDelhi University Stadium\\nDr. Ambedkar Stadium\\nDr. Karni Singh Shooting Range\\nIndira Gandhi Arena\\nJawaharlal Nehru Stadium\\nMajor Dhyan Chand National Stadium\\nSiri Fort Sports Complex\\nSPM Swimming Pool Complex\\nTalkatora Stadium\\nThyagaraj Sports Complex\\nYamuna Sports Complex\\nGames\\n1951 Asian Games\\n1982 Asian Games\\n1987 Cricket World Cup\\n1989 Asian Athletics Championships\\n1996 Cricket World Cup\\n2010 Commonwealth Games\\n2010 Men\\'s Hockey World Cup\\n2011 Cricket World Cup\\n2017 FIFA U-17 World Cup\\nDelhi Half Marathon\\nCulture\\nIndependence Day\\nRepublic Day\\nCinema\\nShopping\\nDelhi Pride\\nQutub Festival\\nPunjabi cuisine\\nOther templates\\nHindu temples\\nLandmarks\\nMuseums\\nNeighbourhoods\\nPower plants\\nSchools\\nUniversities and colleges\\nRelated\\nBuildings and structures\\nNeighbourhoods\\nTourist attractions\\nParks\\nNotable people from Delhi\\nList of cities in India by population\\nIndia portal\\nv\\nt\\ne\\nList of neighbourhoods of Delhi\\nAshok Nagar\\nAshok Vihar\\nAshram Chowk\\nBawana\\nBer Sarai\\nChanakyapuri\\nChandni Chowk\\nChawri Bazar\\nChittaranjan Park\\nCivil Lines\\nConnaught Place\\nDabri\\nDaryaganj\\nDayanand Colony\\nDefence Colony\\nDelhi Cantonment\\nDerawal Nagar\\nDhaula Kuan\\nDilshad Garden\\nDwarka Sub City\\nGandhi Nagar\\nGeetanjali Enclave\\nGole Market\\nGolf Links\\nGovindpuri\\nGreater Kailash\\nGreen Park\\nGulmohar Park\\nHauz Khas\\nInder Puri\\nJangpura\\nJanakpuri\\nKailash Colony\\nKalkaji\\nKamla Nagar\\nKapasheda\\nKarol Bagh\\nKashmiri Gate\\nKirti Nagar\\nLajpat Nagar\\nLaxmibai Nagar\\nLaxmi Nagar\\nLutyens\\' Delhi\\nMahipalpur\\nMalviya Nagar\\nMayapuri\\nMayur Vihar\\nMeera Bagh\\nMehrauli\\nMoti Bagh\\nMoti Nagar\\nModel Town\\nMunirka\\nNajafgarh\\nNangloi\\nNaraina Vihar\\nNehru Place\\nNew Friends Colony\\nNew Moti Bagh\\nNetaji Nagar\\nNew Delhi\\nNizamuddin East\\nNizamuddin West\\nOkhla\\nOld Delhi\\nPaharganj\\nPalam\\nPalika Bazaar\\nPandav Nagar\\nPaschim Vihar\\nPatel Nagar\\nPatparganj\\nPitam Pura\\nPreet Vihar\\nPunjabi Bagh\\nRaisina Hill\\nRajouri Garden\\nRajendra Nagar\\nRama Krishna Puram\\nRohini\\nSadar Bazaar\\nSafdarjung\\nSaket\\nSarita Vihar\\nSarojini Nagar\\nShahdara\\nShahpur Jat\\nShalimar Gardens\\nShastri Park\\nShivaji Place\\nShiv Ram Park\\nShreshtha Vihar\\nSouth Extension\\nTilak Nagar\\nVasant Kunj\\nVasant Vihar\\nVasundhara Enclave\\nVikaspuri\\nYamuna Vihar\\nLandmarks\\nHindu temples\\nMuseums\\nPower stations\\nTopics\\nUniversities\\nv\\nt\\ne\\nLandmarks\\nof\\nDelhi\\nBuildings\\nand structures\\nAgrasen Ki Baoli\\nBarakhamba\\nHauz Khas\\nJahaz Mahal\\nJantar Mantar\\nKashmiri Gate\\nKhirki Mosque\\nPurana Qila\\nQutb Minar\\nRashtrapati Bhavan\\nRed Fort\\nSansad Bhavan\\nSecretariat Building\\nTomb of Adham Khan\\nTomb of Humayun\\nTomb of Safdar Jang\\nTughlaqabad Fort\\nZafar Mahal\\nReligious sites\\nAhinsa Sthal\\nAkshardham\\nCathedral Church of the Redemption\\nChhatarpur Temple\\nFatehpuri Mosque\\nGurdwara Bangla Sahib\\nGurdwara Sis Ganj Sahib\\nHanuman Temple\\nISKCON Temple\\nJama Masjid\\nLaxminarayan Temple\\nLotus Temple\\nNizamuddin Dargah\\nSacred Heart Cathedral\\nSri Digambar Jain Lal Mandir\\nYogmaya Temple\\nMemorials\\nIndia Gate\\nNational Police Memorial\\nRaj Ghat\\nWall of Truth\\nNational War Memorial\\nStreets and plazas\\nChandni Chowk\\nConnaught Place\\nDilli Haat\\nKhari Baoli\\nRajpath\\nParks and gardens\\nCentral Park (Sunder Nursery)\\nCoronation Park\\nDelhi Ridge\\nGarden of Five Senses\\nLodi Gardens\\nMehrauli Archaeological Park\\n(\\nJamali Kamali Mosque and Tomb\\n,\\nTomb of Balban\\n)\\nNational Zoological Park\\nTopics\\nHindu temples\\nMuseums\\nNeighborhoods\\nPower stations\\nUniversities\\nv\\nt\\ne\\nStates and union territories of India\\nStates\\nAndhra Pradesh\\nArunachal Pradesh\\nAssam\\nBihar\\nChhattisgarh\\nGoa\\nGujarat\\nHaryana\\nHimachal Pradesh\\nJharkhand\\nKarnataka\\nKerala\\nMadhya Pradesh\\nMaharashtra\\nManipur\\nMeghalaya\\nMizoram\\nNagaland\\nOdisha\\nPunjab\\nRajasthan\\nSikkim\\nTamil Nadu\\nTelangana\\nTripura\\nUttar Pradesh\\nUttarakhand\\nWest Bengal\\nUnion territories\\nAndaman and Nicobar Islands\\nChandigarh\\nDadra and Nagar Haveli and Daman and Diu\\nDelhi\\nJammu and Kashmir\\nLadakh\\nLakshadweep\\nPuducherry\\nCapitals in India\\nAutonomous administrative divisions of India\\nProposed states and union territories\\nHistorical Regions\\nBritish Provinces\\nv\\nt\\ne\\nState and Union Territory\\ncapitals\\nof\\nIndia\\nAdministrative\\nAgartala\\nAizawl\\nAmaravati\\nBengaluru\\nBhopal\\nBhubaneswar\\nChandigarh\\nChennai\\nDaman\\nDehradun\\nDispur\\nGandhinagar\\nGangtok\\nHyderabad\\nImphal\\nItanagar\\nJaipur\\nJammu\\n(\\nwinter\\n)\\nKargil\\n(\\nwinter\\n)\\nKavaratti\\nKohima\\nKolkata\\nLeh\\n(\\nsummer\\n)\\nLucknow\\nMumbai\\nNew Delhi\\nPanaji\\nPatna\\nPondicherry\\nPort Blair\\nRanchi\\nRaipur\\nShillong\\nShimla\\nSrinagar\\n(\\nsummer\\n)\\nThiruvananthapuram\\nLegislative\\nAgartala\\nAizawl\\nAmaravati\\nBengaluru\\n(\\nsummer\\n)\\nBelgaum\\n(\\nwinter\\n)\\nBhararisain\\n(\\nsummer\\n)\\nBhopal\\nBhubaneswar\\nChandigarh\\nChennai\\nDharamshala\\n(\\nwinter\\n)\\nDehradun\\n(\\nwinter\\n)\\nGandhinagar\\nGangtok\\nGuwahati\\nHyderabad\\nImphal\\nItanagar\\nJaipur\\nJammu\\n(\\nwinter\\n)\\nKohima\\nKolkata\\nLucknow\\nMumbai\\n(\\nsummer\\n)\\nNagpur\\n(\\nwinter\\n)\\nNew Delhi\\nPatna\\nPondicherry\\nPorvorim\\nRaipur\\nRanchi\\nShillong\\nShimla\\n(\\nsummer\\n)\\nSrinagar\\n(\\nsummer\\n)\\nThiruvananthapuram\\nJudicial\\nAgartala\\nAhmedabad\\nAmaravati\\nBengaluru\\nBilaspur\\nChandigarh\\nChennai\\nCuttack\\nGangtok\\nGuwahati\\nHyderabad\\nImphal\\nJabalpur\\nJodhpur\\nJammu\\n(\\nwinter\\n)\\nKochi\\nKolkata\\nMumbai\\nNainital\\nNew Delhi\\nPatna\\nPrayagraj\\nRanchi\\nShillong\\nShimla\\nSrinagar\\n(\\nsummer\\n)\\nv\\nt\\ne\\nMillion-plus agglomerations\\nin\\nIndia\\nNorth\\nChandigarh\\nDelhi\\nHaryana\\n:\\nFaridabad\\nJammu and Kashmir\\n:\\nSrinagar\\nPunjab\\n:\\nLudhiana\\nAmritsar\\nRajasthan\\n:\\nJaipur\\nJodhpur\\nKota\\nCentral\\nChhattisgarh\\n:\\nRaipur\\nBhilai\\nMadhya Pradesh\\n:\\nIndore\\nBhopal\\nJabalpur\\nGwalior\\nUttar Pradesh\\n:\\nAgra\\nGhaziabad\\nKanpur\\nLucknow\\nMeerut\\nPrayagraj\\nVaranasi\\nEastern\\nBihar\\n:\\nPatna\\nJharkhand\\n:\\nJamshedpur\\nDhanbad\\nRanchi\\nWest Bengal\\n:\\nKolkata\\nAsansol\\nWestern\\nGujarat\\n:\\nAhmedabad\\nSurat\\nVadodara\\nRajkot\\nMaharashtra\\n:\\nMumbai\\nPune\\nNagpur\\nNashik\\nVasai-Virar\\nAurangabad\\nSouthern\\nAndhra Pradesh\\n:\\nVisakhapatnam\\nVijayawada\\nKarnataka\\n:\\nBangalore\\nKerala\\n:\\nKochi\\nKozhikode\\nThrissur\\nMalappuram\\nThiruvananthapuram\\nKannur\\nKollam\\nTamil Nadu\\n:\\nChennai\\nCoimbatore\\nMadurai\\nTiruchirappalli\\nTelangana\\n:\\nHyderabad\\nv\\nt\\ne\\nCommonwealth Games\\nhost cities\\n1930\\n:\\nHamilton\\n1934\\n:\\nLondon\\n1938\\n:\\nSydney\\n1950\\n:\\nAuckland\\n1954\\n:\\nVancouver\\n1958\\n:\\nCardiff\\n1962\\n:\\nPerth\\n1966\\n:\\nKingston\\n1970\\n:\\nEdinburgh\\n1974\\n:\\nChristchurch\\n1978\\n:\\nEdmonton\\n1982\\n:\\nBrisbane\\n1986\\n:\\nEdinburgh\\n1990\\n:\\nAuckland\\n1994\\n:\\nVictoria\\n1998\\n:\\nKuala Lumpur\\n2002\\n:\\nManchester\\n2006\\n:\\nMelbourne\\n2010\\n:\\nDelhi\\n2014\\n:\\nGlasgow\\n2018\\n:\\nGold Coast\\n2022\\n:\\nBirmingham\\n2026\\n:\\nTBA\\n2030\\n:\\nTBA\\nv\\nt\\ne\\nProposed states and union territories of India\\nCentral India\\nBaghelkhand\\n(Madhya Pradesh/Uttar Pradesh)\\nBundelkhand\\n(Madhya Pradesh/Uttar Pradesh)\\nGondwana\\n(Chhattisgarh/Madhya Pradesh/Odisha)\\nMahakoshal\\n(Madhya Pradesh)\\nMalwa\\n(Madhya Pradesh)\\nVindhya Pradesh\\n(Madhya Pradesh)\\nEast India\\nBhojpur\\n(Bihar/Uttar Pradesh)\\nGorkhaland\\n(West Bengal)\\nKamtapur\\n(West Bengal)\\nKosal\\n(Odisha)\\nMithila\\n(Bihar)\\nRarhbhumi\\n(Odisha)\\nNorth India\\nAwadh Pradesh\\n(Uttar Pradesh)\\nBraj Pradesh\\n(Uttar Pradesh)\\nDelhi\\nHarit Pradesh\\n(Uttar Pradesh)\\nJammu\\n(Jammu and Kashmir)\\nKashmir\\n(Jammu and Kashmir)\\nPanun Kashmir\\n(Jammu and Kashmir)\\nPurvanchal\\n(Uttar Pradesh)\\nNortheast India\\nBodoland\\n(Assam)\\nDimaraji\\n(Assam/Nagaland)\\nGaroland\\n(Meghalaya)\\nKarbi Anglong\\n(Assam)\\nTipraland\\n(Tripura)\\nSouth India\\nKaru Nadu\\n(Karnataka)\\nKalyana-Karnataka\\n(Karnataka)\\nKodagu\\n(Karnataka)\\nKongu Nadu\\n(Tamil Nadu)\\nKaraikal\\n(Puducherry)\\nMalabar\\n(Kerala)\\nRayalaseema\\n(Andhra Pradesh)\\nTulu Nadu\\n(Karnataka/Kerala)\\nWest India\\nKhandesh\\n(Maharashtra)\\nKonkan\\n(Goa/Karnataka/Maharashtra)\\nKutch\\n(Gujarat)\\nMarathwada\\n(Maharashtra)\\nMaru Pradesh\\n(Rajasthan)\\nSaurashtra\\n(Gujarat)\\nVidarbha\\n(Maharashtra)\\nCurrent states and union territories of India\\nv\\nt\\ne\\nCapital districts and territories\\nCapital districts and territories\\nFederal Capital Territory\\n(\\nNigeria\\n)\\nFederal District\\n(\\nBrazil\\n)\\nBuenos Aires\\n(\\nArgentina\\n)\\nAustralian Capital Territory\\n(\\nAustralia\\n)\\nCapital District\\n(\\nVenezuela\\n)\\nIslamabad Capital Territory\\n(\\nPakistan\\n)\\nKuala Lumpur\\n(\\nMalaysia\\n)\\nNational Capital Territory\\n(\\nIndia\\n)\\nMexico City\\n(\\nMexico\\n)\\nWashington, D.C.\\n(\\nUnited States\\n)\\nv\\nt\\ne\\nMegacities\\nAfrica (4)\\nCairo\\nJohannesburg\\nKinshasa\\nLagos\\nAsia (35)\\nChina (14)\\nBeijing\\nChangsha\\nChengdu\\nChongqing\\nDongguan\\nGuangzhou\\nHangzhou\\nShanghai\\nShenzhen\\nTianjin\\nWuhan\\nXiamen\\nXi\\'an\\nZhengzhou\\nIndia (6)\\nBengaluru\\nChennai\\nDelhi\\nHyderabad\\nKolkata\\nMumbai\\nIndonesia (3)\\nBandung\\nJakarta\\nSurabaya\\nJapan (3)\\nKyoto–Osaka–Kobe (Keihanshin)\\nNagoya\\nTokyo\\nPakistan (2)\\nKarachi\\nLahore\\nOther (7)\\nBangkok\\nDhaka\\nHo Chi Minh City\\nIstanbul\\nMetro Manila\\nSeoul\\nTehran\\nEurope (4)\\nIstanbul\\nLondon\\nMoscow\\nParis\\nAmerica (8)\\nBrazil (2)\\nRio de Janeiro\\nSão Paulo\\nUnited States (2)\\nLos Angeles\\nNew York City\\nOther (4)\\nBogotá\\nBuenos Aires\\nLima\\nMexico City\\nCities portal\\nAuthority control databases\\nInternational\\nISNI\\nVIAF\\nFAST\\nWorldCat\\nNational\\nGermany\\nUnited States\\nFrance\\nBnF data\\nJapan\\nCzech Republic\\n2\\nSpain\\nSweden\\nIsrael\\nGeographic\\nMusicBrainz area\\nOther\\nIdRef\\nİslâm Ansiklopedisi\\nRetrieved from \"\\nhttps://en.wikipedia.org/w/index.php?title=Delhi&oldid=1263153020\\n\"\\nCategories\\n:\\nDelhi\\n6th-century BC establishments in India\\nCapital districts and territories\\nCapitals in Asia\\nCities in India by state or union territory\\nIndian union territory capitals\\nMetropolitan cities in India\\nNew Delhi\\nNorth India\\nPopulated places established in the 6th century BC\\nProposed states and union territories of India\\nUnion territories of India\\nWorld Heritage Tentative List for India\\nHidden categories:\\nPages using gadget WikiMiniAtlas\\nPages with non-numeric formatnum arguments\\nPages with Hindi IPA\\nPages with Punjabi IPA\\nPages with Urdu IPA\\nCS1 maint: archived copy as title\\nWebarchive template wayback links\\nCS1 maint: location missing publisher\\nAll articles with dead external links\\nArticles with dead external links from February 2023\\nArticles with permanently dead external links\\nArticles with dead external links from January 2023\\nCS1 maint: numeric names: authors list\\nArticles with short description\\nShort description is different from Wikidata\\nWikipedia indefinitely semi-protected pages\\nUse Indian English from March 2024\\nAll Wikipedia articles written in Indian English\\nUse dmy dates from March 2024\\nPages using multiple image with auto scaled images\\nCoordinates on Wikidata\\nPages using infobox settlement with image map1 but not image map\\nArticles containing Hindi-language text\\nArticles containing Urdu-language text\\nArticles containing Persian-language text\\nAll articles with unsourced statements\\nArticles with unsourced statements from June 2023\\nArticles containing potentially dated statements from 2013\\nAll articles containing potentially dated statements\\nArticles with unsourced statements from April 2018\\nArticles containing potentially dated statements from 2015\\nArticles containing potentially dated statements from 2016\\nArticles containing potentially dated statements from June 2005\\nArticles with unsourced statements from March 2024\\nArticles with unsourced statements from July 2022\\nArticles containing potentially dated statements from 2007\\nArticles containing potentially dated statements from 2008\\nArticles containing potentially dated statements from December 2021\\nPages using Sister project links with hidden wikidata\\nPages using Sister project links with default search\\nOfficial website different in Wikidata and Wikipedia\\nArticles with Encyclopædia Britannica links\\nPages using the Kartographer extension\\nThis page was last edited on 15 December 2024, at 00:37\\n(UTC)\\n.\\nText is available under the\\nCreative Commons Attribution-ShareAlike 4.0 License\\n;\\nadditional terms may apply. By using this site, you agree to the\\nTerms of Use\\nand\\nPrivacy Policy\\n. Wikipedia® is a registered trademark of the\\nWikimedia Foundation, Inc.\\n, a non-profit organization.\\nPrivacy policy\\nAbout Wikipedia\\nDisclaimers\\nContact Wikipedia\\nCode of Conduct\\nDevelopers\\nStatistics\\nCookie statement\\nMobile view\\n\\nList of state and union territory capitals in India - Wikipedia List of state and union territory capitals in India India is a federal constitutional republic governed under a parliamentary system consisting of 28 states and 8 union territories.[1] All states, as well as the union territories of Jammu and Kashmir, Puducherry and the National Capital Territory of Delhi, have elected legislatures and governments, both patterned on the Westminster model. The legislatures of three states Himachal Pradesh, Maharashtra and Uttarakhand meet in different capitals for their summer and winter sessions. Nagpur (Winter) | Mumbai | 1960 | \\xa0— | State and Union Territory capitals of India Retrieved from \"https://en.wikipedia.org/w/index.php?title=List_of_state_and_union_territory_capitals_in_India&oldid=1246142689\" States and union territories of India-related lists List of state and union territory capitals in India - Wikipedia\\nJump to content\\nMain menu\\nMain menu\\nmove to sidebar\\nhide\\nNavigation\\nMain page\\nContents\\nCurrent events\\nRandom article\\nAbout Wikipedia\\nContact us\\nContribute\\nHelp\\nLearn to edit\\nCommunity portal\\nRecent changes\\nUpload file\\nSearch\\nSearch\\nAppearance\\nDonate\\nCreate account\\nLog in\\nPersonal tools\\nDonate\\nCreate account\\nLog in\\nPages for logged out editors\\nlearn more\\nContributions\\nTalk\\nContents\\nmove to sidebar\\nhide\\n(Top)\\n1\\nList\\nToggle List subsection\\n1.1\\nStates\\n1.2\\nUnion territories\\n2\\nNotes\\n3\\nCitations\\n4\\nReferences\\n5\\nExternal links\\nToggle the table of contents\\nList of state and union territory capitals in India\\n24 languages\\nअंगिका\\nالعربية\\nঅসমীয়া\\nবাংলা\\nहिन्दी\\nBahasa Indonesia\\nಕನ್ನಡ\\nമലയാളം\\nमराठी\\nनेपाली\\nଓଡ଼ିଆ\\nਪੰਜਾਬੀ\\nپنجابی\\nPortuguês\\nРусский\\nSimple English\\nSrpskohrvatski / српскохрватски\\nSvenska\\nதமிழ்\\nతెలుగు\\nไทย\\nತುಳು\\nاردو\\n中文\\nEdit links\\nArticle\\nTalk\\nEnglish\\nRead\\nView source\\nView history\\nTools\\nTools\\nmove to sidebar\\nhide\\nActions\\nRead\\nView source\\nView history\\nGeneral\\nWhat links here\\nRelated changes\\nUpload file\\nSpecial pages\\nPermanent link\\nPage information\\nCite this page\\nGet shortened URL\\nDownload QR code\\nPrint/export\\nDownload as PDF\\nPrintable version\\nIn other projects\\nWikidata item\\nAppearance\\nmove to sidebar\\nhide\\nFrom Wikipedia, the free encyclopedia\\nStates and union\\nterritories of India\\nordered by\\nArea\\nPopulation\\nGDP\\n(\\nper capita\\n)\\nAbbreviations\\nAccess to safe drinking water\\nAvailability of toilets\\nCapitals\\nChild nutrition\\nCrime rate\\nEase of doing business\\nElectricity penetration\\nExports\\nFertility rate\\nForest cover\\nHighest point\\nHDI\\nHome ownership\\nHousehold size\\nHuman trafficking\\nInfant mortality rate\\nInstitutional delivery\\nLife expectancy at birth\\nLiteracy rate\\nMedia exposure\\nNumber of vehicles\\nNumber of voters\\nOpen defecation\\nPast population\\nPlaces of worship\\nPoverty rate\\nPower capacity\\nSafety of women\\nSchool enrollment rate\\nSex ratio\\nSuicide rate\\nTax revenues\\nTV ownership\\nTransport network\\nUnderweight people\\nUnemployment rate\\nVaccination coverage\\nWildlife population\\nv\\nt\\ne\\nIndia\\nis a\\nfederal\\nconstitutional republic governed under a\\nparliamentary system\\nconsisting of\\n28 states and 8 union territories\\n.\\n[\\n1\\n]\\nAll states, as well as the union territories of\\nJammu and Kashmir\\n,\\nPuducherry\\nand the\\nNational Capital Territory of Delhi\\n, have elected legislatures and governments, both patterned on the\\nWestminster model\\n. The remaining five union territories are directly ruled by the central government through appointed administrators. In 1956, under the\\nStates Reorganisation Act\\n, states were reorganised on a linguistic basis.\\n[\\n2\\n]\\nTheir structure has since remained largely unchanged. Each state or union territory is further divided into administrative districts.\\nThe legislatures of three states\\nHimachal Pradesh\\n,\\nMaharashtra\\nand\\nUttarakhand\\nmeet in different capitals for their summer and winter sessions.\\nLadakh\\nhas both\\nLeh\\nand\\nKargil\\nas its administrative capitals.\\nList\\nThe state and union territory capitals are sorted according to administrative, legislative and judicial capitals. The administrative capital is where the executive government offices are located. The legislative capital is where the legislative assembly is located and the judicial capital is where the states or union territories\\' high courts are located.\\nStates\\nState\\nAdministrative/\\nExecutive capital\\nLegislative capital\\nJudicial capital\\nYear of\\nestablishment\\nFormer capital\\nAndhra Pradesh\\nAmaravati\\nAmaravati\\nAmaravati\\n2014\\nHyderabad\\n[\\na\\n]\\n(1956–2014)\\nArunachal Pradesh\\nItanagar\\nItanagar\\nGuwahati\\n1987\\n—\\nAssam\\nDispur\\nDispur\\nGuwahati\\n1972\\nShillong\\n[\\nb\\n]\\n(1950–1972)\\nBihar\\nPatna\\nPatna\\nPatna\\n1950\\n—\\nChhattisgarh\\nRaipur\\n[\\nc\\n]\\nRaipur\\nBilaspur\\n2000\\n—\\nGoa\\nPanaji\\n[\\nd\\n]\\nPorvorim\\nMumbai\\n1987\\n—\\nGujarat\\nGandhinagar\\nGandhinagar\\nAhmedabad\\n1970\\nAhmedabad (1960–1970)\\nHaryana\\nChandigarh\\nChandigarh\\nChandigarh\\n1966\\n—\\nHimachal Pradesh\\nShimla\\nShimla (Summer)\\nDharamshala\\n(Winter)\\n[\\n5\\n]\\nShimla\\n1971\\n—\\nJharkhand\\nRanchi\\nRanchi\\nRanchi\\n2000\\n—\\nKarnataka\\nBengaluru\\nBangalore (Summer)\\nBelgaum\\n(Winter)\\nBangalore\\n1956\\n—\\nKerala\\nThiruvananthapuram\\nThiruvananthapuram\\nErnakulam\\n1956\\n—\\nMadhya Pradesh\\nBhopal\\nBhopal\\nJabalpur\\n1956\\n—\\nMaharashtra\\nMumbai\\n[\\ne\\n]\\nMumbai (Summer)\\nNagpur\\n(Winter)\\nMumbai\\n1960\\n—\\nManipur\\nImphal\\nImphal\\nImphal\\n1972\\n—\\nMeghalaya\\nShillong\\nShillong\\nShillong\\n1972\\n—\\nMizoram\\nAizawl\\nAizawl\\nGuwahati\\n1987\\n—\\nNagaland\\nKohima\\nKohima\\nGuwahati\\n1963\\n—\\nOdisha\\nBhubaneswar\\nBhubaneswar\\nCuttack\\n1950\\n—\\nPunjab\\nChandigarh\\nChandigarh\\nChandigarh\\n1966\\n—\\nRajasthan\\nJaipur\\nJaipur\\nJodhpur\\n1950\\n—\\nSikkim\\nGangtok\\n[\\nf\\n]\\nGangtok\\nGangtok\\n1975\\n—\\nTamil Nadu\\nChennai\\n[\\ng\\n]\\nChennai\\nChennai\\n1956\\n—\\nTelangana\\nHyderabad\\nHyderabad\\nHyderabad\\n2014\\n—\\nTripura\\nAgartala\\nAgartala\\nAgartala\\n1972\\n—\\nUttar Pradesh\\nLucknow\\nLucknow\\nPrayagraj\\n1950\\n—\\nUttarakhand\\nDehradun\\nBhararisain\\n(summer)\\n[\\n7\\n]\\nDehradun (winter)\\nNainital\\n2000\\n—\\nWest Bengal\\nKolkata\\nKolkata\\nKolkata\\n1950\\n—\\nUnion territories\\nUnion Territory\\nAdministrative/\\nExecutive capital\\nLegislative capital\\nJudicial capital\\nYear of\\nestablishment\\nAndaman and Nicobar Islands\\nPort Blair\\n–\\nKolkata\\n1956\\nChandigarh\\nChandigarh\\n–\\nChandigarh\\n1966\\nDadra and Nagar Haveli and Daman and Diu\\nDaman\\n–\\nMumbai\\n2020\\nJammu and Kashmir\\nSrinagar\\n(summer)\\nJammu\\n(winter)\\nSrinagar (summer)\\nJammu (winter)\\nSrinagar (summer)\\nJammu (winter)\\n2019\\nLadakh\\nLeh\\n(summer)\\nKargil\\n(winter)\\n–\\nSrinagar (summer)\\nJammu (winter)\\n2019\\nLakshadweep\\nKavaratti\\n–\\nErnakulam\\n1956\\nDelhi\\nNew Delhi\\nNew Delhi\\nNew Delhi\\n1956\\nPuducherry\\nPondicherry\\nPondicherry\\nChennai\\n1951\\nNotes\\n^\\nHyderabad is de jure joint capital of Andhra Pradesh and Telangana until 2024.\\n^\\nShillong was the joint capital of Assam and Meghalaya until 1972.\\n[\\n3\\n]\\n^\\nNaya Raipur\\nis planned to replace Raipur as the capital city of Chhattisgarh.\\n^\\nPanaji was the capital of Goa from 1843 when it was ruled by the\\nPortuguese\\n.\\n[\\n4\\n]\\n^\\nMumbai (Bombay) was the capital of\\nBombay Presidency\\nwhich was a province until 1950. After that Bombay became the capital of\\nBombay State\\n. Subsequently, Bombay State was split into Gujarat and Maharashtra in 1960.\\n^\\nGangtok has been the capital of Sikkim since 1890.\\nKingdom of Sikkim\\njoined the Indian Union in 1975.\\n[\\n6\\n]\\n^\\nChennai (Madras) was the capital of the\\nMadras Presidency\\nsince 1839, which was redrawn as Madras State in 1956. Madras State was renamed Tamil Nadu in 1968.\\nCitations\\n^\\n\"Jammu and Kashmir bifurcated: India has one less state, gets two new UTs in J&K, Ladakh\"\\n.\\nIndia Today\\n. 31 October 2019\\n. Retrieved\\n25 December\\n2020\\n.\\n^\\nSharma 2007\\n, p.\\xa049.\\n^\\nBaruah 1999\\n, p.\\xa0xiii.\\n^\\nRing 1996\\n, p.\\xa0288.\\n^\\n\"Dharamshala Declared Second Capital of Himachal\"\\n.\\nwww.hillpost.in\\n. Retrieved\\n21 January\\n2017\\n.\\n^\\nSpate 1953\\n, p.\\xa0200.\\n^\\n\"Bhararisain declared as summer capital of Uttarakhand\"\\n.\\nwww.timesnownews.com\\n. Retrieved\\n24 November\\n2021\\n.\\nReferences\\nBaruah, Sanjib (1999).\\nIndia Against Itself: Assam and the Politics of Nationality\\n.\\nUniversity of Pennsylvania Press\\n.\\nISBN\\n978-0-8122-3491-6\\n. Retrieved\\n13 August\\n2012\\n.\\nBoland-Crewe, Tara; Lea, David, eds. (15 November 2002).\\nThe Territories and States of India\\n. Europa.\\nISBN\\n978-1-85743-148-3\\n. Retrieved\\n13 August\\n2012\\n.\\n\"Country Profile: India\"\\n(PDF)\\n,\\nLibrary of Congress Country Studies\\n(5th\\xa0ed.),\\nLibrary of Congress\\nFederal Research Division\\n, December 2004\\n, retrieved\\n30 September\\n2011\\nKhandewale, Shrinivas Vishnu\\n(1989).\\nIndustrial Area and Regional Resources: A Case Study of Nagpur Industrial Area\\n. Mittal Publications.\\nISBN\\n978-81-7099-134-2\\n. Retrieved\\n13 August\\n2012\\n.\\nMathew, George (1995).\\nStatus of Panchayati Raj in the States of India, 1994\\n. Concept Publishing Company.\\nISBN\\n978-81-7022-553-9\\n. Retrieved\\n19 August\\n2012\\n.\\nKini, N. G. S. (1974).\\nThe City Voter in India: A Study of 1967 General Elections in Nagpur\\n. Abhinav Publications.\\nISBN\\n978-0-88386-524-8\\n. Retrieved\\n13 August\\n2012\\n.\\nKumāra, Braja Bihārī (1 January 1998).\\nSmall States Syndrome In India\\n. Concept Publishing Company.\\nISBN\\n978-81-7022-691-8\\n. Retrieved\\n13 August\\n2012\\n.\\nKippen, James (2006).\\nGurudev\\'s Drumming Legacy: Music, Theory, and Nationalism in the Mr̥daṅg Aur Tablā Vādanpaddhati of Gurudev Patwardhan\\n. Ashgate Publishing.\\nISBN\\n978-0-7546-5424-7\\n. Retrieved\\n15 August\\n2012\\n.\\nMenon, N. R. Madhava; Banerjea, D. (2002).\\nCriminal Justice India Series: Haryana, 2002\\n. Allied Publishers in collaboration with National University of Juridical Sciences.\\nISBN\\n978-81-7764-518-7\\n. Retrieved\\n15 August\\n2012\\n.\\n\"Post-Independence Era\"\\n,\\nHistory of Andhra Pradesh\\n, Government of Andhra Pradesh, archived from\\nthe original\\non 20 December 2013\\n, retrieved\\n4 August\\n2012\\nRing, Trudy (1 January 1996).\\nAsia and Oceania: International Dictionary of Historic Places\\n. Taylor & Francis.\\nISBN\\n978-1-884964-04-6\\n. Retrieved\\n13 August\\n2012\\n.\\nSati, Vishwambhar Prasad; Kumar, Kamlesh (2004).\\nUttaranchal: Dilemma Of Plenties And Scarcities\\n. Mittal Publications.\\nISBN\\n978-81-7099-898-3\\n. Retrieved\\n13 August\\n2012\\n.\\nSharma, B. K. (August 2007).\\nIntroduction to the Constitution of India\\n(4th\\xa0ed.).\\nPrentice Hall\\n.\\nISBN\\n978-81-203-3246-1\\n.\\nSpate, Oskar Hermann Khristian (1953).\\nThe Changing Map Of Asia A Political Geography\\n. Taylor & Francis\\n. Retrieved\\n15 August\\n2012\\n.\\nExternal links\\nList of states in India\\nv\\nt\\ne\\nState and Union Territory\\ncapitals\\nof\\nIndia\\nAdministrative\\nAgartala\\nAizawl\\nAmaravati\\nBengaluru\\nBhopal\\nBhubaneswar\\nChandigarh\\nChennai\\nDaman\\nDehradun\\nDispur\\nGandhinagar\\nGangtok\\nHyderabad\\nImphal\\nItanagar\\nJaipur\\nJammu\\n(\\nwinter\\n)\\nKargil\\n(\\nwinter\\n)\\nKavaratti\\nKohima\\nKolkata\\nLeh\\n(\\nsummer\\n)\\nLucknow\\nMumbai\\nNew Delhi\\nPanaji\\nPatna\\nPondicherry\\nPort Blair\\nRanchi\\nRaipur\\nShillong\\nShimla\\nSrinagar\\n(\\nsummer\\n)\\nThiruvananthapuram\\nLegislative\\nAgartala\\nAizawl\\nAmaravati\\nBengaluru\\n(\\nsummer\\n)\\nBelgaum\\n(\\nwinter\\n)\\nBhararisain\\n(\\nsummer\\n)\\nBhopal\\nBhubaneswar\\nChandigarh\\nChennai\\nDharamshala\\n(\\nwinter\\n)\\nDehradun\\n(\\nwinter\\n)\\nGandhinagar\\nGangtok\\nGuwahati\\nHyderabad\\nImphal\\nItanagar\\nJaipur\\nJammu\\n(\\nwinter\\n)\\nKohima\\nKolkata\\nLucknow\\nMumbai\\n(\\nsummer\\n)\\nNagpur\\n(\\nwinter\\n)\\nNew Delhi\\nPatna\\nPondicherry\\nPorvorim\\nRaipur\\nRanchi\\nShillong\\nShimla\\n(\\nsummer\\n)\\nSrinagar\\n(\\nsummer\\n)\\nThiruvananthapuram\\nJudicial\\nAgartala\\nAhmedabad\\nAmaravati\\nBengaluru\\nBilaspur\\nChandigarh\\nChennai\\nCuttack\\nGangtok\\nGuwahati\\nHyderabad\\nImphal\\nJabalpur\\nJodhpur\\nJammu\\n(\\nwinter\\n)\\nKochi\\nKolkata\\nMumbai\\nNainital\\nNew Delhi\\nPatna\\nPrayagraj\\nRanchi\\nShillong\\nShimla\\nSrinagar\\n(\\nsummer\\n)\\nRetrieved from \"\\nhttps://en.wikipedia.org/w/index.php?title=List_of_state_and_union_territory_capitals_in_India&oldid=1260775855\\n\"\\nCategories\\n:\\nStates and union territories of India-related lists\\nIndian capital cities\\nLists of cities in India\\nLists of capitals of country subdivisions\\nHidden categories:\\nArticles with short description\\nShort description is different from Wikidata\\nWikipedia indefinitely semi-protected pages\\nUse dmy dates from January 2022\\nUse Indian English from November 2018\\nAll Wikipedia articles written in Indian English\\nThis page was last edited on 2 December 2024, at 15:45\\n(UTC)\\n.\\nText is available under the\\nCreative Commons Attribution-ShareAlike 4.0 License\\n;\\nadditional terms may apply. By using this site, you agree to the\\nTerms of Use\\nand\\nPrivacy Policy\\n. Wikipedia® is a registered trademark of the\\nWikimedia Foundation, Inc.\\n, a non-profit organization.\\nPrivacy policy\\nAbout Wikipedia\\nDisclaimers\\nContact Wikipedia\\nCode of Conduct\\nDevelopers\\nStatistics\\nCookie statement\\nMobile view\\n\\nOne of the largest urban areas in India, the city of Delhi includes two components: Old Delhi and New Delhi. New Delhi is the capital of India. ... New Delhi remained the capital after India achieved independence in 1947. Delhi became a union territory, under the direct control of the federal government, in 1956. It was designated the national Delhi\\n                    \\n                \\n                - Students | Britannica Kids | Homework Help\\nArticles\\nAnimals\\nArts and Literature\\nEarth and Geography\\nHistory\\nLife Processes\\nLiving Things (Other)\\nPhilosophy and Religion\\nPlants\\nScience and Mathematics\\nSociety\\nSports and Recreation\\nTechnology\\nImages & Video\\nAnimals\\nArts and Literature\\nEarth and Geography\\nHistory\\nLife Processes\\nLiving Things (Other)\\nPhilosophy and Religion\\nPlants\\nScience and Mathematics\\nSociety\\nSports and Recreation\\nTechnology\\nBiographies\\nDictionary\\nCompare Countries\\nWorld Atlas\\nPodcast\\nSwitch Level\\nKids\\nStudents\\nScholars\\nAbout Us\\nstudents\\nKids\\nStudents\\nScholars\\nFundamentals\\nNEW\\n7-day free trial\\nSearch\\nLogin\\nArticles\\nFeatured Article\\nHubble Space Telescope\\nAll Categories\\nAnimals\\nArts and Literature\\nEarth and Geography\\nHistory\\nLife Processes\\nLiving Things (Other)\\nPhilosophy and Religion\\nPlants\\nScience and Mathematics\\nSociety\\nSports and Recreation\\nTechnology\\nImages & Videos\\nFeatured Media\\ngorilla\\nAll Categories\\nAnimals\\nArts and Literature\\nEarth and Geography\\nHistory\\nLife Processes\\nLiving Things (Other)\\nPhilosophy and Religion\\nPlants\\nScience and Mathematics\\nSociety\\nSports and Recreation\\nTechnology\\nBiographies\\nDictionary\\nCompare Countries\\nWorld Atlas\\nPodcast\\n×\\nDelhi\\nView article for\\n:\\nKids\\nStudents\\nScholars\\nArticle\\nImages & Videos\\nRelated\\nSubscriber features\\nPrint (Subscriber Feature)\\nEmail (Subscriber Feature)\\nCite (Subscriber Feature)\\nTranslate (Subscriber Feature)\\nListen (Subscriber Feature)\\n×\\nContents\\nIntroduction\\nCityscape\\nPeople and Culture\\nEconomy\\nGovernment\\nHistory\\nDid You Know?\\nLegend has it that Delhi was named for Raja Dhilu, a king who reigned in the 1st century BC.\\nRelated resources for this article\\nArticles\\nPrimary Sources & E-Books\\nWebsites\\nView search results for:\\nSearch\\nIntroduction\\nEncyclopædia Britannica, Inc.\\n© Jeremy Richards/Shutterstock.com\\nOne of the largest urban areas in\\nIndia\\n, the city of Delhi includes two components: Old Delhi and New Delhi. New Delhi is the capital of India. Delhi’s metropolitan area and the surrounding rural areas together form the national capital territory of Delhi, an administrative unit somewhat like a state. Delhi occupies a position as a strategic crossroads in South Asia. From Delhi various Hindu and Muslim dynasties, and finally the British, ruled the Indian subcontinent. New Delhi served as the capital of the British Indian Empire from 1911 until India became independent in 1947.\\nSituated some 100 miles (160 kilometers) south of the\\nHimalayas\\n, Delhi is located in north-central India. The elevation of the territory ranges from about 700 to 1,000 feet (215 to 300 meters) above sea level. Delhi lies mainly between the Yamuna River to the east and the northernmost spur of the Aravali Range, called the Delhi Ridge, to the west. Extensive growth following India’s independence led to the city’s expansion on and across the ridge and onto the far bank of the river.\\nCityscape\\nNew Delhi was built to be the capital of India. It was developed to the south of the existing city (now called Old Delhi) between 1912 and 1931 according to the design of British architect\\nSir Edwin Lutyens\\n. Although New Delhi and Old Delhi have become physically integrated, they remain distinct. The dividing line between them is quite sharp. It is marked by a transformation from a complex arrangement of small streets studded with mosques, temples, monuments, crowded bazaars, and residential areas in Old Delhi to the spacious avenues and arcades of shopping centers in New Delhi.\\nOld Delhi is a traditional Indian urban area, crowded with people and bustling with commercial and industrial activity. Chandni Chowk—with its twisting lanes, narrow streets, and crowded bazaars—is the main commercial center of Old Delhi.\\nFrederick M. Asher\\nNew Delhi is a majestic area of parks, tree-shaded boulevards, and mansions. It was planned in a geometric form that combines hexagons, circles, triangles, rectangles, and straight lines. Among its main landmarks are the imposing buildings of the Central Secretariat; the magnificent Rashtrapati Bhavan, which was built as a palace for British viceroys and now houses the president; the Parliament House; and a fashionable shopping center called Connaught Place.\\nLarge-scale public housing developments surround the initial settlement of New Delhi. These developments, which were begun after India became independent, make up large neighborhoods that are segregated according to the rank of the government employees living in them. Wealthy Indians and diplomats, for example, are housed in Chanakyapuri, the diplomatic enclave; military officers in the Dhaulakaun complex; and lower middle-class workers in the Vinay Nagar section. The British built the Civil Lines north of Old Delhi for their senior officers; the neighborhood now houses well-to-do Indians.\\nFrederick M. Asher\\nFrederick M. Asher\\nFrederick M. Asher\\nMany historical monuments in Delhi reveal glimpses of its past. Architecture combining Indian materials and styles with Muslim motifs can be seen in monuments of several periods, particularly the Pashtun (late 12th to early 16th century) and\\nMughal\\n(1526 to 1857). Pashtun sites include\\nQutb Minar\\n, a five-story tower of fluted sandstone; the tombs of the Sayyid and Lodi kings; and the shrine of the Muslim saint Nizam-ud-din. Buildings from the Mughal period such as the\\nRed Fort\\n(Lal Qila), the enormous Jama Masjid (Principal Mosque), and the\\ntomb of the ruler Humayun\\ndisplay bulbous domes, red sandstone and white marble, and elaborate decoration. Monuments of the contemporary period range from a World War I memorial known as the India Gate to a late-20th-century Bahaʾi temple in the shape of a lotus flower. (\\nSee also\\nIndian architecture.)\\nPeople and Culture\\n© hadynyah—E+/Getty Images\\nDelhi is home to a highly diverse population. More than half the residents come from areas outside of the Delhi region. Most of these people have immigrated from neighboring Indian states and nearby countries.\\nDuring the 20th century, the population of the metropolitan area increased some 50-fold. Only about 240,000 people lived there in 1911, while the population reached nearly 12.5 million by 2001. The largest growth occurred between 1941 and 1951, when the population increased by more than 100 percent. Much of that increase was due to immigration following independence and the\\npartitioning of India and Pakistan\\n. The population increased by more than 60 percent over the next decade; in subsequent decades the growth rate hovered around 50 percent for each 10-year census period.\\nDelhi’s enormous growth led to expansion into suburban areas. Despite this, the highly constricted old core became more overcrowded. By the end of the 20th century, Delhi was one of the most densely settled urban areas in India, with an average population density of some 22,000 people per square mile (8,500 per square kilometer). Since the 1950s various government agencies have administered programs to construct new housing and improve older dwellings. Similar initiatives to address sewage disposal and the water supply have had uneven results. One out of every 10 residents of Delhi lived in urban slums called\\njhuggi-jhompri\\ns, which lacked such basic services.\\nP. Chandra\\nDelhi is a major cultural and educational center. It is the location of India’s national academies of art, letters, and music, dance, and drama. In the National Museum one can see a wide variety of artistic treasures from India and Central Asia, including 5,000-year-old relics of the\\nIndus valley civilization\\n. Also housed there are antique Hindu, Jain, and Buddhist sculptures in stone, bronze, and terra-cotta; a fine collection of paintings of the Mughal, Rajput, Deccani, and Pahari schools; ancient jewelry; and painted pottery. The National Gallery of Modern Art, housed in a palace called Jaipur House, exhibits the works of Indian artists from the 19th century onwards.\\nOther cultural facilities include the Hall of Nation Builders, a kind of national portrait gallery located at a museum commemorating\\nMahatma Gandhi\\n; the\\nNehru\\nMemorial Museum;\\nRed Fort Museum\\n; Tibet House, with Tibetan antiquities and religious objects; and the National Museum of Natural History.\\nPrimary education is nearly universal, and secondary education is common. Opportunities for higher education are abundant, with numerous institutions ranging from colleges and universities to computer, engineering, and other technical institutes. As a result, Delhi has emerged as an important center of professional and technical education in India. Among the major institutions are the University of Delhi, the Indian Agricultural Research Institute, the All India Institute of Medical Sciences, the Indian Institute of Technology, and Jawaharlal Nehru University.\\nEconomy\\nServices are the largest economic sector in Delhi and also provide the most jobs, though industry also employs substantial numbers of workers. Agriculture, once a mainstay of the regional economy, is no longer a significant sector.\\nDelhi remains one of India’s most important centers for trade, commerce, and the distribution of goods. Many banking and insurance institutions are headquartered there. Tourism also has grown into a major activity.\\nThe industrialization of Delhi started toward the end of the 19th century, but\\nWorld War II\\n, and later India’s independence, accelerated industrial development. There were neither zoning regulations nor a comprehensive plan for urban development, so most industries located wherever space could be found. This led to overcrowding, traffic bottlenecks, and unhealthy living conditions. Despite programs begun in the 1980s to improve air quality, Delhi remains one of the world’s most\\npolluted\\nurban areas.\\nIndustry in Delhi is highly diversified, and the area is known for the sophistication of its electronics, machinery, automobile parts, electrical appliances, and precision instruments. Many of the area’s traditional products, such as copperware and brassware, embroidered textiles, and carvings, are still produced, as are other handicrafts and modern apparel.\\nDelhi is a major hub of the national networks of railways, highways, and air transport systems. Domestic and international airport terminals are located in the southwestern part of the metropolitan area.\\nWithin Delhi, road travel is slowed by some of the world’s worst traffic congestion. The road network and public mass-transport system, long consisting mainly of buses, has been inadequate for the overwhelming volume of traffic in the densely populated urban area. In an effort to reduce motor-vehicle traffic—the leading contributor to the air-pollution problem—Delhi began building a subway and elevated train system in the late 1990s. The first section of the rail line opened in 2002.\\nGovernment\\nUnder\\nIndia’s constitution\\n, Delhi is the national capital territory. It is administered by a lieutenant governor appointed by the president of India. Citizens of Delhi elect the members of the Legislative Assembly that makes most of the local laws. From the membership of the Assembly the president appoints the Council of Ministers, an advisory body led by a chief minister. Three local bodies provide civic services: the Municipal Corporation of Delhi, the New Delhi Municipal Council, and the Delhi Cantonment Board. The Delhi Development Authority, founded in 1957, is responsible for developing both residential and commercial areas.\\nHistory\\nThe Delhi region—a triangular area bounded by the hills of the Aravali Range on two sides and the Yamuna River on the third—has been the site of one great city after another. Traditionally, it is said that there have been seven cities of Delhi, though some historians believe that successive cities were built in as many as 15 different localities within the region.\\nThe earliest city in the area was Indraprastha, which is described in the\\nMahabharata\\n, a major\\nSanskrit epic poem\\n. This city was founded in prehistoric times on the right bank of the Yamuna as the capital of the Pandava rulers. In the 1st century\\nbc\\nRaja Dhilu built a new town in the region and named it after himself. It is thought that present-day Delhi gets its name from this king.\\nDelhi rose to prominence in the 12th century\\nad\\n, when the Cauhan ruler Prithviraja III captured a city built by the Tomara rulers and made it his capital. Upon his defeat in the late 12th century, the city passed from Hindu to Muslim control. In various incarnations, it remained the seat of Muslim rulers for most of the next 650 years. In the wake of the changing regimes of different dynasties of the\\nDelhi sultanate\\nand the later\\nMughal emperors\\n, as many as 10 new cities were built between the 13th and mid-17th centuries.\\nThe Mughal emperor\\nShah Jahan\\nbuilt the city Shahjahanabad on the site of what is now Old Delhi. He surrounded it with fortifications, including the\\nRed Fort\\n(Lal Qila), and built the Jama Masjid (Principal Mosque). Soon afterward he was deposed and imprisoned by his son\\nAurangzeb\\n, who brought Delhi to its period of greatest glory. Delhi’s decline began with Aurangzeb’s death in 1707.\\nIn 1739 the city was attacked by\\nNadir Shah\\n, a Persian, who made off with the fabulous Peacock Throne. ʿAlamgir II, the last real emperor, was murdered in 1759. Shah ʿAlam, who assumed the title of emperor, was unable to establish his authority. Delhi became the alternate prey of Afghans and Marathas until 1771, when the Marathas helped to maintain the emperor. In 1788 a Maratha garrison occupied the palace. Shah ʿAlam remained a prisoner there until the British conquest of Delhi.\\nOn March 14, 1803, British General Lord Lake, having defeated the Marathas, seized Delhi. The British administered the city in the name of the emperor, but only the palace remained under his rule. The last of the Delhi emperors was Bahadur Shah II. He was emperor during the first struggle for India’s independence, the\\nmutiny of 1857\\n. Delhi was restored to British civil administration on January 11, 1858. In 1911 the British decided to create a new administrative seat for their Indian Empire, and New Delhi replaced Calcutta (now\\nKolkata\\n) as India’s capital. Construction of New Delhi began in 1912, and the new capital was formally dedicated in 1931.\\nNew Delhi remained the capital after India achieved independence in 1947. Delhi became a union territory, under the direct control of the federal government, in 1956. It was designated the national capital territory and granted a local legislature in the early 1990s. Population (2001 census) Old Delhi, 9,879,172; New Delhi, 302,363; Old Delhi, (2011 est.) 11,007,835; national capital territory, (2011 est.) 17,076,000.\\n×\\nIt’s here: the NEW Britannica Kids website!\\nWe’ve been busy, working hard to bring you new features and an updated design.  We hope you and your family enjoy the\\nNEW\\nBritannica Kids. Take a minute to check out all the enhancements!\\nThe same safe and trusted content for explorers of all ages.\\nAccessible across all of today\\'s devices: phones, tablets, and desktops.\\nImproved homework resources designed to support a variety of curriculum subjects and standards.\\nA new, third level of content, designed specially to meet the advanced needs of the sophisticated scholar.\\nAnd so much more!\\nWant to see it in action?\\nTake a tour\\nStart a free trial\\nSubscribe now!\\n×\\nE-mail\\nTo\\nRecipients\\nPlease enter a valid email address.\\nTo share with more than one person, separate addresses with a comma\\nFrom\\nSender Name\\nPlease enter your name.\\nSender Email\\nPlease enter a valid email address.\\nCancel\\nSubmit\\nTranslate this page\\nChoose a language from the menu above to view a computer-translated version of this page. Please note: Text within images is not translated, some features may not work properly after translation, and the translation may not accurately convey the intended meaning. Britannica does not review the converted text.\\nAfter translating an article, all tools except font up/font down will be disabled. To re-enable the tools or to convert back to English, click \"view original\" on the Google Translate toolbar.\\nAbout Us\\nContact Us\\nPrivacy Notice\\nTerms of Use\\nDiversity\\n©2024 Encyclopædia Britannica, Inc.\\nBy continuing to use this site, you consent to the terms of our cookie policy, which can be found in our\\nPrivacy Notice\\n.\\n×\\n\\nRelated\\nThe Largest Empires In The History Of India\\nBiggest Ethnic Groups In India\\nMore in World Facts\\nThe Largest Countries In Asia By Area\\n Also, the durbar was held in Delhi so as to welcome the Prince of Wales; hence the British associated Delhi with royal heritage.\\n What is the Capital of India?\\nIndia, also known as the Republic of India is located in South Asia. For historical reasons, Red Fort which is located in New Delhi is a reminder to the British when they defeated the Mughal ruler in 1857. Initially, the capital city was in Kolkata when King George V of Britain ordered that the capital be moved to Delhi in 1911. What is the Capital of India? - WorldAtlas\\nWhat is the Capital of India?\\nNew Delhi hosts the President\\'s official residence, known as Rashtrapati Bhavan.\\nIndia, also known as the\\nRepublic of India\\nis located in\\nSouth Asia\\n. India is the 7th largest country and the second most populous country in the world. The official language is Hindi and English, but there is no national language stipulated by the constitution of India. Hindi is the most commonly spoken language followed by Punjabi and then Urdu. Hinduism is the most common religion with 82% of the population adhering to the religion, 12.86% Islam, 0.87% Christianity, and only 0.11% Buddhism. Indo-Aryan is the largest ethnic group followed by Dravidian and then the Mongoloid.\\nThe capital city or the National Capital Territory (NCT) of India is New Delhi. Delhi is divided into two parts; the Old Delhi and New Delhi. The Old Delhi was founded in 1639 while the New Delhi was established on December 15, 1911. New Delhi is located in the north-central part of India and is adjacent south of Delhi city. Initially, the capital city was in Kolkata when King George V of Britain ordered that the capital be moved to Delhi in 1911. The construction of New Delhi started in 1912, but the new capital was dedicated in 1931. Delhi had an estimated population of 18.6 million people in 2016. This makes it the fifth most populous city in the world. Delhi is the largest city in India covering an area of 1484 square kilometers and New Delhi covering 42.7 square kilometers.\\nWhy the Capital City Was Moved from Calcutta to New Delhi?\\nThe reasons why the capital was moved to New Delhi can be divided in three parts; historical, political and geographical reasons.\\nFor political reasons, Delhi had been the capital of many kingdoms that were in the Indian history. There was also a powerful movement centered in Calcutta that resisted the British hence the capital was moved.\\nFor geographical reasons, in the 18th century, Britain had already taken over Calcutta, but the rest of India was still out of their reach. So it was natural for the British to move their capital to New Delhi. Also, many of the territories in northern and central part of India were British colonies.\\nFor historical reasons, Red Fort which is located in New Delhi is a reminder to the British when they defeated the Mughal ruler in 1857. Also, the durbar was held in Delhi so as to welcome the Prince of Wales; hence the British associated Delhi with royal heritage.\\nProblems Facing New Delhi as the Capital City of India\\nNew Delhi faces several problems. One of the main problems is overpopulation which is as a result of rural-urban migration. It has put heavy pressure on the scarce resources that are available. Heavy traffic jam caused by the many vehicles in the city. There is also heavy pollution (air, noise, water, and soil) caused by road dust, noisy neighbors, factories, and vehicles. Due to high population growth, the city is facing serious urbanization problems such as electric power shortage, security, housing problems that have led to a growth of slums, public transport, and poor waste disposal.\\nShare\\nNigel Amaya\\nAugust 9 2018\\nin\\nWorld Facts\\nHome\\nWorld Facts\\nWhat is the Capital of India?\\nRelated\\nWhat Is The Capital Of The Australian Capital Territory?\\nRukhmabai Raut – India\\'s First Practicing Female Doctor\\nMore in\\nWorld Facts\\nThe Largest Countries In Asia By Area\\nOlympic Games History\\nSoutheast Asian Countries\\nIs Australia A Country Or A Continent?\\nIs Turkey In Europe Or Asia?\\nHow Many Countries Are Recognized By The United States?\\nCommonwealth Of Independent States\\nIs Central America Part Of North America?\\nAll maps, graphics, flags, photos and original descriptions © 2024 worldatlas.com\\nHome\\nContact Us\\nPrivacy\\nCopyright\\nAbout Us\\nFact Checking Policy\\nCorrections Policy\\nOwnership Policy\\nContinents\\nAll Continents\\nNorth America\\nCaribbean\\nCentral America\\nSouth America\\nEurope\\nAfrica\\nMiddle East\\nAsia\\nOceania\\nArctic\\nAntarctica\\nCountries\\nAll Countries\\nUS Maps\\nChina Maps\\nRussia Maps\\nPhilippines Maps\\nEgypt Maps\\nGeography\\nBodies of Water\\nLandforms\\nPlaces\\nNature\\nAll Geography\\nEducation\\nHistory\\nScience\\nSocial Science\\nSociety\\nEconomics\\nPolitics\\nAbout Us\\nContact Us\\nPrivacy\\nCopyright\\nSearch WorldAtlas\\n\\nWhat is the oldest language?Endangered and extinct dialects, explained\\nWorld’s most populous city:Top 10 cities in the world, US ranked\\nHow many states are in India?\\nIndia is home to 28 states, each with its own capital and run by a Governor who represents the President:\\nIndia also has eight union territories, governed by an Administrator appointed by the President:\\nWhat state is New Delhi in?\\nNew Delhi is part of one of India’s union territories, the National Capital Territory of Dehli. The capital of India is New Delhi, located in the north-central part of the country to the west of the Yamuna River.\\n Calcutta (now Kolkata, the capital of West Bengal) was the country’s capital until 1911 when King George V declared Delhi the new capital and construction of New Delhi began.\\n Mumbai, the state capital of Maharashtra, is often considered the financial capital of India because of its role in the national and international economy.\\n About 1.4 billion people live in India, and the country is predicted to top China as the world’s most populous country by mid-2023, the United Nations reports. What is the capital of India? States and union territories explained.\\nHurricane-prone states\\nThe day in pictures\\nGet the USA TODAY app\\nStart the day smarter ☀️\\nU.S.\\nElection 2024\\nSports\\nEntertainment\\nLife\\nMoney\\nTech\\nTravel\\nOpinion\\nONLY AT USA TODAY:\\nNewsletters\\nFor Subscribers\\nFrom the Archives\\nCrossword\\neNewspaper\\nMagazines\\nInvestigations\\nPodcasts\\nVideo\\nHumankind\\nJust Curious\\nBest-selling Booklist\\n24/7 Live Stream\\nLegals\\nOUR PORTFOLIO:\\n10Best\\nUSAT Wine Club\\nShopping\\nHomefront\\nBlueprint\\nSouthern Kitchen\\nBest Auto Insurance\\nBest Pet Insurance\\nBest Travel Insurance\\nBest Credit Cards\\nBest CD Rates\\nBest Personal Loans\\nHome Internet\\nWORLD\\nNew Delhi\\nAdd Topic\\nWhat is the capital of India? How the territory came to be, plus the country\\'s 28 states.\\nClare Mulroy\\nUSA TODAY\\nAbout\\n1.4 billion people\\nlive in India, and the country is predicted to top China as the world’s\\nmost populous country by mid-2023\\n, the United Nations reports. The report estimates that India will have 2.9 million more people than China by mid-year.\\nThe U.S. is third in line for the largest population by country but it\\'s way behind China and India at about\\n335 million people\\n.\\nWant to learn more about the soon-to-be most populous country? Here’s some interesting information about how India is organized.\\nWhat is the capital of India?\\nThe capital of India is New Delhi, located in the north-central part of the country to the\\nwest of the Yamuna River\\n.\\nCalcutta (now Kolkata, the capital of West Bengal) was the country’s capital\\nuntil 1911\\nwhen King George V declared Delhi the new capital and construction of New Delhi began.\\nWhen the national government achieved independence in 1947, New Delhi became the capital.\\nMumbai, the state capital of Maharashtra, is often considered the\\nfinancial capital\\nof India because of its role in the national and international economy.\\nWhat is the oldest language?\\nEndangered and extinct dialects, explained\\nWorld’s most populous city:\\nTop 10 cities in the world, US ranked\\nHow many states are in India?\\nIndia is home to\\n28 states\\n, each with its own capital and run by a Governor who represents the President:\\nAndhra Pradesh\\nArunachal Pradesh\\nAssam\\nBihar\\nChhattisgarh\\nGoa\\nGujarat\\nHaryana\\nHimachal Pradesh\\nJharkhand\\nKarnataka\\nKerala\\nMadhya Pradesh\\nMaharashtra\\nManipur\\nMeghalaya\\nMizoram\\nNagaland\\nOdisha\\nPunjab\\nRajasthan\\nSikkim\\nTamil Nadu\\nTelangana\\nTripura\\nUttarakhand\\nUttar Pradesh\\nWest Bengal\\nIndia also has eight union territories, governed by an Administrator appointed by the President:\\nAndaman and Nicobar islands\\nChandigarh\\nDadra and Nagar Haveli and Daman and Diu\\nThe Government of the National Capital Territory of Dehli\\nJammu and Kashmir\\nLadakh\\nLakshadweep\\nPuducherry\\nWhat state is New Delhi in?\\nNew Delhi is part of one of India’s union territories, the National Capital Territory of Dehli.\\nOld Delhi\\n, now a historic city, is north of New Delhi in the same union territory.\\nWorld\\'s biggest military:\\nTop 10 list by budget, active and reserve members\\nJust Curious?:\\nWe\\'re answering your everyday questions\\nFeatured Weekly Ad\\nAbout Us\\nNewsroom Staff\\nEthical Principles\\nResponsible Disclosure\\nRequest a Correction\\nPress Releases\\nAccessibility\\nSitemap\\nSubscription Terms & Conditions\\nTerms of Service\\nPrivacy Policy\\nYour Privacy Choices\\nContact Us\\nHelp Center\\nManage Account\\nGive Feedback\\nGet Home Delivery\\neNewspaper\\nUSA TODAY Shop\\nUSA TODAY Print Editions\\nLicensing & Reprints\\nAdvertise With Us\\nCareers\\nInternships\\nSupport Local Business\\nNews Tips\\nSubmitting letters to the editor\\nPodcasts\\nNewsletters\\nMobile Apps\\nFacebook\\nX\\nInstagram\\nLinkedIn\\nThreads\\nYouTube\\nReddit\\nFlipboard\\n10Best\\nUSAT Wine Club\\nShopping\\nBest-selling Booklist\\nSouthern Kitchen\\nJobs\\nSports Betting\\nSports Weekly\\nStudio Gannett\\nClassifieds\\nHomefront\\nHome Internet\\nBlueprint\\nAuto Insurance\\nPet Insurance\\nTravel Insurance\\nCredit Cards\\nBanking\\nPersonal Loans\\nLLC Formation\\nPayroll Software\\n© 2024 USA TODAY, a division of Gannett Satellite Information Network, LLC.')]}"
      ]
     },
     "execution_count": 36,
     "metadata": {},
     "output_type": "execute_result"
    }
   ],
   "source": [
    "response"
   ]
  },
  {
   "cell_type": "code",
   "execution_count": null,
   "metadata": {
    "colab": {
     "base_uri": "https://localhost:8080/"
    },
    "id": "aAm5ERMM2fFL",
    "outputId": "be4892b0-7c72-4447-9e14-7a9ce2e95e38"
   },
   "outputs": [
    {
     "name": "stdout",
     "output_type": "stream",
     "text": [
      "---RETRIEVAL FROM VECTOR DB---\n"
     ]
    },
    {
     "name": "stderr",
     "output_type": "stream",
     "text": [
      "WARNING:langchain_core.vectorstores.base:No relevant docs were retrieved using the relevance score threshold 0.3\n"
     ]
    },
    {
     "name": "stdout",
     "output_type": "stream",
     "text": [
      "---CHECK DOCUMENT RELEVANCE TO QUESTION---\n",
      "---NO DOCUMENTS RETRIEVED---\n",
      "---ASSESS GRADED DOCUMENTS---\n",
      "---DECISION: SOME or ALL DOCUMENTS ARE NOT RELEVANT TO QUESTION, REWRITE QUERY---\n",
      "---REWRITE QUERY---\n",
      "---WEB SEARCH---\n"
     ]
    },
    {
     "name": "stderr",
     "output_type": "stream",
     "text": [
      "100%|██████████| 8/8 [00:05<00:00,  1.43it/s]\n"
     ]
    },
    {
     "name": "stdout",
     "output_type": "stream",
     "text": [
      "---GENERATE ANSWER---\n"
     ]
    }
   ],
   "source": [
    "query = \"Explain to me what are the key design patterns to build Agentic AI Systems?\"\n",
    "response = agentic_rag.invoke({\"question\": query})"
   ]
  },
  {
   "cell_type": "code",
   "execution_count": null,
   "metadata": {
    "colab": {
     "base_uri": "https://localhost:8080/",
     "height": 335
    },
    "id": "CTCcEfNx2w-5",
    "outputId": "b0f68c8f-fec6-4cf6-e585-dbe8a5dbb4af"
   },
   "outputs": [
    {
     "data": {
      "text/markdown": [
       "The essential design patterns for developing Agentic AI systems include:\n",
       "\n",
       "1. **Reflection**: This pattern involves AI agents evaluating and improving their own outputs through self-critique and iterative refinement. It allows agents to identify errors, gaps, or areas needing improvement and make necessary adjustments. This is particularly useful in tasks requiring precision, such as content creation, problem-solving, or code generation.\n",
       "\n",
       "2. **Tool Use**: This pattern equips AI agents with the ability to utilize external tools or resources to enhance their problem-solving capabilities. By integrating with web services, databases, or other software tools, AI systems can perform tasks beyond their inherent capabilities, such as data retrieval, automation, and complex function execution.\n",
       "\n",
       "3. **Planning**: Planning enables AI agents to autonomously devise a sequence of actions needed to achieve complex objectives. This involves breaking down tasks into smaller, manageable components and determining the most efficient path to completion. It is crucial for tasks requiring strategic decision-making and coordination, such as project management and logistics.\n",
       "\n",
       "4. **Multi-Agent Collaboration**: This pattern involves multiple AI agents working together, each specializing in different aspects of a task. It mimics human collaborative efforts, allowing agents to contribute their unique skills to achieve a common goal. This is particularly effective in scenarios requiring diverse expertise, such as healthcare, supply chain management, and large-scale analytics.\n",
       "\n",
       "These design patterns enhance the capabilities and efficiency of AI agents, enabling them to operate autonomously, adapt to dynamic environments, and tackle complex tasks with minimal human intervention. By leveraging these patterns, developers can create robust, scalable, and efficient AI systems."
      ],
      "text/plain": [
       "<IPython.core.display.Markdown object>"
      ]
     },
     "metadata": {},
     "output_type": "display_data"
    }
   ],
   "source": [
    "display(Markdown(response['generation']))"
   ]
  },
  {
   "cell_type": "code",
   "execution_count": null,
   "metadata": {
    "colab": {
     "base_uri": "https://localhost:8080/"
    },
    "id": "0PH45g2E3Dta",
    "outputId": "01e20797-19af-44df-8a47-c4c745ad2eb9"
   },
   "outputs": [
    {
     "name": "stdout",
     "output_type": "stream",
     "text": [
      "---RETRIEVAL FROM VECTOR DB---\n",
      "---CHECK DOCUMENT RELEVANCE TO QUESTION---\n",
      "---GRADE: DOCUMENT RELEVANT---\n",
      "---GRADE: DOCUMENT RELEVANT---\n",
      "---GRADE: DOCUMENT RELEVANT---\n",
      "---ASSESS GRADED DOCUMENTS---\n",
      "---DECISION: GENERATE RESPONSE---\n",
      "---GENERATE ANSWER---\n"
     ]
    }
   ],
   "source": [
    "query = \"Tell me about India\"\n",
    "response = agentic_rag.invoke({\"question\": query})"
   ]
  },
  {
   "cell_type": "code",
   "execution_count": null,
   "metadata": {
    "colab": {
     "base_uri": "https://localhost:8080/",
     "height": 356
    },
    "id": "Z6G7ywp53FrO",
    "outputId": "5bad597d-300f-4aa3-d333-7090b9d4da16"
   },
   "outputs": [
    {
     "data": {
      "text/markdown": [
       "India is a country located in Asia, specifically at the center of South Asia. It is the seventh largest country in the world by area and the largest in South Asia. With a population exceeding 1.2 billion people, India is the second most populous country globally and holds the title of the most populous democracy in the world. The capital city of India is New Delhi.\n",
       "\n",
       "Geographically, India is a peninsula, bordered by the Indian Ocean to the south, the Arabian Sea to the west, and the Bay of Bengal to the east. It shares its borders with seven countries: Pakistan to the northwest, China and Nepal to the north, Bhutan and Bangladesh to the northeast, Myanmar to the east, and Sri Lanka, an island nation, to the south.\n",
       "\n",
       "India has a rich and diverse history that spans thousands of years, with its civilization beginning in the Indus Valley. The country has seen various languages, cultures, periods, and dynasties throughout its history. Archaeological evidence, such as stone tools and a skull, indicates the presence of early humans, specifically \"Homo erectus,\" in India between 200,000 and 500,000 years ago.\n",
       "\n",
       "Economically, India is the fifth largest in the world with a GDP of $2.94 trillion. When considering purchasing power parity (PPP), it ranks as the third largest economy, valued at $10.51 trillion. Despite its large economy, the per capita income was relatively low at $6,209 (PPP) per person per year in 2015. The Indian economy is diverse, encompassing agriculture, handicrafts, industries, and a significant service sector, which is the main driver of economic growth. A large portion of the population is still engaged in agriculture. Since the early 1990s, India has liberalized its economy by reducing government control over foreign trade and investment, leading to rapid economic growth. This economic reform was initiated by Manmohan Singh under the leadership of P.V. Narasimha Rao. Additionally, India has a significant presence in information technology, benefiting from its large pool of well-educated, English-speaking professionals.\n",
       "\n",
       "India also has the third largest military force in the world and is recognized as a nuclear weapon state."
      ],
      "text/plain": [
       "<IPython.core.display.Markdown object>"
      ]
     },
     "metadata": {},
     "output_type": "display_data"
    }
   ],
   "source": [
    "display(Markdown(response['generation']))"
   ]
  }
 ],
 "metadata": {
  "colab": {
   "provenance": []
  },
  "kernelspec": {
   "display_name": "Python 3 (ipykernel)",
   "language": "python",
   "name": "python3"
  },
  "language_info": {
   "codemirror_mode": {
    "name": "ipython",
    "version": 3
   },
   "file_extension": ".py",
   "mimetype": "text/x-python",
   "name": "python",
   "nbconvert_exporter": "python",
   "pygments_lexer": "ipython3",
   "version": "3.10.12"
  }
 },
 "nbformat": 4,
 "nbformat_minor": 1
}
